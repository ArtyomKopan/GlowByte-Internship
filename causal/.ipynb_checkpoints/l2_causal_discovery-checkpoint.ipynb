{
 "cells": [
  {
   "cell_type": "code",
   "execution_count": 1,
   "id": "35a984dc",
   "metadata": {},
   "outputs": [
    {
     "name": "stdout",
     "output_type": "stream",
     "text": [
      "Collecting dowhy\n",
      "  Downloading dowhy-0.11.1-py3-none-any.whl (383 kB)\n",
      "Requirement already satisfied: scipy>=1.4.1 in c:\\users\\kopan\\anaconda3\\lib\\site-packages (from dowhy) (1.7.3)\n",
      "Requirement already satisfied: joblib>=1.1.0 in c:\\users\\kopan\\anaconda3\\lib\\site-packages (from dowhy) (1.1.0)\n",
      "Collecting cython>=0.29.32\n",
      "  Downloading Cython-3.0.10-cp39-cp39-win_amd64.whl (2.8 MB)\n",
      "Requirement already satisfied: pandas>=1.4.3 in c:\\users\\kopan\\anaconda3\\lib\\site-packages (from dowhy) (2.0.3)\n",
      "Requirement already satisfied: sympy>=1.10.1 in c:\\users\\kopan\\anaconda3\\lib\\site-packages (from dowhy) (1.10.1)\n",
      "Requirement already satisfied: numpy>=1.20 in c:\\users\\kopan\\anaconda3\\lib\\site-packages (from dowhy) (1.21.6)\n",
      "Collecting causal-learn>=0.1.3.0\n",
      "  Downloading causal_learn-0.1.3.8-py3-none-any.whl (174 kB)\n",
      "Collecting statsmodels>=0.13.5\n",
      "  Downloading statsmodels-0.14.2-cp39-cp39-win_amd64.whl (9.9 MB)\n",
      "Requirement already satisfied: tqdm>=4.64.0 in c:\\users\\kopan\\anaconda3\\lib\\site-packages (from dowhy) (4.64.0)\n",
      "Collecting cvxpy<2.0.0,>=1.2.2\n",
      "  Downloading cvxpy-1.5.2-cp39-cp39-win_amd64.whl (1.1 MB)\n",
      "Requirement already satisfied: scikit-learn>1.0 in c:\\users\\kopan\\anaconda3\\lib\\site-packages (from dowhy) (1.0.2)\n",
      "Collecting networkx>=2.8.5\n",
      "  Downloading networkx-3.2.1-py3-none-any.whl (1.6 MB)\n",
      "Requirement already satisfied: matplotlib in c:\\users\\kopan\\anaconda3\\lib\\site-packages (from causal-learn>=0.1.3.0->dowhy) (3.5.1)\n",
      "Requirement already satisfied: graphviz in c:\\users\\kopan\\anaconda3\\lib\\site-packages (from causal-learn>=0.1.3.0->dowhy) (0.20.1)\n",
      "Collecting pydot\n",
      "  Downloading pydot-3.0.1-py3-none-any.whl (22 kB)\n",
      "Collecting osqp>=0.6.2\n",
      "  Downloading osqp-0.6.7.post0-cp39-cp39-win_amd64.whl (293 kB)\n",
      "Collecting scs>=3.2.4.post1\n",
      "  Downloading scs-3.2.6-cp39-cp39-win_amd64.whl (8.4 MB)\n",
      "Collecting ecos>=2\n",
      "  Downloading ecos-2.0.14-cp39-cp39-win_amd64.whl (72 kB)\n",
      "Collecting clarabel>=0.5.0\n",
      "  Downloading clarabel-0.9.0-cp37-abi3-win_amd64.whl (736 kB)\n",
      "Collecting qdldl\n",
      "  Downloading qdldl-0.1.7.post4-cp39-cp39-win_amd64.whl (86 kB)\n",
      "Requirement already satisfied: tzdata>=2022.1 in c:\\users\\kopan\\anaconda3\\lib\\site-packages (from pandas>=1.4.3->dowhy) (2024.1)\n",
      "Requirement already satisfied: pytz>=2020.1 in c:\\users\\kopan\\anaconda3\\lib\\site-packages (from pandas>=1.4.3->dowhy) (2021.3)\n",
      "Requirement already satisfied: python-dateutil>=2.8.2 in c:\\users\\kopan\\anaconda3\\lib\\site-packages (from pandas>=1.4.3->dowhy) (2.8.2)\n",
      "Requirement already satisfied: six>=1.5 in c:\\users\\kopan\\anaconda3\\lib\\site-packages (from python-dateutil>=2.8.2->pandas>=1.4.3->dowhy) (1.16.0)\n",
      "Requirement already satisfied: threadpoolctl>=2.0.0 in c:\\users\\kopan\\anaconda3\\lib\\site-packages (from scikit-learn>1.0->dowhy) (2.2.0)\n",
      "Collecting scipy>=1.4.1\n",
      "  Using cached scipy-1.13.1-cp39-cp39-win_amd64.whl (46.2 MB)\n",
      "Requirement already satisfied: packaging>=21.3 in c:\\users\\kopan\\anaconda3\\lib\\site-packages (from statsmodels>=0.13.5->dowhy) (23.2)\n",
      "Collecting numpy>=1.20\n",
      "  Using cached numpy-1.22.4-cp39-cp39-win_amd64.whl (14.7 MB)\n",
      "Collecting patsy>=0.5.6\n",
      "  Downloading patsy-0.5.6-py2.py3-none-any.whl (233 kB)\n",
      "Requirement already satisfied: mpmath>=0.19 in c:\\users\\kopan\\anaconda3\\lib\\site-packages (from sympy>=1.10.1->dowhy) (1.2.1)\n",
      "Requirement already satisfied: colorama in c:\\users\\kopan\\anaconda3\\lib\\site-packages (from tqdm>=4.64.0->dowhy) (0.4.4)\n",
      "Requirement already satisfied: fonttools>=4.22.0 in c:\\users\\kopan\\anaconda3\\lib\\site-packages (from matplotlib->causal-learn>=0.1.3.0->dowhy) (4.25.0)\n",
      "Requirement already satisfied: cycler>=0.10 in c:\\users\\kopan\\anaconda3\\lib\\site-packages (from matplotlib->causal-learn>=0.1.3.0->dowhy) (0.11.0)\n",
      "Requirement already satisfied: kiwisolver>=1.0.1 in c:\\users\\kopan\\anaconda3\\lib\\site-packages (from matplotlib->causal-learn>=0.1.3.0->dowhy) (1.3.2)\n",
      "Requirement already satisfied: pyparsing>=2.2.1 in c:\\users\\kopan\\anaconda3\\lib\\site-packages (from matplotlib->causal-learn>=0.1.3.0->dowhy) (3.0.4)\n",
      "Requirement already satisfied: pillow>=6.2.0 in c:\\users\\kopan\\anaconda3\\lib\\site-packages (from matplotlib->causal-learn>=0.1.3.0->dowhy) (10.3.0)\n",
      "Collecting pyparsing>=2.2.1\n",
      "  Using cached pyparsing-3.1.2-py3-none-any.whl (103 kB)\n",
      "Installing collected packages: numpy, scipy, qdldl, pyparsing, patsy, statsmodels, scs, pydot, osqp, networkx, ecos, clarabel, cython, cvxpy, causal-learn, dowhy\n",
      "  Attempting uninstall: numpy\n",
      "    Found existing installation: numpy 1.21.6\n",
      "    Uninstalling numpy-1.21.6:\n",
      "      Successfully uninstalled numpy-1.21.6\n"
     ]
    },
    {
     "name": "stderr",
     "output_type": "stream",
     "text": [
      "WARNING: Ignoring invalid distribution -oogle-auth (c:\\users\\kopan\\anaconda3\\lib\\site-packages)\n",
      "WARNING: Ignoring invalid distribution -oogle-auth (c:\\users\\kopan\\anaconda3\\lib\\site-packages)\n",
      "WARNING: Ignoring invalid distribution -oogle-auth (c:\\users\\kopan\\anaconda3\\lib\\site-packages)\n",
      "    WARNING: Ignoring invalid distribution -oogle-auth (c:\\users\\kopan\\anaconda3\\lib\\site-packages)\n",
      "ERROR: Could not install packages due to an OSError: [WinError 5] Отказано в доступе: 'C:\\\\Users\\\\kopan\\\\anaconda3\\\\Lib\\\\site-packages\\\\numpy\\\\~ore\\\\_multiarray_tests.cp39-win_amd64.pyd'\n",
      "Consider using the `--user` option or check the permissions.\n",
      "\n",
      "WARNING: Ignoring invalid distribution -oogle-auth (c:\\users\\kopan\\anaconda3\\lib\\site-packages)\n",
      "WARNING: Ignoring invalid distribution -oogle-auth (c:\\users\\kopan\\anaconda3\\lib\\site-packages)\n",
      "WARNING: Ignoring invalid distribution -oogle-auth (c:\\users\\kopan\\anaconda3\\lib\\site-packages)\n"
     ]
    }
   ],
   "source": [
    "!pip install dowhy"
   ]
  },
  {
   "cell_type": "code",
   "execution_count": 3,
   "id": "2fe92410",
   "metadata": {},
   "outputs": [
    {
     "ename": "ModuleNotFoundError",
     "evalue": "No module named 'dowhy'",
     "output_type": "error",
     "traceback": [
      "\u001b[1;31m---------------------------------------------------------------------------\u001b[0m",
      "\u001b[1;31mModuleNotFoundError\u001b[0m                       Traceback (most recent call last)",
      "Input \u001b[1;32mIn [3]\u001b[0m, in \u001b[0;36m<cell line: 9>\u001b[1;34m()\u001b[0m\n\u001b[0;32m      7\u001b[0m \u001b[38;5;28;01mimport\u001b[39;00m \u001b[38;5;21;01mnetworkx\u001b[39;00m \u001b[38;5;28;01mas\u001b[39;00m \u001b[38;5;21;01mnx\u001b[39;00m\n\u001b[0;32m      8\u001b[0m \u001b[38;5;28;01mimport\u001b[39;00m \u001b[38;5;21;01mpingouin\u001b[39;00m \u001b[38;5;28;01mas\u001b[39;00m \u001b[38;5;21;01mpg\u001b[39;00m\n\u001b[1;32m----> 9\u001b[0m \u001b[38;5;28;01mfrom\u001b[39;00m \u001b[38;5;21;01mdowhy\u001b[39;00m \u001b[38;5;28;01mimport\u001b[39;00m CausalModel\n\u001b[0;32m     10\u001b[0m \u001b[38;5;28;01mimport\u001b[39;00m \u001b[38;5;21;01mmatplotlib\u001b[39;00m\u001b[38;5;21;01m.\u001b[39;00m\u001b[38;5;21;01mpyplot\u001b[39;00m \u001b[38;5;28;01mas\u001b[39;00m \u001b[38;5;21;01mplt\u001b[39;00m\n\u001b[0;32m     12\u001b[0m np\u001b[38;5;241m.\u001b[39mrandom\u001b[38;5;241m.\u001b[39mseed(\u001b[38;5;241m0\u001b[39m)\n",
      "\u001b[1;31mModuleNotFoundError\u001b[0m: No module named 'dowhy'"
     ]
    }
   ],
   "source": [
    "import time\n",
    "from itertools import combinations\n",
    "from tqdm import tqdm\n",
    "\n",
    "import numpy as np\n",
    "import pandas as pd\n",
    "import networkx as nx\n",
    "import pingouin as pg\n",
    "from dowhy import CausalModel\n",
    "import matplotlib.pyplot as plt\n",
    "\n",
    "np.random.seed(0)"
   ]
  },
  {
   "cell_type": "markdown",
   "id": "36671a74",
   "metadata": {
    "id": "36671a74"
   },
   "source": [
    "# Поиск причинно-следственной структуры в данных\n",
    "\n",
    "Сегодня мы поговорим о том, как использовать библиотеку causal-learn для поиска причинно-следственной структуры в данных."
   ]
  },
  {
   "cell_type": "markdown",
   "id": "fa0d5817",
   "metadata": {},
   "source": [
    "Перед тем как начать работу с алгоритмами causal discovery, предлагается изучить используемые данные. Датасет **LUCAS** (*LUng CAncer Simple set*) содержат 11 бинарных переменных, значения которых были сгенерированы относительно следующей причинно-следственной байесовской сети:"
   ]
  },
  {
   "cell_type": "code",
   "execution_count": null,
   "id": "fdbac4a5",
   "metadata": {},
   "outputs": [],
   "source": [
    "def nudge(pos, x_shift, y_shift):\n",
    "    return {n:(x + x_shift, y + y_shift) for n,(x,y) in pos.items()}\n",
    "\n",
    "# визуализация\n",
    "def draw_graph(G, pos):\n",
    "    colors = ['red' if (y,x) in G.edges() else 'black' for (x,y) in G.edges()]\n",
    "\n",
    "    pos_nodes = nudge(pos, 0.0, -0.5)\n",
    "\n",
    "    fig, ax = plt.subplots(1, figsize=(8,8))\n",
    "    ax.margins(0.2)\n",
    "    nx.draw(G, ax=ax, pos=pos, with_labels=False, node_size=500, node_color='w', edgecolors='black', edge_color=colors)\n",
    "    nx.draw_networkx_labels(G, ax=ax, pos=pos_nodes, font_size=12)\n",
    "    \n",
    "df = pd.read_csv('lucas0_train.csv')\n",
    "\n",
    "nodes = list(df.columns)\n",
    "\n",
    "true_graph = nx.DiGraph()\n",
    "true_graph.add_nodes_from(nodes)\n",
    "true_graph.add_edges_from([('Smoking', 'Lung_cancer'),\n",
    "                           ('Smoking', 'Yellow_Fingers'),\n",
    "                           ('Anxiety', 'Smoking'),\n",
    "                           ('Peer_Pressure', 'Smoking'),\n",
    "                           ('Genetics', 'Lung_cancer'),\n",
    "                           ('Lung_cancer', 'Coughing'),\n",
    "                           ('Lung_cancer', 'Fatigue'),\n",
    "                           ('Genetics', 'Attention_Disorder'),\n",
    "                           ('Allergy', 'Coughing'),\n",
    "                           ('Coughing', 'Fatigue'),\n",
    "                           ('Fatigue', 'Car_Accident'),\n",
    "                           ('Attention_Disorder', 'Car_Accident'),])\n",
    "\n",
    "# укладка графа\n",
    "pos = {'Smoking':(4,5), 'Yellow_Fingers':(6.2,2.9), 'Anxiety':(6.5, 5.5), 'Peer_Pressure':(5.7, 7), 'Genetics':(2.5, 4.7), 'Attention_Disorder':(1.8,2.8),\n",
    "       'Born_an_Even_Day':(7, 4.5), 'Car_Accident':(0.5,0.5), 'Fatigue':(3, 0.5), 'Allergy':(7.6,0.), 'Coughing':(5.3, 0.7), 'Lung_cancer':(4.4,1.9)}\n",
    "\n",
    "draw_graph(true_graph, pos)"
   ]
  },
  {
   "cell_type": "markdown",
   "id": "c79bd733",
   "metadata": {},
   "source": [
    "Граф задан относительно следующих условных и безусловных вероятностей:\n",
    "\n",
    "$$\n",
    "\\begin{equation*}\n",
    "\\begin{aligned}\n",
    "\n",
    "P(Anxiety=T)=0.642 \\\\\n",
    "P(Peer \\; Pressure=T)=0.329 \\\\\n",
    "P(Smoking=T|Peer \\; Pressure=F, Anxiety=F)=0.431 \\\\\n",
    "P(Smoking=T|Peer \\; Pressure=T, Anxiety=F)=0.745 \\\\\n",
    "P(Smoking=T|Peer \\; Pressure=F, Anxiety=T)=0.868 \\\\\n",
    "P(Smoking=T|Peer \\; Pressure=T, Anxiety=T)=0.915 \\\\\n",
    "P(Yellow \\; Fingers=T|Smoking=F)=0.231 \\\\\n",
    "P(Yellow \\; Fingers=T|Smoking=T)=0.953 \\\\\n",
    "\n",
    "\n",
    "\\end{aligned}\n",
    "\\qquad\n",
    "\\begin{aligned}\n",
    "\n",
    "P(Fatigue=T|Lung \\; cancer=F, Coughing=F)=0.352 \\\\\n",
    "P(Fatigue=T|Lung \\; cancer=T, Coughing=F)=0.565 \\\\\n",
    "P(Fatigue=T|Lung \\; cancer=F, Coughing=T)=0.801 \\\\\n",
    "P(Fatigue=T|Lung \\; cancer=T, Coughing=T)=0.895 \\\\\n",
    "P(Car \\; Accident=T|Attention \\; Disorder=F, Fatigue=F)=0.227 \\\\\n",
    "P(Car \\; Accident=T|Attention \\; Disorder=T, Fatigue=F)=0.779 \\\\\n",
    "P(Car \\; Accident=T|Attention \\; Disorder=F, Fatigue=T)=0.788 \\\\\n",
    "P(Car \\; Accident=T|Attention \\; Disorder=T, Fatigue=T)=0.971 \\\\\n",
    "\n",
    "\\end{aligned}\n",
    "\n",
    "\\end{equation*}\n",
    "$$"
   ]
  },
  {
   "cell_type": "markdown",
   "id": "b90c31d2",
   "metadata": {},
   "source": [
    "$$\n",
    "\\begin{equation*}\n",
    "\\begin{aligned}\n",
    "\n",
    "P(Genetics=T)=0.159 \\\\\n",
    "P(Lung \\; cancer=T|Genetics=F, Smoking=F)=0.231 \\\\\n",
    "P(Lung \\; cancer=T|Genetics=T, Smoking=F)=0.869 \\\\\n",
    "P(Lung \\; cancer=T|Genetics=F, Smoking=T)=0.839 \\\\\n",
    "P(Lung \\; cancer=T|Genetics=T, Smoking=T)=0.993 \\\\\n",
    "P(Attention \\; Disorder=T|Genetics=F)=0.289 \\\\\n",
    "P(Attention \\; Disorder=T|Genetics=T)=0.687 \\\\\n",
    "\n",
    "\\end{aligned}\n",
    "\\qquad\n",
    "\\begin{aligned}\n",
    "\n",
    "P(Born \\; an \\; Even \\; Day=T)=0.5 \\\\\n",
    "P(Allergy=T)=0.328 \\\\\n",
    "P(Coughing=T|Allergy=F, Lung \\; cancer=F)=0.134 \\\\\n",
    "P(Coughing=T|Allergy=T, Lung \\; cancer=F)=0.645 \\\\\n",
    "P(Coughing=T|Allergy=F, Lung \\; cancer=T)=0.766 \\\\\n",
    "P(Coughing=T|Allergy=T, Lung \\; cancer=T)=0.999 \\\\\n",
    "\n",
    "\\end{aligned}\n",
    "\n",
    "\\end{equation*}\n",
    "$$"
   ]
  },
  {
   "cell_type": "markdown",
   "id": "8fee7e46",
   "metadata": {},
   "source": [
    "Можно заметить, что среди переменных, относящихся непосредственно к здоровью человека, присутствует $Born \\; an \\; Even \\; Day$ - мы ожидаем, что используемые в дальнейшем алгоритмы не будут учитывать ее в восстановленном по данным причинно-следственно графе (т. е. ей будет соответствовать изолированная вершина)."
   ]
  },
  {
   "cell_type": "markdown",
   "id": "b00db940",
   "metadata": {
    "id": "b00db940"
   },
   "source": [
    "# Constraint-based алгоритмы\n",
    "\n",
    "**Алгорим Петера-Кларка** (также известный как **PC**; назван в честь его авторов - Петера Спиртеса и Кларка Глимура) является constraint-based алгоритмом, основанном на итеративном применении тестов на условную незаивисимость к данным. Прежде чем перейти к непосредственно к нему, мы посмотрим на его упрощенную версию, а именно на алгоритм [SGS](https://www.researchgate.net/publication/242448131_Causation_Prediction_and_Search) - он имеет тот же формат входных / выходных данных и поэтому перейти от него к PC будет вполне естественно. \n",
    "\n",
    "Оба алгоритма имеют следующие допущения:\n",
    "- faithfulness - все условные независимости в данных влекут за собой d-separation в причинно-следственном графе;\n",
    "- causal sufficiency - отсутствие скрытых конфаундеров, отсутствие selection bias;\n",
    "- acyclicity - отсутствие циклов в конечном графе.\n",
    "\n",
    "Этапы работы алгоритмов:\n",
    "- Вычисление скелета;\n",
    "- Вычисление v-структуры;\n",
    "- Ориентация ребер."
   ]
  },
  {
   "cell_type": "markdown",
   "id": "293798b1",
   "metadata": {},
   "source": [
    "## SGS "
   ]
  },
  {
   "cell_type": "markdown",
   "id": "35c41681",
   "metadata": {},
   "source": [
    "### Шаг 1: Вычисление скелета графа"
   ]
  },
  {
   "cell_type": "markdown",
   "id": "ad6e32ae",
   "metadata": {},
   "source": [
    "Сгенерируем полносвязный граф $G = (V, E)$ относительно имеющихся переменных:"
   ]
  },
  {
   "cell_type": "code",
   "execution_count": null,
   "id": "1f0b3554",
   "metadata": {
    "id": "1f0b3554",
    "outputId": "44781d7d-0b29-4ecf-bd2c-7d673a1f0233",
    "scrolled": true
   },
   "outputs": [],
   "source": [
    "nodes = list(df.columns)\n",
    "\n",
    "# стартовый полносвязный граф\n",
    "skeleton = nx.Graph()\n",
    "skeleton.add_nodes_from(nodes)\n",
    "skeleton.add_edges_from(combinations(nodes, 2))\n",
    "\n",
    "draw_graph(skeleton, pos)"
   ]
  },
  {
   "cell_type": "markdown",
   "id": "a3492b4f",
   "metadata": {
    "id": "a3492b4f"
   },
   "source": [
    "Последовательно приемним тесты на условную независимость относительно каждой пары вершин $(i, j) \\in G$ и всех подмножеств $S \\subseteq V \\backslash \\{i, j\\} $ оставшихся вершин графа."
   ]
  },
  {
   "cell_type": "code",
   "execution_count": null,
   "id": "45e073e0",
   "metadata": {
    "id": "45e073e0"
   },
   "outputs": [],
   "source": [
    "def skeleton_learning(df, skeleton, alpha=0.05, verbose=False):\n",
    "\n",
    "    time_ = []\n",
    "\n",
    "    # размер множества для проверки условной независимости\n",
    "    for k in range(len(skeleton.nodes())-1):\n",
    "        start = time.time()\n",
    "        # перебираем все пары вершин\n",
    "        for (x, y) in combinations(skeleton.nodes(), 2):\n",
    "            # для каждого подмножества S из |V|\\{x,y} такого что |S| = k \n",
    "            for s in combinations(set(skeleton.nodes()).difference([x,y]), k):\n",
    "                # проверяем нулевую гипотезу об условной независимости x и y по s\n",
    "                p_val = pg.partial_corr(data=df, x=x, y=y, covar=list(s)).round(3)['p-val'].item()\n",
    "                # если нам не удается отвергунть нулевую гипотезу, то x и y не могут быть смежными\n",
    "                if p_val > alpha and skeleton.has_edge(x, y):\n",
    "                    if verbose == True:\n",
    "                        print(\"removing edge: \", (x, y))\n",
    "                    skeleton.remove_edge(x, y)\n",
    "        end = time.time()\n",
    "        time_.append(end - start)\n",
    "\n",
    "        draw_graph(skeleton, pos)\n",
    "        plt.text(0.2, 7, 'k='+str(k), fontsize=34)\n",
    "        plt.text(0.2, 6.4, 'time: ' + str(round(time_[-1], 2)), fontsize=24)\n",
    "#        plt.savefig('SGS_stage_1n/' + str(k) + '.png')\n",
    "\n",
    "\n",
    "    return skeleton, time_"
   ]
  },
  {
   "cell_type": "code",
   "execution_count": null,
   "id": "42cd5aff",
   "metadata": {
    "id": "42cd5aff",
    "outputId": "61529d2e-604b-40d6-90e0-cc003b8d83cf"
   },
   "outputs": [],
   "source": [
    "# используемый в тесте уровень значимости\n",
    "alpha = 0.05\n",
    "\n",
    "skeleton, t = skeleton_learning(df, skeleton)\n",
    "draw_graph(skeleton, pos)"
   ]
  },
  {
   "cell_type": "markdown",
   "id": "2a597f7c",
   "metadata": {},
   "source": [
    "Давайте посмотрим на распределение затраченного на различные этапы времени:"
   ]
  },
  {
   "cell_type": "code",
   "execution_count": null,
   "id": "fa1ad1b0",
   "metadata": {},
   "outputs": [],
   "source": [
    "ks = [i for i in range(len(t))]\n",
    "fig, ax = plt.subplots(1, figsize=(5, 3))\n",
    "ax.bar(ks, t)\n",
    "ax.set_xlabel('stage (depth)')\n",
    "ax.set_ylabel('time, sec')"
   ]
  },
  {
   "cell_type": "markdown",
   "id": "0aca4c70",
   "metadata": {},
   "source": [
    "Как видно из графов каждого этапа, структурные изменения перестали наблюдаться после 2-го этапа (т .е. $\\#\\{S\\} = 2$), в то время как наибольшее количество времени было потрачено на итерации 4, 5 и 6. "
   ]
  },
  {
   "cell_type": "markdown",
   "id": "35c466ea",
   "metadata": {},
   "source": [
    "Конвертируем неориентированный граф в ориентированный (*примечание: в найденном скелете все ребра двунаправленные*)."
   ]
  },
  {
   "cell_type": "code",
   "execution_count": null,
   "id": "ad7c0fc8",
   "metadata": {
    "id": "ad7c0fc8"
   },
   "outputs": [],
   "source": [
    "directed = skeleton.to_directed()\n",
    "draw_graph(directed, pos)"
   ]
  },
  {
   "cell_type": "markdown",
   "id": "d8feabe1",
   "metadata": {
    "id": "d8feabe1"
   },
   "source": [
    "### Шаг 2: Поиск v-структур"
   ]
  },
  {
   "cell_type": "markdown",
   "id": "afad92f3",
   "metadata": {},
   "source": [
    "Найдем все подмножества вершин, соответствующие определению unshielded triple:\n",
    "\n",
    "> Тройка вершин (i, j, k) называется **unshielded triple** если i - j - k и i не является смежной с вершиной k."
   ]
  },
  {
   "cell_type": "code",
   "execution_count": null,
   "id": "644adc54",
   "metadata": {
    "id": "644adc54",
    "outputId": "a9d9867c-87b1-45bf-8c56-530efada3e34"
   },
   "outputs": [],
   "source": [
    "unshielded_triplets = []\n",
    "\n",
    "for source_node in directed.nodes:\n",
    "    middle_nodes = [node for node in skeleton.neighbors(source_node)]\n",
    "    for middle_node in middle_nodes:\n",
    "        end_nodes = [node for node in skeleton.neighbors(middle_node) if node != source_node]\n",
    "        for end_node in end_nodes:\n",
    "            if end_node not in middle_nodes: # проверяем отсутствие связи между крайними вершинами\n",
    "                if [end_node, middle_node, source_node] not in unshielded_triplets:\n",
    "                    unshielded_triplets.append([source_node, middle_node, end_node])"
   ]
  },
  {
   "cell_type": "code",
   "execution_count": null,
   "id": "fec9bac3",
   "metadata": {},
   "outputs": [],
   "source": [
    "# найденные unshilded triples\n",
    "print(*unshielded_triplets)"
   ]
  },
  {
   "cell_type": "markdown",
   "id": "eb83772f",
   "metadata": {},
   "source": [
    "Теперь мы можем выделить среди 18 найденных unshielded triple те тройки вершин, которые являются v-структурами:\n",
    "\n",
    "> Тройка вершин (i, j, k) называется **v-структурой** (или **unshielded collider**) если i -> j <- k и i не является смежной с вершиной k."
   ]
  },
  {
   "cell_type": "code",
   "execution_count": null,
   "id": "f498d830",
   "metadata": {
    "id": "f498d830",
    "outputId": "072528b8-b7b6-4852-a5d2-8ac748917d29",
    "scrolled": true
   },
   "outputs": [],
   "source": [
    "v_structures = []\n",
    "i = 0\n",
    "\n",
    "for u_triplet in unshielded_triplets:\n",
    "    i+=1\n",
    "\n",
    "    for k in range(len(skeleton.nodes())-2):\n",
    "        for s in combinations(set(skeleton.nodes()).difference(u_triplet), k):\n",
    "            s_f = [a for a in s]\n",
    "            s_f.append(u_triplet[1])\n",
    "            p_val = pg.partial_corr(data=df, x=u_triplet[0], y=u_triplet[2], covar=list(s_f)).round(3)['p-val'].item()\n",
    "            if p_val > alpha:\n",
    "                break\n",
    "        else:\n",
    "            continue\n",
    "        break\n",
    "    \n",
    "    if p_val < alpha:\n",
    "        v_structures.append(u_triplet)\n",
    "        directed.remove_edges_from([(u_triplet[1], u_triplet[0]), (u_triplet[1], u_triplet[2])])\n",
    "        \n",
    "    colors = ['red'  if (y,x) in directed.edges() else 'black' for (x,y) in directed.edges()]\n",
    "    draw_graph(directed, pos)\n",
    "    plt.text(7.76, 8.7, str(i) + '/' + str(len(unshielded_triplets)), fontsize=24)\n",
    "    plt.text(-1.05, 8, str(u_triplet), fontsize=16)\n",
    "    plt.text(-1.05, 7.5, 'Result: ' + str(p_val < alpha), fontsize=14, color='black')"
   ]
  },
  {
   "cell_type": "code",
   "execution_count": null,
   "id": "04d91a65",
   "metadata": {},
   "outputs": [],
   "source": [
    "# найденные в данных v-структуры \n",
    "print(*v_structures)"
   ]
  },
  {
   "cell_type": "markdown",
   "id": "42b4b5b0",
   "metadata": {},
   "source": [
    "### Шаг 3: Применение background knowledge и правил Мика"
   ]
  },
  {
   "cell_type": "markdown",
   "id": "3a6955b2",
   "metadata": {},
   "source": [
    "Вычислив скелет графа и определив v-структуры, мы полчили марковский класс эквивалентности, представленный в форме CPDAG (частично-ориентированный ациклический граф). Дальнейший поиск направления связей подразумевает применение **экспертных знаний** (**background knowledge**) и **ориентационных правил Мика**. \n",
    "\n",
    "Экспертные знания обычно отражают ограничения на физически возможные направления стрелок (например, баланс на карте не определяет возраст, но возраст может определять баланс через измеренные / неизмеренные переменные). Для нашего датасета мы имеем два ребра относительно которых представляется возможным зафиксировать стрелку:  ('Yellow_Fingers', 'Smoking') и ('Fatigue', 'Coughing')."
   ]
  },
  {
   "cell_type": "markdown",
   "id": "618c699f",
   "metadata": {},
   "source": [
    "В первом случае изменение цвета кожи не влечет за собой уменьшение или увеличение желания курить, поэтому мы можем удалить стрелку 'Yellow_Fingers' -> 'Smoking'."
   ]
  },
  {
   "cell_type": "code",
   "execution_count": null,
   "id": "667e5cd2",
   "metadata": {},
   "outputs": [],
   "source": [
    "directed.remove_edges_from([('Yellow_Fingers', 'Smoking')])"
   ]
  },
  {
   "cell_type": "markdown",
   "id": "1d98234f",
   "metadata": {},
   "source": [
    "Для связи ('Fatigue', 'Coughing') также более характерно появление усталости после кашля, а не наоборот:"
   ]
  },
  {
   "cell_type": "code",
   "execution_count": null,
   "id": "daa5814f",
   "metadata": {},
   "outputs": [],
   "source": [
    "directed.remove_edges_from([('Fatigue', 'Coughing')])"
   ]
  },
  {
   "cell_type": "code",
   "execution_count": null,
   "id": "3342df3d",
   "metadata": {
    "id": "3342df3d",
    "outputId": "a209f99a-4843-4349-a68d-e025500a136d"
   },
   "outputs": [],
   "source": [
    "draw_graph(directed, pos)"
   ]
  },
  {
   "cell_type": "markdown",
   "id": "fa15ce17",
   "metadata": {},
   "source": [
    "Из двух последних ребер мы можем определить направление только для ('Lung_cancer', 'Fatigue'): если мы выберем стрелку 'Fatigue' -> 'Lung_cancer', то получим цикл 'Fatigue' -> 'Lung_cancer' -> 'Coughing' -> 'Fatigue'. Это нарушает одно из допущений алгоритма SGS, а следовательно единственно возможный вариант направления связи между этими вершинами это 'Fatigue' <- 'Lung_cancer'."
   ]
  },
  {
   "cell_type": "code",
   "execution_count": null,
   "id": "9486fc98",
   "metadata": {},
   "outputs": [],
   "source": [
    "directed.remove_edges_from([('Fatigue', 'Lung_cancer')])"
   ]
  },
  {
   "cell_type": "markdown",
   "id": "b8c0c30e",
   "metadata": {},
   "source": [
    "Направление ребра ('Genetics', 'Attention_Didorder') не удастся установить, так как оба возможных варианта не порождают ни циклов, ни новых v-структур."
   ]
  },
  {
   "cell_type": "code",
   "execution_count": null,
   "id": "006ce03f",
   "metadata": {
    "id": "006ce03f",
    "outputId": "d8ee851c-9c6b-46a7-f67d-ab5f2b7d7138"
   },
   "outputs": [],
   "source": [
    "draw_graph(directed, pos)"
   ]
  },
  {
   "cell_type": "markdown",
   "id": "ef183a3e",
   "metadata": {},
   "source": [
    "## Алгоритм Петера-Кларка"
   ]
  },
  {
   "cell_type": "markdown",
   "id": "e62348fe",
   "metadata": {},
   "source": [
    "Существенная часть causal discovery методов представлена в библиотеке **causal-learn**, к которой мы прямо сейчас перейдем. Закончив с алгоритмом SGS, мы можем опробовать PC - его ключевое отличие это оптимизированный поиск подмножеств вершин в рамках проведения тестов на условную независимость."
   ]
  },
  {
   "cell_type": "code",
   "execution_count": null,
   "id": "e9d4d5bd",
   "metadata": {},
   "outputs": [],
   "source": [
    "from causallearn.search.ConstraintBased.PC import pc\n",
    "from causallearn.utils.PCUtils.BackgroundKnowledge import BackgroundKnowledge\n",
    "\n",
    "graph_pc_raw = pc(df.values, alpha=alpha, indep_test='fisherz')\n"
   ]
  },
  {
   "cell_type": "code",
   "execution_count": null,
   "id": "4f4f6218",
   "metadata": {},
   "outputs": [],
   "source": [
    "graph_pc_raw.to_nx_graph()\n",
    "\n",
    "mapping = {node:i for node, i in enumerate(df.columns)}\n",
    "mapping_r = {i:node for node, i in enumerate(df.columns)}\n",
    "\n",
    "# добавим корректные названия вершин в граф\n",
    "graph_pc = nx.relabel_nodes(graph_pc_raw.nx_graph, mapping)"
   ]
  },
  {
   "cell_type": "code",
   "execution_count": null,
   "id": "6ddb88c0",
   "metadata": {},
   "outputs": [],
   "source": [
    "draw_graph(graph_pc, pos)"
   ]
  },
  {
   "cell_type": "markdown",
   "id": "f9fecabc",
   "metadata": {},
   "source": [
    "В библиотеке causal-learn имеется собственный класс для работы с экспертными знаниями:"
   ]
  },
  {
   "cell_type": "code",
   "execution_count": null,
   "id": "4d776a73",
   "metadata": {},
   "outputs": [],
   "source": [
    "backgroung_knowledge = BackgroundKnowledge()"
   ]
  },
  {
   "cell_type": "markdown",
   "id": "a1180b63",
   "metadata": {},
   "source": [
    "Чтобы удалить ребро (в одну или обе стороны), необходимо получить соответствующие ему вершины из объекта GeneralGraph. Например, запретим ребро 'Attention_disorder' -> 'Genetics', а также полностью удалим связь между 'Yellow_Fingers' и 'Smoking':"
   ]
  },
  {
   "cell_type": "code",
   "execution_count": null,
   "id": "819442b1",
   "metadata": {},
   "outputs": [],
   "source": [
    "# достаем вершины из GeneralGraph\n",
    "nodes = graph_pc_raw.G.get_nodes()"
   ]
  },
  {
   "cell_type": "code",
   "execution_count": null,
   "id": "bb009b67",
   "metadata": {},
   "outputs": [],
   "source": [
    "# удаляем возможность построить ребро в одном направлении\n",
    "\n",
    "node_from = nodes[mapping_r['Attention_Disorder']]\n",
    "node_to = nodes[mapping_r['Genetics']]\n",
    "\n",
    "# добавляем запрет на ребро аргумент_1 -> аргумент_2\n",
    "backgroung_knowledge.add_forbidden_by_node(node_from, node_to)"
   ]
  },
  {
   "cell_type": "code",
   "execution_count": null,
   "id": "bea28e2a",
   "metadata": {},
   "outputs": [],
   "source": [
    "# полностью удаляем ребро из графа\n",
    "\n",
    "node_from = nodes[mapping_r['Yellow_Fingers']]\n",
    "node_to = nodes[mapping_r['Smoking']]\n",
    "\n",
    "backgroung_knowledge.add_forbidden_by_node(node_from, node_to)\n",
    "backgroung_knowledge.add_forbidden_by_node(node_to, node_from)"
   ]
  },
  {
   "cell_type": "markdown",
   "id": "a2db4927",
   "metadata": {},
   "source": [
    "Построим каузальный граф еще раз, но уже с использованием background knowledge:"
   ]
  },
  {
   "cell_type": "code",
   "execution_count": null,
   "id": "3e2479c7",
   "metadata": {},
   "outputs": [],
   "source": [
    "graph_pc_raw_bk = pc(df.values, alpha=alpha, indep_test='fisherz', background_knowledge=backgroung_knowledge)"
   ]
  },
  {
   "cell_type": "code",
   "execution_count": null,
   "id": "2f3cf055",
   "metadata": {},
   "outputs": [],
   "source": [
    "graph_pc_raw_bk.to_nx_graph()\n",
    "\n",
    "# добавим корректные названия вершин в граф\n",
    "graph_pc_bk = nx.relabel_nodes(graph_pc_raw_bk.nx_graph, mapping)"
   ]
  },
  {
   "cell_type": "code",
   "execution_count": null,
   "id": "87c007d9",
   "metadata": {},
   "outputs": [],
   "source": [
    "draw_graph(graph_pc_bk, pos)"
   ]
  },
  {
   "cell_type": "markdown",
   "id": "2b1a8f18",
   "metadata": {},
   "source": [
    "## **Бонус**: Score-based методы"
   ]
  },
  {
   "cell_type": "markdown",
   "id": "7c022bf7",
   "metadata": {},
   "source": [
    "В качестве дополнительного метода оценки причинно-следственных связей в данных предлагается протестировать алгоритм GES (Greedy Equivalence Search), оценивающий соответствие потенциального каузального графа данным с помощью скоринговой функции (например, BIC).\n",
    "\n",
    "Алгоритм имеет схожие с PC допущения и включает в себя три шага:\n",
    "1. Инициализация пустого графа;\n",
    "2. Последовательное добавление ребер вплоть до достижения локального максимума скоринговой функции (forward phase);\n",
    "3. Последовательное удаление ребер вплоть до достижения локального максимума скоринговой функции (backward phase).\n",
    "\n",
    "Полученные промежуточные графы во время шагов 2 и 3 сопоставляются с соответствующими марковскими классами эквивалентности."
   ]
  },
  {
   "cell_type": "code",
   "execution_count": null,
   "id": "145ec075",
   "metadata": {},
   "outputs": [],
   "source": [
    "from causallearn.search.ScoreBased.GES import ges\n",
    "\n",
    "graph_ges = ges(df, score_func='local_score_BIC')"
   ]
  },
  {
   "cell_type": "code",
   "execution_count": null,
   "id": "0d31086f",
   "metadata": {},
   "outputs": [],
   "source": [
    "import io\n",
    "from causallearn.utils.GraphUtils import GraphUtils\n",
    "import matplotlib.image as mpimg\n",
    "\n",
    "pyd = GraphUtils.to_pydot(graph_ges['G'], labels=df.columns)\n",
    "tmp_png = pyd.create_png(f=\"png\")\n",
    "fp = io.BytesIO(tmp_png)\n",
    "img = mpimg.imread(fp, format='png')\n",
    "plt.axis('off')\n",
    "plt.imshow(img)\n",
    "plt.show()"
   ]
  },
  {
   "cell_type": "markdown",
   "id": "c60af2af",
   "metadata": {},
   "source": [
    "## Превью к следующим частям семинара"
   ]
  },
  {
   "cell_type": "markdown",
   "id": "13c6e553",
   "metadata": {},
   "source": [
    "Теперь, когда все направления ребр были идентифицированы, полученный каузальный граф может быть использован для построения оценки эффекта одной переменной на другую. Например, мы можем численно оценить влияние курения на рак легких:"
   ]
  },
  {
   "cell_type": "code",
   "execution_count": null,
   "id": "c79c1db0",
   "metadata": {},
   "outputs": [],
   "source": [
    "gml = ''.join(nx.generate_gml(graph_pc_bk))\n",
    "model = CausalModel(\n",
    "        data = df,\n",
    "        treatment='Smoking',\n",
    "        outcome='Lung_cancer',\n",
    "        graph=gml)"
   ]
  },
  {
   "cell_type": "code",
   "execution_count": null,
   "id": "255e704b",
   "metadata": {},
   "outputs": [],
   "source": [
    "identified_estimand = model.identify_effect()\n",
    "print(identified_estimand)"
   ]
  },
  {
   "cell_type": "code",
   "execution_count": null,
   "id": "2c51ecc0",
   "metadata": {},
   "outputs": [],
   "source": [
    "estimate = model.estimate_effect(identified_estimand,\n",
    "        method_name=\"backdoor.linear_regression\")\n",
    "print(\"Оценка эффекта: \" + str(estimate.value))"
   ]
  }
 ],
 "metadata": {
  "colab": {
   "provenance": []
  },
  "kernelspec": {
   "display_name": "Python 3 (ipykernel)",
   "language": "python",
   "name": "python3"
  },
  "language_info": {
   "codemirror_mode": {
    "name": "ipython",
    "version": 3
   },
   "file_extension": ".py",
   "mimetype": "text/x-python",
   "name": "python",
   "nbconvert_exporter": "python",
   "pygments_lexer": "ipython3",
   "version": "3.9.12"
  }
 },
 "nbformat": 4,
 "nbformat_minor": 5
}
