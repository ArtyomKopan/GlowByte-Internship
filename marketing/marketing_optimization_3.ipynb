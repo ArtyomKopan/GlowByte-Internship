{
 "cells": [
  {
   "cell_type": "code",
   "execution_count": 5,
   "id": "16e4aef1",
   "metadata": {
    "scrolled": true
   },
   "outputs": [
    {
     "name": "stderr",
     "output_type": "stream",
     "text": [
      "WARNING: Ignoring invalid distribution -oogle-auth (c:\\users\\kopan\\anaconda3\\lib\\site-packages)\n",
      "WARNING: Ignoring invalid distribution -oogle-auth (c:\\users\\kopan\\anaconda3\\lib\\site-packages)\n",
      "WARNING: Ignoring invalid distribution -oogle-auth (c:\\users\\kopan\\anaconda3\\lib\\site-packages)\n",
      "WARNING: Ignoring invalid distribution -oogle-auth (c:\\users\\kopan\\anaconda3\\lib\\site-packages)\n",
      "WARNING: Ignoring invalid distribution -oogle-auth (c:\\users\\kopan\\anaconda3\\lib\\site-packages)"
     ]
    },
    {
     "name": "stdout",
     "output_type": "stream",
     "text": [
      "Collecting pyomo\n",
      "  Downloading Pyomo-6.7.3-cp39-cp39-win_amd64.whl (4.9 MB)\n",
      "Requirement already satisfied: ply in c:\\users\\kopan\\anaconda3\\lib\\site-packages (from pyomo) (3.11)\n",
      "Installing collected packages: pyomo\n",
      "Successfully installed pyomo-6.7.3\n"
     ]
    },
    {
     "name": "stderr",
     "output_type": "stream",
     "text": [
      "\n",
      "WARNING: Ignoring invalid distribution -oogle-auth (c:\\users\\kopan\\anaconda3\\lib\\site-packages)\n",
      "WARNING: Ignoring invalid distribution -oogle-auth (c:\\users\\kopan\\anaconda3\\lib\\site-packages)\n"
     ]
    }
   ],
   "source": [
    "!pip install pyomo"
   ]
  },
  {
   "cell_type": "code",
   "execution_count": 11,
   "id": "f1e1db1f",
   "metadata": {
    "scrolled": true
   },
   "outputs": [
    {
     "data": {
      "text/html": [
       "<div>\n",
       "<style scoped>\n",
       "    .dataframe tbody tr th:only-of-type {\n",
       "        vertical-align: middle;\n",
       "    }\n",
       "\n",
       "    .dataframe tbody tr th {\n",
       "        vertical-align: top;\n",
       "    }\n",
       "\n",
       "    .dataframe thead th {\n",
       "        text-align: right;\n",
       "    }\n",
       "</style>\n",
       "<table border=\"1\" class=\"dataframe\">\n",
       "  <thead>\n",
       "    <tr style=\"text-align: right;\">\n",
       "      <th></th>\n",
       "      <th>Unnamed: 0</th>\n",
       "      <th>client_id</th>\n",
       "      <th>product</th>\n",
       "      <th>channel</th>\n",
       "      <th>score</th>\n",
       "    </tr>\n",
       "  </thead>\n",
       "  <tbody>\n",
       "    <tr>\n",
       "      <th>0</th>\n",
       "      <td>0</td>\n",
       "      <td>0</td>\n",
       "      <td>credit card</td>\n",
       "      <td>call</td>\n",
       "      <td>0.021752</td>\n",
       "    </tr>\n",
       "    <tr>\n",
       "      <th>1</th>\n",
       "      <td>1</td>\n",
       "      <td>0</td>\n",
       "      <td>credit card</td>\n",
       "      <td>sms</td>\n",
       "      <td>0.005114</td>\n",
       "    </tr>\n",
       "    <tr>\n",
       "      <th>2</th>\n",
       "      <td>2</td>\n",
       "      <td>0</td>\n",
       "      <td>credit</td>\n",
       "      <td>call</td>\n",
       "      <td>0.923996</td>\n",
       "    </tr>\n",
       "    <tr>\n",
       "      <th>3</th>\n",
       "      <td>3</td>\n",
       "      <td>0</td>\n",
       "      <td>credit</td>\n",
       "      <td>sms</td>\n",
       "      <td>0.009079</td>\n",
       "    </tr>\n",
       "    <tr>\n",
       "      <th>4</th>\n",
       "      <td>4</td>\n",
       "      <td>1</td>\n",
       "      <td>credit card</td>\n",
       "      <td>call</td>\n",
       "      <td>0.017157</td>\n",
       "    </tr>\n",
       "    <tr>\n",
       "      <th>5</th>\n",
       "      <td>5</td>\n",
       "      <td>1</td>\n",
       "      <td>credit card</td>\n",
       "      <td>sms</td>\n",
       "      <td>0.006544</td>\n",
       "    </tr>\n",
       "    <tr>\n",
       "      <th>6</th>\n",
       "      <td>6</td>\n",
       "      <td>1</td>\n",
       "      <td>credit</td>\n",
       "      <td>call</td>\n",
       "      <td>0.083950</td>\n",
       "    </tr>\n",
       "    <tr>\n",
       "      <th>7</th>\n",
       "      <td>7</td>\n",
       "      <td>1</td>\n",
       "      <td>credit</td>\n",
       "      <td>sms</td>\n",
       "      <td>0.045296</td>\n",
       "    </tr>\n",
       "    <tr>\n",
       "      <th>8</th>\n",
       "      <td>8</td>\n",
       "      <td>2</td>\n",
       "      <td>credit card</td>\n",
       "      <td>call</td>\n",
       "      <td>0.018123</td>\n",
       "    </tr>\n",
       "    <tr>\n",
       "      <th>9</th>\n",
       "      <td>9</td>\n",
       "      <td>2</td>\n",
       "      <td>credit card</td>\n",
       "      <td>sms</td>\n",
       "      <td>0.005872</td>\n",
       "    </tr>\n",
       "  </tbody>\n",
       "</table>\n",
       "</div>"
      ],
      "text/plain": [
       "   Unnamed: 0  client_id      product channel     score\n",
       "0           0          0  credit card    call  0.021752\n",
       "1           1          0  credit card     sms  0.005114\n",
       "2           2          0       credit    call  0.923996\n",
       "3           3          0       credit     sms  0.009079\n",
       "4           4          1  credit card    call  0.017157\n",
       "5           5          1  credit card     sms  0.006544\n",
       "6           6          1       credit    call  0.083950\n",
       "7           7          1       credit     sms  0.045296\n",
       "8           8          2  credit card    call  0.018123\n",
       "9           9          2  credit card     sms  0.005872"
      ]
     },
     "execution_count": 11,
     "metadata": {},
     "output_type": "execute_result"
    }
   ],
   "source": [
    "import pandas as pd\n",
    "import numpy as np\n",
    "\n",
    "frame = pd.read_csv('optimization_data.csv')\n",
    "frame.head(10)"
   ]
  },
  {
   "cell_type": "code",
   "execution_count": 12,
   "id": "f6eb27f2",
   "metadata": {},
   "outputs": [],
   "source": [
    "frame = frame.drop(['Unnamed: 0'], axis=1)"
   ]
  },
  {
   "cell_type": "code",
   "execution_count": 13,
   "id": "0d88891f",
   "metadata": {},
   "outputs": [],
   "source": [
    "from pyomo.environ import ConcreteModel, Var, quicksum, Objective, Constraint, SolverFactory, Binary, maximize, summation, sum_product, ConstraintList\n",
    "\n",
    "def optimize(frame: pd.DataFrame, channel_limits: dict) -> list:\n",
    "    df = frame.copy()\n",
    "\n",
    "    model = ConcreteModel()\n",
    "\n",
    "    model.x = Var(range(df.shape[0]), domain=Binary)\n",
    "\n",
    "    model.objective = Objective(expr=sum_product(df['score'], model.x), sense=maximize)\n",
    "\n",
    "    model.constraints = ConstraintList()\n",
    "    for channel, limit in channel_limits.items():\n",
    "        indices = df[df['channel'] == channel].index.tolist()\n",
    "        model.constraints.add(quicksum(model.x[i] for i in indices) <= limit)\n",
    "\n",
    "    for client_id in df['client_id'].unique():\n",
    "        indices = df[df['client_id'] == client_id].index.tolist()\n",
    "        model.constraints.add(quicksum(model.x[i] for i in indices) <= 1)\n",
    "        \n",
    "    solver = SolverFactory('glpk') # glpk, cbc\n",
    "    result = solver.solve(model, tee=True)\n",
    "\n",
    "    return [model.x[i].value for i in range(df.shape[0])]"
   ]
  },
  {
   "cell_type": "code",
   "execution_count": 14,
   "id": "e878f785",
   "metadata": {},
   "outputs": [
    {
     "name": "stdout",
     "output_type": "stream",
     "text": [
      "GLPSOL--GLPK LP/MIP Solver 5.0\n",
      "Parameter(s) specified in the command line:\n",
      " --write C:\\Users\\kopan\\AppData\\Local\\Temp\\tmp7j6_q47f.glpk.raw --wglp C:\\Users\\kopan\\AppData\\Local\\Temp\\tmpr95ef97c.glpk.glp\n",
      " --cpxlp C:\\Users\\kopan\\AppData\\Local\\Temp\\tmp4x6e8hkk.pyomo.lp\n",
      "Reading problem data from 'C:\\Users\\kopan\\AppData\\Local\\Temp\\tmp4x6e8hkk.pyomo.lp'...\n",
      "C:\\Users\\kopan\\AppData\\Local\\Temp\\tmp4x6e8hkk.pyomo.lp:379924: warning: lower bound of variable 'x2' redefined\n",
      "C:\\Users\\kopan\\AppData\\Local\\Temp\\tmp4x6e8hkk.pyomo.lp:379924: warning: upper bound of variable 'x2' redefined\n",
      "20002 rows, 80000 columns, 160000 non-zeros\n",
      "80000 integer variables, all of which are binary\n",
      "459924 lines were read\n",
      "Writing problem data to 'C:\\Users\\kopan\\AppData\\Local\\Temp\\tmpr95ef97c.glpk.glp'...\n",
      "359915 lines were written\n",
      "GLPK Integer Optimizer 5.0\n",
      "20002 rows, 80000 columns, 160000 non-zeros\n",
      "80000 integer variables, all of which are binary\n",
      "Preprocessing...\n",
      "20002 rows, 80000 columns, 160000 non-zeros\n",
      "80000 integer variables, all of which are binary\n",
      "Scaling...\n",
      " A: min|aij| =  1.000e+00  max|aij| =  1.000e+00  ratio =  1.000e+00\n",
      "Problem data seem to be well scaled\n",
      "Constructing initial basis...\n",
      "Size of triangular part is 20002\n",
      "Solving LP relaxation...\n",
      "GLPK Simplex Optimizer 5.0\n",
      "20002 rows, 80000 columns, 160000 non-zeros\n",
      "*     0: obj =  -0.000000000e+00 inf =   0.000e+00 (79908)\n",
      "Perturbing LP to avoid stalling [3558]...\n",
      "* 13207: obj =   2.928683312e+03 inf =   0.000e+00 (29649)\n",
      "Removing LP perturbation [14102]...\n",
      "* 14102: obj =   2.938557805e+03 inf =   0.000e+00 (0)\n",
      "OPTIMAL LP SOLUTION FOUND\n",
      "Integer optimization begins...\n",
      "Long-step dual simplex will be used\n",
      "+ 14102: mip =     not found yet <=              +inf        (1; 0)\n",
      "+ 14102: >>>>>   2.938557805e+03 <=   2.938557805e+03   0.0% (1; 0)\n",
      "+ 14102: mip =   2.938557805e+03 <=     tree is empty   0.0% (0; 1)\n",
      "INTEGER OPTIMAL SOLUTION FOUND\n",
      "Time used:   5.6 secs\n",
      "Memory used: 79.7 Mb (83560534 bytes)\n",
      "Writing MIP solution to 'C:\\Users\\kopan\\AppData\\Local\\Temp\\tmp7j6_q47f.glpk.raw'...\n",
      "100011 lines were written\n"
     ]
    },
    {
     "data": {
      "text/html": [
       "<div>\n",
       "<style scoped>\n",
       "    .dataframe tbody tr th:only-of-type {\n",
       "        vertical-align: middle;\n",
       "    }\n",
       "\n",
       "    .dataframe tbody tr th {\n",
       "        vertical-align: top;\n",
       "    }\n",
       "\n",
       "    .dataframe thead th {\n",
       "        text-align: right;\n",
       "    }\n",
       "</style>\n",
       "<table border=\"1\" class=\"dataframe\">\n",
       "  <thead>\n",
       "    <tr style=\"text-align: right;\">\n",
       "      <th></th>\n",
       "      <th></th>\n",
       "      <th>client_cnt</th>\n",
       "    </tr>\n",
       "    <tr>\n",
       "      <th>channel</th>\n",
       "      <th>product</th>\n",
       "      <th></th>\n",
       "    </tr>\n",
       "  </thead>\n",
       "  <tbody>\n",
       "    <tr>\n",
       "      <th rowspan=\"2\" valign=\"top\">call</th>\n",
       "      <th>credit</th>\n",
       "      <td>1641</td>\n",
       "    </tr>\n",
       "    <tr>\n",
       "      <th>credit card</th>\n",
       "      <td>2359</td>\n",
       "    </tr>\n",
       "    <tr>\n",
       "      <th rowspan=\"2\" valign=\"top\">sms</th>\n",
       "      <th>credit</th>\n",
       "      <td>3635</td>\n",
       "    </tr>\n",
       "    <tr>\n",
       "      <th>credit card</th>\n",
       "      <td>3365</td>\n",
       "    </tr>\n",
       "  </tbody>\n",
       "</table>\n",
       "</div>"
      ],
      "text/plain": [
       "                     client_cnt\n",
       "channel product                \n",
       "call    credit             1641\n",
       "        credit card        2359\n",
       "sms     credit             3635\n",
       "        credit card        3365"
      ]
     },
     "execution_count": 14,
     "metadata": {},
     "output_type": "execute_result"
    }
   ],
   "source": [
    "channel_limits = {'call': 4000, 'sms': 7000}\n",
    "\n",
    "results_1 = optimize(frame, channel_limits)\n",
    "frame['optimal_decision_1'] = results_1\n",
    "\n",
    "#распределение продуктов в каналах\n",
    "frame[frame['optimal_decision_1'] == 1].groupby(['channel', 'product']).\\\n",
    "                                    agg({'client_id': 'count'}).\\\n",
    "                                    rename(columns={'client_id': 'client_cnt'})"
   ]
  },
  {
   "cell_type": "markdown",
   "id": "c19f9522",
   "metadata": {},
   "source": [
    "# Оптимизация маржи"
   ]
  },
  {
   "cell_type": "code",
   "execution_count": 15,
   "id": "131e4dcd",
   "metadata": {},
   "outputs": [],
   "source": [
    "revenue_credit_card = 13000\n",
    "revenue_credit = 10000\n",
    "cost_call = 50\n",
    "cost_sms = 1.5"
   ]
  },
  {
   "cell_type": "code",
   "execution_count": 16,
   "id": "8e1f0c6b",
   "metadata": {},
   "outputs": [],
   "source": [
    "scores = list(frame['score'])\n",
    "margin_scores = [0 for i in range(len(scores))]\n",
    "\n",
    "for i in range(len(scores)):\n",
    "    if i % 4 == 0:\n",
    "        margin_scores[i] = scores[i] * (revenue_credit_card - cost_call)\n",
    "    elif i % 4 == 1:\n",
    "        margin_scores[i] = scores[i] * (revenue_credit_card - cost_sms)\n",
    "    elif i % 4 == 2:\n",
    "        margin_scores[i] = scores[i] * (revenue_credit - cost_call)\n",
    "    else:\n",
    "        margin_scores[i] = scores[i] * (revenue_credit - cost_sms)\n",
    "\n",
    "frame['margin_score'] = margin_scores"
   ]
  },
  {
   "cell_type": "code",
   "execution_count": 17,
   "id": "86d0d71e",
   "metadata": {},
   "outputs": [],
   "source": [
    "def optimize_margin(frame: pd.DataFrame, channel_limits: dict) -> list:\n",
    "    df = frame.copy()\n",
    "    \n",
    "    model = ConcreteModel()\n",
    "    \n",
    "    model.x = Var(range(df.shape[0]), domain=Binary)\n",
    "    \n",
    "    model.objective = Objective(expr=sum_product(df['margin_score'], model.x), sense=maximize)\n",
    "    \n",
    "    model.constraints = ConstraintList()\n",
    "    for channel, limit in channel_limits.items():\n",
    "        indices = df[df['channel'] == channel].index.tolist()\n",
    "        model.constraints.add(quicksum(model.x[i] for i in indices) <= limit)\n",
    "\n",
    "    for client_id in df['client_id'].unique():\n",
    "        indices = df[df['client_id'] == client_id].index.tolist()\n",
    "        model.constraints.add(quicksum(model.x[i] for i in indices) <= 1)\n",
    "        \n",
    "    solver = SolverFactory('glpk') # glpk, cbc\n",
    "    result = solver.solve(model, tee=True)\n",
    "\n",
    "    return [model.x[i].value for i in range(df.shape[0])]"
   ]
  },
  {
   "cell_type": "code",
   "execution_count": 18,
   "id": "513419ec",
   "metadata": {},
   "outputs": [
    {
     "name": "stdout",
     "output_type": "stream",
     "text": [
      "GLPSOL--GLPK LP/MIP Solver 5.0\n",
      "Parameter(s) specified in the command line:\n",
      " --write C:\\Users\\kopan\\AppData\\Local\\Temp\\tmp9ykdkuc2.glpk.raw --wglp C:\\Users\\kopan\\AppData\\Local\\Temp\\tmpd2z9fm_f.glpk.glp\n",
      " --cpxlp C:\\Users\\kopan\\AppData\\Local\\Temp\\tmp5av336v5.pyomo.lp\n",
      "Reading problem data from 'C:\\Users\\kopan\\AppData\\Local\\Temp\\tmp5av336v5.pyomo.lp'...\n",
      "C:\\Users\\kopan\\AppData\\Local\\Temp\\tmp5av336v5.pyomo.lp:379924: warning: lower bound of variable 'x2' redefined\n",
      "C:\\Users\\kopan\\AppData\\Local\\Temp\\tmp5av336v5.pyomo.lp:379924: warning: upper bound of variable 'x2' redefined\n",
      "20002 rows, 80000 columns, 160000 non-zeros\n",
      "80000 integer variables, all of which are binary\n",
      "459924 lines were read\n",
      "Writing problem data to 'C:\\Users\\kopan\\AppData\\Local\\Temp\\tmpd2z9fm_f.glpk.glp'...\n",
      "359915 lines were written\n",
      "GLPK Integer Optimizer 5.0\n",
      "20002 rows, 80000 columns, 160000 non-zeros\n",
      "80000 integer variables, all of which are binary\n",
      "Preprocessing...\n",
      "20002 rows, 80000 columns, 160000 non-zeros\n",
      "80000 integer variables, all of which are binary\n",
      "Scaling...\n",
      " A: min|aij| =  1.000e+00  max|aij| =  1.000e+00  ratio =  1.000e+00\n",
      "Problem data seem to be well scaled\n",
      "Constructing initial basis...\n",
      "Size of triangular part is 20002\n",
      "Solving LP relaxation...\n",
      "GLPK Simplex Optimizer 5.0\n",
      "20002 rows, 80000 columns, 160000 non-zeros\n",
      "*     0: obj =  -0.000000000e+00 inf =   0.000e+00 (79908)\n",
      "Perturbing LP to avoid stalling [3530]...\n",
      "* 13110: obj =   3.437602863e+07 inf =   0.000e+00 (29742)\n",
      "Removing LP perturbation [14164]...\n",
      "* 14164: obj =   3.450885243e+07 inf =   0.000e+00 (0)\n",
      "OPTIMAL LP SOLUTION FOUND\n",
      "Integer optimization begins...\n",
      "Long-step dual simplex will be used\n",
      "+ 14164: mip =     not found yet <=              +inf        (1; 0)\n",
      "+ 14164: >>>>>   3.450885243e+07 <=   3.450885243e+07   0.0% (1; 0)\n",
      "+ 14164: mip =   3.450885243e+07 <=     tree is empty   0.0% (0; 1)\n",
      "INTEGER OPTIMAL SOLUTION FOUND\n",
      "Time used:   5.7 secs\n",
      "Memory used: 79.7 Mb (83560534 bytes)\n",
      "Writing MIP solution to 'C:\\Users\\kopan\\AppData\\Local\\Temp\\tmp9ykdkuc2.glpk.raw'...\n",
      "100011 lines were written\n"
     ]
    },
    {
     "data": {
      "text/html": [
       "<div>\n",
       "<style scoped>\n",
       "    .dataframe tbody tr th:only-of-type {\n",
       "        vertical-align: middle;\n",
       "    }\n",
       "\n",
       "    .dataframe tbody tr th {\n",
       "        vertical-align: top;\n",
       "    }\n",
       "\n",
       "    .dataframe thead th {\n",
       "        text-align: right;\n",
       "    }\n",
       "</style>\n",
       "<table border=\"1\" class=\"dataframe\">\n",
       "  <thead>\n",
       "    <tr style=\"text-align: right;\">\n",
       "      <th></th>\n",
       "      <th></th>\n",
       "      <th>client_cnt</th>\n",
       "    </tr>\n",
       "    <tr>\n",
       "      <th>channel</th>\n",
       "      <th>product</th>\n",
       "      <th></th>\n",
       "    </tr>\n",
       "  </thead>\n",
       "  <tbody>\n",
       "    <tr>\n",
       "      <th rowspan=\"2\" valign=\"top\">call</th>\n",
       "      <th>credit</th>\n",
       "      <td>1489</td>\n",
       "    </tr>\n",
       "    <tr>\n",
       "      <th>credit card</th>\n",
       "      <td>2511</td>\n",
       "    </tr>\n",
       "    <tr>\n",
       "      <th rowspan=\"2\" valign=\"top\">sms</th>\n",
       "      <th>credit</th>\n",
       "      <td>3176</td>\n",
       "    </tr>\n",
       "    <tr>\n",
       "      <th>credit card</th>\n",
       "      <td>3824</td>\n",
       "    </tr>\n",
       "  </tbody>\n",
       "</table>\n",
       "</div>"
      ],
      "text/plain": [
       "                     client_cnt\n",
       "channel product                \n",
       "call    credit             1489\n",
       "        credit card        2511\n",
       "sms     credit             3176\n",
       "        credit card        3824"
      ]
     },
     "execution_count": 18,
     "metadata": {},
     "output_type": "execute_result"
    }
   ],
   "source": [
    "channel_limits = {'call': 4000, 'sms': 7000}\n",
    "\n",
    "results_2 = optimize_margin(frame, channel_limits)\n",
    "frame['optimal_decision_2'] = results_2\n",
    "\n",
    "#распределение продуктов в каналах\n",
    "frame[frame['optimal_decision_2'] == 1].groupby(['channel', 'product']).\\\n",
    "                                    agg({'client_id': 'count'}).\\\n",
    "                                    rename(columns={'client_id': 'client_cnt'})"
   ]
  },
  {
   "cell_type": "markdown",
   "id": "5bddc076",
   "metadata": {},
   "source": [
    "# Сравнение"
   ]
  },
  {
   "cell_type": "markdown",
   "id": "903e799b",
   "metadata": {},
   "source": [
    "Количество общих результатов для двух решений:"
   ]
  },
  {
   "cell_type": "code",
   "execution_count": 28,
   "id": "f82d435e",
   "metadata": {},
   "outputs": [
    {
     "data": {
      "text/plain": [
       "78730"
      ]
     },
     "execution_count": 28,
     "metadata": {},
     "output_type": "execute_result"
    }
   ],
   "source": [
    "len(frame.loc[frame['optimal_decision_1'] == frame['optimal_decision_2']])"
   ]
  },
  {
   "cell_type": "markdown",
   "id": "374a6f52",
   "metadata": {},
   "source": [
    "Количество общих *сделанных* предложений для двух решений:"
   ]
  },
  {
   "cell_type": "code",
   "execution_count": 30,
   "id": "9778d6f9",
   "metadata": {},
   "outputs": [
    {
     "data": {
      "text/plain": [
       "10365.0"
      ]
     },
     "execution_count": 30,
     "metadata": {},
     "output_type": "execute_result"
    }
   ],
   "source": [
    "sum(np.array(results_1) * np.array(results_2))"
   ]
  },
  {
   "cell_type": "markdown",
   "id": "a94195d3",
   "metadata": {},
   "source": [
    "Количество результатов, которые отличаются для двух решений: "
   ]
  },
  {
   "cell_type": "code",
   "execution_count": 29,
   "id": "eef3bd24",
   "metadata": {},
   "outputs": [
    {
     "data": {
      "text/plain": [
       "1270"
      ]
     },
     "execution_count": 29,
     "metadata": {},
     "output_type": "execute_result"
    }
   ],
   "source": [
    "len(frame.loc[frame['optimal_decision_1'] != frame['optimal_decision_2']])"
   ]
  },
  {
   "cell_type": "markdown",
   "id": "ad9964cf",
   "metadata": {},
   "source": [
    "Разница в количестве предложенных кредитов и кредитных карт в двух решениях при использовании *звонков*: $$\\Delta_{call} = 2511 - 2359 = 152$$"
   ]
  },
  {
   "cell_type": "markdown",
   "id": "efe00e07",
   "metadata": {},
   "source": [
    "Разница в количестве предложенных кредитов и кредитных карт в двух решениях при использовании *SMS*: $$\\Delta_{SMS} = 3824 - 3365 = 459$$"
   ]
  },
  {
   "cell_type": "markdown",
   "id": "3d61dda0",
   "metadata": {},
   "source": [
    "**Вывод**. При оптимизации маржи при использовании канала связи SMS есть перекос в сторону кредитных карт, при решении обычной задачи -- наоборот, в сторону кредитов. При использовании звонков в обоих задачах количество кредитных карт получается больше. Если сравнивать два решения, то большинство предложений -- общие и в первой, и во второй задаче, но есть и отличающиеся результаты."
   ]
  }
 ],
 "metadata": {
  "kernelspec": {
   "display_name": "Python 3 (ipykernel)",
   "language": "python",
   "name": "python3"
  },
  "language_info": {
   "codemirror_mode": {
    "name": "ipython",
    "version": 3
   },
   "file_extension": ".py",
   "mimetype": "text/x-python",
   "name": "python",
   "nbconvert_exporter": "python",
   "pygments_lexer": "ipython3",
   "version": "3.9.12"
  }
 },
 "nbformat": 4,
 "nbformat_minor": 5
}
