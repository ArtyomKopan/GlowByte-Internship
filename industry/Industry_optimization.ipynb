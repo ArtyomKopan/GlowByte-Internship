{
  "nbformat": 4,
  "nbformat_minor": 0,
  "metadata": {
    "colab": {
      "provenance": [],
      "mount_file_id": "188ZpI-rwBEkN6uzLG-jZsdIbbR671Ts1",
      "authorship_tag": "ABX9TyMPwVSaAHpKQ/kX6gcH5+3b",
      "include_colab_link": true
    },
    "kernelspec": {
      "name": "python3",
      "display_name": "Python 3"
    },
    "language_info": {
      "name": "python"
    },
    "widgets": {
      "application/vnd.jupyter.widget-state+json": {
        "4ce0f5c870a049dba7f138813302e656": {
          "model_module": "catboost-widget",
          "model_name": "CatboostWidgetModel",
          "model_module_version": "^1.0.0",
          "state": {
            "_dom_classes": [],
            "_model_module": "catboost-widget",
            "_model_module_version": "^1.0.0",
            "_model_name": "CatboostWidgetModel",
            "_view_count": null,
            "_view_module": "catboost-widget",
            "_view_module_version": "^1.0.0",
            "_view_name": "CatboostWidgetView",
            "data": {
              "catboost_info": {
                "path": "catboost_info",
                "name": "catboost_info",
                "content": {
                  "passed_iterations": 999,
                  "total_iterations": 1000,
                  "data": {
                    "iterations": [
                      {
                        "learn": [
                          0.4167311873
                        ],
                        "iteration": 0,
                        "passed_time": 0.08299604662,
                        "remaining_time": 82.91305057
                      },
                      {
                        "learn": [
                          0.4144405794
                        ],
                        "iteration": 1,
                        "passed_time": 0.151259445,
                        "remaining_time": 75.47846304
                      },
                      {
                        "learn": [
                          0.4121619036
                        ],
                        "iteration": 2,
                        "passed_time": 0.241728633,
                        "remaining_time": 80.33448236
                      },
                      {
                        "learn": [
                          0.4099310185
                        ],
                        "iteration": 3,
                        "passed_time": 0.3441125569,
                        "remaining_time": 85.68402667
                      },
                      {
                        "learn": [
                          0.407723664
                        ],
                        "iteration": 4,
                        "passed_time": 0.4265806698,
                        "remaining_time": 84.88955329
                      },
                      {
                        "learn": [
                          0.4055478196
                        ],
                        "iteration": 5,
                        "passed_time": 0.520325807,
                        "remaining_time": 86.20064203
                      },
                      {
                        "learn": [
                          0.4034106558
                        ],
                        "iteration": 6,
                        "passed_time": 0.6013989636,
                        "remaining_time": 85.3127387
                      },
                      {
                        "learn": [
                          0.4012940427
                        ],
                        "iteration": 7,
                        "passed_time": 0.6907350815,
                        "remaining_time": 85.6511501
                      },
                      {
                        "learn": [
                          0.3992050493
                        ],
                        "iteration": 8,
                        "passed_time": 0.7858844268,
                        "remaining_time": 86.53460744
                      },
                      {
                        "learn": [
                          0.3971586218
                        ],
                        "iteration": 9,
                        "passed_time": 0.8919045836,
                        "remaining_time": 88.29855378
                      },
                      {
                        "learn": [
                          0.3951330127
                        ],
                        "iteration": 10,
                        "passed_time": 0.9867822592,
                        "remaining_time": 88.72069585
                      },
                      {
                        "learn": [
                          0.3931438642
                        ],
                        "iteration": 11,
                        "passed_time": 1.076030894,
                        "remaining_time": 88.59321024
                      },
                      {
                        "learn": [
                          0.3911836329
                        ],
                        "iteration": 12,
                        "passed_time": 1.181527037,
                        "remaining_time": 89.70516811
                      },
                      {
                        "learn": [
                          0.3892492
                        ],
                        "iteration": 13,
                        "passed_time": 1.274716313,
                        "remaining_time": 89.77644889
                      },
                      {
                        "learn": [
                          0.3873434918
                        ],
                        "iteration": 14,
                        "passed_time": 1.369932873,
                        "remaining_time": 89.95892534
                      },
                      {
                        "learn": [
                          0.3854693185
                        ],
                        "iteration": 15,
                        "passed_time": 1.455475615,
                        "remaining_time": 89.51175033
                      },
                      {
                        "learn": [
                          0.3836327239
                        ],
                        "iteration": 16,
                        "passed_time": 1.5235771,
                        "remaining_time": 88.09860523
                      },
                      {
                        "learn": [
                          0.3818224845
                        ],
                        "iteration": 17,
                        "passed_time": 1.626786958,
                        "remaining_time": 88.75026625
                      },
                      {
                        "learn": [
                          0.3800340272
                        ],
                        "iteration": 18,
                        "passed_time": 1.724301292,
                        "remaining_time": 89.02839829
                      },
                      {
                        "learn": [
                          0.3782685281
                        ],
                        "iteration": 19,
                        "passed_time": 1.820589229,
                        "remaining_time": 89.20887224
                      },
                      {
                        "learn": [
                          0.3765313338
                        ],
                        "iteration": 20,
                        "passed_time": 1.909195986,
                        "remaining_time": 89.00489859
                      },
                      {
                        "learn": [
                          0.3748214256
                        ],
                        "iteration": 21,
                        "passed_time": 1.979758673,
                        "remaining_time": 88.0092719
                      },
                      {
                        "learn": [
                          0.3731385281
                        ],
                        "iteration": 22,
                        "passed_time": 2.075742583,
                        "remaining_time": 88.17393493
                      },
                      {
                        "learn": [
                          0.3714842728
                        ],
                        "iteration": 23,
                        "passed_time": 2.171822519,
                        "remaining_time": 88.32078244
                      },
                      {
                        "learn": [
                          0.3698631951
                        ],
                        "iteration": 24,
                        "passed_time": 2.276254929,
                        "remaining_time": 88.77394223
                      },
                      {
                        "learn": [
                          0.3682591665
                        ],
                        "iteration": 25,
                        "passed_time": 2.373643748,
                        "remaining_time": 88.92034655
                      },
                      {
                        "learn": [
                          0.3666698966
                        ],
                        "iteration": 26,
                        "passed_time": 2.467897777,
                        "remaining_time": 88.93572361
                      },
                      {
                        "learn": [
                          0.3651229444
                        ],
                        "iteration": 27,
                        "passed_time": 2.575062311,
                        "remaining_time": 89.3914488
                      },
                      {
                        "learn": [
                          0.3635968008
                        ],
                        "iteration": 28,
                        "passed_time": 2.675597797,
                        "remaining_time": 89.58639521
                      },
                      {
                        "learn": [
                          0.3620853607
                        ],
                        "iteration": 29,
                        "passed_time": 2.771131561,
                        "remaining_time": 89.59992048
                      },
                      {
                        "learn": [
                          0.3606016808
                        ],
                        "iteration": 30,
                        "passed_time": 2.870968436,
                        "remaining_time": 89.74091661
                      },
                      {
                        "learn": [
                          0.3591435683
                        ],
                        "iteration": 31,
                        "passed_time": 2.969295514,
                        "remaining_time": 89.82118929
                      },
                      {
                        "learn": [
                          0.3576999589
                        ],
                        "iteration": 32,
                        "passed_time": 3.059665125,
                        "remaining_time": 89.65745988
                      },
                      {
                        "learn": [
                          0.3562841828
                        ],
                        "iteration": 33,
                        "passed_time": 3.133003113,
                        "remaining_time": 89.01414727
                      },
                      {
                        "learn": [
                          0.3548921662
                        ],
                        "iteration": 34,
                        "passed_time": 3.219672004,
                        "remaining_time": 88.77095668
                      },
                      {
                        "learn": [
                          0.3535196799
                        ],
                        "iteration": 35,
                        "passed_time": 3.312326688,
                        "remaining_time": 88.69674798
                      },
                      {
                        "learn": [
                          0.3521624739
                        ],
                        "iteration": 36,
                        "passed_time": 3.390973476,
                        "remaining_time": 88.2569583
                      },
                      {
                        "learn": [
                          0.3508377498
                        ],
                        "iteration": 37,
                        "passed_time": 3.471401145,
                        "remaining_time": 87.88126056
                      },
                      {
                        "learn": [
                          0.3495169427
                        ],
                        "iteration": 38,
                        "passed_time": 3.562476864,
                        "remaining_time": 87.78308376
                      },
                      {
                        "learn": [
                          0.3482247518
                        ],
                        "iteration": 39,
                        "passed_time": 3.656309916,
                        "remaining_time": 87.75143799
                      },
                      {
                        "learn": [
                          0.3469504356
                        ],
                        "iteration": 40,
                        "passed_time": 3.749026361,
                        "remaining_time": 87.69064098
                      },
                      {
                        "learn": [
                          0.34570182
                        ],
                        "iteration": 41,
                        "passed_time": 3.841223441,
                        "remaining_time": 87.61647754
                      },
                      {
                        "learn": [
                          0.3444654594
                        ],
                        "iteration": 42,
                        "passed_time": 3.932052349,
                        "remaining_time": 87.51102553
                      },
                      {
                        "learn": [
                          0.3432601678
                        ],
                        "iteration": 43,
                        "passed_time": 4.022330416,
                        "remaining_time": 87.39426996
                      },
                      {
                        "learn": [
                          0.3420733281
                        ],
                        "iteration": 44,
                        "passed_time": 4.118898157,
                        "remaining_time": 87.412172
                      },
                      {
                        "learn": [
                          0.3409104404
                        ],
                        "iteration": 45,
                        "passed_time": 4.215176781,
                        "remaining_time": 87.41910107
                      },
                      {
                        "learn": [
                          0.3397644419
                        ],
                        "iteration": 46,
                        "passed_time": 4.311286515,
                        "remaining_time": 87.4182138
                      },
                      {
                        "learn": [
                          0.3386310824
                        ],
                        "iteration": 47,
                        "passed_time": 4.400010603,
                        "remaining_time": 87.26687696
                      },
                      {
                        "learn": [
                          0.3375133428
                        ],
                        "iteration": 48,
                        "passed_time": 4.493760521,
                        "remaining_time": 87.21563786
                      },
                      {
                        "learn": [
                          0.3364169787
                        ],
                        "iteration": 49,
                        "passed_time": 4.595374225,
                        "remaining_time": 87.31211027
                      },
                      {
                        "learn": [
                          0.3353341078
                        ],
                        "iteration": 50,
                        "passed_time": 4.684443065,
                        "remaining_time": 87.16738173
                      },
                      {
                        "learn": [
                          0.3342750909
                        ],
                        "iteration": 51,
                        "passed_time": 4.78368791,
                        "remaining_time": 87.21031036
                      },
                      {
                        "learn": [
                          0.3332255239
                        ],
                        "iteration": 52,
                        "passed_time": 4.872832868,
                        "remaining_time": 87.06740992
                      },
                      {
                        "learn": [
                          0.3321967037
                        ],
                        "iteration": 53,
                        "passed_time": 4.963660317,
                        "remaining_time": 86.95597518
                      },
                      {
                        "learn": [
                          0.331192213
                        ],
                        "iteration": 54,
                        "passed_time": 5.058091975,
                        "remaining_time": 86.90721666
                      },
                      {
                        "learn": [
                          0.330205827
                        ],
                        "iteration": 55,
                        "passed_time": 5.09927975,
                        "remaining_time": 85.95928722
                      },
                      {
                        "learn": [
                          0.3292331421
                        ],
                        "iteration": 56,
                        "passed_time": 5.140789205,
                        "remaining_time": 85.04849509
                      },
                      {
                        "learn": [
                          0.3282880633
                        ],
                        "iteration": 57,
                        "passed_time": 5.18212751,
                        "remaining_time": 84.16489853
                      },
                      {
                        "learn": [
                          0.327349315
                        ],
                        "iteration": 58,
                        "passed_time": 5.228369085,
                        "remaining_time": 83.38805608
                      },
                      {
                        "learn": [
                          0.3264250855
                        ],
                        "iteration": 59,
                        "passed_time": 5.280072481,
                        "remaining_time": 82.72113554
                      },
                      {
                        "learn": [
                          0.3255088402
                        ],
                        "iteration": 60,
                        "passed_time": 5.325099769,
                        "remaining_time": 81.97161776
                      },
                      {
                        "learn": [
                          0.3246112606
                        ],
                        "iteration": 61,
                        "passed_time": 5.367123127,
                        "remaining_time": 81.19937891
                      },
                      {
                        "learn": [
                          0.3237368755
                        ],
                        "iteration": 62,
                        "passed_time": 5.409030765,
                        "remaining_time": 80.44860043
                      },
                      {
                        "learn": [
                          0.3228712483
                        ],
                        "iteration": 63,
                        "passed_time": 5.452737215,
                        "remaining_time": 79.74628177
                      },
                      {
                        "learn": [
                          0.3220266035
                        ],
                        "iteration": 64,
                        "passed_time": 5.496942237,
                        "remaining_time": 79.07139988
                      },
                      {
                        "learn": [
                          0.3211902817
                        ],
                        "iteration": 65,
                        "passed_time": 5.542037124,
                        "remaining_time": 78.42822233
                      },
                      {
                        "learn": [
                          0.320370567
                        ],
                        "iteration": 66,
                        "passed_time": 5.583091551,
                        "remaining_time": 77.7466331
                      },
                      {
                        "learn": [
                          0.3195656381
                        ],
                        "iteration": 67,
                        "passed_time": 5.628851783,
                        "remaining_time": 77.14838032
                      },
                      {
                        "learn": [
                          0.3187668891
                        ],
                        "iteration": 68,
                        "passed_time": 5.670217045,
                        "remaining_time": 76.50684158
                      },
                      {
                        "learn": [
                          0.3179777262
                        ],
                        "iteration": 69,
                        "passed_time": 5.715117424,
                        "remaining_time": 75.92941721
                      },
                      {
                        "learn": [
                          0.3172173926
                        ],
                        "iteration": 70,
                        "passed_time": 5.756192896,
                        "remaining_time": 75.31694648
                      },
                      {
                        "learn": [
                          0.3164560494
                        ],
                        "iteration": 71,
                        "passed_time": 5.804480439,
                        "remaining_time": 74.81330344
                      },
                      {
                        "learn": [
                          0.3157039316
                        ],
                        "iteration": 72,
                        "passed_time": 5.87505407,
                        "remaining_time": 74.60513866
                      },
                      {
                        "learn": [
                          0.3149785818
                        ],
                        "iteration": 73,
                        "passed_time": 5.919414816,
                        "remaining_time": 74.0726773
                      },
                      {
                        "learn": [
                          0.3142577542
                        ],
                        "iteration": 74,
                        "passed_time": 5.961092596,
                        "remaining_time": 73.52014202
                      },
                      {
                        "learn": [
                          0.3135539744
                        ],
                        "iteration": 75,
                        "passed_time": 6.003392545,
                        "remaining_time": 72.98861463
                      },
                      {
                        "learn": [
                          0.3128552827
                        ],
                        "iteration": 76,
                        "passed_time": 6.044988122,
                        "remaining_time": 72.46135112
                      },
                      {
                        "learn": [
                          0.3121731901
                        ],
                        "iteration": 77,
                        "passed_time": 6.087082763,
                        "remaining_time": 71.95243984
                      },
                      {
                        "learn": [
                          0.3115117267
                        ],
                        "iteration": 78,
                        "passed_time": 6.137920783,
                        "remaining_time": 71.557279
                      },
                      {
                        "learn": [
                          0.3108558937
                        ],
                        "iteration": 79,
                        "passed_time": 6.182788555,
                        "remaining_time": 71.10206839
                      },
                      {
                        "learn": [
                          0.3102168717
                        ],
                        "iteration": 80,
                        "passed_time": 6.22466354,
                        "remaining_time": 70.62303448
                      },
                      {
                        "learn": [
                          0.3095861518
                        ],
                        "iteration": 81,
                        "passed_time": 6.269570147,
                        "remaining_time": 70.18860238
                      },
                      {
                        "learn": [
                          0.3089644667
                        ],
                        "iteration": 82,
                        "passed_time": 6.314939004,
                        "remaining_time": 69.76866346
                      },
                      {
                        "learn": [
                          0.3083439591
                        ],
                        "iteration": 83,
                        "passed_time": 6.358508292,
                        "remaining_time": 69.33801899
                      },
                      {
                        "learn": [
                          0.3077396803
                        ],
                        "iteration": 84,
                        "passed_time": 6.403500426,
                        "remaining_time": 68.93179871
                      },
                      {
                        "learn": [
                          0.3071488533
                        ],
                        "iteration": 85,
                        "passed_time": 6.445636343,
                        "remaining_time": 68.50362346
                      },
                      {
                        "learn": [
                          0.3065674193
                        ],
                        "iteration": 86,
                        "passed_time": 6.487323576,
                        "remaining_time": 68.07961408
                      },
                      {
                        "learn": [
                          0.3059932278
                        ],
                        "iteration": 87,
                        "passed_time": 6.528453285,
                        "remaining_time": 67.65851586
                      },
                      {
                        "learn": [
                          0.3054232507
                        ],
                        "iteration": 88,
                        "passed_time": 6.571744671,
                        "remaining_time": 67.26808309
                      },
                      {
                        "learn": [
                          0.3048680171
                        ],
                        "iteration": 89,
                        "passed_time": 6.613683518,
                        "remaining_time": 66.8716889
                      },
                      {
                        "learn": [
                          0.304330445
                        ],
                        "iteration": 90,
                        "passed_time": 6.660827422,
                        "remaining_time": 66.53507832
                      },
                      {
                        "learn": [
                          0.3037962865
                        ],
                        "iteration": 91,
                        "passed_time": 6.702322938,
                        "remaining_time": 66.14901335
                      },
                      {
                        "learn": [
                          0.3032806264
                        ],
                        "iteration": 92,
                        "passed_time": 6.744133478,
                        "remaining_time": 65.7734308
                      },
                      {
                        "learn": [
                          0.3027676377
                        ],
                        "iteration": 93,
                        "passed_time": 6.790255888,
                        "remaining_time": 65.44650888
                      },
                      {
                        "learn": [
                          0.3022592285
                        ],
                        "iteration": 94,
                        "passed_time": 6.853149977,
                        "remaining_time": 65.28527084
                      },
                      {
                        "learn": [
                          0.3017601099
                        ],
                        "iteration": 95,
                        "passed_time": 6.898021447,
                        "remaining_time": 64.95636862
                      },
                      {
                        "learn": [
                          0.3012715414
                        ],
                        "iteration": 96,
                        "passed_time": 6.940179884,
                        "remaining_time": 64.60806634
                      },
                      {
                        "learn": [
                          0.3007921809
                        ],
                        "iteration": 97,
                        "passed_time": 6.985215309,
                        "remaining_time": 64.29249192
                      },
                      {
                        "learn": [
                          0.3003245889
                        ],
                        "iteration": 98,
                        "passed_time": 7.03061076,
                        "remaining_time": 63.98565955
                      },
                      {
                        "learn": [
                          0.2998634059
                        ],
                        "iteration": 99,
                        "passed_time": 7.072844804,
                        "remaining_time": 63.65560324
                      },
                      {
                        "learn": [
                          0.2994115149
                        ],
                        "iteration": 100,
                        "passed_time": 7.115191341,
                        "remaining_time": 63.33224768
                      },
                      {
                        "learn": [
                          0.2989722097
                        ],
                        "iteration": 101,
                        "passed_time": 7.156547549,
                        "remaining_time": 63.00568332
                      },
                      {
                        "learn": [
                          0.2985319089
                        ],
                        "iteration": 102,
                        "passed_time": 7.198094331,
                        "remaining_time": 62.68631665
                      },
                      {
                        "learn": [
                          0.29810552
                        ],
                        "iteration": 103,
                        "passed_time": 7.251229794,
                        "remaining_time": 62.47213361
                      },
                      {
                        "learn": [
                          0.2976754901
                        ],
                        "iteration": 104,
                        "passed_time": 7.305296287,
                        "remaining_time": 62.26895407
                      },
                      {
                        "learn": [
                          0.2972653997
                        ],
                        "iteration": 105,
                        "passed_time": 7.348304354,
                        "remaining_time": 61.97532163
                      },
                      {
                        "learn": [
                          0.2968514332
                        ],
                        "iteration": 106,
                        "passed_time": 7.390640624,
                        "remaining_time": 61.68076708
                      },
                      {
                        "learn": [
                          0.2964488864
                        ],
                        "iteration": 107,
                        "passed_time": 7.433534181,
                        "remaining_time": 61.39548602
                      },
                      {
                        "learn": [
                          0.2960478167
                        ],
                        "iteration": 108,
                        "passed_time": 7.477721354,
                        "remaining_time": 61.12522685
                      },
                      {
                        "learn": [
                          0.2956625081
                        ],
                        "iteration": 109,
                        "passed_time": 7.521985065,
                        "remaining_time": 60.85969734
                      },
                      {
                        "learn": [
                          0.295276187
                        ],
                        "iteration": 110,
                        "passed_time": 7.5618024,
                        "remaining_time": 60.56254354
                      },
                      {
                        "learn": [
                          0.2949035619
                        ],
                        "iteration": 111,
                        "passed_time": 7.603825997,
                        "remaining_time": 60.28747755
                      },
                      {
                        "learn": [
                          0.2945429591
                        ],
                        "iteration": 112,
                        "passed_time": 7.64603628,
                        "remaining_time": 60.01800159
                      },
                      {
                        "learn": [
                          0.29418721
                        ],
                        "iteration": 113,
                        "passed_time": 7.692881108,
                        "remaining_time": 59.78853212
                      },
                      {
                        "learn": [
                          0.2938355591
                        ],
                        "iteration": 114,
                        "passed_time": 7.733487043,
                        "remaining_time": 59.51422637
                      },
                      {
                        "learn": [
                          0.2934931141
                        ],
                        "iteration": 115,
                        "passed_time": 7.774097225,
                        "remaining_time": 59.2439823
                      },
                      {
                        "learn": [
                          0.2931465518
                        ],
                        "iteration": 116,
                        "passed_time": 7.814688109,
                        "remaining_time": 58.97751795
                      },
                      {
                        "learn": [
                          0.2928079198
                        ],
                        "iteration": 117,
                        "passed_time": 7.88516158,
                        "remaining_time": 58.93824164
                      },
                      {
                        "learn": [
                          0.2924881516
                        ],
                        "iteration": 118,
                        "passed_time": 7.930542894,
                        "remaining_time": 58.7126747
                      },
                      {
                        "learn": [
                          0.2921640905
                        ],
                        "iteration": 119,
                        "passed_time": 7.971911947,
                        "remaining_time": 58.46068761
                      },
                      {
                        "learn": [
                          0.2918506956
                        ],
                        "iteration": 120,
                        "passed_time": 8.012582724,
                        "remaining_time": 58.20710921
                      },
                      {
                        "learn": [
                          0.2915254754
                        ],
                        "iteration": 121,
                        "passed_time": 8.052180475,
                        "remaining_time": 57.94929883
                      },
                      {
                        "learn": [
                          0.2912234899
                        ],
                        "iteration": 122,
                        "passed_time": 8.098244743,
                        "remaining_time": 57.74114341
                      },
                      {
                        "learn": [
                          0.2909266389
                        ],
                        "iteration": 123,
                        "passed_time": 8.142983275,
                        "remaining_time": 57.52623668
                      },
                      {
                        "learn": [
                          0.2906300844
                        ],
                        "iteration": 124,
                        "passed_time": 8.183863048,
                        "remaining_time": 57.28704134
                      },
                      {
                        "learn": [
                          0.2903370761
                        ],
                        "iteration": 125,
                        "passed_time": 8.226448624,
                        "remaining_time": 57.06282617
                      },
                      {
                        "learn": [
                          0.290052473
                        ],
                        "iteration": 126,
                        "passed_time": 8.275302137,
                        "remaining_time": 56.88455721
                      },
                      {
                        "learn": [
                          0.2897678471
                        ],
                        "iteration": 127,
                        "passed_time": 8.315312065,
                        "remaining_time": 56.64806344
                      },
                      {
                        "learn": [
                          0.2895002092
                        ],
                        "iteration": 128,
                        "passed_time": 8.362718682,
                        "remaining_time": 56.46455792
                      },
                      {
                        "learn": [
                          0.2892306432
                        ],
                        "iteration": 129,
                        "passed_time": 8.404037112,
                        "remaining_time": 56.24240221
                      },
                      {
                        "learn": [
                          0.288966476
                        ],
                        "iteration": 130,
                        "passed_time": 8.447166176,
                        "remaining_time": 56.03501838
                      },
                      {
                        "learn": [
                          0.2887088218
                        ],
                        "iteration": 131,
                        "passed_time": 8.488315563,
                        "remaining_time": 55.81710537
                      },
                      {
                        "learn": [
                          0.2884529661
                        ],
                        "iteration": 132,
                        "passed_time": 8.528541445,
                        "remaining_time": 55.59583032
                      },
                      {
                        "learn": [
                          0.2881946366
                        ],
                        "iteration": 133,
                        "passed_time": 8.572239,
                        "remaining_time": 55.39969384
                      },
                      {
                        "learn": [
                          0.2879473851
                        ],
                        "iteration": 134,
                        "passed_time": 8.614941592,
                        "remaining_time": 55.19944057
                      },
                      {
                        "learn": [
                          0.2877109302
                        ],
                        "iteration": 135,
                        "passed_time": 8.656081369,
                        "remaining_time": 54.99157576
                      },
                      {
                        "learn": [
                          0.2874802918
                        ],
                        "iteration": 136,
                        "passed_time": 8.7048602,
                        "remaining_time": 54.83426534
                      },
                      {
                        "learn": [
                          0.2872419574
                        ],
                        "iteration": 137,
                        "passed_time": 8.745138067,
                        "remaining_time": 54.62542763
                      },
                      {
                        "learn": [
                          0.2870163818
                        ],
                        "iteration": 138,
                        "passed_time": 8.789484088,
                        "remaining_time": 54.44421438
                      },
                      {
                        "learn": [
                          0.2867973109
                        ],
                        "iteration": 139,
                        "passed_time": 8.832119588,
                        "remaining_time": 54.2544489
                      },
                      {
                        "learn": [
                          0.2865770157
                        ],
                        "iteration": 140,
                        "passed_time": 8.90062501,
                        "remaining_time": 54.22437506
                      },
                      {
                        "learn": [
                          0.2863703447
                        ],
                        "iteration": 141,
                        "passed_time": 8.945345098,
                        "remaining_time": 54.05004292
                      },
                      {
                        "learn": [
                          0.2861559952
                        ],
                        "iteration": 142,
                        "passed_time": 8.986108931,
                        "remaining_time": 53.85381366
                      },
                      {
                        "learn": [
                          0.285946749
                        ],
                        "iteration": 143,
                        "passed_time": 9.029786079,
                        "remaining_time": 53.67706169
                      },
                      {
                        "learn": [
                          0.2857373421
                        ],
                        "iteration": 144,
                        "passed_time": 9.071137912,
                        "remaining_time": 53.48843389
                      },
                      {
                        "learn": [
                          0.2855277234
                        ],
                        "iteration": 145,
                        "passed_time": 9.110283609,
                        "remaining_time": 53.28891919
                      },
                      {
                        "learn": [
                          0.285334498
                        ],
                        "iteration": 146,
                        "passed_time": 9.151626129,
                        "remaining_time": 53.10433393
                      },
                      {
                        "learn": [
                          0.2851408432
                        ],
                        "iteration": 147,
                        "passed_time": 9.19348347,
                        "remaining_time": 52.92464808
                      },
                      {
                        "learn": [
                          0.2849531258
                        ],
                        "iteration": 148,
                        "passed_time": 9.244264234,
                        "remaining_time": 52.7977776
                      },
                      {
                        "learn": [
                          0.2847661333
                        ],
                        "iteration": 149,
                        "passed_time": 9.290282855,
                        "remaining_time": 52.64493618
                      },
                      {
                        "learn": [
                          0.2845805826
                        ],
                        "iteration": 150,
                        "passed_time": 9.331313094,
                        "remaining_time": 52.46546236
                      },
                      {
                        "learn": [
                          0.2844046497
                        ],
                        "iteration": 151,
                        "passed_time": 9.371494891,
                        "remaining_time": 52.28307676
                      },
                      {
                        "learn": [
                          0.2842171331
                        ],
                        "iteration": 152,
                        "passed_time": 9.413933793,
                        "remaining_time": 52.11504525
                      },
                      {
                        "learn": [
                          0.284037293
                        ],
                        "iteration": 153,
                        "passed_time": 9.457995002,
                        "remaining_time": 51.95755696
                      },
                      {
                        "learn": [
                          0.2838648547
                        ],
                        "iteration": 154,
                        "passed_time": 9.497995122,
                        "remaining_time": 51.77939276
                      },
                      {
                        "learn": [
                          0.2836925633
                        ],
                        "iteration": 155,
                        "passed_time": 9.541102092,
                        "remaining_time": 51.61980875
                      },
                      {
                        "learn": [
                          0.2835231907
                        ],
                        "iteration": 156,
                        "passed_time": 9.580647046,
                        "remaining_time": 51.44258255
                      },
                      {
                        "learn": [
                          0.2833581838
                        ],
                        "iteration": 157,
                        "passed_time": 9.622410385,
                        "remaining_time": 51.27892117
                      },
                      {
                        "learn": [
                          0.283199834
                        ],
                        "iteration": 158,
                        "passed_time": 9.666565508,
                        "remaining_time": 51.12944398
                      },
                      {
                        "learn": [
                          0.2830388473
                        ],
                        "iteration": 159,
                        "passed_time": 9.706060781,
                        "remaining_time": 50.9568191
                      },
                      {
                        "learn": [
                          0.2828778586
                        ],
                        "iteration": 160,
                        "passed_time": 9.746376658,
                        "remaining_time": 50.79012432
                      },
                      {
                        "learn": [
                          0.2827207887
                        ],
                        "iteration": 161,
                        "passed_time": 9.786532735,
                        "remaining_time": 50.62416316
                      },
                      {
                        "learn": [
                          0.2825674273
                        ],
                        "iteration": 162,
                        "passed_time": 9.829962611,
                        "remaining_time": 50.47655648
                      },
                      {
                        "learn": [
                          0.2824211933
                        ],
                        "iteration": 163,
                        "passed_time": 9.892955308,
                        "remaining_time": 50.42994291
                      },
                      {
                        "learn": [
                          0.2822790498
                        ],
                        "iteration": 164,
                        "passed_time": 9.940716202,
                        "remaining_time": 50.30604866
                      },
                      {
                        "learn": [
                          0.2821343305
                        ],
                        "iteration": 165,
                        "passed_time": 9.981068474,
                        "remaining_time": 50.14585005
                      },
                      {
                        "learn": [
                          0.2819889066
                        ],
                        "iteration": 166,
                        "passed_time": 10.02130209,
                        "remaining_time": 49.98649488
                      },
                      {
                        "learn": [
                          0.2818527548
                        ],
                        "iteration": 167,
                        "passed_time": 10.06008744,
                        "remaining_time": 49.82138544
                      },
                      {
                        "learn": [
                          0.2817207731
                        ],
                        "iteration": 168,
                        "passed_time": 10.10476878,
                        "remaining_time": 49.68676248
                      },
                      {
                        "learn": [
                          0.2815859211
                        ],
                        "iteration": 169,
                        "passed_time": 10.14459576,
                        "remaining_time": 49.52949694
                      },
                      {
                        "learn": [
                          0.2814583089
                        ],
                        "iteration": 170,
                        "passed_time": 10.18903316,
                        "remaining_time": 49.39595608
                      },
                      {
                        "learn": [
                          0.2813308734
                        ],
                        "iteration": 171,
                        "passed_time": 10.229918,
                        "remaining_time": 49.24634942
                      },
                      {
                        "learn": [
                          0.2811915966
                        ],
                        "iteration": 172,
                        "passed_time": 10.27635367,
                        "remaining_time": 49.12453461
                      },
                      {
                        "learn": [
                          0.281071078
                        ],
                        "iteration": 173,
                        "passed_time": 10.32098525,
                        "remaining_time": 48.99502195
                      },
                      {
                        "learn": [
                          0.2809435477
                        ],
                        "iteration": 174,
                        "passed_time": 10.36339824,
                        "remaining_time": 48.85602025
                      },
                      {
                        "learn": [
                          0.2808279928
                        ],
                        "iteration": 175,
                        "passed_time": 10.40242606,
                        "remaining_time": 48.70226746
                      },
                      {
                        "learn": [
                          0.2807128096
                        ],
                        "iteration": 176,
                        "passed_time": 10.44668385,
                        "remaining_time": 48.57412885
                      },
                      {
                        "learn": [
                          0.2805995074
                        ],
                        "iteration": 177,
                        "passed_time": 10.48907512,
                        "remaining_time": 48.43831321
                      },
                      {
                        "learn": [
                          0.2804869307
                        ],
                        "iteration": 178,
                        "passed_time": 10.53485883,
                        "remaining_time": 48.31910111
                      },
                      {
                        "learn": [
                          0.2803714133
                        ],
                        "iteration": 179,
                        "passed_time": 10.57746229,
                        "remaining_time": 48.18621709
                      },
                      {
                        "learn": [
                          0.2802660739
                        ],
                        "iteration": 180,
                        "passed_time": 10.61737881,
                        "remaining_time": 48.04217262
                      },
                      {
                        "learn": [
                          0.2801560031
                        ],
                        "iteration": 181,
                        "passed_time": 10.65778108,
                        "remaining_time": 47.90145564
                      },
                      {
                        "learn": [
                          0.2800489391
                        ],
                        "iteration": 182,
                        "passed_time": 10.69858521,
                        "remaining_time": 47.76362906
                      },
                      {
                        "learn": [
                          0.2799459086
                        ],
                        "iteration": 183,
                        "passed_time": 10.74489697,
                        "remaining_time": 47.65128221
                      },
                      {
                        "learn": [
                          0.2798381666
                        ],
                        "iteration": 184,
                        "passed_time": 10.78470802,
                        "remaining_time": 47.51101103
                      },
                      {
                        "learn": [
                          0.2797402868
                        ],
                        "iteration": 185,
                        "passed_time": 10.82849822,
                        "remaining_time": 47.38923416
                      },
                      {
                        "learn": [
                          0.2796435821
                        ],
                        "iteration": 186,
                        "passed_time": 10.88108445,
                        "remaining_time": 47.30653292
                      },
                      {
                        "learn": [
                          0.2795485354
                        ],
                        "iteration": 187,
                        "passed_time": 10.93490241,
                        "remaining_time": 47.22947211
                      },
                      {
                        "learn": [
                          0.2794374723
                        ],
                        "iteration": 188,
                        "passed_time": 10.97857845,
                        "remaining_time": 47.1091382
                      },
                      {
                        "learn": [
                          0.279339932
                        ],
                        "iteration": 189,
                        "passed_time": 11.02315727,
                        "remaining_time": 46.99345993
                      },
                      {
                        "learn": [
                          0.279238562
                        ],
                        "iteration": 190,
                        "passed_time": 11.06343147,
                        "remaining_time": 46.86029349
                      },
                      {
                        "learn": [
                          0.2791506999
                        ],
                        "iteration": 191,
                        "passed_time": 11.10380298,
                        "remaining_time": 46.7285042
                      },
                      {
                        "learn": [
                          0.2790666188
                        ],
                        "iteration": 192,
                        "passed_time": 11.14394223,
                        "remaining_time": 46.5966911
                      },
                      {
                        "learn": [
                          0.2789833714
                        ],
                        "iteration": 193,
                        "passed_time": 11.18865517,
                        "remaining_time": 46.48482509
                      },
                      {
                        "learn": [
                          0.2788978993
                        ],
                        "iteration": 194,
                        "passed_time": 11.23405572,
                        "remaining_time": 46.37648645
                      },
                      {
                        "learn": [
                          0.2788077625
                        ],
                        "iteration": 195,
                        "passed_time": 11.27998524,
                        "remaining_time": 46.27095986
                      },
                      {
                        "learn": [
                          0.2787249051
                        ],
                        "iteration": 196,
                        "passed_time": 11.32433262,
                        "remaining_time": 46.15958931
                      },
                      {
                        "learn": [
                          0.2786376804
                        ],
                        "iteration": 197,
                        "passed_time": 11.36552887,
                        "remaining_time": 46.0361321
                      },
                      {
                        "learn": [
                          0.2785500267
                        ],
                        "iteration": 198,
                        "passed_time": 11.41186038,
                        "remaining_time": 45.93417169
                      },
                      {
                        "learn": [
                          0.2784610509
                        ],
                        "iteration": 199,
                        "passed_time": 11.45465455,
                        "remaining_time": 45.81861819
                      },
                      {
                        "learn": [
                          0.278388045
                        ],
                        "iteration": 200,
                        "passed_time": 11.49500458,
                        "remaining_time": 45.69407292
                      },
                      {
                        "learn": [
                          0.2782998251
                        ],
                        "iteration": 201,
                        "passed_time": 11.53605677,
                        "remaining_time": 45.57313515
                      },
                      {
                        "learn": [
                          0.2782244877
                        ],
                        "iteration": 202,
                        "passed_time": 11.58082017,
                        "remaining_time": 45.46755506
                      },
                      {
                        "learn": [
                          0.278151114
                        ],
                        "iteration": 203,
                        "passed_time": 11.62604696,
                        "remaining_time": 45.36437931
                      },
                      {
                        "learn": [
                          0.2780707348
                        ],
                        "iteration": 204,
                        "passed_time": 11.6676311,
                        "remaining_time": 45.24764257
                      },
                      {
                        "learn": [
                          0.2779935813
                        ],
                        "iteration": 205,
                        "passed_time": 11.70809271,
                        "remaining_time": 45.1273088
                      },
                      {
                        "learn": [
                          0.2779259641
                        ],
                        "iteration": 206,
                        "passed_time": 11.74664148,
                        "remaining_time": 45.0004188
                      },
                      {
                        "learn": [
                          0.2778501351
                        ],
                        "iteration": 207,
                        "passed_time": 11.78795957,
                        "remaining_time": 44.88492297
                      },
                      {
                        "learn": [
                          0.2777809146
                        ],
                        "iteration": 208,
                        "passed_time": 11.83553351,
                        "remaining_time": 44.79381342
                      },
                      {
                        "learn": [
                          0.2777127036
                        ],
                        "iteration": 209,
                        "passed_time": 11.88944553,
                        "remaining_time": 44.72696175
                      },
                      {
                        "learn": [
                          0.277641075
                        ],
                        "iteration": 210,
                        "passed_time": 11.94116168,
                        "remaining_time": 44.65202162
                      },
                      {
                        "learn": [
                          0.2775775175
                        ],
                        "iteration": 211,
                        "passed_time": 11.98673159,
                        "remaining_time": 44.55445516
                      },
                      {
                        "learn": [
                          0.2775118955
                        ],
                        "iteration": 212,
                        "passed_time": 12.02853213,
                        "remaining_time": 44.44344968
                      },
                      {
                        "learn": [
                          0.2774509666
                        ],
                        "iteration": 213,
                        "passed_time": 12.07220674,
                        "remaining_time": 44.33997428
                      },
                      {
                        "learn": [
                          0.2773841436
                        ],
                        "iteration": 214,
                        "passed_time": 12.1149031,
                        "remaining_time": 44.23348342
                      },
                      {
                        "learn": [
                          0.2773205605
                        ],
                        "iteration": 215,
                        "passed_time": 12.16260564,
                        "remaining_time": 44.14575381
                      },
                      {
                        "learn": [
                          0.2772589975
                        ],
                        "iteration": 216,
                        "passed_time": 12.20264023,
                        "remaining_time": 44.0307249
                      },
                      {
                        "learn": [
                          0.2771976107
                        ],
                        "iteration": 217,
                        "passed_time": 12.24971792,
                        "remaining_time": 43.94164868
                      },
                      {
                        "learn": [
                          0.2771338
                        ],
                        "iteration": 218,
                        "passed_time": 12.29369157,
                        "remaining_time": 43.84188637
                      },
                      {
                        "learn": [
                          0.2770699222
                        ],
                        "iteration": 219,
                        "passed_time": 12.33427839,
                        "remaining_time": 43.7306234
                      },
                      {
                        "learn": [
                          0.2770081217
                        ],
                        "iteration": 220,
                        "passed_time": 12.37556365,
                        "remaining_time": 43.62246192
                      },
                      {
                        "learn": [
                          0.2769478509
                        ],
                        "iteration": 221,
                        "passed_time": 12.41898507,
                        "remaining_time": 43.52238911
                      },
                      {
                        "learn": [
                          0.2768919728
                        ],
                        "iteration": 222,
                        "passed_time": 12.46271751,
                        "remaining_time": 43.4239081
                      },
                      {
                        "learn": [
                          0.2768309351
                        ],
                        "iteration": 223,
                        "passed_time": 12.50688273,
                        "remaining_time": 43.32741516
                      },
                      {
                        "learn": [
                          0.2767844041
                        ],
                        "iteration": 224,
                        "passed_time": 12.54837765,
                        "remaining_time": 43.22218969
                      },
                      {
                        "learn": [
                          0.2767181043
                        ],
                        "iteration": 225,
                        "passed_time": 12.59074566,
                        "remaining_time": 43.12051834
                      },
                      {
                        "learn": [
                          0.2766634689
                        ],
                        "iteration": 226,
                        "passed_time": 12.63092666,
                        "remaining_time": 43.01192205
                      },
                      {
                        "learn": [
                          0.2766121054
                        ],
                        "iteration": 227,
                        "passed_time": 12.67272327,
                        "remaining_time": 42.90939634
                      },
                      {
                        "learn": [
                          0.2765496798
                        ],
                        "iteration": 228,
                        "passed_time": 12.72104886,
                        "remaining_time": 42.82938283
                      },
                      {
                        "learn": [
                          0.2764948097
                        ],
                        "iteration": 229,
                        "passed_time": 12.76193979,
                        "remaining_time": 42.72475495
                      },
                      {
                        "learn": [
                          0.2764403788
                        ],
                        "iteration": 230,
                        "passed_time": 12.80499493,
                        "remaining_time": 42.62788355
                      },
                      {
                        "learn": [
                          0.2763717629
                        ],
                        "iteration": 231,
                        "passed_time": 12.85080021,
                        "remaining_time": 42.54058
                      },
                      {
                        "learn": [
                          0.2763178414
                        ],
                        "iteration": 232,
                        "passed_time": 12.91306445,
                        "remaining_time": 42.50781302
                      },
                      {
                        "learn": [
                          0.2762625811
                        ],
                        "iteration": 233,
                        "passed_time": 12.97400115,
                        "remaining_time": 42.47044821
                      },
                      {
                        "learn": [
                          0.2762142358
                        ],
                        "iteration": 234,
                        "passed_time": 13.01871786,
                        "remaining_time": 42.38008155
                      },
                      {
                        "learn": [
                          0.2761627484
                        ],
                        "iteration": 235,
                        "passed_time": 13.05944361,
                        "remaining_time": 42.27718187
                      },
                      {
                        "learn": [
                          0.2761167317
                        ],
                        "iteration": 236,
                        "passed_time": 13.10080827,
                        "remaining_time": 42.17686377
                      },
                      {
                        "learn": [
                          0.2760677443
                        ],
                        "iteration": 237,
                        "passed_time": 13.14021664,
                        "remaining_time": 42.07077765
                      },
                      {
                        "learn": [
                          0.2760236593
                        ],
                        "iteration": 238,
                        "passed_time": 13.1872146,
                        "remaining_time": 41.98941552
                      },
                      {
                        "learn": [
                          0.2759780787
                        ],
                        "iteration": 239,
                        "passed_time": 13.23535844,
                        "remaining_time": 41.91196838
                      },
                      {
                        "learn": [
                          0.2759347627
                        ],
                        "iteration": 240,
                        "passed_time": 13.27878285,
                        "remaining_time": 41.81990116
                      },
                      {
                        "learn": [
                          0.2758911224
                        ],
                        "iteration": 241,
                        "passed_time": 13.32024604,
                        "remaining_time": 41.72209295
                      },
                      {
                        "learn": [
                          0.2758437122
                        ],
                        "iteration": 242,
                        "passed_time": 13.36151614,
                        "remaining_time": 41.62414699
                      },
                      {
                        "learn": [
                          0.2757964548
                        ],
                        "iteration": 243,
                        "passed_time": 13.40638854,
                        "remaining_time": 41.53782678
                      },
                      {
                        "learn": [
                          0.2757536567
                        ],
                        "iteration": 244,
                        "passed_time": 13.45161747,
                        "remaining_time": 41.45294362
                      },
                      {
                        "learn": [
                          0.275709491
                        ],
                        "iteration": 245,
                        "passed_time": 13.49088181,
                        "remaining_time": 41.35010116
                      },
                      {
                        "learn": [
                          0.2756710579
                        ],
                        "iteration": 246,
                        "passed_time": 13.53021855,
                        "remaining_time": 41.24799421
                      },
                      {
                        "learn": [
                          0.2756249808
                        ],
                        "iteration": 247,
                        "passed_time": 13.57229826,
                        "remaining_time": 41.15471087
                      },
                      {
                        "learn": [
                          0.2755858249
                        ],
                        "iteration": 248,
                        "passed_time": 13.61590409,
                        "remaining_time": 41.06644165
                      },
                      {
                        "learn": [
                          0.2755380563
                        ],
                        "iteration": 249,
                        "passed_time": 13.65700388,
                        "remaining_time": 40.97101165
                      },
                      {
                        "learn": [
                          0.2754955811
                        ],
                        "iteration": 250,
                        "passed_time": 13.69691133,
                        "remaining_time": 40.87245651
                      },
                      {
                        "learn": [
                          0.2754582435
                        ],
                        "iteration": 251,
                        "passed_time": 13.73845578,
                        "remaining_time": 40.77922589
                      },
                      {
                        "learn": [
                          0.2754174717
                        ],
                        "iteration": 252,
                        "passed_time": 13.77928775,
                        "remaining_time": 40.68430021
                      },
                      {
                        "learn": [
                          0.2753769831
                        ],
                        "iteration": 253,
                        "passed_time": 13.82589914,
                        "remaining_time": 40.60677464
                      },
                      {
                        "learn": [
                          0.2753350165
                        ],
                        "iteration": 254,
                        "passed_time": 13.86628636,
                        "remaining_time": 40.51130721
                      },
                      {
                        "learn": [
                          0.2753024039
                        ],
                        "iteration": 255,
                        "passed_time": 13.92015217,
                        "remaining_time": 40.45544224
                      },
                      {
                        "learn": [
                          0.2752683379
                        ],
                        "iteration": 256,
                        "passed_time": 13.95950112,
                        "remaining_time": 40.35762385
                      },
                      {
                        "learn": [
                          0.2752314904
                        ],
                        "iteration": 257,
                        "passed_time": 14.02005257,
                        "remaining_time": 40.32123645
                      },
                      {
                        "learn": [
                          0.2751896196
                        ],
                        "iteration": 258,
                        "passed_time": 14.0647125,
                        "remaining_time": 40.23919678
                      },
                      {
                        "learn": [
                          0.2751496509
                        ],
                        "iteration": 259,
                        "passed_time": 14.10627301,
                        "remaining_time": 40.14862318
                      },
                      {
                        "learn": [
                          0.2751197157
                        ],
                        "iteration": 260,
                        "passed_time": 14.14745315,
                        "remaining_time": 40.0573482
                      },
                      {
                        "learn": [
                          0.2750852809
                        ],
                        "iteration": 261,
                        "passed_time": 14.18994917,
                        "remaining_time": 39.97016216
                      },
                      {
                        "learn": [
                          0.2750502833
                        ],
                        "iteration": 262,
                        "passed_time": 14.23783264,
                        "remaining_time": 39.89841314
                      },
                      {
                        "learn": [
                          0.2750134911
                        ],
                        "iteration": 263,
                        "passed_time": 14.2835245,
                        "remaining_time": 39.82073497
                      },
                      {
                        "learn": [
                          0.2749805731
                        ],
                        "iteration": 264,
                        "passed_time": 14.32391637,
                        "remaining_time": 39.72859825
                      },
                      {
                        "learn": [
                          0.2749521128
                        ],
                        "iteration": 265,
                        "passed_time": 14.36538815,
                        "remaining_time": 39.63983046
                      },
                      {
                        "learn": [
                          0.2749177161
                        ],
                        "iteration": 266,
                        "passed_time": 14.40821573,
                        "remaining_time": 39.55513906
                      },
                      {
                        "learn": [
                          0.2748839596
                        ],
                        "iteration": 267,
                        "passed_time": 14.44929075,
                        "remaining_time": 39.46597325
                      },
                      {
                        "learn": [
                          0.2748487824
                        ],
                        "iteration": 268,
                        "passed_time": 14.49304032,
                        "remaining_time": 39.38443298
                      },
                      {
                        "learn": [
                          0.2748164872
                        ],
                        "iteration": 269,
                        "passed_time": 14.53616735,
                        "remaining_time": 39.30148951
                      },
                      {
                        "learn": [
                          0.2747898398
                        ],
                        "iteration": 270,
                        "passed_time": 14.58138632,
                        "remaining_time": 39.22446727
                      },
                      {
                        "learn": [
                          0.2747600475
                        ],
                        "iteration": 271,
                        "passed_time": 14.6226102,
                        "remaining_time": 39.13698613
                      },
                      {
                        "learn": [
                          0.2747276891
                        ],
                        "iteration": 272,
                        "passed_time": 14.66344044,
                        "remaining_time": 39.04879561
                      },
                      {
                        "learn": [
                          0.2746968041
                        ],
                        "iteration": 273,
                        "passed_time": 14.70723213,
                        "remaining_time": 38.96879753
                      },
                      {
                        "learn": [
                          0.2746700782
                        ],
                        "iteration": 274,
                        "passed_time": 14.74780124,
                        "remaining_time": 38.8805669
                      },
                      {
                        "learn": [
                          0.2746426252
                        ],
                        "iteration": 275,
                        "passed_time": 14.78795064,
                        "remaining_time": 38.79158065
                      },
                      {
                        "learn": [
                          0.2746102459
                        ],
                        "iteration": 276,
                        "passed_time": 14.831737,
                        "remaining_time": 38.71243988
                      },
                      {
                        "learn": [
                          0.2745845913
                        ],
                        "iteration": 277,
                        "passed_time": 14.87285476,
                        "remaining_time": 38.6266228
                      },
                      {
                        "learn": [
                          0.2745515406
                        ],
                        "iteration": 278,
                        "passed_time": 14.93304037,
                        "remaining_time": 38.59040182
                      },
                      {
                        "learn": [
                          0.2745222137
                        ],
                        "iteration": 279,
                        "passed_time": 14.97523643,
                        "remaining_time": 38.50775082
                      },
                      {
                        "learn": [
                          0.2744973879
                        ],
                        "iteration": 280,
                        "passed_time": 15.0460939,
                        "remaining_time": 38.49872424
                      },
                      {
                        "learn": [
                          0.2744602312
                        ],
                        "iteration": 281,
                        "passed_time": 15.10437773,
                        "remaining_time": 38.45724543
                      },
                      {
                        "learn": [
                          0.2744254019
                        ],
                        "iteration": 282,
                        "passed_time": 15.17893446,
                        "remaining_time": 38.45687636
                      },
                      {
                        "learn": [
                          0.2744026758
                        ],
                        "iteration": 283,
                        "passed_time": 15.26748955,
                        "remaining_time": 38.49127647
                      },
                      {
                        "learn": [
                          0.2743785487
                        ],
                        "iteration": 284,
                        "passed_time": 15.35425812,
                        "remaining_time": 38.52033177
                      },
                      {
                        "learn": [
                          0.2743478426
                        ],
                        "iteration": 285,
                        "passed_time": 15.44386407,
                        "remaining_time": 38.55566065
                      },
                      {
                        "learn": [
                          0.274318331
                        ],
                        "iteration": 286,
                        "passed_time": 15.5351893,
                        "remaining_time": 38.59439014
                      },
                      {
                        "learn": [
                          0.2742882573
                        ],
                        "iteration": 287,
                        "passed_time": 15.63321676,
                        "remaining_time": 38.64878587
                      },
                      {
                        "learn": [
                          0.2742626382
                        ],
                        "iteration": 288,
                        "passed_time": 15.73710305,
                        "remaining_time": 38.71654071
                      },
                      {
                        "learn": [
                          0.2742409035
                        ],
                        "iteration": 289,
                        "passed_time": 15.83386796,
                        "remaining_time": 38.76567673
                      },
                      {
                        "learn": [
                          0.2742125591
                        ],
                        "iteration": 290,
                        "passed_time": 15.93533202,
                        "remaining_time": 38.82525911
                      },
                      {
                        "learn": [
                          0.2741870675
                        ],
                        "iteration": 291,
                        "passed_time": 16.03443027,
                        "remaining_time": 38.87800217
                      },
                      {
                        "learn": [
                          0.2741521423
                        ],
                        "iteration": 292,
                        "passed_time": 16.12225216,
                        "remaining_time": 38.90249923
                      },
                      {
                        "learn": [
                          0.2741184546
                        ],
                        "iteration": 293,
                        "passed_time": 16.23266571,
                        "remaining_time": 38.98048297
                      },
                      {
                        "learn": [
                          0.2740919829
                        ],
                        "iteration": 294,
                        "passed_time": 16.33187185,
                        "remaining_time": 39.03040562
                      },
                      {
                        "learn": [
                          0.2740721742
                        ],
                        "iteration": 295,
                        "passed_time": 16.42038333,
                        "remaining_time": 39.05388467
                      },
                      {
                        "learn": [
                          0.274049542
                        ],
                        "iteration": 296,
                        "passed_time": 16.4936783,
                        "remaining_time": 39.04059207
                      },
                      {
                        "learn": [
                          0.2740257196
                        ],
                        "iteration": 297,
                        "passed_time": 16.58715584,
                        "remaining_time": 39.07444093
                      },
                      {
                        "learn": [
                          0.273998223
                        ],
                        "iteration": 298,
                        "passed_time": 16.67408359,
                        "remaining_time": 39.09208225
                      },
                      {
                        "learn": [
                          0.2739689756
                        ],
                        "iteration": 299,
                        "passed_time": 16.75754275,
                        "remaining_time": 39.10093309
                      },
                      {
                        "learn": [
                          0.273945943
                        ],
                        "iteration": 300,
                        "passed_time": 16.85010026,
                        "remaining_time": 39.13029928
                      },
                      {
                        "learn": [
                          0.2739172454
                        ],
                        "iteration": 301,
                        "passed_time": 16.92761451,
                        "remaining_time": 39.12408917
                      },
                      {
                        "learn": [
                          0.2738934647
                        ],
                        "iteration": 302,
                        "passed_time": 17.01995661,
                        "remaining_time": 39.15151734
                      },
                      {
                        "learn": [
                          0.2738722321
                        ],
                        "iteration": 303,
                        "passed_time": 17.10914881,
                        "remaining_time": 39.17094597
                      },
                      {
                        "learn": [
                          0.2738514479
                        ],
                        "iteration": 304,
                        "passed_time": 17.20157593,
                        "remaining_time": 39.19703369
                      },
                      {
                        "learn": [
                          0.2738227519
                        ],
                        "iteration": 305,
                        "passed_time": 17.29932017,
                        "remaining_time": 39.23440587
                      },
                      {
                        "learn": [
                          0.2738054157
                        ],
                        "iteration": 306,
                        "passed_time": 17.39276226,
                        "remaining_time": 39.26118647
                      },
                      {
                        "learn": [
                          0.2737817377
                        ],
                        "iteration": 307,
                        "passed_time": 17.46895493,
                        "remaining_time": 39.24843121
                      },
                      {
                        "learn": [
                          0.2737649934
                        ],
                        "iteration": 308,
                        "passed_time": 17.55379381,
                        "remaining_time": 39.2546004
                      },
                      {
                        "learn": [
                          0.2737315904
                        ],
                        "iteration": 309,
                        "passed_time": 17.64243969,
                        "remaining_time": 39.26865608
                      },
                      {
                        "learn": [
                          0.2737126387
                        ],
                        "iteration": 310,
                        "passed_time": 17.73501712,
                        "remaining_time": 39.29076141
                      },
                      {
                        "learn": [
                          0.2736834346
                        ],
                        "iteration": 311,
                        "passed_time": 17.82507558,
                        "remaining_time": 39.30657691
                      },
                      {
                        "learn": [
                          0.2736626782
                        ],
                        "iteration": 312,
                        "passed_time": 17.93980732,
                        "remaining_time": 39.37587103
                      },
                      {
                        "learn": [
                          0.2736441361
                        ],
                        "iteration": 313,
                        "passed_time": 18.03071691,
                        "remaining_time": 39.39194841
                      },
                      {
                        "learn": [
                          0.2736189307
                        ],
                        "iteration": 314,
                        "passed_time": 18.11844824,
                        "remaining_time": 39.40043507
                      },
                      {
                        "learn": [
                          0.2736011308
                        ],
                        "iteration": 315,
                        "passed_time": 18.21580172,
                        "remaining_time": 39.42914042
                      },
                      {
                        "learn": [
                          0.2735803425
                        ],
                        "iteration": 316,
                        "passed_time": 18.29397229,
                        "remaining_time": 39.41571947
                      },
                      {
                        "learn": [
                          0.2735551064
                        ],
                        "iteration": 317,
                        "passed_time": 18.38612854,
                        "remaining_time": 39.43188573
                      },
                      {
                        "learn": [
                          0.2735333135
                        ],
                        "iteration": 318,
                        "passed_time": 18.44070626,
                        "remaining_time": 39.36715036
                      },
                      {
                        "learn": [
                          0.273513369
                        ],
                        "iteration": 319,
                        "passed_time": 18.53800684,
                        "remaining_time": 39.39326454
                      },
                      {
                        "learn": [
                          0.2734934566
                        ],
                        "iteration": 320,
                        "passed_time": 18.615591,
                        "remaining_time": 39.37690432
                      },
                      {
                        "learn": [
                          0.2734705189
                        ],
                        "iteration": 321,
                        "passed_time": 18.70417805,
                        "remaining_time": 39.38333142
                      },
                      {
                        "learn": [
                          0.273451097
                        ],
                        "iteration": 322,
                        "passed_time": 18.77449119,
                        "remaining_time": 39.35086852
                      },
                      {
                        "learn": [
                          0.2734345744
                        ],
                        "iteration": 323,
                        "passed_time": 18.86548965,
                        "remaining_time": 39.36133026
                      },
                      {
                        "learn": [
                          0.2734191982
                        ],
                        "iteration": 324,
                        "passed_time": 18.94913359,
                        "remaining_time": 39.35589283
                      },
                      {
                        "learn": [
                          0.2734028066
                        ],
                        "iteration": 325,
                        "passed_time": 19.04196737,
                        "remaining_time": 39.36897549
                      },
                      {
                        "learn": [
                          0.2733829211
                        ],
                        "iteration": 326,
                        "passed_time": 19.11797782,
                        "remaining_time": 39.34678615
                      },
                      {
                        "learn": [
                          0.2733677914
                        ],
                        "iteration": 327,
                        "passed_time": 19.22382335,
                        "remaining_time": 39.38539417
                      },
                      {
                        "learn": [
                          0.2733481943
                        ],
                        "iteration": 328,
                        "passed_time": 19.30018869,
                        "remaining_time": 39.36299881
                      },
                      {
                        "learn": [
                          0.2733305307
                        ],
                        "iteration": 329,
                        "passed_time": 19.3553584,
                        "remaining_time": 39.29724281
                      },
                      {
                        "learn": [
                          0.2733111721
                        ],
                        "iteration": 330,
                        "passed_time": 19.43980719,
                        "remaining_time": 39.29072813
                      },
                      {
                        "learn": [
                          0.2732814724
                        ],
                        "iteration": 331,
                        "passed_time": 19.53180964,
                        "remaining_time": 39.29894229
                      },
                      {
                        "learn": [
                          0.2732660156
                        ],
                        "iteration": 332,
                        "passed_time": 19.6149651,
                        "remaining_time": 39.28883401
                      },
                      {
                        "learn": [
                          0.2732469085
                        ],
                        "iteration": 333,
                        "passed_time": 19.70171899,
                        "remaining_time": 39.28546361
                      },
                      {
                        "learn": [
                          0.2732227248
                        ],
                        "iteration": 334,
                        "passed_time": 19.78815445,
                        "remaining_time": 39.28096331
                      },
                      {
                        "learn": [
                          0.2731964611
                        ],
                        "iteration": 335,
                        "passed_time": 19.86485241,
                        "remaining_time": 39.25673215
                      },
                      {
                        "learn": [
                          0.2731772635
                        ],
                        "iteration": 336,
                        "passed_time": 19.93285178,
                        "remaining_time": 39.21507635
                      },
                      {
                        "learn": [
                          0.2731537754
                        ],
                        "iteration": 337,
                        "passed_time": 19.99493279,
                        "remaining_time": 39.16167309
                      },
                      {
                        "learn": [
                          0.2731315909
                        ],
                        "iteration": 338,
                        "passed_time": 20.03711254,
                        "remaining_time": 39.06941413
                      },
                      {
                        "learn": [
                          0.2731130894
                        ],
                        "iteration": 339,
                        "passed_time": 20.07954896,
                        "remaining_time": 38.97794797
                      },
                      {
                        "learn": [
                          0.2730957596
                        ],
                        "iteration": 340,
                        "passed_time": 20.12102284,
                        "remaining_time": 38.88490924
                      },
                      {
                        "learn": [
                          0.2730794783
                        ],
                        "iteration": 341,
                        "passed_time": 20.17142315,
                        "remaining_time": 38.8093463
                      },
                      {
                        "learn": [
                          0.2730637129
                        ],
                        "iteration": 342,
                        "passed_time": 20.22503169,
                        "remaining_time": 38.74007528
                      },
                      {
                        "learn": [
                          0.2730465536
                        ],
                        "iteration": 343,
                        "passed_time": 20.2717425,
                        "remaining_time": 38.65774151
                      },
                      {
                        "learn": [
                          0.2730315309
                        ],
                        "iteration": 344,
                        "passed_time": 20.32167008,
                        "remaining_time": 38.58172145
                      },
                      {
                        "learn": [
                          0.2730087001
                        ],
                        "iteration": 345,
                        "passed_time": 20.36195488,
                        "remaining_time": 38.4876257
                      },
                      {
                        "learn": [
                          0.2729914895
                        ],
                        "iteration": 346,
                        "passed_time": 20.40776017,
                        "remaining_time": 38.40422879
                      },
                      {
                        "learn": [
                          0.2729687592
                        ],
                        "iteration": 347,
                        "passed_time": 20.45011835,
                        "remaining_time": 38.31458955
                      },
                      {
                        "learn": [
                          0.2729536928
                        ],
                        "iteration": 348,
                        "passed_time": 20.49236162,
                        "remaining_time": 38.22500691
                      },
                      {
                        "learn": [
                          0.2729329772
                        ],
                        "iteration": 349,
                        "passed_time": 20.53696718,
                        "remaining_time": 38.14008191
                      },
                      {
                        "learn": [
                          0.2729175528
                        ],
                        "iteration": 350,
                        "passed_time": 20.57844513,
                        "remaining_time": 38.04960368
                      },
                      {
                        "learn": [
                          0.2729009727
                        ],
                        "iteration": 351,
                        "passed_time": 20.62305311,
                        "remaining_time": 37.96516596
                      },
                      {
                        "learn": [
                          0.2728777314
                        ],
                        "iteration": 352,
                        "passed_time": 20.66444455,
                        "remaining_time": 37.87505842
                      },
                      {
                        "learn": [
                          0.2728652333
                        ],
                        "iteration": 353,
                        "passed_time": 20.70610711,
                        "remaining_time": 37.78572089
                      },
                      {
                        "learn": [
                          0.2728445927
                        ],
                        "iteration": 354,
                        "passed_time": 20.74575929,
                        "remaining_time": 37.69299927
                      },
                      {
                        "learn": [
                          0.2728279931
                        ],
                        "iteration": 355,
                        "passed_time": 20.78664182,
                        "remaining_time": 37.6028015
                      },
                      {
                        "learn": [
                          0.2728124713
                        ],
                        "iteration": 356,
                        "passed_time": 20.83783315,
                        "remaining_time": 37.53144739
                      },
                      {
                        "learn": [
                          0.2727966109
                        ],
                        "iteration": 357,
                        "passed_time": 20.87764862,
                        "remaining_time": 37.43980563
                      },
                      {
                        "learn": [
                          0.2727741442
                        ],
                        "iteration": 358,
                        "passed_time": 20.9210874,
                        "remaining_time": 37.35492208
                      },
                      {
                        "learn": [
                          0.2727538033
                        ],
                        "iteration": 359,
                        "passed_time": 20.97043525,
                        "remaining_time": 37.28077377
                      },
                      {
                        "learn": [
                          0.2727329109
                        ],
                        "iteration": 360,
                        "passed_time": 21.02009386,
                        "remaining_time": 37.20731295
                      },
                      {
                        "learn": [
                          0.2727168702
                        ],
                        "iteration": 361,
                        "passed_time": 21.06341925,
                        "remaining_time": 37.12282178
                      },
                      {
                        "learn": [
                          0.2726953295
                        ],
                        "iteration": 362,
                        "passed_time": 21.1114989,
                        "remaining_time": 37.04690028
                      },
                      {
                        "learn": [
                          0.2726763215
                        ],
                        "iteration": 363,
                        "passed_time": 21.15537122,
                        "remaining_time": 36.96378048
                      },
                      {
                        "learn": [
                          0.2726556871
                        ],
                        "iteration": 364,
                        "passed_time": 21.20096135,
                        "remaining_time": 36.88386426
                      },
                      {
                        "learn": [
                          0.2726362817
                        ],
                        "iteration": 365,
                        "passed_time": 21.24327195,
                        "remaining_time": 36.79845469
                      },
                      {
                        "learn": [
                          0.2726189775
                        ],
                        "iteration": 366,
                        "passed_time": 21.29975926,
                        "remaining_time": 36.73773192
                      },
                      {
                        "learn": [
                          0.2726008085
                        ],
                        "iteration": 367,
                        "passed_time": 21.34630246,
                        "remaining_time": 36.65995422
                      },
                      {
                        "learn": [
                          0.2725884138
                        ],
                        "iteration": 368,
                        "passed_time": 21.38812683,
                        "remaining_time": 36.5742765
                      },
                      {
                        "learn": [
                          0.2725738309
                        ],
                        "iteration": 369,
                        "passed_time": 21.43236442,
                        "remaining_time": 36.49294483
                      },
                      {
                        "learn": [
                          0.2725591923
                        ],
                        "iteration": 370,
                        "passed_time": 21.47194092,
                        "remaining_time": 36.40391062
                      },
                      {
                        "learn": [
                          0.2725441784
                        ],
                        "iteration": 371,
                        "passed_time": 21.52037188,
                        "remaining_time": 36.33009017
                      },
                      {
                        "learn": [
                          0.2725191921
                        ],
                        "iteration": 372,
                        "passed_time": 21.56061447,
                        "remaining_time": 36.24264148
                      },
                      {
                        "learn": [
                          0.2725008207
                        ],
                        "iteration": 373,
                        "passed_time": 21.60142237,
                        "remaining_time": 36.15639146
                      },
                      {
                        "learn": [
                          0.2724825455
                        ],
                        "iteration": 374,
                        "passed_time": 21.64378037,
                        "remaining_time": 36.07296728
                      },
                      {
                        "learn": [
                          0.2724624752
                        ],
                        "iteration": 375,
                        "passed_time": 21.68843973,
                        "remaining_time": 35.99358082
                      },
                      {
                        "learn": [
                          0.2724455052
                        ],
                        "iteration": 376,
                        "passed_time": 21.73482427,
                        "remaining_time": 35.91722949
                      },
                      {
                        "learn": [
                          0.27243218
                        ],
                        "iteration": 377,
                        "passed_time": 21.77627323,
                        "remaining_time": 35.8329152
                      },
                      {
                        "learn": [
                          0.2724121018
                        ],
                        "iteration": 378,
                        "passed_time": 21.82031751,
                        "remaining_time": 35.75307961
                      },
                      {
                        "learn": [
                          0.2724008922
                        ],
                        "iteration": 379,
                        "passed_time": 21.86135761,
                        "remaining_time": 35.66853084
                      },
                      {
                        "learn": [
                          0.2723841267
                        ],
                        "iteration": 380,
                        "passed_time": 21.90456248,
                        "remaining_time": 35.5877275
                      },
                      {
                        "learn": [
                          0.2723648593
                        ],
                        "iteration": 381,
                        "passed_time": 21.95111178,
                        "remaining_time": 35.51253162
                      },
                      {
                        "learn": [
                          0.2723499003
                        ],
                        "iteration": 382,
                        "passed_time": 22.01621439,
                        "remaining_time": 35.4673741
                      },
                      {
                        "learn": [
                          0.2723300766
                        ],
                        "iteration": 383,
                        "passed_time": 22.0609084,
                        "remaining_time": 35.38937388
                      },
                      {
                        "learn": [
                          0.2723125683
                        ],
                        "iteration": 384,
                        "passed_time": 22.10382964,
                        "remaining_time": 35.30871488
                      },
                      {
                        "learn": [
                          0.2722952597
                        ],
                        "iteration": 385,
                        "passed_time": 22.14800605,
                        "remaining_time": 35.23024796
                      },
                      {
                        "learn": [
                          0.2722815464
                        ],
                        "iteration": 386,
                        "passed_time": 22.20325792,
                        "remaining_time": 35.16950156
                      },
                      {
                        "learn": [
                          0.2722636824
                        ],
                        "iteration": 387,
                        "passed_time": 22.24607227,
                        "remaining_time": 35.08916554
                      },
                      {
                        "learn": [
                          0.2722523707
                        ],
                        "iteration": 388,
                        "passed_time": 22.29125615,
                        "remaining_time": 35.01274424
                      },
                      {
                        "learn": [
                          0.2722433224
                        ],
                        "iteration": 389,
                        "passed_time": 22.34651357,
                        "remaining_time": 34.95223917
                      },
                      {
                        "learn": [
                          0.2722214707
                        ],
                        "iteration": 390,
                        "passed_time": 22.39124292,
                        "remaining_time": 34.87536301
                      },
                      {
                        "learn": [
                          0.2722039241
                        ],
                        "iteration": 391,
                        "passed_time": 22.43813115,
                        "remaining_time": 34.80199934
                      },
                      {
                        "learn": [
                          0.2721902398
                        ],
                        "iteration": 392,
                        "passed_time": 22.48069328,
                        "remaining_time": 34.72208861
                      },
                      {
                        "learn": [
                          0.2721730932
                        ],
                        "iteration": 393,
                        "passed_time": 22.52499138,
                        "remaining_time": 34.6450375
                      },
                      {
                        "learn": [
                          0.2721550633
                        ],
                        "iteration": 394,
                        "passed_time": 22.57035056,
                        "remaining_time": 34.56977745
                      },
                      {
                        "learn": [
                          0.2721345825
                        ],
                        "iteration": 395,
                        "passed_time": 22.61234687,
                        "remaining_time": 34.48953916
                      },
                      {
                        "learn": [
                          0.2721174059
                        ],
                        "iteration": 396,
                        "passed_time": 22.65817965,
                        "remaining_time": 34.41532073
                      },
                      {
                        "learn": [
                          0.2721063029
                        ],
                        "iteration": 397,
                        "passed_time": 22.7012965,
                        "remaining_time": 34.33713691
                      },
                      {
                        "learn": [
                          0.272090774
                        ],
                        "iteration": 398,
                        "passed_time": 22.7433751,
                        "remaining_time": 34.257565
                      },
                      {
                        "learn": [
                          0.2720785221
                        ],
                        "iteration": 399,
                        "passed_time": 22.78379226,
                        "remaining_time": 34.17568839
                      },
                      {
                        "learn": [
                          0.2720623899
                        ],
                        "iteration": 400,
                        "passed_time": 22.82952948,
                        "remaining_time": 34.10196548
                      },
                      {
                        "learn": [
                          0.2720432822
                        ],
                        "iteration": 401,
                        "passed_time": 22.87342968,
                        "remaining_time": 34.02564912
                      },
                      {
                        "learn": [
                          0.2720244235
                        ],
                        "iteration": 402,
                        "passed_time": 22.91560887,
                        "remaining_time": 33.94694416
                      },
                      {
                        "learn": [
                          0.2720127381
                        ],
                        "iteration": 403,
                        "passed_time": 22.95516977,
                        "remaining_time": 33.86455738
                      },
                      {
                        "learn": [
                          0.2719963305
                        ],
                        "iteration": 404,
                        "passed_time": 23.02174346,
                        "remaining_time": 33.82206755
                      },
                      {
                        "learn": [
                          0.2719797559
                        ],
                        "iteration": 405,
                        "passed_time": 23.06404003,
                        "remaining_time": 33.74394035
                      },
                      {
                        "learn": [
                          0.2719666043
                        ],
                        "iteration": 406,
                        "passed_time": 23.1133201,
                        "remaining_time": 33.67616418
                      },
                      {
                        "learn": [
                          0.2719486833
                        ],
                        "iteration": 407,
                        "passed_time": 23.16180551,
                        "remaining_time": 33.60732565
                      },
                      {
                        "learn": [
                          0.2719341794
                        ],
                        "iteration": 408,
                        "passed_time": 23.20749652,
                        "remaining_time": 33.53454876
                      },
                      {
                        "learn": [
                          0.2719220748
                        ],
                        "iteration": 409,
                        "passed_time": 23.25771623,
                        "remaining_time": 33.46842092
                      },
                      {
                        "learn": [
                          0.2719079426
                        ],
                        "iteration": 410,
                        "passed_time": 23.30070103,
                        "remaining_time": 33.39200221
                      },
                      {
                        "learn": [
                          0.2718968794
                        ],
                        "iteration": 411,
                        "passed_time": 23.34791656,
                        "remaining_time": 33.32178383
                      },
                      {
                        "learn": [
                          0.2718764024
                        ],
                        "iteration": 412,
                        "passed_time": 23.4072109,
                        "remaining_time": 33.26884455
                      },
                      {
                        "learn": [
                          0.2718662598
                        ],
                        "iteration": 413,
                        "passed_time": 23.44765307,
                        "remaining_time": 33.18919009
                      },
                      {
                        "learn": [
                          0.2718553607
                        ],
                        "iteration": 414,
                        "passed_time": 23.49121418,
                        "remaining_time": 33.1141212
                      },
                      {
                        "learn": [
                          0.2718357124
                        ],
                        "iteration": 415,
                        "passed_time": 23.53567369,
                        "remaining_time": 33.04046499
                      },
                      {
                        "learn": [
                          0.2718234816
                        ],
                        "iteration": 416,
                        "passed_time": 23.58012715,
                        "remaining_time": 32.96694036
                      },
                      {
                        "learn": [
                          0.2718081189
                        ],
                        "iteration": 417,
                        "passed_time": 23.62294974,
                        "remaining_time": 32.89128408
                      },
                      {
                        "learn": [
                          0.2717950601
                        ],
                        "iteration": 418,
                        "passed_time": 23.66887609,
                        "remaining_time": 32.82008833
                      },
                      {
                        "learn": [
                          0.2717657293
                        ],
                        "iteration": 419,
                        "passed_time": 23.71032701,
                        "remaining_time": 32.74283254
                      },
                      {
                        "learn": [
                          0.2717533792
                        ],
                        "iteration": 420,
                        "passed_time": 23.75102394,
                        "remaining_time": 32.66470989
                      },
                      {
                        "learn": [
                          0.271741671
                        ],
                        "iteration": 421,
                        "passed_time": 23.80108104,
                        "remaining_time": 32.59958493
                      },
                      {
                        "learn": [
                          0.2717255977
                        ],
                        "iteration": 422,
                        "passed_time": 23.84571098,
                        "remaining_time": 32.52712821
                      },
                      {
                        "learn": [
                          0.2717091266
                        ],
                        "iteration": 423,
                        "passed_time": 23.8872736,
                        "remaining_time": 32.45063584
                      },
                      {
                        "learn": [
                          0.271696281
                        ],
                        "iteration": 424,
                        "passed_time": 23.92656979,
                        "remaining_time": 32.37124149
                      },
                      {
                        "learn": [
                          0.2716864903
                        ],
                        "iteration": 425,
                        "passed_time": 23.96729775,
                        "remaining_time": 32.29396457
                      },
                      {
                        "learn": [
                          0.2716715586
                        ],
                        "iteration": 426,
                        "passed_time": 24.02897193,
                        "remaining_time": 32.24496701
                      },
                      {
                        "learn": [
                          0.271662358
                        ],
                        "iteration": 427,
                        "passed_time": 24.07838911,
                        "remaining_time": 32.17952937
                      },
                      {
                        "learn": [
                          0.2716472738
                        ],
                        "iteration": 428,
                        "passed_time": 24.12147637,
                        "remaining_time": 32.10574127
                      },
                      {
                        "learn": [
                          0.2716315222
                        ],
                        "iteration": 429,
                        "passed_time": 24.17259714,
                        "remaining_time": 32.04274505
                      },
                      {
                        "learn": [
                          0.2716175065
                        ],
                        "iteration": 430,
                        "passed_time": 24.21560969,
                        "remaining_time": 31.96909956
                      },
                      {
                        "learn": [
                          0.2716050407
                        ],
                        "iteration": 431,
                        "passed_time": 24.25994336,
                        "remaining_time": 31.89733293
                      },
                      {
                        "learn": [
                          0.2715883608
                        ],
                        "iteration": 432,
                        "passed_time": 24.30045725,
                        "remaining_time": 31.82069113
                      },
                      {
                        "learn": [
                          0.2715628153
                        ],
                        "iteration": 433,
                        "passed_time": 24.34120738,
                        "remaining_time": 31.74452391
                      },
                      {
                        "learn": [
                          0.2715467376
                        ],
                        "iteration": 434,
                        "passed_time": 24.40336229,
                        "remaining_time": 31.69632113
                      },
                      {
                        "learn": [
                          0.271534888
                        ],
                        "iteration": 435,
                        "passed_time": 24.4445391,
                        "remaining_time": 31.62091755
                      },
                      {
                        "learn": [
                          0.2715228271
                        ],
                        "iteration": 436,
                        "passed_time": 24.48891662,
                        "remaining_time": 31.54979418
                      },
                      {
                        "learn": [
                          0.2715071758
                        ],
                        "iteration": 437,
                        "passed_time": 24.53468772,
                        "remaining_time": 31.48058105
                      },
                      {
                        "learn": [
                          0.2714938886
                        ],
                        "iteration": 438,
                        "passed_time": 24.57426769,
                        "remaining_time": 31.40356304
                      },
                      {
                        "learn": [
                          0.2714810369
                        ],
                        "iteration": 439,
                        "passed_time": 24.61655752,
                        "remaining_time": 31.33016412
                      },
                      {
                        "learn": [
                          0.2714694159
                        ],
                        "iteration": 440,
                        "passed_time": 24.6592224,
                        "remaining_time": 31.25738169
                      },
                      {
                        "learn": [
                          0.2714434488
                        ],
                        "iteration": 441,
                        "passed_time": 24.7037203,
                        "remaining_time": 31.18704961
                      },
                      {
                        "learn": [
                          0.2714253892
                        ],
                        "iteration": 442,
                        "passed_time": 24.74477451,
                        "remaining_time": 31.11250429
                      },
                      {
                        "learn": [
                          0.2714121941
                        ],
                        "iteration": 443,
                        "passed_time": 24.78641597,
                        "remaining_time": 31.03884522
                      },
                      {
                        "learn": [
                          0.2713976341
                        ],
                        "iteration": 444,
                        "passed_time": 24.83241961,
                        "remaining_time": 30.97077053
                      },
                      {
                        "learn": [
                          0.2713820238
                        ],
                        "iteration": 445,
                        "passed_time": 24.87266753,
                        "remaining_time": 30.89564532
                      },
                      {
                        "learn": [
                          0.2713675882
                        ],
                        "iteration": 446,
                        "passed_time": 24.91610001,
                        "remaining_time": 30.8246159
                      },
                      {
                        "learn": [
                          0.2713523666
                        ],
                        "iteration": 447,
                        "passed_time": 24.95565379,
                        "remaining_time": 30.74893056
                      },
                      {
                        "learn": [
                          0.2713267327
                        ],
                        "iteration": 448,
                        "passed_time": 24.99988067,
                        "remaining_time": 30.67914086
                      },
                      {
                        "learn": [
                          0.2713077755
                        ],
                        "iteration": 449,
                        "passed_time": 25.05989747,
                        "remaining_time": 30.62876358
                      },
                      {
                        "learn": [
                          0.271296457
                        ],
                        "iteration": 450,
                        "passed_time": 25.10553973,
                        "remaining_time": 30.56084548
                      },
                      {
                        "learn": [
                          0.2712817298
                        ],
                        "iteration": 451,
                        "passed_time": 25.16355039,
                        "remaining_time": 30.50802127
                      },
                      {
                        "learn": [
                          0.2712694596
                        ],
                        "iteration": 452,
                        "passed_time": 25.2074403,
                        "remaining_time": 30.43812328
                      },
                      {
                        "learn": [
                          0.2712581337
                        ],
                        "iteration": 453,
                        "passed_time": 25.24658799,
                        "remaining_time": 30.36263665
                      },
                      {
                        "learn": [
                          0.2712379153
                        ],
                        "iteration": 454,
                        "passed_time": 25.28738225,
                        "remaining_time": 30.28928204
                      },
                      {
                        "learn": [
                          0.2712169155
                        ],
                        "iteration": 455,
                        "passed_time": 25.33089361,
                        "remaining_time": 30.21931168
                      },
                      {
                        "learn": [
                          0.2711965191
                        ],
                        "iteration": 456,
                        "passed_time": 25.37823788,
                        "remaining_time": 30.15401131
                      },
                      {
                        "learn": [
                          0.2711803793
                        ],
                        "iteration": 457,
                        "passed_time": 25.43193845,
                        "remaining_time": 30.09631144
                      },
                      {
                        "learn": [
                          0.2711565786
                        ],
                        "iteration": 458,
                        "passed_time": 25.47378549,
                        "remaining_time": 30.02465784
                      },
                      {
                        "learn": [
                          0.271143314
                        ],
                        "iteration": 459,
                        "passed_time": 25.51541899,
                        "remaining_time": 29.95288316
                      },
                      {
                        "learn": [
                          0.2711294528
                        ],
                        "iteration": 460,
                        "passed_time": 25.55601083,
                        "remaining_time": 29.88002134
                      },
                      {
                        "learn": [
                          0.2711108078
                        ],
                        "iteration": 461,
                        "passed_time": 25.60424612,
                        "remaining_time": 29.81620002
                      },
                      {
                        "learn": [
                          0.2710949764
                        ],
                        "iteration": 462,
                        "passed_time": 25.64606944,
                        "remaining_time": 29.74500926
                      },
                      {
                        "learn": [
                          0.2710789063
                        ],
                        "iteration": 463,
                        "passed_time": 25.69347729,
                        "remaining_time": 29.68039618
                      },
                      {
                        "learn": [
                          0.2710553948
                        ],
                        "iteration": 464,
                        "passed_time": 25.73327581,
                        "remaining_time": 29.60710228
                      },
                      {
                        "learn": [
                          0.2710317392
                        ],
                        "iteration": 465,
                        "passed_time": 25.77373097,
                        "remaining_time": 29.53470459
                      },
                      {
                        "learn": [
                          0.2710205849
                        ],
                        "iteration": 466,
                        "passed_time": 25.82383774,
                        "remaining_time": 29.47345934
                      },
                      {
                        "learn": [
                          0.27101205
                        ],
                        "iteration": 467,
                        "passed_time": 25.86751558,
                        "remaining_time": 29.40495361
                      },
                      {
                        "learn": [
                          0.2710000471
                        ],
                        "iteration": 468,
                        "passed_time": 25.90715759,
                        "remaining_time": 29.33198439
                      },
                      {
                        "learn": [
                          0.2709861499
                        ],
                        "iteration": 469,
                        "passed_time": 25.95195569,
                        "remaining_time": 29.26497131
                      },
                      {
                        "learn": [
                          0.2709699823
                        ],
                        "iteration": 470,
                        "passed_time": 25.99475149,
                        "remaining_time": 29.19580369
                      },
                      {
                        "learn": [
                          0.2709582277
                        ],
                        "iteration": 471,
                        "passed_time": 26.06142706,
                        "remaining_time": 29.15346078
                      },
                      {
                        "learn": [
                          0.2709498133
                        ],
                        "iteration": 472,
                        "passed_time": 26.10109962,
                        "remaining_time": 29.08092917
                      },
                      {
                        "learn": [
                          0.2709402415
                        ],
                        "iteration": 473,
                        "passed_time": 26.14878646,
                        "remaining_time": 29.0174297
                      },
                      {
                        "learn": [
                          0.270915721
                        ],
                        "iteration": 474,
                        "passed_time": 26.1911989,
                        "remaining_time": 28.94816721
                      },
                      {
                        "learn": [
                          0.2709008919
                        ],
                        "iteration": 475,
                        "passed_time": 26.23291661,
                        "remaining_time": 28.87825274
                      },
                      {
                        "learn": [
                          0.2708867371
                        ],
                        "iteration": 476,
                        "passed_time": 26.28147219,
                        "remaining_time": 28.81595378
                      },
                      {
                        "learn": [
                          0.2708677691
                        ],
                        "iteration": 477,
                        "passed_time": 26.32391192,
                        "remaining_time": 28.74703352
                      },
                      {
                        "learn": [
                          0.2708596173
                        ],
                        "iteration": 478,
                        "passed_time": 26.36551491,
                        "remaining_time": 28.67731371
                      },
                      {
                        "learn": [
                          0.2708514944
                        ],
                        "iteration": 479,
                        "passed_time": 26.40461627,
                        "remaining_time": 28.60500096
                      },
                      {
                        "learn": [
                          0.2708411105
                        ],
                        "iteration": 480,
                        "passed_time": 26.45008941,
                        "remaining_time": 28.53970146
                      },
                      {
                        "learn": [
                          0.2708170678
                        ],
                        "iteration": 481,
                        "passed_time": 26.50178186,
                        "remaining_time": 28.48116806
                      },
                      {
                        "learn": [
                          0.2707995436
                        ],
                        "iteration": 482,
                        "passed_time": 26.54140043,
                        "remaining_time": 28.40973917
                      },
                      {
                        "learn": [
                          0.2707837897
                        ],
                        "iteration": 483,
                        "passed_time": 26.58548182,
                        "remaining_time": 28.34319962
                      },
                      {
                        "learn": [
                          0.2707733583
                        ],
                        "iteration": 484,
                        "passed_time": 26.62717599,
                        "remaining_time": 28.2742178
                      },
                      {
                        "learn": [
                          0.2707629436
                        ],
                        "iteration": 485,
                        "passed_time": 26.66872552,
                        "remaining_time": 28.2051953
                      },
                      {
                        "learn": [
                          0.2707481822
                        ],
                        "iteration": 486,
                        "passed_time": 26.71438379,
                        "remaining_time": 28.14061373
                      },
                      {
                        "learn": [
                          0.2707340806
                        ],
                        "iteration": 487,
                        "passed_time": 26.75782785,
                        "remaining_time": 28.0737866
                      },
                      {
                        "learn": [
                          0.2707097761
                        ],
                        "iteration": 488,
                        "passed_time": 26.79896517,
                        "remaining_time": 28.00464458
                      },
                      {
                        "learn": [
                          0.2706939705
                        ],
                        "iteration": 489,
                        "passed_time": 26.84927282,
                        "remaining_time": 27.94516151
                      },
                      {
                        "learn": [
                          0.2706825737
                        ],
                        "iteration": 490,
                        "passed_time": 26.89057874,
                        "remaining_time": 27.87638407
                      },
                      {
                        "learn": [
                          0.2706728126
                        ],
                        "iteration": 491,
                        "passed_time": 26.93515676,
                        "remaining_time": 27.81109682
                      },
                      {
                        "learn": [
                          0.2706600374
                        ],
                        "iteration": 492,
                        "passed_time": 26.97694045,
                        "remaining_time": 27.74301989
                      },
                      {
                        "learn": [
                          0.2706449707
                        ],
                        "iteration": 493,
                        "passed_time": 27.0327558,
                        "remaining_time": 27.68942193
                      },
                      {
                        "learn": [
                          0.2706291601
                        ],
                        "iteration": 494,
                        "passed_time": 27.0855934,
                        "remaining_time": 27.63277711
                      },
                      {
                        "learn": [
                          0.2706060953
                        ],
                        "iteration": 495,
                        "passed_time": 27.14233375,
                        "remaining_time": 27.58011332
                      },
                      {
                        "learn": [
                          0.2705837678
                        ],
                        "iteration": 496,
                        "passed_time": 27.18524978,
                        "remaining_time": 27.51344193
                      },
                      {
                        "learn": [
                          0.2705721055
                        ],
                        "iteration": 497,
                        "passed_time": 27.22739977,
                        "remaining_time": 27.44609375
                      },
                      {
                        "learn": [
                          0.2705576424
                        ],
                        "iteration": 498,
                        "passed_time": 27.26855474,
                        "remaining_time": 27.37784755
                      },
                      {
                        "learn": [
                          0.2705420253
                        ],
                        "iteration": 499,
                        "passed_time": 27.30885438,
                        "remaining_time": 27.30885438
                      },
                      {
                        "learn": [
                          0.2705279024
                        ],
                        "iteration": 500,
                        "passed_time": 27.35553616,
                        "remaining_time": 27.24633242
                      },
                      {
                        "learn": [
                          0.2705199586
                        ],
                        "iteration": 501,
                        "passed_time": 27.39976527,
                        "remaining_time": 27.18144044
                      },
                      {
                        "learn": [
                          0.2705120854
                        ],
                        "iteration": 502,
                        "passed_time": 27.43773332,
                        "remaining_time": 27.11044426
                      },
                      {
                        "learn": [
                          0.270493736
                        ],
                        "iteration": 503,
                        "passed_time": 27.49606679,
                        "remaining_time": 27.05962129
                      },
                      {
                        "learn": [
                          0.2704803563
                        ],
                        "iteration": 504,
                        "passed_time": 27.53386654,
                        "remaining_time": 26.98864146
                      },
                      {
                        "learn": [
                          0.2704588148
                        ],
                        "iteration": 505,
                        "passed_time": 27.57665989,
                        "remaining_time": 26.92266795
                      },
                      {
                        "learn": [
                          0.2704373504
                        ],
                        "iteration": 506,
                        "passed_time": 27.61586924,
                        "remaining_time": 26.85330086
                      },
                      {
                        "learn": [
                          0.2704245691
                        ],
                        "iteration": 507,
                        "passed_time": 27.6621792,
                        "remaining_time": 26.79092946
                      },
                      {
                        "learn": [
                          0.2704162112
                        ],
                        "iteration": 508,
                        "passed_time": 27.70392948,
                        "remaining_time": 26.72422274
                      },
                      {
                        "learn": [
                          0.2703955426
                        ],
                        "iteration": 509,
                        "passed_time": 27.74421723,
                        "remaining_time": 26.65620871
                      },
                      {
                        "learn": [
                          0.2703747966
                        ],
                        "iteration": 510,
                        "passed_time": 27.7889921,
                        "remaining_time": 26.59259714
                      },
                      {
                        "learn": [
                          0.2703545753
                        ],
                        "iteration": 511,
                        "passed_time": 27.82869429,
                        "remaining_time": 26.52422424
                      },
                      {
                        "learn": [
                          0.2703461998
                        ],
                        "iteration": 512,
                        "passed_time": 27.87012171,
                        "remaining_time": 26.45760092
                      },
                      {
                        "learn": [
                          0.2703266642
                        ],
                        "iteration": 513,
                        "passed_time": 27.90880012,
                        "remaining_time": 26.38847637
                      },
                      {
                        "learn": [
                          0.2703135331
                        ],
                        "iteration": 514,
                        "passed_time": 27.94990385,
                        "remaining_time": 26.32175411
                      },
                      {
                        "learn": [
                          0.2702944295
                        ],
                        "iteration": 515,
                        "passed_time": 27.99155189,
                        "remaining_time": 26.2556417
                      },
                      {
                        "learn": [
                          0.2702838956
                        ],
                        "iteration": 516,
                        "passed_time": 28.05369743,
                        "remaining_time": 26.20877342
                      },
                      {
                        "learn": [
                          0.2702718365
                        ],
                        "iteration": 517,
                        "passed_time": 28.0960754,
                        "remaining_time": 26.1434524
                      },
                      {
                        "learn": [
                          0.2702620056
                        ],
                        "iteration": 518,
                        "passed_time": 28.14165037,
                        "remaining_time": 26.08118271
                      },
                      {
                        "learn": [
                          0.2702535926
                        ],
                        "iteration": 519,
                        "passed_time": 28.18110213,
                        "remaining_time": 26.01332504
                      },
                      {
                        "learn": [
                          0.2702450468
                        ],
                        "iteration": 520,
                        "passed_time": 28.23469664,
                        "remaining_time": 25.95857906
                      },
                      {
                        "learn": [
                          0.2702350733
                        ],
                        "iteration": 521,
                        "passed_time": 28.27436826,
                        "remaining_time": 25.89108818
                      },
                      {
                        "learn": [
                          0.270227651
                        ],
                        "iteration": 522,
                        "passed_time": 28.31548496,
                        "remaining_time": 25.82502165
                      },
                      {
                        "learn": [
                          0.2702208879
                        ],
                        "iteration": 523,
                        "passed_time": 28.35510582,
                        "remaining_time": 25.75769155
                      },
                      {
                        "learn": [
                          0.2702045095
                        ],
                        "iteration": 524,
                        "passed_time": 28.39556115,
                        "remaining_time": 25.691222
                      },
                      {
                        "learn": [
                          0.2701858315
                        ],
                        "iteration": 525,
                        "passed_time": 28.43666543,
                        "remaining_time": 25.62543615
                      },
                      {
                        "learn": [
                          0.2701739835
                        ],
                        "iteration": 526,
                        "passed_time": 28.48918943,
                        "remaining_time": 25.56999355
                      },
                      {
                        "learn": [
                          0.2701630017
                        ],
                        "iteration": 527,
                        "passed_time": 28.53632112,
                        "remaining_time": 25.50974161
                      },
                      {
                        "learn": [
                          0.2701550717
                        ],
                        "iteration": 528,
                        "passed_time": 28.57947649,
                        "remaining_time": 25.44599892
                      },
                      {
                        "learn": [
                          0.2701410119
                        ],
                        "iteration": 529,
                        "passed_time": 28.61972746,
                        "remaining_time": 25.37975831
                      },
                      {
                        "learn": [
                          0.2701286286
                        ],
                        "iteration": 530,
                        "passed_time": 28.66597975,
                        "remaining_time": 25.3189162
                      },
                      {
                        "learn": [
                          0.2701120046
                        ],
                        "iteration": 531,
                        "passed_time": 28.70545273,
                        "remaining_time": 25.25216518
                      },
                      {
                        "learn": [
                          0.2701008179
                        ],
                        "iteration": 532,
                        "passed_time": 28.74325708,
                        "remaining_time": 25.18405451
                      },
                      {
                        "learn": [
                          0.2700940748
                        ],
                        "iteration": 533,
                        "passed_time": 28.78218228,
                        "remaining_time": 25.11703547
                      },
                      {
                        "learn": [
                          0.2700809558
                        ],
                        "iteration": 534,
                        "passed_time": 28.82356937,
                        "remaining_time": 25.05226123
                      },
                      {
                        "learn": [
                          0.2700713154
                        ],
                        "iteration": 535,
                        "passed_time": 28.86390835,
                        "remaining_time": 24.98666693
                      },
                      {
                        "learn": [
                          0.2700532738
                        ],
                        "iteration": 536,
                        "passed_time": 28.90585398,
                        "remaining_time": 24.92255194
                      },
                      {
                        "learn": [
                          0.2700424207
                        ],
                        "iteration": 537,
                        "passed_time": 28.9461353,
                        "remaining_time": 24.85709016
                      },
                      {
                        "learn": [
                          0.2700268321
                        ],
                        "iteration": 538,
                        "passed_time": 28.98693498,
                        "remaining_time": 24.79216517
                      },
                      {
                        "learn": [
                          0.2700203287
                        ],
                        "iteration": 539,
                        "passed_time": 29.02801278,
                        "remaining_time": 24.72756644
                      },
                      {
                        "learn": [
                          0.2700134369
                        ],
                        "iteration": 540,
                        "passed_time": 29.09317329,
                        "remaining_time": 24.68348714
                      },
                      {
                        "learn": [
                          0.2700021373
                        ],
                        "iteration": 541,
                        "passed_time": 29.1452625,
                        "remaining_time": 24.62828455
                      },
                      {
                        "learn": [
                          0.2699934333
                        ],
                        "iteration": 542,
                        "passed_time": 29.18622563,
                        "remaining_time": 24.56372949
                      },
                      {
                        "learn": [
                          0.2699807485
                        ],
                        "iteration": 543,
                        "passed_time": 29.22675237,
                        "remaining_time": 24.49889537
                      },
                      {
                        "learn": [
                          0.2699630576
                        ],
                        "iteration": 544,
                        "passed_time": 29.26569043,
                        "remaining_time": 24.43282412
                      },
                      {
                        "learn": [
                          0.2699456291
                        ],
                        "iteration": 545,
                        "passed_time": 29.30949746,
                        "remaining_time": 24.37090082
                      },
                      {
                        "learn": [
                          0.2699300113
                        ],
                        "iteration": 546,
                        "passed_time": 29.35379298,
                        "remaining_time": 24.3094483
                      },
                      {
                        "learn": [
                          0.2699128866
                        ],
                        "iteration": 547,
                        "passed_time": 29.39333502,
                        "remaining_time": 24.24413764
                      },
                      {
                        "learn": [
                          0.2698987488
                        ],
                        "iteration": 548,
                        "passed_time": 29.43321793,
                        "remaining_time": 24.17920088
                      },
                      {
                        "learn": [
                          0.2698883695
                        ],
                        "iteration": 549,
                        "passed_time": 29.4722773,
                        "remaining_time": 24.11368143
                      },
                      {
                        "learn": [
                          0.26987375
                        ],
                        "iteration": 550,
                        "passed_time": 29.52731243,
                        "remaining_time": 24.06127637
                      },
                      {
                        "learn": [
                          0.269866086
                        ],
                        "iteration": 551,
                        "passed_time": 29.57165615,
                        "remaining_time": 24.0001847
                      },
                      {
                        "learn": [
                          0.2698567244
                        ],
                        "iteration": 552,
                        "passed_time": 29.61130199,
                        "remaining_time": 23.93535622
                      },
                      {
                        "learn": [
                          0.2698435292
                        ],
                        "iteration": 553,
                        "passed_time": 29.6514235,
                        "remaining_time": 23.87100159
                      },
                      {
                        "learn": [
                          0.2698279756
                        ],
                        "iteration": 554,
                        "passed_time": 29.69795261,
                        "remaining_time": 23.81187191
                      },
                      {
                        "learn": [
                          0.2698157993
                        ],
                        "iteration": 555,
                        "passed_time": 29.73632456,
                        "remaining_time": 23.74627357
                      },
                      {
                        "learn": [
                          0.2698041994
                        ],
                        "iteration": 556,
                        "passed_time": 29.78123196,
                        "remaining_time": 23.68597084
                      },
                      {
                        "learn": [
                          0.2697933033
                        ],
                        "iteration": 557,
                        "passed_time": 29.82354611,
                        "remaining_time": 23.62366914
                      },
                      {
                        "learn": [
                          0.2697794087
                        ],
                        "iteration": 558,
                        "passed_time": 29.88004993,
                        "remaining_time": 23.57263331
                      },
                      {
                        "learn": [
                          0.2697687636
                        ],
                        "iteration": 559,
                        "passed_time": 29.94904568,
                        "remaining_time": 23.53139304
                      },
                      {
                        "learn": [
                          0.2697591842
                        ],
                        "iteration": 560,
                        "passed_time": 30.04088717,
                        "remaining_time": 23.50793132
                      },
                      {
                        "learn": [
                          0.2697535702
                        ],
                        "iteration": 561,
                        "passed_time": 30.12944682,
                        "remaining_time": 23.48166852
                      },
                      {
                        "learn": [
                          0.2697381821
                        ],
                        "iteration": 562,
                        "passed_time": 30.18180267,
                        "remaining_time": 23.42708307
                      },
                      {
                        "learn": [
                          0.269721604
                        ],
                        "iteration": 563,
                        "passed_time": 30.23736887,
                        "remaining_time": 23.37498728
                      },
                      {
                        "learn": [
                          0.2697160115
                        ],
                        "iteration": 564,
                        "passed_time": 30.32744435,
                        "remaining_time": 23.34944831
                      },
                      {
                        "learn": [
                          0.269709725
                        ],
                        "iteration": 565,
                        "passed_time": 30.38968829,
                        "remaining_time": 23.30234049
                      },
                      {
                        "learn": [
                          0.2696945048
                        ],
                        "iteration": 566,
                        "passed_time": 30.48294256,
                        "remaining_time": 23.2788609
                      },
                      {
                        "learn": [
                          0.2696820417
                        ],
                        "iteration": 567,
                        "passed_time": 30.56838591,
                        "remaining_time": 23.24919492
                      },
                      {
                        "learn": [
                          0.2696726998
                        ],
                        "iteration": 568,
                        "passed_time": 30.66842116,
                        "remaining_time": 23.2303858
                      },
                      {
                        "learn": [
                          0.2696590427
                        ],
                        "iteration": 569,
                        "passed_time": 30.76354315,
                        "remaining_time": 23.20758519
                      },
                      {
                        "learn": [
                          0.2696457582
                        ],
                        "iteration": 570,
                        "passed_time": 30.8374474,
                        "remaining_time": 23.16859007
                      },
                      {
                        "learn": [
                          0.2696332738
                        ],
                        "iteration": 571,
                        "passed_time": 30.922517,
                        "remaining_time": 23.1378274
                      },
                      {
                        "learn": [
                          0.2696186666
                        ],
                        "iteration": 572,
                        "passed_time": 31.00956674,
                        "remaining_time": 23.10835078
                      },
                      {
                        "learn": [
                          0.2696049147
                        ],
                        "iteration": 573,
                        "passed_time": 31.13266412,
                        "remaining_time": 23.10542668
                      },
                      {
                        "learn": [
                          0.2695943904
                        ],
                        "iteration": 574,
                        "passed_time": 31.21137902,
                        "remaining_time": 23.06928014
                      },
                      {
                        "learn": [
                          0.269587889
                        ],
                        "iteration": 575,
                        "passed_time": 31.28656736,
                        "remaining_time": 23.03038986
                      },
                      {
                        "learn": [
                          0.2695821571
                        ],
                        "iteration": 576,
                        "passed_time": 31.38163246,
                        "remaining_time": 23.00594546
                      },
                      {
                        "learn": [
                          0.2695641754
                        ],
                        "iteration": 577,
                        "passed_time": 31.46083367,
                        "remaining_time": 22.96967441
                      },
                      {
                        "learn": [
                          0.2695509561
                        ],
                        "iteration": 578,
                        "passed_time": 31.55509844,
                        "remaining_time": 22.94420802
                      },
                      {
                        "learn": [
                          0.2695406006
                        ],
                        "iteration": 579,
                        "passed_time": 31.63758615,
                        "remaining_time": 22.90997618
                      },
                      {
                        "learn": [
                          0.2695351048
                        ],
                        "iteration": 580,
                        "passed_time": 31.70055842,
                        "remaining_time": 22.86150427
                      },
                      {
                        "learn": [
                          0.2695219079
                        ],
                        "iteration": 581,
                        "passed_time": 31.7814506,
                        "remaining_time": 22.82585284
                      },
                      {
                        "learn": [
                          0.2695087305
                        ],
                        "iteration": 582,
                        "passed_time": 31.87459944,
                        "remaining_time": 22.79881298
                      },
                      {
                        "learn": [
                          0.2695009358
                        ],
                        "iteration": 583,
                        "passed_time": 31.95832837,
                        "remaining_time": 22.76483665
                      },
                      {
                        "learn": [
                          0.2694926457
                        ],
                        "iteration": 584,
                        "passed_time": 32.04489786,
                        "remaining_time": 22.73270532
                      },
                      {
                        "learn": [
                          0.2694763579
                        ],
                        "iteration": 585,
                        "passed_time": 32.17277967,
                        "remaining_time": 22.72957471
                      },
                      {
                        "learn": [
                          0.2694720776
                        ],
                        "iteration": 586,
                        "passed_time": 32.28803264,
                        "remaining_time": 22.7171337
                      },
                      {
                        "learn": [
                          0.2694616491
                        ],
                        "iteration": 587,
                        "passed_time": 32.38441253,
                        "remaining_time": 22.69111898
                      },
                      {
                        "learn": [
                          0.2694453308
                        ],
                        "iteration": 588,
                        "passed_time": 32.44594754,
                        "remaining_time": 22.64055083
                      },
                      {
                        "learn": [
                          0.2694309026
                        ],
                        "iteration": 589,
                        "passed_time": 32.54103,
                        "remaining_time": 22.61325813
                      },
                      {
                        "learn": [
                          0.2694234329
                        ],
                        "iteration": 590,
                        "passed_time": 32.63784061,
                        "remaining_time": 22.586932
                      },
                      {
                        "learn": [
                          0.2694103082
                        ],
                        "iteration": 591,
                        "passed_time": 32.7256522,
                        "remaining_time": 22.5541657
                      },
                      {
                        "learn": [
                          0.2694034371
                        ],
                        "iteration": 592,
                        "passed_time": 32.8084814,
                        "remaining_time": 22.51779415
                      },
                      {
                        "learn": [
                          0.2693912271
                        ],
                        "iteration": 593,
                        "passed_time": 32.89901029,
                        "remaining_time": 22.48652892
                      },
                      {
                        "learn": [
                          0.2693848855
                        ],
                        "iteration": 594,
                        "passed_time": 32.98278075,
                        "remaining_time": 22.45046421
                      },
                      {
                        "learn": [
                          0.26937076
                        ],
                        "iteration": 595,
                        "passed_time": 33.05622047,
                        "remaining_time": 22.4072367
                      },
                      {
                        "learn": [
                          0.2693636191
                        ],
                        "iteration": 596,
                        "passed_time": 33.14760646,
                        "remaining_time": 22.37602245
                      },
                      {
                        "learn": [
                          0.2693513805
                        ],
                        "iteration": 597,
                        "passed_time": 33.25588198,
                        "remaining_time": 22.3559608
                      },
                      {
                        "learn": [
                          0.2693395342
                        ],
                        "iteration": 598,
                        "passed_time": 33.37147155,
                        "remaining_time": 22.34050099
                      },
                      {
                        "learn": [
                          0.2693270269
                        ],
                        "iteration": 599,
                        "passed_time": 33.45510273,
                        "remaining_time": 22.30340182
                      },
                      {
                        "learn": [
                          0.269318076
                        ],
                        "iteration": 600,
                        "passed_time": 33.54379542,
                        "remaining_time": 22.26950811
                      },
                      {
                        "learn": [
                          0.269307477
                        ],
                        "iteration": 601,
                        "passed_time": 33.63200246,
                        "remaining_time": 22.23511126
                      },
                      {
                        "learn": [
                          0.2692913881
                        ],
                        "iteration": 602,
                        "passed_time": 33.71932967,
                        "remaining_time": 22.19995668
                      },
                      {
                        "learn": [
                          0.2692779238
                        ],
                        "iteration": 603,
                        "passed_time": 33.79865183,
                        "remaining_time": 22.159381
                      },
                      {
                        "learn": [
                          0.2692698836
                        ],
                        "iteration": 604,
                        "passed_time": 33.87770183,
                        "remaining_time": 22.11849954
                      },
                      {
                        "learn": [
                          0.2692596614
                        ],
                        "iteration": 605,
                        "passed_time": 33.96867273,
                        "remaining_time": 22.08524266
                      },
                      {
                        "learn": [
                          0.2692431723
                        ],
                        "iteration": 606,
                        "passed_time": 34.07376056,
                        "remaining_time": 22.06093559
                      },
                      {
                        "learn": [
                          0.2692307939
                        ],
                        "iteration": 607,
                        "passed_time": 34.1678647,
                        "remaining_time": 22.02928119
                      },
                      {
                        "learn": [
                          0.2692199108
                        ],
                        "iteration": 608,
                        "passed_time": 34.26577735,
                        "remaining_time": 21.9998669
                      },
                      {
                        "learn": [
                          0.269209445
                        ],
                        "iteration": 609,
                        "passed_time": 34.359569,
                        "remaining_time": 21.96759329
                      },
                      {
                        "learn": [
                          0.2692034557
                        ],
                        "iteration": 610,
                        "passed_time": 34.452049,
                        "remaining_time": 21.93428324
                      },
                      {
                        "learn": [
                          0.2691914854
                        ],
                        "iteration": 611,
                        "passed_time": 34.53540785,
                        "remaining_time": 21.89499713
                      },
                      {
                        "learn": [
                          0.2691822092
                        ],
                        "iteration": 612,
                        "passed_time": 34.62101396,
                        "remaining_time": 21.85698598
                      },
                      {
                        "learn": [
                          0.2691687704
                        ],
                        "iteration": 613,
                        "passed_time": 34.71541288,
                        "remaining_time": 21.82434751
                      },
                      {
                        "learn": [
                          0.269155043
                        ],
                        "iteration": 614,
                        "passed_time": 34.79210148,
                        "remaining_time": 21.78042125
                      },
                      {
                        "learn": [
                          0.2691407554
                        ],
                        "iteration": 615,
                        "passed_time": 34.83426061,
                        "remaining_time": 21.71486375
                      },
                      {
                        "learn": [
                          0.2691357498
                        ],
                        "iteration": 616,
                        "passed_time": 34.87403122,
                        "remaining_time": 21.64789944
                      },
                      {
                        "learn": [
                          0.2691223916
                        ],
                        "iteration": 617,
                        "passed_time": 34.92148221,
                        "remaining_time": 21.58577056
                      },
                      {
                        "learn": [
                          0.2691098241
                        ],
                        "iteration": 618,
                        "passed_time": 34.96095024,
                        "remaining_time": 21.51877551
                      },
                      {
                        "learn": [
                          0.2690981736
                        ],
                        "iteration": 619,
                        "passed_time": 35.00225127,
                        "remaining_time": 21.45299271
                      },
                      {
                        "learn": [
                          0.2690829505
                        ],
                        "iteration": 620,
                        "passed_time": 35.04451482,
                        "remaining_time": 21.3878762
                      },
                      {
                        "learn": [
                          0.2690773518
                        ],
                        "iteration": 621,
                        "passed_time": 35.09305907,
                        "remaining_time": 21.32665005
                      },
                      {
                        "learn": [
                          0.26906533
                        ],
                        "iteration": 622,
                        "passed_time": 35.13825783,
                        "remaining_time": 21.26344013
                      },
                      {
                        "learn": [
                          0.2690502638
                        ],
                        "iteration": 623,
                        "passed_time": 35.18211837,
                        "remaining_time": 21.19948158
                      },
                      {
                        "learn": [
                          0.2690354849
                        ],
                        "iteration": 624,
                        "passed_time": 35.22663627,
                        "remaining_time": 21.13598176
                      },
                      {
                        "learn": [
                          0.2690226748
                        ],
                        "iteration": 625,
                        "passed_time": 35.26774086,
                        "remaining_time": 21.07050333
                      },
                      {
                        "learn": [
                          0.2690125246
                        ],
                        "iteration": 626,
                        "passed_time": 35.33612866,
                        "remaining_time": 21.02133332
                      },
                      {
                        "learn": [
                          0.2689983907
                        ],
                        "iteration": 627,
                        "passed_time": 35.3817873,
                        "remaining_time": 20.95863834
                      },
                      {
                        "learn": [
                          0.2689778643
                        ],
                        "iteration": 628,
                        "passed_time": 35.42594786,
                        "remaining_time": 20.89511392
                      },
                      {
                        "learn": [
                          0.2689740733
                        ],
                        "iteration": 629,
                        "passed_time": 35.47160126,
                        "remaining_time": 20.83252772
                      },
                      {
                        "learn": [
                          0.2689659883
                        ],
                        "iteration": 630,
                        "passed_time": 35.51257387,
                        "remaining_time": 20.76725794
                      },
                      {
                        "learn": [
                          0.2689584834
                        ],
                        "iteration": 631,
                        "passed_time": 35.55604406,
                        "remaining_time": 20.70351933
                      },
                      {
                        "learn": [
                          0.2689478482
                        ],
                        "iteration": 632,
                        "passed_time": 35.59826422,
                        "remaining_time": 20.63912001
                      },
                      {
                        "learn": [
                          0.2689407703
                        ],
                        "iteration": 633,
                        "passed_time": 35.63994432,
                        "remaining_time": 20.5744789
                      },
                      {
                        "learn": [
                          0.2689319853
                        ],
                        "iteration": 634,
                        "passed_time": 35.68244181,
                        "remaining_time": 20.51037994
                      },
                      {
                        "learn": [
                          0.2689253567
                        ],
                        "iteration": 635,
                        "passed_time": 35.72333287,
                        "remaining_time": 20.4454295
                      },
                      {
                        "learn": [
                          0.2689207883
                        ],
                        "iteration": 636,
                        "passed_time": 35.77184047,
                        "remaining_time": 20.38489496
                      },
                      {
                        "learn": [
                          0.2689126089
                        ],
                        "iteration": 637,
                        "passed_time": 35.82514862,
                        "remaining_time": 20.32712195
                      },
                      {
                        "learn": [
                          0.2689075475
                        ],
                        "iteration": 638,
                        "passed_time": 35.86694408,
                        "remaining_time": 20.26285886
                      },
                      {
                        "learn": [
                          0.2688977181
                        ],
                        "iteration": 639,
                        "passed_time": 35.90715422,
                        "remaining_time": 20.19777425
                      },
                      {
                        "learn": [
                          0.268885617
                        ],
                        "iteration": 640,
                        "passed_time": 35.94679493,
                        "remaining_time": 20.13244833
                      },
                      {
                        "learn": [
                          0.2688792686
                        ],
                        "iteration": 641,
                        "passed_time": 35.98786816,
                        "remaining_time": 20.06800125
                      },
                      {
                        "learn": [
                          0.2688738162
                        ],
                        "iteration": 642,
                        "passed_time": 36.02593307,
                        "remaining_time": 20.00195662
                      },
                      {
                        "learn": [
                          0.2688630697
                        ],
                        "iteration": 643,
                        "passed_time": 36.07983071,
                        "remaining_time": 19.94475114
                      },
                      {
                        "learn": [
                          0.2688587731
                        ],
                        "iteration": 644,
                        "passed_time": 36.11928667,
                        "remaining_time": 19.87960739
                      },
                      {
                        "learn": [
                          0.2688500247
                        ],
                        "iteration": 645,
                        "passed_time": 36.16058677,
                        "remaining_time": 19.81555374
                      },
                      {
                        "learn": [
                          0.268840374
                        ],
                        "iteration": 646,
                        "passed_time": 36.20449383,
                        "remaining_time": 19.75299277
                      },
                      {
                        "learn": [
                          0.2688303963
                        ],
                        "iteration": 647,
                        "passed_time": 36.2448931,
                        "remaining_time": 19.68858391
                      },
                      {
                        "learn": [
                          0.2688261498
                        ],
                        "iteration": 648,
                        "passed_time": 36.28232948,
                        "remaining_time": 19.62264661
                      },
                      {
                        "learn": [
                          0.2688192871
                        ],
                        "iteration": 649,
                        "passed_time": 36.35004792,
                        "remaining_time": 19.57310272
                      },
                      {
                        "learn": [
                          0.2688145607
                        ],
                        "iteration": 650,
                        "passed_time": 36.39149463,
                        "remaining_time": 19.50941878
                      },
                      {
                        "learn": [
                          0.2688083883
                        ],
                        "iteration": 651,
                        "passed_time": 36.43469601,
                        "remaining_time": 19.44673959
                      },
                      {
                        "learn": [
                          0.2688029578
                        ],
                        "iteration": 652,
                        "passed_time": 36.47647894,
                        "remaining_time": 19.3833663
                      },
                      {
                        "learn": [
                          0.2687916888
                        ],
                        "iteration": 653,
                        "passed_time": 36.5155935,
                        "remaining_time": 19.31864733
                      },
                      {
                        "learn": [
                          0.2687861681
                        ],
                        "iteration": 654,
                        "passed_time": 36.55471254,
                        "remaining_time": 19.2540089
                      },
                      {
                        "learn": [
                          0.2687774388
                        ],
                        "iteration": 655,
                        "passed_time": 36.59443215,
                        "remaining_time": 19.1897632
                      },
                      {
                        "learn": [
                          0.2687628317
                        ],
                        "iteration": 656,
                        "passed_time": 36.64544894,
                        "remaining_time": 19.13149009
                      },
                      {
                        "learn": [
                          0.2687526388
                        ],
                        "iteration": 657,
                        "passed_time": 36.68613924,
                        "remaining_time": 19.06787176
                      },
                      {
                        "learn": [
                          0.268747829
                        ],
                        "iteration": 658,
                        "passed_time": 36.72595282,
                        "remaining_time": 19.00386936
                      },
                      {
                        "learn": [
                          0.2687315807
                        ],
                        "iteration": 659,
                        "passed_time": 36.76754059,
                        "remaining_time": 18.94085424
                      },
                      {
                        "learn": [
                          0.2687132501
                        ],
                        "iteration": 660,
                        "passed_time": 36.82608979,
                        "remaining_time": 18.88660278
                      },
                      {
                        "learn": [
                          0.2687047496
                        ],
                        "iteration": 661,
                        "passed_time": 36.87372801,
                        "remaining_time": 18.82676747
                      },
                      {
                        "learn": [
                          0.2686936138
                        ],
                        "iteration": 662,
                        "passed_time": 36.92090548,
                        "remaining_time": 18.76673476
                      },
                      {
                        "learn": [
                          0.2686875522
                        ],
                        "iteration": 663,
                        "passed_time": 36.96234759,
                        "remaining_time": 18.70383854
                      },
                      {
                        "learn": [
                          0.2686768222
                        ],
                        "iteration": 664,
                        "passed_time": 37.00373827,
                        "remaining_time": 18.64098093
                      },
                      {
                        "learn": [
                          0.2686719909
                        ],
                        "iteration": 665,
                        "passed_time": 37.0437596,
                        "remaining_time": 18.57750106
                      },
                      {
                        "learn": [
                          0.2686654416
                        ],
                        "iteration": 666,
                        "passed_time": 37.0959823,
                        "remaining_time": 18.52018307
                      },
                      {
                        "learn": [
                          0.2686587173
                        ],
                        "iteration": 667,
                        "passed_time": 37.134873,
                        "remaining_time": 18.45625424
                      },
                      {
                        "learn": [
                          0.2686495611
                        ],
                        "iteration": 668,
                        "passed_time": 37.17308741,
                        "remaining_time": 18.39206567
                      },
                      {
                        "learn": [
                          0.2686406645
                        ],
                        "iteration": 669,
                        "passed_time": 37.21790889,
                        "remaining_time": 18.33120886
                      },
                      {
                        "learn": [
                          0.2686276927
                        ],
                        "iteration": 670,
                        "passed_time": 37.25994544,
                        "remaining_time": 18.26903435
                      },
                      {
                        "learn": [
                          0.2686138767
                        ],
                        "iteration": 671,
                        "passed_time": 37.30651935,
                        "remaining_time": 18.20913444
                      },
                      {
                        "learn": [
                          0.2686054407
                        ],
                        "iteration": 672,
                        "passed_time": 37.37905315,
                        "remaining_time": 18.16188764
                      },
                      {
                        "learn": [
                          0.2685913216
                        ],
                        "iteration": 673,
                        "passed_time": 37.42139118,
                        "remaining_time": 18.09996072
                      },
                      {
                        "learn": [
                          0.2685727924
                        ],
                        "iteration": 674,
                        "passed_time": 37.46669,
                        "remaining_time": 18.03951741
                      },
                      {
                        "learn": [
                          0.2685642868
                        ],
                        "iteration": 675,
                        "passed_time": 37.51616401,
                        "remaining_time": 17.98112003
                      },
                      {
                        "learn": [
                          0.2685541574
                        ],
                        "iteration": 676,
                        "passed_time": 37.55705684,
                        "remaining_time": 17.91865489
                      },
                      {
                        "learn": [
                          0.2685445595
                        ],
                        "iteration": 677,
                        "passed_time": 37.59938783,
                        "remaining_time": 17.8569364
                      },
                      {
                        "learn": [
                          0.268534813
                        ],
                        "iteration": 678,
                        "passed_time": 37.63996691,
                        "remaining_time": 17.7944468
                      },
                      {
                        "learn": [
                          0.2685295469
                        ],
                        "iteration": 679,
                        "passed_time": 37.67814009,
                        "remaining_time": 17.73088945
                      },
                      {
                        "learn": [
                          0.2685230418
                        ],
                        "iteration": 680,
                        "passed_time": 37.71790931,
                        "remaining_time": 17.66815429
                      },
                      {
                        "learn": [
                          0.2685095699
                        ],
                        "iteration": 681,
                        "passed_time": 37.76022203,
                        "remaining_time": 17.60667244
                      },
                      {
                        "learn": [
                          0.2685011935
                        ],
                        "iteration": 682,
                        "passed_time": 37.8025341,
                        "remaining_time": 17.54524643
                      },
                      {
                        "learn": [
                          0.2684964948
                        ],
                        "iteration": 683,
                        "passed_time": 37.86174525,
                        "remaining_time": 17.49168348
                      },
                      {
                        "learn": [
                          0.2684893554
                        ],
                        "iteration": 684,
                        "passed_time": 37.90112312,
                        "remaining_time": 17.42898362
                      },
                      {
                        "learn": [
                          0.2684842108
                        ],
                        "iteration": 685,
                        "passed_time": 37.94432294,
                        "remaining_time": 17.36810117
                      },
                      {
                        "learn": [
                          0.2684784359
                        ],
                        "iteration": 686,
                        "passed_time": 37.98507061,
                        "remaining_time": 17.30615299
                      },
                      {
                        "learn": [
                          0.26846307
                        ],
                        "iteration": 687,
                        "passed_time": 38.02737782,
                        "remaining_time": 17.24497366
                      },
                      {
                        "learn": [
                          0.2684547885
                        ],
                        "iteration": 688,
                        "passed_time": 38.0787977,
                        "remaining_time": 17.18796239
                      },
                      {
                        "learn": [
                          0.2684447638
                        ],
                        "iteration": 689,
                        "passed_time": 38.12068627,
                        "remaining_time": 17.12668513
                      },
                      {
                        "learn": [
                          0.2684389202
                        ],
                        "iteration": 690,
                        "passed_time": 38.16730056,
                        "remaining_time": 17.06757724
                      },
                      {
                        "learn": [
                          0.2684331361
                        ],
                        "iteration": 691,
                        "passed_time": 38.20710572,
                        "remaining_time": 17.0054748
                      },
                      {
                        "learn": [
                          0.26842838
                        ],
                        "iteration": 692,
                        "passed_time": 38.24569844,
                        "remaining_time": 16.9428996
                      },
                      {
                        "learn": [
                          0.2684227303
                        ],
                        "iteration": 693,
                        "passed_time": 38.28708994,
                        "remaining_time": 16.88162755
                      },
                      {
                        "learn": [
                          0.268419423
                        ],
                        "iteration": 694,
                        "passed_time": 38.32788095,
                        "remaining_time": 16.82014919
                      },
                      {
                        "learn": [
                          0.2684133357
                        ],
                        "iteration": 695,
                        "passed_time": 38.40569002,
                        "remaining_time": 16.77489909
                      },
                      {
                        "learn": [
                          0.2684091515
                        ],
                        "iteration": 696,
                        "passed_time": 38.44519162,
                        "remaining_time": 16.71290253
                      },
                      {
                        "learn": [
                          0.2684028847
                        ],
                        "iteration": 697,
                        "passed_time": 38.48756544,
                        "remaining_time": 16.65221313
                      },
                      {
                        "learn": [
                          0.2683932146
                        ],
                        "iteration": 698,
                        "passed_time": 38.52741899,
                        "remaining_time": 16.59049087
                      },
                      {
                        "learn": [
                          0.2683877662
                        ],
                        "iteration": 699,
                        "passed_time": 38.5684441,
                        "remaining_time": 16.52933319
                      },
                      {
                        "learn": [
                          0.2683834304
                        ],
                        "iteration": 700,
                        "passed_time": 38.61708466,
                        "remaining_time": 16.47148119
                      },
                      {
                        "learn": [
                          0.2683756762
                        ],
                        "iteration": 701,
                        "passed_time": 38.65711698,
                        "remaining_time": 16.41000122
                      },
                      {
                        "learn": [
                          0.2683680261
                        ],
                        "iteration": 702,
                        "passed_time": 38.69820148,
                        "remaining_time": 16.3490268
                      },
                      {
                        "learn": [
                          0.2683568355
                        ],
                        "iteration": 703,
                        "passed_time": 38.74030133,
                        "remaining_time": 16.28853579
                      },
                      {
                        "learn": [
                          0.2683515754
                        ],
                        "iteration": 704,
                        "passed_time": 38.77978319,
                        "remaining_time": 16.22700147
                      },
                      {
                        "learn": [
                          0.2683426516
                        ],
                        "iteration": 705,
                        "passed_time": 38.82204123,
                        "remaining_time": 16.16668572
                      },
                      {
                        "learn": [
                          0.2683345807
                        ],
                        "iteration": 706,
                        "passed_time": 38.87388255,
                        "remaining_time": 16.11039263
                      },
                      {
                        "learn": [
                          0.26832434
                        ],
                        "iteration": 707,
                        "passed_time": 38.92293095,
                        "remaining_time": 16.05296022
                      },
                      {
                        "learn": [
                          0.2683173966
                        ],
                        "iteration": 708,
                        "passed_time": 38.96418579,
                        "remaining_time": 15.9923527
                      },
                      {
                        "learn": [
                          0.2683037618
                        ],
                        "iteration": 709,
                        "passed_time": 39.00823329,
                        "remaining_time": 15.93294036
                      },
                      {
                        "learn": [
                          0.2682960271
                        ],
                        "iteration": 710,
                        "passed_time": 39.06591271,
                        "remaining_time": 15.8791122
                      },
                      {
                        "learn": [
                          0.2682892346
                        ],
                        "iteration": 711,
                        "passed_time": 39.10420879,
                        "remaining_time": 15.81743277
                      },
                      {
                        "learn": [
                          0.2682806666
                        ],
                        "iteration": 712,
                        "passed_time": 39.14668,
                        "remaining_time": 15.75749953
                      },
                      {
                        "learn": [
                          0.2682740838
                        ],
                        "iteration": 713,
                        "passed_time": 39.19337153,
                        "remaining_time": 15.69930568
                      },
                      {
                        "learn": [
                          0.2682640298
                        ],
                        "iteration": 714,
                        "passed_time": 39.23526225,
                        "remaining_time": 15.63923041
                      },
                      {
                        "learn": [
                          0.2682587726
                        ],
                        "iteration": 715,
                        "passed_time": 39.28003773,
                        "remaining_time": 15.58035016
                      },
                      {
                        "learn": [
                          0.2682509139
                        ],
                        "iteration": 716,
                        "passed_time": 39.3220682,
                        "remaining_time": 15.5204258
                      },
                      {
                        "learn": [
                          0.268242388
                        ],
                        "iteration": 717,
                        "passed_time": 39.38873545,
                        "remaining_time": 15.47022757
                      },
                      {
                        "learn": [
                          0.2682307672
                        ],
                        "iteration": 718,
                        "passed_time": 39.43817635,
                        "remaining_time": 15.41325112
                      },
                      {
                        "learn": [
                          0.2682203594
                        ],
                        "iteration": 719,
                        "passed_time": 39.48865273,
                        "remaining_time": 15.35669828
                      },
                      {
                        "learn": [
                          0.26820914
                        ],
                        "iteration": 720,
                        "passed_time": 39.5301469,
                        "remaining_time": 15.29668653
                      },
                      {
                        "learn": [
                          0.2682001234
                        ],
                        "iteration": 721,
                        "passed_time": 39.57114394,
                        "remaining_time": 15.23653465
                      },
                      {
                        "learn": [
                          0.268193789
                        ],
                        "iteration": 722,
                        "passed_time": 39.61035372,
                        "remaining_time": 15.17575101
                      },
                      {
                        "learn": [
                          0.2681830161
                        ],
                        "iteration": 723,
                        "passed_time": 39.65200638,
                        "remaining_time": 15.11595823
                      },
                      {
                        "learn": [
                          0.2681726488
                        ],
                        "iteration": 724,
                        "passed_time": 39.69781034,
                        "remaining_time": 15.05779013
                      },
                      {
                        "learn": [
                          0.2681640412
                        ],
                        "iteration": 725,
                        "passed_time": 39.74257373,
                        "remaining_time": 14.99926336
                      },
                      {
                        "learn": [
                          0.2681523431
                        ],
                        "iteration": 726,
                        "passed_time": 39.78512462,
                        "remaining_time": 14.93994363
                      },
                      {
                        "learn": [
                          0.2681440472
                        ],
                        "iteration": 727,
                        "passed_time": 39.82517379,
                        "remaining_time": 14.87973526
                      },
                      {
                        "learn": [
                          0.2681359155
                        ],
                        "iteration": 728,
                        "passed_time": 39.86838426,
                        "remaining_time": 14.82075739
                      },
                      {
                        "learn": [
                          0.2681257382
                        ],
                        "iteration": 729,
                        "passed_time": 39.93071803,
                        "remaining_time": 14.76889571
                      },
                      {
                        "learn": [
                          0.2681196559
                        ],
                        "iteration": 730,
                        "passed_time": 39.97400006,
                        "remaining_time": 14.70999455
                      },
                      {
                        "learn": [
                          0.2681122892
                        ],
                        "iteration": 731,
                        "passed_time": 40.01332766,
                        "remaining_time": 14.64968827
                      },
                      {
                        "learn": [
                          0.2681021346
                        ],
                        "iteration": 732,
                        "passed_time": 40.06619679,
                        "remaining_time": 14.59437182
                      },
                      {
                        "learn": [
                          0.2680935236
                        ],
                        "iteration": 733,
                        "passed_time": 40.11012782,
                        "remaining_time": 14.53582289
                      },
                      {
                        "learn": [
                          0.2680882729
                        ],
                        "iteration": 734,
                        "passed_time": 40.15426149,
                        "remaining_time": 14.4773868
                      },
                      {
                        "learn": [
                          0.2680785815
                        ],
                        "iteration": 735,
                        "passed_time": 40.19586338,
                        "remaining_time": 14.41808143
                      },
                      {
                        "learn": [
                          0.2680737654
                        ],
                        "iteration": 736,
                        "passed_time": 40.23494723,
                        "remaining_time": 14.35792554
                      },
                      {
                        "learn": [
                          0.26806779
                        ],
                        "iteration": 737,
                        "passed_time": 40.27293691,
                        "remaining_time": 14.29743831
                      },
                      {
                        "learn": [
                          0.2680642673
                        ],
                        "iteration": 738,
                        "passed_time": 40.31963926,
                        "remaining_time": 14.2400891
                      },
                      {
                        "learn": [
                          0.2680541466
                        ],
                        "iteration": 739,
                        "passed_time": 40.36797118,
                        "remaining_time": 14.18334122
                      },
                      {
                        "learn": [
                          0.2680486103
                        ],
                        "iteration": 740,
                        "passed_time": 40.44243802,
                        "remaining_time": 14.13575094
                      },
                      {
                        "learn": [
                          0.26804357
                        ],
                        "iteration": 741,
                        "passed_time": 40.48422573,
                        "remaining_time": 14.07672539
                      },
                      {
                        "learn": [
                          0.2680392567
                        ],
                        "iteration": 742,
                        "passed_time": 40.52466386,
                        "remaining_time": 14.01727943
                      },
                      {
                        "learn": [
                          0.2680340507
                        ],
                        "iteration": 743,
                        "passed_time": 40.56284751,
                        "remaining_time": 13.95710882
                      },
                      {
                        "learn": [
                          0.2680283122
                        ],
                        "iteration": 744,
                        "passed_time": 40.61066272,
                        "remaining_time": 13.90029395
                      },
                      {
                        "learn": [
                          0.2680172842
                        ],
                        "iteration": 745,
                        "passed_time": 40.65316712,
                        "remaining_time": 13.84169497
                      },
                      {
                        "learn": [
                          0.2680094249
                        ],
                        "iteration": 746,
                        "passed_time": 40.69542348,
                        "remaining_time": 13.78305507
                      },
                      {
                        "learn": [
                          0.2679991585
                        ],
                        "iteration": 747,
                        "passed_time": 40.73655276,
                        "remaining_time": 13.72407927
                      },
                      {
                        "learn": [
                          0.2679912595
                        ],
                        "iteration": 748,
                        "passed_time": 40.77660254,
                        "remaining_time": 13.66478937
                      },
                      {
                        "learn": [
                          0.2679802741
                        ],
                        "iteration": 749,
                        "passed_time": 40.8158154,
                        "remaining_time": 13.6052718
                      },
                      {
                        "learn": [
                          0.2679694809
                        ],
                        "iteration": 750,
                        "passed_time": 40.86071105,
                        "remaining_time": 13.54769248
                      },
                      {
                        "learn": [
                          0.2679607973
                        ],
                        "iteration": 751,
                        "passed_time": 40.89933769,
                        "remaining_time": 13.48807945
                      },
                      {
                        "learn": [
                          0.2679553902
                        ],
                        "iteration": 752,
                        "passed_time": 40.95295307,
                        "remaining_time": 13.43343879
                      },
                      {
                        "learn": [
                          0.2679488594
                        ],
                        "iteration": 753,
                        "passed_time": 40.99410968,
                        "remaining_time": 13.37473605
                      },
                      {
                        "learn": [
                          0.2679421407
                        ],
                        "iteration": 754,
                        "passed_time": 41.05083039,
                        "remaining_time": 13.32113039
                      },
                      {
                        "learn": [
                          0.2679340109
                        ],
                        "iteration": 755,
                        "passed_time": 41.09353464,
                        "remaining_time": 13.26299266
                      },
                      {
                        "learn": [
                          0.2679263771
                        ],
                        "iteration": 756,
                        "passed_time": 41.13507071,
                        "remaining_time": 13.20452072
                      },
                      {
                        "learn": [
                          0.2679166657
                        ],
                        "iteration": 757,
                        "passed_time": 41.17937209,
                        "remaining_time": 13.14697631
                      },
                      {
                        "learn": [
                          0.2679064321
                        ],
                        "iteration": 758,
                        "passed_time": 41.22109221,
                        "remaining_time": 13.0886472
                      },
                      {
                        "learn": [
                          0.2679026703
                        ],
                        "iteration": 759,
                        "passed_time": 41.26478714,
                        "remaining_time": 13.03098541
                      },
                      {
                        "learn": [
                          0.2678996967
                        ],
                        "iteration": 760,
                        "passed_time": 41.30599753,
                        "remaining_time": 12.97258004
                      },
                      {
                        "learn": [
                          0.2678919216
                        ],
                        "iteration": 761,
                        "passed_time": 41.35069984,
                        "remaining_time": 12.91531045
                      },
                      {
                        "learn": [
                          0.267882061
                        ],
                        "iteration": 762,
                        "passed_time": 41.4019771,
                        "remaining_time": 12.86011608
                      },
                      {
                        "learn": [
                          0.267875784
                        ],
                        "iteration": 763,
                        "passed_time": 41.4551406,
                        "remaining_time": 12.80551463
                      },
                      {
                        "learn": [
                          0.267863103
                        ],
                        "iteration": 764,
                        "passed_time": 41.50142915,
                        "remaining_time": 12.74880503
                      },
                      {
                        "learn": [
                          0.2678548534
                        ],
                        "iteration": 765,
                        "passed_time": 41.54367926,
                        "remaining_time": 12.69088897
                      },
                      {
                        "learn": [
                          0.2678495862
                        ],
                        "iteration": 766,
                        "passed_time": 41.5833974,
                        "remaining_time": 12.63224458
                      },
                      {
                        "learn": [
                          0.2678428792
                        ],
                        "iteration": 767,
                        "passed_time": 41.62979255,
                        "remaining_time": 12.5756665
                      },
                      {
                        "learn": [
                          0.2678363694
                        ],
                        "iteration": 768,
                        "passed_time": 41.67552368,
                        "remaining_time": 12.51891544
                      },
                      {
                        "learn": [
                          0.2678261884
                        ],
                        "iteration": 769,
                        "passed_time": 41.71535142,
                        "remaining_time": 12.46042965
                      },
                      {
                        "learn": [
                          0.2678227124
                        ],
                        "iteration": 770,
                        "passed_time": 41.75468853,
                        "remaining_time": 12.40184653
                      },
                      {
                        "learn": [
                          0.2678138
                        ],
                        "iteration": 771,
                        "passed_time": 41.79527409,
                        "remaining_time": 12.34368199
                      },
                      {
                        "learn": [
                          0.2678050218
                        ],
                        "iteration": 772,
                        "passed_time": 41.83766981,
                        "remaining_time": 12.2860945
                      },
                      {
                        "learn": [
                          0.2677982002
                        ],
                        "iteration": 773,
                        "passed_time": 41.8834704,
                        "remaining_time": 12.22954045
                      },
                      {
                        "learn": [
                          0.2677826702
                        ],
                        "iteration": 774,
                        "passed_time": 41.93270862,
                        "remaining_time": 12.17401218
                      },
                      {
                        "learn": [
                          0.2677795093
                        ],
                        "iteration": 775,
                        "passed_time": 41.97857222,
                        "remaining_time": 12.117526
                      },
                      {
                        "learn": [
                          0.267772654
                        ],
                        "iteration": 776,
                        "passed_time": 42.03093695,
                        "remaining_time": 12.062933
                      },
                      {
                        "learn": [
                          0.2677625223
                        ],
                        "iteration": 777,
                        "passed_time": 42.07170184,
                        "remaining_time": 12.00503574
                      },
                      {
                        "learn": [
                          0.2677454632
                        ],
                        "iteration": 778,
                        "passed_time": 42.11758982,
                        "remaining_time": 11.94863588
                      },
                      {
                        "learn": [
                          0.2677312821
                        ],
                        "iteration": 779,
                        "passed_time": 42.1583952,
                        "remaining_time": 11.89082942
                      },
                      {
                        "learn": [
                          0.2677213236
                        ],
                        "iteration": 780,
                        "passed_time": 42.1986749,
                        "remaining_time": 11.83291908
                      },
                      {
                        "learn": [
                          0.2677144559
                        ],
                        "iteration": 781,
                        "passed_time": 42.24159435,
                        "remaining_time": 11.77578973
                      },
                      {
                        "learn": [
                          0.2677118722
                        ],
                        "iteration": 782,
                        "passed_time": 42.2875166,
                        "remaining_time": 11.71952886
                      },
                      {
                        "learn": [
                          0.2677069092
                        ],
                        "iteration": 783,
                        "passed_time": 42.33040152,
                        "remaining_time": 11.66245756
                      },
                      {
                        "learn": [
                          0.2676957584
                        ],
                        "iteration": 784,
                        "passed_time": 42.37319706,
                        "remaining_time": 11.60539792
                      },
                      {
                        "learn": [
                          0.267685202
                        ],
                        "iteration": 785,
                        "passed_time": 42.44344699,
                        "remaining_time": 11.55584943
                      },
                      {
                        "learn": [
                          0.2676750976
                        ],
                        "iteration": 786,
                        "passed_time": 42.48819822,
                        "remaining_time": 11.49934717
                      },
                      {
                        "learn": [
                          0.2676675523
                        ],
                        "iteration": 787,
                        "passed_time": 42.5288055,
                        "remaining_time": 11.44175985
                      },
                      {
                        "learn": [
                          0.2676517491
                        ],
                        "iteration": 788,
                        "passed_time": 42.57455158,
                        "remaining_time": 11.38558984
                      },
                      {
                        "learn": [
                          0.2676389342
                        ],
                        "iteration": 789,
                        "passed_time": 42.62484278,
                        "remaining_time": 11.33065441
                      },
                      {
                        "learn": [
                          0.2676317613
                        ],
                        "iteration": 790,
                        "passed_time": 42.66518479,
                        "remaining_time": 11.27310192
                      },
                      {
                        "learn": [
                          0.2676188123
                        ],
                        "iteration": 791,
                        "passed_time": 42.70689746,
                        "remaining_time": 11.21595287
                      },
                      {
                        "learn": [
                          0.2676100426
                        ],
                        "iteration": 792,
                        "passed_time": 42.74905397,
                        "remaining_time": 11.1589586
                      },
                      {
                        "learn": [
                          0.2676075945
                        ],
                        "iteration": 793,
                        "passed_time": 42.78993565,
                        "remaining_time": 11.10167096
                      },
                      {
                        "learn": [
                          0.2676002649
                        ],
                        "iteration": 794,
                        "passed_time": 42.83378039,
                        "remaining_time": 11.04518865
                      },
                      {
                        "learn": [
                          0.2675955231
                        ],
                        "iteration": 795,
                        "passed_time": 42.87251902,
                        "remaining_time": 10.9874295
                      },
                      {
                        "learn": [
                          0.2675864449
                        ],
                        "iteration": 796,
                        "passed_time": 42.91685402,
                        "remaining_time": 10.9311435
                      },
                      {
                        "learn": [
                          0.2675756709
                        ],
                        "iteration": 797,
                        "passed_time": 42.96391079,
                        "remaining_time": 10.87557642
                      },
                      {
                        "learn": [
                          0.2675698339
                        ],
                        "iteration": 798,
                        "passed_time": 43.02848771,
                        "remaining_time": 10.82443808
                      },
                      {
                        "learn": [
                          0.2675640903
                        ],
                        "iteration": 799,
                        "passed_time": 43.07092968,
                        "remaining_time": 10.76773242
                      },
                      {
                        "learn": [
                          0.2675588265
                        ],
                        "iteration": 800,
                        "passed_time": 43.11236569,
                        "remaining_time": 10.71081245
                      },
                      {
                        "learn": [
                          0.2675494716
                        ],
                        "iteration": 801,
                        "passed_time": 43.15391492,
                        "remaining_time": 10.65395905
                      },
                      {
                        "learn": [
                          0.2675429256
                        ],
                        "iteration": 802,
                        "passed_time": 43.19693079,
                        "remaining_time": 10.59750357
                      },
                      {
                        "learn": [
                          0.2675355414
                        ],
                        "iteration": 803,
                        "passed_time": 43.24317726,
                        "remaining_time": 10.54186908
                      },
                      {
                        "learn": [
                          0.2675285902
                        ],
                        "iteration": 804,
                        "passed_time": 43.2861889,
                        "remaining_time": 10.48547433
                      },
                      {
                        "learn": [
                          0.2675213192
                        ],
                        "iteration": 805,
                        "passed_time": 43.3281283,
                        "remaining_time": 10.4288547
                      },
                      {
                        "learn": [
                          0.267510777
                        ],
                        "iteration": 806,
                        "passed_time": 43.36891152,
                        "remaining_time": 10.37199495
                      },
                      {
                        "learn": [
                          0.2675027154
                        ],
                        "iteration": 807,
                        "passed_time": 43.4073903,
                        "remaining_time": 10.3146274
                      },
                      {
                        "learn": [
                          0.2674914216
                        ],
                        "iteration": 808,
                        "passed_time": 43.49645775,
                        "remaining_time": 10.26925022
                      },
                      {
                        "learn": [
                          0.2674815999
                        ],
                        "iteration": 809,
                        "passed_time": 43.53781437,
                        "remaining_time": 10.21257374
                      },
                      {
                        "learn": [
                          0.2674697362
                        ],
                        "iteration": 810,
                        "passed_time": 43.57845202,
                        "remaining_time": 10.15576749
                      },
                      {
                        "learn": [
                          0.2674604391
                        ],
                        "iteration": 811,
                        "passed_time": 43.61973703,
                        "remaining_time": 10.09915094
                      },
                      {
                        "learn": [
                          0.2674544991
                        ],
                        "iteration": 812,
                        "passed_time": 43.65808149,
                        "remaining_time": 10.04189574
                      },
                      {
                        "learn": [
                          0.2674494745
                        ],
                        "iteration": 813,
                        "passed_time": 43.699145,
                        "remaining_time": 9.985308318
                      },
                      {
                        "learn": [
                          0.2674466998
                        ],
                        "iteration": 814,
                        "passed_time": 43.7397004,
                        "remaining_time": 9.928643649
                      },
                      {
                        "learn": [
                          0.2674395173
                        ],
                        "iteration": 815,
                        "passed_time": 43.78691749,
                        "remaining_time": 9.87352061
                      },
                      {
                        "learn": [
                          0.2674287378
                        ],
                        "iteration": 816,
                        "passed_time": 43.8305239,
                        "remaining_time": 9.817608169
                      },
                      {
                        "learn": [
                          0.2674189897
                        ],
                        "iteration": 817,
                        "passed_time": 43.87222553,
                        "remaining_time": 9.761302013
                      },
                      {
                        "learn": [
                          0.2674137925
                        ],
                        "iteration": 818,
                        "passed_time": 43.91697284,
                        "remaining_time": 9.70570462
                      },
                      {
                        "learn": [
                          0.2674093065
                        ],
                        "iteration": 819,
                        "passed_time": 43.95733166,
                        "remaining_time": 9.649170365
                      },
                      {
                        "learn": [
                          0.2673954786
                        ],
                        "iteration": 820,
                        "passed_time": 44.02246592,
                        "remaining_time": 9.598077223
                      },
                      {
                        "learn": [
                          0.2673836918
                        ],
                        "iteration": 821,
                        "passed_time": 44.0675729,
                        "remaining_time": 9.542613109
                      },
                      {
                        "learn": [
                          0.2673782905
                        ],
                        "iteration": 822,
                        "passed_time": 44.10735222,
                        "remaining_time": 9.486028364
                      },
                      {
                        "learn": [
                          0.2673683216
                        ],
                        "iteration": 823,
                        "passed_time": 44.15281329,
                        "remaining_time": 9.430697984
                      },
                      {
                        "learn": [
                          0.2673588935
                        ],
                        "iteration": 824,
                        "passed_time": 44.19374911,
                        "remaining_time": 9.37443163
                      },
                      {
                        "learn": [
                          0.2673497325
                        ],
                        "iteration": 825,
                        "passed_time": 44.23481695,
                        "remaining_time": 9.318230205
                      },
                      {
                        "learn": [
                          0.2673403894
                        ],
                        "iteration": 826,
                        "passed_time": 44.27703736,
                        "remaining_time": 9.262306486
                      },
                      {
                        "learn": [
                          0.2673321862
                        ],
                        "iteration": 827,
                        "passed_time": 44.31845855,
                        "remaining_time": 9.206249843
                      },
                      {
                        "learn": [
                          0.2673209035
                        ],
                        "iteration": 828,
                        "passed_time": 44.37200222,
                        "remaining_time": 9.152729047
                      },
                      {
                        "learn": [
                          0.2673188184
                        ],
                        "iteration": 829,
                        "passed_time": 44.40954335,
                        "remaining_time": 9.095930566
                      },
                      {
                        "learn": [
                          0.2673126038
                        ],
                        "iteration": 830,
                        "passed_time": 44.47437652,
                        "remaining_time": 9.044728799
                      },
                      {
                        "learn": [
                          0.2673071467
                        ],
                        "iteration": 831,
                        "passed_time": 44.52364749,
                        "remaining_time": 8.990351898
                      },
                      {
                        "learn": [
                          0.2673023889
                        ],
                        "iteration": 832,
                        "passed_time": 44.5648355,
                        "remaining_time": 8.934366781
                      },
                      {
                        "learn": [
                          0.2672978386
                        ],
                        "iteration": 833,
                        "passed_time": 44.61129941,
                        "remaining_time": 8.879467268
                      },
                      {
                        "learn": [
                          0.2672881123
                        ],
                        "iteration": 834,
                        "passed_time": 44.65334826,
                        "remaining_time": 8.823715525
                      },
                      {
                        "learn": [
                          0.2672809798
                        ],
                        "iteration": 835,
                        "passed_time": 44.71272491,
                        "remaining_time": 8.771395796
                      },
                      {
                        "learn": [
                          0.2672649466
                        ],
                        "iteration": 836,
                        "passed_time": 44.7832859,
                        "remaining_time": 8.721237278
                      },
                      {
                        "learn": [
                          0.2672604329
                        ],
                        "iteration": 837,
                        "passed_time": 44.87427996,
                        "remaining_time": 8.674980136
                      },
                      {
                        "learn": [
                          0.267257689
                        ],
                        "iteration": 838,
                        "passed_time": 44.94799254,
                        "remaining_time": 8.625300117
                      },
                      {
                        "learn": [
                          0.2672508511
                        ],
                        "iteration": 839,
                        "passed_time": 45.05048993,
                        "remaining_time": 8.5810457
                      },
                      {
                        "learn": [
                          0.2672406827
                        ],
                        "iteration": 840,
                        "passed_time": 45.11831152,
                        "remaining_time": 8.530096946
                      },
                      {
                        "learn": [
                          0.2672323836
                        ],
                        "iteration": 841,
                        "passed_time": 45.20253174,
                        "remaining_time": 8.48218529
                      },
                      {
                        "learn": [
                          0.2672292613
                        ],
                        "iteration": 842,
                        "passed_time": 45.286417,
                        "remaining_time": 8.434125111
                      },
                      {
                        "learn": [
                          0.2672259684
                        ],
                        "iteration": 843,
                        "passed_time": 45.38200393,
                        "remaining_time": 8.388142906
                      },
                      {
                        "learn": [
                          0.2672209284
                        ],
                        "iteration": 844,
                        "passed_time": 45.49305853,
                        "remaining_time": 8.344880559
                      },
                      {
                        "learn": [
                          0.2672156649
                        ],
                        "iteration": 845,
                        "passed_time": 45.59023415,
                        "remaining_time": 8.298931512
                      },
                      {
                        "learn": [
                          0.2672128422
                        ],
                        "iteration": 846,
                        "passed_time": 45.67840502,
                        "remaining_time": 8.25123491
                      },
                      {
                        "learn": [
                          0.2672097918
                        ],
                        "iteration": 847,
                        "passed_time": 45.77014737,
                        "remaining_time": 8.204083019
                      },
                      {
                        "learn": [
                          0.2671938065
                        ],
                        "iteration": 848,
                        "passed_time": 45.87298072,
                        "remaining_time": 8.158798691
                      },
                      {
                        "learn": [
                          0.267180558
                        ],
                        "iteration": 849,
                        "passed_time": 45.9704347,
                        "remaining_time": 8.112429652
                      },
                      {
                        "learn": [
                          0.2671691493
                        ],
                        "iteration": 850,
                        "passed_time": 46.04122185,
                        "remaining_time": 8.061271511
                      },
                      {
                        "learn": [
                          0.2671635639
                        ],
                        "iteration": 851,
                        "passed_time": 46.12699165,
                        "remaining_time": 8.01266991
                      },
                      {
                        "learn": [
                          0.2671585001
                        ],
                        "iteration": 852,
                        "passed_time": 46.21273529,
                        "remaining_time": 7.963976656
                      },
                      {
                        "learn": [
                          0.2671479397
                        ],
                        "iteration": 853,
                        "passed_time": 46.29689366,
                        "remaining_time": 7.914925614
                      },
                      {
                        "learn": [
                          0.2671445775
                        ],
                        "iteration": 854,
                        "passed_time": 46.35782621,
                        "remaining_time": 7.861853568
                      },
                      {
                        "learn": [
                          0.2671375383
                        ],
                        "iteration": 855,
                        "passed_time": 46.43698168,
                        "remaining_time": 7.811828694
                      },
                      {
                        "learn": [
                          0.2671277106
                        ],
                        "iteration": 856,
                        "passed_time": 46.561757,
                        "remaining_time": 7.769348017
                      },
                      {
                        "learn": [
                          0.2671230347
                        ],
                        "iteration": 857,
                        "passed_time": 46.65807213,
                        "remaining_time": 7.721965318
                      },
                      {
                        "learn": [
                          0.2671173612
                        ],
                        "iteration": 858,
                        "passed_time": 46.74766379,
                        "remaining_time": 7.67336507
                      },
                      {
                        "learn": [
                          0.2671154767
                        ],
                        "iteration": 859,
                        "passed_time": 46.84157642,
                        "remaining_time": 7.625372906
                      },
                      {
                        "learn": [
                          0.2671106905
                        ],
                        "iteration": 860,
                        "passed_time": 46.93596092,
                        "remaining_time": 7.577350253
                      },
                      {
                        "learn": [
                          0.2671023776
                        ],
                        "iteration": 861,
                        "passed_time": 47.04033707,
                        "remaining_time": 7.530819623
                      },
                      {
                        "learn": [
                          0.2670857032
                        ],
                        "iteration": 862,
                        "passed_time": 47.12951271,
                        "remaining_time": 7.481741879
                      },
                      {
                        "learn": [
                          0.2670807543
                        ],
                        "iteration": 863,
                        "passed_time": 47.19794228,
                        "remaining_time": 7.429305729
                      },
                      {
                        "learn": [
                          0.2670722421
                        ],
                        "iteration": 864,
                        "passed_time": 47.28299199,
                        "remaining_time": 7.379426496
                      },
                      {
                        "learn": [
                          0.2670631476
                        ],
                        "iteration": 865,
                        "passed_time": 47.3746528,
                        "remaining_time": 7.330489001
                      },
                      {
                        "learn": [
                          0.2670593863
                        ],
                        "iteration": 866,
                        "passed_time": 47.46210166,
                        "remaining_time": 7.280806828
                      },
                      {
                        "learn": [
                          0.2670560284
                        ],
                        "iteration": 867,
                        "passed_time": 47.55171852,
                        "remaining_time": 7.231367332
                      },
                      {
                        "learn": [
                          0.2670396055
                        ],
                        "iteration": 868,
                        "passed_time": 47.68046089,
                        "remaining_time": 7.18773346
                      },
                      {
                        "learn": [
                          0.2670354021
                        ],
                        "iteration": 869,
                        "passed_time": 47.77255338,
                        "remaining_time": 7.138427517
                      },
                      {
                        "learn": [
                          0.2670296736
                        ],
                        "iteration": 870,
                        "passed_time": 47.8658946,
                        "remaining_time": 7.08920827
                      },
                      {
                        "learn": [
                          0.2670181765
                        ],
                        "iteration": 871,
                        "passed_time": 47.9523782,
                        "remaining_time": 7.038881203
                      },
                      {
                        "learn": [
                          0.2670153637
                        ],
                        "iteration": 872,
                        "passed_time": 48.05468399,
                        "remaining_time": 6.990773044
                      },
                      {
                        "learn": [
                          0.267010981
                        ],
                        "iteration": 873,
                        "passed_time": 48.12733062,
                        "remaining_time": 6.938265055
                      },
                      {
                        "learn": [
                          0.2670004029
                        ],
                        "iteration": 874,
                        "passed_time": 48.22193547,
                        "remaining_time": 6.888847924
                      },
                      {
                        "learn": [
                          0.2669974995
                        ],
                        "iteration": 875,
                        "passed_time": 48.30062181,
                        "remaining_time": 6.837074321
                      },
                      {
                        "learn": [
                          0.2669942229
                        ],
                        "iteration": 876,
                        "passed_time": 48.37811582,
                        "remaining_time": 6.785072117
                      },
                      {
                        "learn": [
                          0.2669837689
                        ],
                        "iteration": 877,
                        "passed_time": 48.43558301,
                        "remaining_time": 6.730229074
                      },
                      {
                        "learn": [
                          0.266971131
                        ],
                        "iteration": 878,
                        "passed_time": 48.52633482,
                        "remaining_time": 6.679961904
                      },
                      {
                        "learn": [
                          0.2669672229
                        ],
                        "iteration": 879,
                        "passed_time": 48.60893057,
                        "remaining_time": 6.628490532
                      },
                      {
                        "learn": [
                          0.2669562929
                        ],
                        "iteration": 880,
                        "passed_time": 48.73145382,
                        "remaining_time": 6.582341662
                      },
                      {
                        "learn": [
                          0.2669451786
                        ],
                        "iteration": 881,
                        "passed_time": 48.81988672,
                        "remaining_time": 6.531458767
                      },
                      {
                        "learn": [
                          0.2669417797
                        ],
                        "iteration": 882,
                        "passed_time": 48.91067296,
                        "remaining_time": 6.480802646
                      },
                      {
                        "learn": [
                          0.2669369878
                        ],
                        "iteration": 883,
                        "passed_time": 48.99138617,
                        "remaining_time": 6.428733932
                      },
                      {
                        "learn": [
                          0.2669343415
                        ],
                        "iteration": 884,
                        "passed_time": 49.06687999,
                        "remaining_time": 6.375922259
                      },
                      {
                        "learn": [
                          0.2669205045
                        ],
                        "iteration": 885,
                        "passed_time": 49.16409781,
                        "remaining_time": 6.325854571
                      },
                      {
                        "learn": [
                          0.2669123522
                        ],
                        "iteration": 886,
                        "passed_time": 49.25215168,
                        "remaining_time": 6.274513123
                      },
                      {
                        "learn": [
                          0.2669046528
                        ],
                        "iteration": 887,
                        "passed_time": 49.34396748,
                        "remaining_time": 6.223563466
                      },
                      {
                        "learn": [
                          0.2668996598
                        ],
                        "iteration": 888,
                        "passed_time": 49.42574546,
                        "remaining_time": 6.171268556
                      },
                      {
                        "learn": [
                          0.2668919588
                        ],
                        "iteration": 889,
                        "passed_time": 49.51709655,
                        "remaining_time": 6.120090585
                      },
                      {
                        "learn": [
                          0.2668873057
                        ],
                        "iteration": 890,
                        "passed_time": 49.60382285,
                        "remaining_time": 6.068256668
                      },
                      {
                        "learn": [
                          0.2668829174
                        ],
                        "iteration": 891,
                        "passed_time": 49.69057445,
                        "remaining_time": 6.01634758
                      },
                      {
                        "learn": [
                          0.2668780162
                        ],
                        "iteration": 892,
                        "passed_time": 49.80288839,
                        "remaining_time": 5.967423357
                      },
                      {
                        "learn": [
                          0.2668732177
                        ],
                        "iteration": 893,
                        "passed_time": 49.84356042,
                        "remaining_time": 5.909862869
                      },
                      {
                        "learn": [
                          0.2668627612
                        ],
                        "iteration": 894,
                        "passed_time": 49.89168687,
                        "remaining_time": 5.85321466
                      },
                      {
                        "learn": [
                          0.2668552012
                        ],
                        "iteration": 895,
                        "passed_time": 49.93622993,
                        "remaining_time": 5.796169545
                      },
                      {
                        "learn": [
                          0.2668504395
                        ],
                        "iteration": 896,
                        "passed_time": 49.982417,
                        "remaining_time": 5.739341083
                      },
                      {
                        "learn": [
                          0.266840116
                        ],
                        "iteration": 897,
                        "passed_time": 50.02721531,
                        "remaining_time": 5.682378576
                      },
                      {
                        "learn": [
                          0.2668366633
                        ],
                        "iteration": 898,
                        "passed_time": 50.0677078,
                        "remaining_time": 5.624959385
                      },
                      {
                        "learn": [
                          0.2668327767
                        ],
                        "iteration": 899,
                        "passed_time": 50.10833056,
                        "remaining_time": 5.567592285
                      },
                      {
                        "learn": [
                          0.2668182581
                        ],
                        "iteration": 900,
                        "passed_time": 50.14938802,
                        "remaining_time": 5.510310115
                      },
                      {
                        "learn": [
                          0.2668071314
                        ],
                        "iteration": 901,
                        "passed_time": 50.19438504,
                        "remaining_time": 5.453491944
                      },
                      {
                        "learn": [
                          0.266790817
                        ],
                        "iteration": 902,
                        "passed_time": 50.24218495,
                        "remaining_time": 5.397001041
                      },
                      {
                        "learn": [
                          0.2667826772
                        ],
                        "iteration": 903,
                        "passed_time": 50.30236811,
                        "remaining_time": 5.341844401
                      },
                      {
                        "learn": [
                          0.2667718374
                        ],
                        "iteration": 904,
                        "passed_time": 50.34331361,
                        "remaining_time": 5.284657229
                      },
                      {
                        "learn": [
                          0.2667615717
                        ],
                        "iteration": 905,
                        "passed_time": 50.38364058,
                        "remaining_time": 5.227441738
                      },
                      {
                        "learn": [
                          0.2667471016
                        ],
                        "iteration": 906,
                        "passed_time": 50.42568656,
                        "remaining_time": 5.170439747
                      },
                      {
                        "learn": [
                          0.2667424009
                        ],
                        "iteration": 907,
                        "passed_time": 50.4732454,
                        "remaining_time": 5.11402927
                      },
                      {
                        "learn": [
                          0.266739653
                        ],
                        "iteration": 908,
                        "passed_time": 50.51316956,
                        "remaining_time": 5.05687396
                      },
                      {
                        "learn": [
                          0.2667299331
                        ],
                        "iteration": 909,
                        "passed_time": 50.5554804,
                        "remaining_time": 4.999992567
                      },
                      {
                        "learn": [
                          0.26671977
                        ],
                        "iteration": 910,
                        "passed_time": 50.59816071,
                        "remaining_time": 4.943179257
                      },
                      {
                        "learn": [
                          0.266716359
                        ],
                        "iteration": 911,
                        "passed_time": 50.63952844,
                        "remaining_time": 4.886270288
                      },
                      {
                        "learn": [
                          0.2667122531
                        ],
                        "iteration": 912,
                        "passed_time": 50.68500469,
                        "remaining_time": 4.829786865
                      },
                      {
                        "learn": [
                          0.2667021348
                        ],
                        "iteration": 913,
                        "passed_time": 50.7336579,
                        "remaining_time": 4.773626454
                      },
                      {
                        "learn": [
                          0.2666929313
                        ],
                        "iteration": 914,
                        "passed_time": 50.82436339,
                        "remaining_time": 4.721388949
                      },
                      {
                        "learn": [
                          0.266689041
                        ],
                        "iteration": 915,
                        "passed_time": 50.86503471,
                        "remaining_time": 4.664479166
                      },
                      {
                        "learn": [
                          0.2666847784
                        ],
                        "iteration": 916,
                        "passed_time": 50.90896156,
                        "remaining_time": 4.607899466
                      },
                      {
                        "learn": [
                          0.2666820212
                        ],
                        "iteration": 917,
                        "passed_time": 50.96112482,
                        "remaining_time": 4.552083045
                      },
                      {
                        "learn": [
                          0.2666708698
                        ],
                        "iteration": 918,
                        "passed_time": 51.00332046,
                        "remaining_time": 4.495396037
                      },
                      {
                        "learn": [
                          0.266661421
                        ],
                        "iteration": 919,
                        "passed_time": 51.04491378,
                        "remaining_time": 4.438688154
                      },
                      {
                        "learn": [
                          0.26665768
                        ],
                        "iteration": 920,
                        "passed_time": 51.08804758,
                        "remaining_time": 4.382145232
                      },
                      {
                        "learn": [
                          0.2666474732
                        ],
                        "iteration": 921,
                        "passed_time": 51.13555842,
                        "remaining_time": 4.326001689
                      },
                      {
                        "learn": [
                          0.2666365728
                        ],
                        "iteration": 922,
                        "passed_time": 51.17737335,
                        "remaining_time": 4.269401677
                      },
                      {
                        "learn": [
                          0.2666313403
                        ],
                        "iteration": 923,
                        "passed_time": 51.21772034,
                        "remaining_time": 4.212712928
                      },
                      {
                        "learn": [
                          0.2666272724
                        ],
                        "iteration": 924,
                        "passed_time": 51.26091132,
                        "remaining_time": 4.156290107
                      },
                      {
                        "learn": [
                          0.2666233736
                        ],
                        "iteration": 925,
                        "passed_time": 51.31760277,
                        "remaining_time": 4.100974735
                      },
                      {
                        "learn": [
                          0.2666131038
                        ],
                        "iteration": 926,
                        "passed_time": 51.36407336,
                        "remaining_time": 4.044851516
                      },
                      {
                        "learn": [
                          0.2665988241
                        ],
                        "iteration": 927,
                        "passed_time": 51.41016403,
                        "remaining_time": 3.988719623
                      },
                      {
                        "learn": [
                          0.2665914073
                        ],
                        "iteration": 928,
                        "passed_time": 51.44993372,
                        "remaining_time": 3.932126259
                      },
                      {
                        "learn": [
                          0.2665867988
                        ],
                        "iteration": 929,
                        "passed_time": 51.48787755,
                        "remaining_time": 3.875431643
                      },
                      {
                        "learn": [
                          0.2665766114
                        ],
                        "iteration": 930,
                        "passed_time": 51.53087161,
                        "remaining_time": 3.819151602
                      },
                      {
                        "learn": [
                          0.2665725954
                        ],
                        "iteration": 931,
                        "passed_time": 51.57607812,
                        "remaining_time": 3.763061494
                      },
                      {
                        "learn": [
                          0.2665651416
                        ],
                        "iteration": 932,
                        "passed_time": 51.61698285,
                        "remaining_time": 3.7066858
                      },
                      {
                        "learn": [
                          0.2665624694
                        ],
                        "iteration": 933,
                        "passed_time": 51.6573337,
                        "remaining_time": 3.650304094
                      },
                      {
                        "learn": [
                          0.2665577286
                        ],
                        "iteration": 934,
                        "passed_time": 51.70253521,
                        "remaining_time": 3.594293892
                      },
                      {
                        "learn": [
                          0.2665492919
                        ],
                        "iteration": 935,
                        "passed_time": 51.74605432,
                        "remaining_time": 3.538191748
                      },
                      {
                        "learn": [
                          0.2665443077
                        ],
                        "iteration": 936,
                        "passed_time": 51.81717257,
                        "remaining_time": 3.483972115
                      },
                      {
                        "learn": [
                          0.2665320219
                        ],
                        "iteration": 937,
                        "passed_time": 51.87351229,
                        "remaining_time": 3.428739618
                      },
                      {
                        "learn": [
                          0.2665293735
                        ],
                        "iteration": 938,
                        "passed_time": 51.9145728,
                        "remaining_time": 3.372512184
                      },
                      {
                        "learn": [
                          0.2665238397
                        ],
                        "iteration": 939,
                        "passed_time": 51.97250146,
                        "remaining_time": 3.31739371
                      },
                      {
                        "learn": [
                          0.2665117781
                        ],
                        "iteration": 940,
                        "passed_time": 52.0149486,
                        "remaining_time": 3.261298584
                      },
                      {
                        "learn": [
                          0.2665062362
                        ],
                        "iteration": 941,
                        "passed_time": 52.05984657,
                        "remaining_time": 3.205383335
                      },
                      {
                        "learn": [
                          0.2664932799
                        ],
                        "iteration": 942,
                        "passed_time": 52.10211804,
                        "remaining_time": 3.149332691
                      },
                      {
                        "learn": [
                          0.2664810108
                        ],
                        "iteration": 943,
                        "passed_time": 52.14379312,
                        "remaining_time": 3.093275863
                      },
                      {
                        "learn": [
                          0.2664720866
                        ],
                        "iteration": 944,
                        "passed_time": 52.18339342,
                        "remaining_time": 3.037128718
                      },
                      {
                        "learn": [
                          0.2664620314
                        ],
                        "iteration": 945,
                        "passed_time": 52.2250063,
                        "remaining_time": 2.981131438
                      },
                      {
                        "learn": [
                          0.2664578021
                        ],
                        "iteration": 946,
                        "passed_time": 52.27323035,
                        "remaining_time": 2.925534539
                      },
                      {
                        "learn": [
                          0.2664533752
                        ],
                        "iteration": 947,
                        "passed_time": 52.32959239,
                        "remaining_time": 2.870399583
                      },
                      {
                        "learn": [
                          0.2664459456
                        ],
                        "iteration": 948,
                        "passed_time": 52.3714962,
                        "remaining_time": 2.814485043
                      },
                      {
                        "learn": [
                          0.2664437739
                        ],
                        "iteration": 949,
                        "passed_time": 52.40964428,
                        "remaining_time": 2.75840233
                      },
                      {
                        "learn": [
                          0.2664345715
                        ],
                        "iteration": 950,
                        "passed_time": 52.45091176,
                        "remaining_time": 2.702518061
                      },
                      {
                        "learn": [
                          0.2664220554
                        ],
                        "iteration": 951,
                        "passed_time": 52.49691673,
                        "remaining_time": 2.646903365
                      },
                      {
                        "learn": [
                          0.2664192819
                        ],
                        "iteration": 952,
                        "passed_time": 52.53520087,
                        "remaining_time": 2.59092806
                      },
                      {
                        "learn": [
                          0.2664145278
                        ],
                        "iteration": 953,
                        "passed_time": 52.58086387,
                        "remaining_time": 2.535345637
                      },
                      {
                        "learn": [
                          0.2664072899
                        ],
                        "iteration": 954,
                        "passed_time": 52.62310539,
                        "remaining_time": 2.479622767
                      },
                      {
                        "learn": [
                          0.2663941729
                        ],
                        "iteration": 955,
                        "passed_time": 52.66585693,
                        "remaining_time": 2.423951574
                      },
                      {
                        "learn": [
                          0.2663890551
                        ],
                        "iteration": 956,
                        "passed_time": 52.70941419,
                        "remaining_time": 2.368343584
                      },
                      {
                        "learn": [
                          0.2663790416
                        ],
                        "iteration": 957,
                        "passed_time": 52.75154911,
                        "remaining_time": 2.312698395
                      },
                      {
                        "learn": [
                          0.2663751975
                        ],
                        "iteration": 958,
                        "passed_time": 52.79153965,
                        "remaining_time": 2.256989703
                      },
                      {
                        "learn": [
                          0.2663679191
                        ],
                        "iteration": 959,
                        "passed_time": 52.87670818,
                        "remaining_time": 2.203196174
                      },
                      {
                        "learn": [
                          0.2663530026
                        ],
                        "iteration": 960,
                        "passed_time": 52.93223062,
                        "remaining_time": 2.148134229
                      },
                      {
                        "learn": [
                          0.2663494605
                        ],
                        "iteration": 961,
                        "passed_time": 52.97675336,
                        "remaining_time": 2.092636827
                      },
                      {
                        "learn": [
                          0.266345474
                        ],
                        "iteration": 962,
                        "passed_time": 53.01912881,
                        "remaining_time": 2.037079715
                      },
                      {
                        "learn": [
                          0.2663308537
                        ],
                        "iteration": 963,
                        "passed_time": 53.06194791,
                        "remaining_time": 1.981566519
                      },
                      {
                        "learn": [
                          0.2663257791
                        ],
                        "iteration": 964,
                        "passed_time": 53.1044678,
                        "remaining_time": 1.92606878
                      },
                      {
                        "learn": [
                          0.2663192567
                        ],
                        "iteration": 965,
                        "passed_time": 53.15521229,
                        "remaining_time": 1.870887389
                      },
                      {
                        "learn": [
                          0.2663033582
                        ],
                        "iteration": 966,
                        "passed_time": 53.19775534,
                        "remaining_time": 1.815435291
                      },
                      {
                        "learn": [
                          0.2662924594
                        ],
                        "iteration": 967,
                        "passed_time": 53.2447502,
                        "remaining_time": 1.760157031
                      },
                      {
                        "learn": [
                          0.2662830318
                        ],
                        "iteration": 968,
                        "passed_time": 53.28884478,
                        "remaining_time": 1.704803084
                      },
                      {
                        "learn": [
                          0.2662743177
                        ],
                        "iteration": 969,
                        "passed_time": 53.34426271,
                        "remaining_time": 1.649822558
                      },
                      {
                        "learn": [
                          0.2662643488
                        ],
                        "iteration": 970,
                        "passed_time": 53.39327576,
                        "remaining_time": 1.594649843
                      },
                      {
                        "learn": [
                          0.2662613338
                        ],
                        "iteration": 971,
                        "passed_time": 53.4332936,
                        "remaining_time": 1.53923068
                      },
                      {
                        "learn": [
                          0.2662520488
                        ],
                        "iteration": 972,
                        "passed_time": 53.4758392,
                        "remaining_time": 1.483913318
                      },
                      {
                        "learn": [
                          0.266243271
                        ],
                        "iteration": 973,
                        "passed_time": 53.51918555,
                        "remaining_time": 1.428643557
                      },
                      {
                        "learn": [
                          0.2662387383
                        ],
                        "iteration": 974,
                        "passed_time": 53.55941911,
                        "remaining_time": 1.373318439
                      },
                      {
                        "learn": [
                          0.2662351307
                        ],
                        "iteration": 975,
                        "passed_time": 53.60364405,
                        "remaining_time": 1.318122395
                      },
                      {
                        "learn": [
                          0.266228751
                        ],
                        "iteration": 976,
                        "passed_time": 53.64898784,
                        "remaining_time": 1.262975149
                      },
                      {
                        "learn": [
                          0.2662164053
                        ],
                        "iteration": 977,
                        "passed_time": 53.6913756,
                        "remaining_time": 1.207781455
                      },
                      {
                        "learn": [
                          0.2662132398
                        ],
                        "iteration": 978,
                        "passed_time": 53.73052285,
                        "remaining_time": 1.152544412
                      },
                      {
                        "learn": [
                          0.2662054736
                        ],
                        "iteration": 979,
                        "passed_time": 53.77083329,
                        "remaining_time": 1.097363945
                      },
                      {
                        "learn": [
                          0.2661951142
                        ],
                        "iteration": 980,
                        "passed_time": 53.81778613,
                        "remaining_time": 1.042342443
                      },
                      {
                        "learn": [
                          0.2661857688
                        ],
                        "iteration": 981,
                        "passed_time": 53.91828482,
                        "remaining_time": 0.9883188664
                      },
                      {
                        "learn": [
                          0.2661819318
                        ],
                        "iteration": 982,
                        "passed_time": 53.96549,
                        "remaining_time": 0.9332790743
                      },
                      {
                        "learn": [
                          0.2661761129
                        ],
                        "iteration": 983,
                        "passed_time": 54.00755401,
                        "remaining_time": 0.8781716099
                      },
                      {
                        "learn": [
                          0.2661659448
                        ],
                        "iteration": 984,
                        "passed_time": 54.0534935,
                        "remaining_time": 0.8231496473
                      },
                      {
                        "learn": [
                          0.2661535078
                        ],
                        "iteration": 985,
                        "passed_time": 54.09638929,
                        "remaining_time": 0.7681028906
                      },
                      {
                        "learn": [
                          0.2661447361
                        ],
                        "iteration": 986,
                        "passed_time": 54.13705047,
                        "remaining_time": 0.7130513233
                      },
                      {
                        "learn": [
                          0.2661419763
                        ],
                        "iteration": 987,
                        "passed_time": 54.17569609,
                        "remaining_time": 0.6580044059
                      },
                      {
                        "learn": [
                          0.2661385613
                        ],
                        "iteration": 988,
                        "passed_time": 54.21477501,
                        "remaining_time": 0.6029954753
                      },
                      {
                        "learn": [
                          0.2661370952
                        ],
                        "iteration": 989,
                        "passed_time": 54.26586509,
                        "remaining_time": 0.5481400514
                      },
                      {
                        "learn": [
                          0.2661277244
                        ],
                        "iteration": 990,
                        "passed_time": 54.30751752,
                        "remaining_time": 0.4932065163
                      },
                      {
                        "learn": [
                          0.2661230721
                        ],
                        "iteration": 991,
                        "passed_time": 54.35940056,
                        "remaining_time": 0.4383822626
                      },
                      {
                        "learn": [
                          0.2661155711
                        ],
                        "iteration": 992,
                        "passed_time": 54.40475637,
                        "remaining_time": 0.38351792
                      },
                      {
                        "learn": [
                          0.2661130208
                        ],
                        "iteration": 993,
                        "passed_time": 54.44250638,
                        "remaining_time": 0.3286267991
                      },
                      {
                        "learn": [
                          0.2661074367
                        ],
                        "iteration": 994,
                        "passed_time": 54.48446187,
                        "remaining_time": 0.2737912657
                      },
                      {
                        "learn": [
                          0.2661032408
                        ],
                        "iteration": 995,
                        "passed_time": 54.52918864,
                        "remaining_time": 0.2189927254
                      },
                      {
                        "learn": [
                          0.2660959249
                        ],
                        "iteration": 996,
                        "passed_time": 54.56971921,
                        "remaining_time": 0.1642017629
                      },
                      {
                        "learn": [
                          0.2660861781
                        ],
                        "iteration": 997,
                        "passed_time": 54.61166632,
                        "remaining_time": 0.1094422171
                      },
                      {
                        "learn": [
                          0.2660825966
                        ],
                        "iteration": 998,
                        "passed_time": 54.64978922,
                        "remaining_time": 0.05470449371
                      },
                      {
                        "learn": [
                          0.2660751695
                        ],
                        "iteration": 999,
                        "passed_time": 54.69471066,
                        "remaining_time": 0
                      }
                    ],
                    "meta": {
                      "test_sets": [],
                      "test_metrics": [],
                      "learn_metrics": [
                        {
                          "best_value": "Min",
                          "name": "RMSE"
                        }
                      ],
                      "launch_mode": "Train",
                      "parameters": "",
                      "iteration_count": 1000,
                      "learn_sets": [
                        "learn"
                      ],
                      "name": "experiment"
                    }
                  }
                }
              }
            },
            "layout": "IPY_MODEL_48bd4596c6fe488c9449f78e97bd4afe"
          }
        }
      }
    }
  },
  "cells": [
    {
      "cell_type": "markdown",
      "metadata": {
        "id": "view-in-github",
        "colab_type": "text"
      },
      "source": [
        "<a href=\"https://colab.research.google.com/github/ArtyomKopan/GlowByte-Internship/blob/main/%D0%9F%D1%80%D0%BE%D0%BC%D1%8B%D1%88%D0%BB%D0%B5%D0%BD%D0%BD%D0%B0%D1%8F_%D0%BE%D0%BF%D1%82%D0%B8%D0%BC%D0%B8%D0%B7%D0%B0%D1%86%D0%B8%D1%8F.ipynb\" target=\"_parent\"><img src=\"https://colab.research.google.com/assets/colab-badge.svg\" alt=\"Open In Colab\"/></a>"
      ]
    },
    {
      "cell_type": "code",
      "source": [
        "!pip install catboost"
      ],
      "metadata": {
        "colab": {
          "base_uri": "https://localhost:8080/"
        },
        "collapsed": true,
        "id": "dRgU4pOB4BlO",
        "outputId": "5c3a5c78-2e79-49e0-9abb-f6a79d263fa0"
      },
      "execution_count": null,
      "outputs": [
        {
          "output_type": "stream",
          "name": "stdout",
          "text": [
            "Collecting catboost\n",
            "  Downloading catboost-1.2.5-cp310-cp310-manylinux2014_x86_64.whl (98.2 MB)\n",
            "\u001b[2K     \u001b[90m━━━━━━━━━━━━━━━━━━━━━━━━━━━━━━━━━━━━━━━━\u001b[0m \u001b[32m98.2/98.2 MB\u001b[0m \u001b[31m7.2 MB/s\u001b[0m eta \u001b[36m0:00:00\u001b[0m\n",
            "\u001b[?25hRequirement already satisfied: graphviz in /usr/local/lib/python3.10/dist-packages (from catboost) (0.20.3)\n",
            "Requirement already satisfied: matplotlib in /usr/local/lib/python3.10/dist-packages (from catboost) (3.7.1)\n",
            "Requirement already satisfied: numpy>=1.16.0 in /usr/local/lib/python3.10/dist-packages (from catboost) (1.25.2)\n",
            "Requirement already satisfied: pandas>=0.24 in /usr/local/lib/python3.10/dist-packages (from catboost) (2.0.3)\n",
            "Requirement already satisfied: scipy in /usr/local/lib/python3.10/dist-packages (from catboost) (1.11.4)\n",
            "Requirement already satisfied: plotly in /usr/local/lib/python3.10/dist-packages (from catboost) (5.15.0)\n",
            "Requirement already satisfied: six in /usr/local/lib/python3.10/dist-packages (from catboost) (1.16.0)\n",
            "Requirement already satisfied: python-dateutil>=2.8.2 in /usr/local/lib/python3.10/dist-packages (from pandas>=0.24->catboost) (2.8.2)\n",
            "Requirement already satisfied: pytz>=2020.1 in /usr/local/lib/python3.10/dist-packages (from pandas>=0.24->catboost) (2023.4)\n",
            "Requirement already satisfied: tzdata>=2022.1 in /usr/local/lib/python3.10/dist-packages (from pandas>=0.24->catboost) (2024.1)\n",
            "Requirement already satisfied: contourpy>=1.0.1 in /usr/local/lib/python3.10/dist-packages (from matplotlib->catboost) (1.2.1)\n",
            "Requirement already satisfied: cycler>=0.10 in /usr/local/lib/python3.10/dist-packages (from matplotlib->catboost) (0.12.1)\n",
            "Requirement already satisfied: fonttools>=4.22.0 in /usr/local/lib/python3.10/dist-packages (from matplotlib->catboost) (4.53.0)\n",
            "Requirement already satisfied: kiwisolver>=1.0.1 in /usr/local/lib/python3.10/dist-packages (from matplotlib->catboost) (1.4.5)\n",
            "Requirement already satisfied: packaging>=20.0 in /usr/local/lib/python3.10/dist-packages (from matplotlib->catboost) (24.1)\n",
            "Requirement already satisfied: pillow>=6.2.0 in /usr/local/lib/python3.10/dist-packages (from matplotlib->catboost) (9.4.0)\n",
            "Requirement already satisfied: pyparsing>=2.3.1 in /usr/local/lib/python3.10/dist-packages (from matplotlib->catboost) (3.1.2)\n",
            "Requirement already satisfied: tenacity>=6.2.0 in /usr/local/lib/python3.10/dist-packages (from plotly->catboost) (8.3.0)\n",
            "Installing collected packages: catboost\n",
            "Successfully installed catboost-1.2.5\n"
          ]
        }
      ]
    },
    {
      "cell_type": "code",
      "execution_count": null,
      "metadata": {
        "id": "6xOuLIGaHEb2",
        "colab": {
          "base_uri": "https://localhost:8080/"
        },
        "outputId": "566922ed-82e9-4c85-b27b-54fdbb3719a6"
      },
      "outputs": [
        {
          "output_type": "stream",
          "name": "stderr",
          "text": [
            "/usr/local/lib/python3.10/dist-packages/ipykernel/ipkernel.py:283: DeprecationWarning: `should_run_async` will not call `transform_cell` automatically in the future. Please pass the result to `transformed_cell` argument and any exception that happen during thetransform in `preprocessing_exc_tuple` in IPython 7.17 and above.\n",
            "  and should_run_async(code)\n"
          ]
        }
      ],
      "source": [
        "import pandas as pd\n",
        "import gym\n",
        "import pyqlearning\n",
        "import matplotlib.pyplot as plt\n",
        "from catboost import CatBoostRegressor, Pool\n",
        "from sklearn.metrics import mean_squared_error, r2_score\n",
        "from sklearn.model_selection import train_test_split"
      ]
    },
    {
      "cell_type": "markdown",
      "source": [
        "# Задание 1"
      ],
      "metadata": {
        "id": "05ztDBRG2KPs"
      }
    },
    {
      "cell_type": "code",
      "source": [
        "data1 = pd.read_csv('drive/MyDrive/Датасеты/optimization_data1.csv')\n",
        "data2 = pd.read_csv('drive/MyDrive/Датасеты/optimization_data2.csv')"
      ],
      "metadata": {
        "id": "nKH7gISBIBbE"
      },
      "execution_count": null,
      "outputs": []
    },
    {
      "cell_type": "code",
      "source": [
        "print(list(data1))"
      ],
      "metadata": {
        "id": "tOwu0toNRrFr",
        "outputId": "db82f7ad-c1f0-4cff-96c3-103395f3ce41",
        "colab": {
          "base_uri": "https://localhost:8080/"
        }
      },
      "execution_count": null,
      "outputs": [
        {
          "output_type": "stream",
          "name": "stdout",
          "text": [
            "['DateTime', 'Ni1', 'S1', 'Fe3O41', 'Ni2', 'S2', 'Fe3O42', 'Ni3', 'S3', 'Fe3O43', 'Ni4', 'S4', 'Fe3O44', 'Ni_final', 'S_final', 'Fe3O4_final', 'ro1', 'ro2', 'ro3', 'ro4', 'ro_final', 'ust1', 'ust2', 'ust3', 'ust4', 'v_final', 'level_final']\n"
          ]
        }
      ]
    },
    {
      "cell_type": "code",
      "source": [
        "data1 = data1.query('ro1 >= 1.0 & ro1 <= 2.5')\n",
        "data1 = data1.query('ro2 >= 1.0 & ro2 <= 2.5')\n",
        "data1 = data1.query('ro3 >= 1.0 & ro3 <= 2.5')\n",
        "data1 = data1.query('ro4 >= 1.0 & ro4 <= 2.5')"
      ],
      "metadata": {
        "id": "zaxX1NehLNkD"
      },
      "execution_count": null,
      "outputs": []
    },
    {
      "cell_type": "code",
      "source": [
        "data2 = data2.query('ro1 >= 1.0 & ro1 <= 2.5')\n",
        "data2 = data2.query('ro2 >= 1.0 & ro2 <= 2.5')\n",
        "data2 = data2.query('ro3 >= 1.0 & ro3 <= 2.5')\n",
        "data2 = data2.query('ro4 >= 1.0 & ro4 <= 2.5')"
      ],
      "metadata": {
        "id": "oIdWYIkPMrTr"
      },
      "execution_count": null,
      "outputs": []
    },
    {
      "cell_type": "code",
      "source": [
        "data1 = data1.drop_duplicates()\n",
        "data2 = data2.drop_duplicates()"
      ],
      "metadata": {
        "id": "yUkaxz3HQ8Qk"
      },
      "execution_count": null,
      "outputs": []
    },
    {
      "cell_type": "code",
      "source": [
        "data1.head()"
      ],
      "metadata": {
        "colab": {
          "base_uri": "https://localhost:8080/",
          "height": 342
        },
        "id": "yU7yfCP-Ict8",
        "outputId": "69db5961-8da9-4a2d-bdce-ebd320de53be"
      },
      "execution_count": null,
      "outputs": [
        {
          "output_type": "execute_result",
          "data": {
            "text/plain": [
              "              DateTime   Ni1     S1  Fe3O41   Ni2     S2  Fe3O42   Ni3     S3  \\\n",
              "0  2021-01-01 00:00:00  5.45  22.39     1.5  3.87  17.52     1.7  8.62  13.21   \n",
              "1  2021-01-01 00:01:00  5.45  22.39     1.5  3.87  17.52     1.7  8.62  13.21   \n",
              "2  2021-01-01 00:02:00  5.45  22.39     1.5  3.87  17.52     1.7  8.62  13.21   \n",
              "3  2021-01-01 00:03:00  5.45  22.39     1.5  3.87  17.52     1.7  8.62  13.21   \n",
              "4  2021-01-01 00:04:00  5.45  22.39     1.5  3.87  17.52     1.7  8.62  13.21   \n",
              "\n",
              "   Fe3O43  ...      ro2      ro3      ro4  ro_final  ust1  ust2  ust3  ust4  \\\n",
              "0     5.0  ...  1.68910  2.01670  1.86565    1.8684   0.0   0.0    44  97.0   \n",
              "1     5.0  ...  1.69955  2.02900  1.86145    1.8752   0.0   0.0    44  97.0   \n",
              "2     5.0  ...  1.69980  2.04530  1.85210    1.8635   0.0   0.0    44  97.0   \n",
              "3     5.0  ...  1.69845  2.05230  1.84420    1.8572   0.0   0.0    44  97.0   \n",
              "4     5.0  ...  1.69470  2.06035  1.83950    1.8526   0.0   0.0    44  97.0   \n",
              "\n",
              "   v_final  level_final  \n",
              "0      179      69.2796  \n",
              "1      179      69.1331  \n",
              "2      179      66.7399  \n",
              "3      179      64.2247  \n",
              "4      179      62.2955  \n",
              "\n",
              "[5 rows x 27 columns]"
            ],
            "text/html": [
              "\n",
              "  <div id=\"df-e947a449-3c88-42ba-83a0-35c7ed9e7a7b\" class=\"colab-df-container\">\n",
              "    <div>\n",
              "<style scoped>\n",
              "    .dataframe tbody tr th:only-of-type {\n",
              "        vertical-align: middle;\n",
              "    }\n",
              "\n",
              "    .dataframe tbody tr th {\n",
              "        vertical-align: top;\n",
              "    }\n",
              "\n",
              "    .dataframe thead th {\n",
              "        text-align: right;\n",
              "    }\n",
              "</style>\n",
              "<table border=\"1\" class=\"dataframe\">\n",
              "  <thead>\n",
              "    <tr style=\"text-align: right;\">\n",
              "      <th></th>\n",
              "      <th>DateTime</th>\n",
              "      <th>Ni1</th>\n",
              "      <th>S1</th>\n",
              "      <th>Fe3O41</th>\n",
              "      <th>Ni2</th>\n",
              "      <th>S2</th>\n",
              "      <th>Fe3O42</th>\n",
              "      <th>Ni3</th>\n",
              "      <th>S3</th>\n",
              "      <th>Fe3O43</th>\n",
              "      <th>...</th>\n",
              "      <th>ro2</th>\n",
              "      <th>ro3</th>\n",
              "      <th>ro4</th>\n",
              "      <th>ro_final</th>\n",
              "      <th>ust1</th>\n",
              "      <th>ust2</th>\n",
              "      <th>ust3</th>\n",
              "      <th>ust4</th>\n",
              "      <th>v_final</th>\n",
              "      <th>level_final</th>\n",
              "    </tr>\n",
              "  </thead>\n",
              "  <tbody>\n",
              "    <tr>\n",
              "      <th>0</th>\n",
              "      <td>2021-01-01 00:00:00</td>\n",
              "      <td>5.45</td>\n",
              "      <td>22.39</td>\n",
              "      <td>1.5</td>\n",
              "      <td>3.87</td>\n",
              "      <td>17.52</td>\n",
              "      <td>1.7</td>\n",
              "      <td>8.62</td>\n",
              "      <td>13.21</td>\n",
              "      <td>5.0</td>\n",
              "      <td>...</td>\n",
              "      <td>1.68910</td>\n",
              "      <td>2.01670</td>\n",
              "      <td>1.86565</td>\n",
              "      <td>1.8684</td>\n",
              "      <td>0.0</td>\n",
              "      <td>0.0</td>\n",
              "      <td>44</td>\n",
              "      <td>97.0</td>\n",
              "      <td>179</td>\n",
              "      <td>69.2796</td>\n",
              "    </tr>\n",
              "    <tr>\n",
              "      <th>1</th>\n",
              "      <td>2021-01-01 00:01:00</td>\n",
              "      <td>5.45</td>\n",
              "      <td>22.39</td>\n",
              "      <td>1.5</td>\n",
              "      <td>3.87</td>\n",
              "      <td>17.52</td>\n",
              "      <td>1.7</td>\n",
              "      <td>8.62</td>\n",
              "      <td>13.21</td>\n",
              "      <td>5.0</td>\n",
              "      <td>...</td>\n",
              "      <td>1.69955</td>\n",
              "      <td>2.02900</td>\n",
              "      <td>1.86145</td>\n",
              "      <td>1.8752</td>\n",
              "      <td>0.0</td>\n",
              "      <td>0.0</td>\n",
              "      <td>44</td>\n",
              "      <td>97.0</td>\n",
              "      <td>179</td>\n",
              "      <td>69.1331</td>\n",
              "    </tr>\n",
              "    <tr>\n",
              "      <th>2</th>\n",
              "      <td>2021-01-01 00:02:00</td>\n",
              "      <td>5.45</td>\n",
              "      <td>22.39</td>\n",
              "      <td>1.5</td>\n",
              "      <td>3.87</td>\n",
              "      <td>17.52</td>\n",
              "      <td>1.7</td>\n",
              "      <td>8.62</td>\n",
              "      <td>13.21</td>\n",
              "      <td>5.0</td>\n",
              "      <td>...</td>\n",
              "      <td>1.69980</td>\n",
              "      <td>2.04530</td>\n",
              "      <td>1.85210</td>\n",
              "      <td>1.8635</td>\n",
              "      <td>0.0</td>\n",
              "      <td>0.0</td>\n",
              "      <td>44</td>\n",
              "      <td>97.0</td>\n",
              "      <td>179</td>\n",
              "      <td>66.7399</td>\n",
              "    </tr>\n",
              "    <tr>\n",
              "      <th>3</th>\n",
              "      <td>2021-01-01 00:03:00</td>\n",
              "      <td>5.45</td>\n",
              "      <td>22.39</td>\n",
              "      <td>1.5</td>\n",
              "      <td>3.87</td>\n",
              "      <td>17.52</td>\n",
              "      <td>1.7</td>\n",
              "      <td>8.62</td>\n",
              "      <td>13.21</td>\n",
              "      <td>5.0</td>\n",
              "      <td>...</td>\n",
              "      <td>1.69845</td>\n",
              "      <td>2.05230</td>\n",
              "      <td>1.84420</td>\n",
              "      <td>1.8572</td>\n",
              "      <td>0.0</td>\n",
              "      <td>0.0</td>\n",
              "      <td>44</td>\n",
              "      <td>97.0</td>\n",
              "      <td>179</td>\n",
              "      <td>64.2247</td>\n",
              "    </tr>\n",
              "    <tr>\n",
              "      <th>4</th>\n",
              "      <td>2021-01-01 00:04:00</td>\n",
              "      <td>5.45</td>\n",
              "      <td>22.39</td>\n",
              "      <td>1.5</td>\n",
              "      <td>3.87</td>\n",
              "      <td>17.52</td>\n",
              "      <td>1.7</td>\n",
              "      <td>8.62</td>\n",
              "      <td>13.21</td>\n",
              "      <td>5.0</td>\n",
              "      <td>...</td>\n",
              "      <td>1.69470</td>\n",
              "      <td>2.06035</td>\n",
              "      <td>1.83950</td>\n",
              "      <td>1.8526</td>\n",
              "      <td>0.0</td>\n",
              "      <td>0.0</td>\n",
              "      <td>44</td>\n",
              "      <td>97.0</td>\n",
              "      <td>179</td>\n",
              "      <td>62.2955</td>\n",
              "    </tr>\n",
              "  </tbody>\n",
              "</table>\n",
              "<p>5 rows × 27 columns</p>\n",
              "</div>\n",
              "    <div class=\"colab-df-buttons\">\n",
              "\n",
              "  <div class=\"colab-df-container\">\n",
              "    <button class=\"colab-df-convert\" onclick=\"convertToInteractive('df-e947a449-3c88-42ba-83a0-35c7ed9e7a7b')\"\n",
              "            title=\"Convert this dataframe to an interactive table.\"\n",
              "            style=\"display:none;\">\n",
              "\n",
              "  <svg xmlns=\"http://www.w3.org/2000/svg\" height=\"24px\" viewBox=\"0 -960 960 960\">\n",
              "    <path d=\"M120-120v-720h720v720H120Zm60-500h600v-160H180v160Zm220 220h160v-160H400v160Zm0 220h160v-160H400v160ZM180-400h160v-160H180v160Zm440 0h160v-160H620v160ZM180-180h160v-160H180v160Zm440 0h160v-160H620v160Z\"/>\n",
              "  </svg>\n",
              "    </button>\n",
              "\n",
              "  <style>\n",
              "    .colab-df-container {\n",
              "      display:flex;\n",
              "      gap: 12px;\n",
              "    }\n",
              "\n",
              "    .colab-df-convert {\n",
              "      background-color: #E8F0FE;\n",
              "      border: none;\n",
              "      border-radius: 50%;\n",
              "      cursor: pointer;\n",
              "      display: none;\n",
              "      fill: #1967D2;\n",
              "      height: 32px;\n",
              "      padding: 0 0 0 0;\n",
              "      width: 32px;\n",
              "    }\n",
              "\n",
              "    .colab-df-convert:hover {\n",
              "      background-color: #E2EBFA;\n",
              "      box-shadow: 0px 1px 2px rgba(60, 64, 67, 0.3), 0px 1px 3px 1px rgba(60, 64, 67, 0.15);\n",
              "      fill: #174EA6;\n",
              "    }\n",
              "\n",
              "    .colab-df-buttons div {\n",
              "      margin-bottom: 4px;\n",
              "    }\n",
              "\n",
              "    [theme=dark] .colab-df-convert {\n",
              "      background-color: #3B4455;\n",
              "      fill: #D2E3FC;\n",
              "    }\n",
              "\n",
              "    [theme=dark] .colab-df-convert:hover {\n",
              "      background-color: #434B5C;\n",
              "      box-shadow: 0px 1px 3px 1px rgba(0, 0, 0, 0.15);\n",
              "      filter: drop-shadow(0px 1px 2px rgba(0, 0, 0, 0.3));\n",
              "      fill: #FFFFFF;\n",
              "    }\n",
              "  </style>\n",
              "\n",
              "    <script>\n",
              "      const buttonEl =\n",
              "        document.querySelector('#df-e947a449-3c88-42ba-83a0-35c7ed9e7a7b button.colab-df-convert');\n",
              "      buttonEl.style.display =\n",
              "        google.colab.kernel.accessAllowed ? 'block' : 'none';\n",
              "\n",
              "      async function convertToInteractive(key) {\n",
              "        const element = document.querySelector('#df-e947a449-3c88-42ba-83a0-35c7ed9e7a7b');\n",
              "        const dataTable =\n",
              "          await google.colab.kernel.invokeFunction('convertToInteractive',\n",
              "                                                    [key], {});\n",
              "        if (!dataTable) return;\n",
              "\n",
              "        const docLinkHtml = 'Like what you see? Visit the ' +\n",
              "          '<a target=\"_blank\" href=https://colab.research.google.com/notebooks/data_table.ipynb>data table notebook</a>'\n",
              "          + ' to learn more about interactive tables.';\n",
              "        element.innerHTML = '';\n",
              "        dataTable['output_type'] = 'display_data';\n",
              "        await google.colab.output.renderOutput(dataTable, element);\n",
              "        const docLink = document.createElement('div');\n",
              "        docLink.innerHTML = docLinkHtml;\n",
              "        element.appendChild(docLink);\n",
              "      }\n",
              "    </script>\n",
              "  </div>\n",
              "\n",
              "\n",
              "<div id=\"df-f38369a0-becc-4199-acca-070bfd559c1a\">\n",
              "  <button class=\"colab-df-quickchart\" onclick=\"quickchart('df-f38369a0-becc-4199-acca-070bfd559c1a')\"\n",
              "            title=\"Suggest charts\"\n",
              "            style=\"display:none;\">\n",
              "\n",
              "<svg xmlns=\"http://www.w3.org/2000/svg\" height=\"24px\"viewBox=\"0 0 24 24\"\n",
              "     width=\"24px\">\n",
              "    <g>\n",
              "        <path d=\"M19 3H5c-1.1 0-2 .9-2 2v14c0 1.1.9 2 2 2h14c1.1 0 2-.9 2-2V5c0-1.1-.9-2-2-2zM9 17H7v-7h2v7zm4 0h-2V7h2v10zm4 0h-2v-4h2v4z\"/>\n",
              "    </g>\n",
              "</svg>\n",
              "  </button>\n",
              "\n",
              "<style>\n",
              "  .colab-df-quickchart {\n",
              "      --bg-color: #E8F0FE;\n",
              "      --fill-color: #1967D2;\n",
              "      --hover-bg-color: #E2EBFA;\n",
              "      --hover-fill-color: #174EA6;\n",
              "      --disabled-fill-color: #AAA;\n",
              "      --disabled-bg-color: #DDD;\n",
              "  }\n",
              "\n",
              "  [theme=dark] .colab-df-quickchart {\n",
              "      --bg-color: #3B4455;\n",
              "      --fill-color: #D2E3FC;\n",
              "      --hover-bg-color: #434B5C;\n",
              "      --hover-fill-color: #FFFFFF;\n",
              "      --disabled-bg-color: #3B4455;\n",
              "      --disabled-fill-color: #666;\n",
              "  }\n",
              "\n",
              "  .colab-df-quickchart {\n",
              "    background-color: var(--bg-color);\n",
              "    border: none;\n",
              "    border-radius: 50%;\n",
              "    cursor: pointer;\n",
              "    display: none;\n",
              "    fill: var(--fill-color);\n",
              "    height: 32px;\n",
              "    padding: 0;\n",
              "    width: 32px;\n",
              "  }\n",
              "\n",
              "  .colab-df-quickchart:hover {\n",
              "    background-color: var(--hover-bg-color);\n",
              "    box-shadow: 0 1px 2px rgba(60, 64, 67, 0.3), 0 1px 3px 1px rgba(60, 64, 67, 0.15);\n",
              "    fill: var(--button-hover-fill-color);\n",
              "  }\n",
              "\n",
              "  .colab-df-quickchart-complete:disabled,\n",
              "  .colab-df-quickchart-complete:disabled:hover {\n",
              "    background-color: var(--disabled-bg-color);\n",
              "    fill: var(--disabled-fill-color);\n",
              "    box-shadow: none;\n",
              "  }\n",
              "\n",
              "  .colab-df-spinner {\n",
              "    border: 2px solid var(--fill-color);\n",
              "    border-color: transparent;\n",
              "    border-bottom-color: var(--fill-color);\n",
              "    animation:\n",
              "      spin 1s steps(1) infinite;\n",
              "  }\n",
              "\n",
              "  @keyframes spin {\n",
              "    0% {\n",
              "      border-color: transparent;\n",
              "      border-bottom-color: var(--fill-color);\n",
              "      border-left-color: var(--fill-color);\n",
              "    }\n",
              "    20% {\n",
              "      border-color: transparent;\n",
              "      border-left-color: var(--fill-color);\n",
              "      border-top-color: var(--fill-color);\n",
              "    }\n",
              "    30% {\n",
              "      border-color: transparent;\n",
              "      border-left-color: var(--fill-color);\n",
              "      border-top-color: var(--fill-color);\n",
              "      border-right-color: var(--fill-color);\n",
              "    }\n",
              "    40% {\n",
              "      border-color: transparent;\n",
              "      border-right-color: var(--fill-color);\n",
              "      border-top-color: var(--fill-color);\n",
              "    }\n",
              "    60% {\n",
              "      border-color: transparent;\n",
              "      border-right-color: var(--fill-color);\n",
              "    }\n",
              "    80% {\n",
              "      border-color: transparent;\n",
              "      border-right-color: var(--fill-color);\n",
              "      border-bottom-color: var(--fill-color);\n",
              "    }\n",
              "    90% {\n",
              "      border-color: transparent;\n",
              "      border-bottom-color: var(--fill-color);\n",
              "    }\n",
              "  }\n",
              "</style>\n",
              "\n",
              "  <script>\n",
              "    async function quickchart(key) {\n",
              "      const quickchartButtonEl =\n",
              "        document.querySelector('#' + key + ' button');\n",
              "      quickchartButtonEl.disabled = true;  // To prevent multiple clicks.\n",
              "      quickchartButtonEl.classList.add('colab-df-spinner');\n",
              "      try {\n",
              "        const charts = await google.colab.kernel.invokeFunction(\n",
              "            'suggestCharts', [key], {});\n",
              "      } catch (error) {\n",
              "        console.error('Error during call to suggestCharts:', error);\n",
              "      }\n",
              "      quickchartButtonEl.classList.remove('colab-df-spinner');\n",
              "      quickchartButtonEl.classList.add('colab-df-quickchart-complete');\n",
              "    }\n",
              "    (() => {\n",
              "      let quickchartButtonEl =\n",
              "        document.querySelector('#df-f38369a0-becc-4199-acca-070bfd559c1a button');\n",
              "      quickchartButtonEl.style.display =\n",
              "        google.colab.kernel.accessAllowed ? 'block' : 'none';\n",
              "    })();\n",
              "  </script>\n",
              "</div>\n",
              "    </div>\n",
              "  </div>\n"
            ],
            "application/vnd.google.colaboratory.intrinsic+json": {
              "type": "dataframe",
              "variable_name": "data1"
            }
          },
          "metadata": {},
          "execution_count": 13
        }
      ]
    },
    {
      "cell_type": "code",
      "source": [
        "data2.head()"
      ],
      "metadata": {
        "colab": {
          "base_uri": "https://localhost:8080/",
          "height": 342
        },
        "id": "htBWghzKJB-f",
        "outputId": "9a6a572e-a67b-4956-ecac-7a8090cdac0b"
      },
      "execution_count": null,
      "outputs": [
        {
          "output_type": "execute_result",
          "data": {
            "text/plain": [
              "              DateTime   Ni1     S1  Fe3O41   Ni2     S2  Fe3O42   Ni3     S3  \\\n",
              "0  2021-01-01 00:00:00  5.45  22.39     1.5  3.87  17.52     1.7  8.62  13.21   \n",
              "1  2021-01-01 00:01:00  5.45  22.39     1.5  3.87  17.52     1.7  8.62  13.21   \n",
              "2  2021-01-01 00:02:00  5.45  22.39     1.5  3.87  17.52     1.7  8.62  13.21   \n",
              "3  2021-01-01 00:03:00  5.45  22.39     1.5  3.87  17.52     1.7  8.62  13.21   \n",
              "4  2021-01-01 00:04:00  5.45  22.39     1.5  3.87  17.52     1.7  8.62  13.21   \n",
              "\n",
              "   Fe3O43  ...      ro2      ro3      ro4  ro_final  ust1  ust2  ust3   ust4  \\\n",
              "0     5.0  ...  1.68910  2.01670  1.86565    1.8892   0.0  44.0  23.0  167.0   \n",
              "1     5.0  ...  1.69955  2.02900  1.86145    1.8896   0.0  44.0  23.0  167.0   \n",
              "2     5.0  ...  1.69980  2.04530  1.85210    1.8833   0.0  44.0  23.0  167.0   \n",
              "3     5.0  ...  1.69845  2.05230  1.84420    1.8812   0.0  44.0  23.0  167.0   \n",
              "4     5.0  ...  1.69470  2.06035  1.83950    1.8796   0.0  44.0  23.0  167.0   \n",
              "\n",
              "   v_final  level_final  \n",
              "0      163      64.9328  \n",
              "1      163      66.4469  \n",
              "2      163      68.4982  \n",
              "3      163      71.1600  \n",
              "4      163      74.9939  \n",
              "\n",
              "[5 rows x 27 columns]"
            ],
            "text/html": [
              "\n",
              "  <div id=\"df-b4a97ddb-9afc-425d-b80f-30c912db50a8\" class=\"colab-df-container\">\n",
              "    <div>\n",
              "<style scoped>\n",
              "    .dataframe tbody tr th:only-of-type {\n",
              "        vertical-align: middle;\n",
              "    }\n",
              "\n",
              "    .dataframe tbody tr th {\n",
              "        vertical-align: top;\n",
              "    }\n",
              "\n",
              "    .dataframe thead th {\n",
              "        text-align: right;\n",
              "    }\n",
              "</style>\n",
              "<table border=\"1\" class=\"dataframe\">\n",
              "  <thead>\n",
              "    <tr style=\"text-align: right;\">\n",
              "      <th></th>\n",
              "      <th>DateTime</th>\n",
              "      <th>Ni1</th>\n",
              "      <th>S1</th>\n",
              "      <th>Fe3O41</th>\n",
              "      <th>Ni2</th>\n",
              "      <th>S2</th>\n",
              "      <th>Fe3O42</th>\n",
              "      <th>Ni3</th>\n",
              "      <th>S3</th>\n",
              "      <th>Fe3O43</th>\n",
              "      <th>...</th>\n",
              "      <th>ro2</th>\n",
              "      <th>ro3</th>\n",
              "      <th>ro4</th>\n",
              "      <th>ro_final</th>\n",
              "      <th>ust1</th>\n",
              "      <th>ust2</th>\n",
              "      <th>ust3</th>\n",
              "      <th>ust4</th>\n",
              "      <th>v_final</th>\n",
              "      <th>level_final</th>\n",
              "    </tr>\n",
              "  </thead>\n",
              "  <tbody>\n",
              "    <tr>\n",
              "      <th>0</th>\n",
              "      <td>2021-01-01 00:00:00</td>\n",
              "      <td>5.45</td>\n",
              "      <td>22.39</td>\n",
              "      <td>1.5</td>\n",
              "      <td>3.87</td>\n",
              "      <td>17.52</td>\n",
              "      <td>1.7</td>\n",
              "      <td>8.62</td>\n",
              "      <td>13.21</td>\n",
              "      <td>5.0</td>\n",
              "      <td>...</td>\n",
              "      <td>1.68910</td>\n",
              "      <td>2.01670</td>\n",
              "      <td>1.86565</td>\n",
              "      <td>1.8892</td>\n",
              "      <td>0.0</td>\n",
              "      <td>44.0</td>\n",
              "      <td>23.0</td>\n",
              "      <td>167.0</td>\n",
              "      <td>163</td>\n",
              "      <td>64.9328</td>\n",
              "    </tr>\n",
              "    <tr>\n",
              "      <th>1</th>\n",
              "      <td>2021-01-01 00:01:00</td>\n",
              "      <td>5.45</td>\n",
              "      <td>22.39</td>\n",
              "      <td>1.5</td>\n",
              "      <td>3.87</td>\n",
              "      <td>17.52</td>\n",
              "      <td>1.7</td>\n",
              "      <td>8.62</td>\n",
              "      <td>13.21</td>\n",
              "      <td>5.0</td>\n",
              "      <td>...</td>\n",
              "      <td>1.69955</td>\n",
              "      <td>2.02900</td>\n",
              "      <td>1.86145</td>\n",
              "      <td>1.8896</td>\n",
              "      <td>0.0</td>\n",
              "      <td>44.0</td>\n",
              "      <td>23.0</td>\n",
              "      <td>167.0</td>\n",
              "      <td>163</td>\n",
              "      <td>66.4469</td>\n",
              "    </tr>\n",
              "    <tr>\n",
              "      <th>2</th>\n",
              "      <td>2021-01-01 00:02:00</td>\n",
              "      <td>5.45</td>\n",
              "      <td>22.39</td>\n",
              "      <td>1.5</td>\n",
              "      <td>3.87</td>\n",
              "      <td>17.52</td>\n",
              "      <td>1.7</td>\n",
              "      <td>8.62</td>\n",
              "      <td>13.21</td>\n",
              "      <td>5.0</td>\n",
              "      <td>...</td>\n",
              "      <td>1.69980</td>\n",
              "      <td>2.04530</td>\n",
              "      <td>1.85210</td>\n",
              "      <td>1.8833</td>\n",
              "      <td>0.0</td>\n",
              "      <td>44.0</td>\n",
              "      <td>23.0</td>\n",
              "      <td>167.0</td>\n",
              "      <td>163</td>\n",
              "      <td>68.4982</td>\n",
              "    </tr>\n",
              "    <tr>\n",
              "      <th>3</th>\n",
              "      <td>2021-01-01 00:03:00</td>\n",
              "      <td>5.45</td>\n",
              "      <td>22.39</td>\n",
              "      <td>1.5</td>\n",
              "      <td>3.87</td>\n",
              "      <td>17.52</td>\n",
              "      <td>1.7</td>\n",
              "      <td>8.62</td>\n",
              "      <td>13.21</td>\n",
              "      <td>5.0</td>\n",
              "      <td>...</td>\n",
              "      <td>1.69845</td>\n",
              "      <td>2.05230</td>\n",
              "      <td>1.84420</td>\n",
              "      <td>1.8812</td>\n",
              "      <td>0.0</td>\n",
              "      <td>44.0</td>\n",
              "      <td>23.0</td>\n",
              "      <td>167.0</td>\n",
              "      <td>163</td>\n",
              "      <td>71.1600</td>\n",
              "    </tr>\n",
              "    <tr>\n",
              "      <th>4</th>\n",
              "      <td>2021-01-01 00:04:00</td>\n",
              "      <td>5.45</td>\n",
              "      <td>22.39</td>\n",
              "      <td>1.5</td>\n",
              "      <td>3.87</td>\n",
              "      <td>17.52</td>\n",
              "      <td>1.7</td>\n",
              "      <td>8.62</td>\n",
              "      <td>13.21</td>\n",
              "      <td>5.0</td>\n",
              "      <td>...</td>\n",
              "      <td>1.69470</td>\n",
              "      <td>2.06035</td>\n",
              "      <td>1.83950</td>\n",
              "      <td>1.8796</td>\n",
              "      <td>0.0</td>\n",
              "      <td>44.0</td>\n",
              "      <td>23.0</td>\n",
              "      <td>167.0</td>\n",
              "      <td>163</td>\n",
              "      <td>74.9939</td>\n",
              "    </tr>\n",
              "  </tbody>\n",
              "</table>\n",
              "<p>5 rows × 27 columns</p>\n",
              "</div>\n",
              "    <div class=\"colab-df-buttons\">\n",
              "\n",
              "  <div class=\"colab-df-container\">\n",
              "    <button class=\"colab-df-convert\" onclick=\"convertToInteractive('df-b4a97ddb-9afc-425d-b80f-30c912db50a8')\"\n",
              "            title=\"Convert this dataframe to an interactive table.\"\n",
              "            style=\"display:none;\">\n",
              "\n",
              "  <svg xmlns=\"http://www.w3.org/2000/svg\" height=\"24px\" viewBox=\"0 -960 960 960\">\n",
              "    <path d=\"M120-120v-720h720v720H120Zm60-500h600v-160H180v160Zm220 220h160v-160H400v160Zm0 220h160v-160H400v160ZM180-400h160v-160H180v160Zm440 0h160v-160H620v160ZM180-180h160v-160H180v160Zm440 0h160v-160H620v160Z\"/>\n",
              "  </svg>\n",
              "    </button>\n",
              "\n",
              "  <style>\n",
              "    .colab-df-container {\n",
              "      display:flex;\n",
              "      gap: 12px;\n",
              "    }\n",
              "\n",
              "    .colab-df-convert {\n",
              "      background-color: #E8F0FE;\n",
              "      border: none;\n",
              "      border-radius: 50%;\n",
              "      cursor: pointer;\n",
              "      display: none;\n",
              "      fill: #1967D2;\n",
              "      height: 32px;\n",
              "      padding: 0 0 0 0;\n",
              "      width: 32px;\n",
              "    }\n",
              "\n",
              "    .colab-df-convert:hover {\n",
              "      background-color: #E2EBFA;\n",
              "      box-shadow: 0px 1px 2px rgba(60, 64, 67, 0.3), 0px 1px 3px 1px rgba(60, 64, 67, 0.15);\n",
              "      fill: #174EA6;\n",
              "    }\n",
              "\n",
              "    .colab-df-buttons div {\n",
              "      margin-bottom: 4px;\n",
              "    }\n",
              "\n",
              "    [theme=dark] .colab-df-convert {\n",
              "      background-color: #3B4455;\n",
              "      fill: #D2E3FC;\n",
              "    }\n",
              "\n",
              "    [theme=dark] .colab-df-convert:hover {\n",
              "      background-color: #434B5C;\n",
              "      box-shadow: 0px 1px 3px 1px rgba(0, 0, 0, 0.15);\n",
              "      filter: drop-shadow(0px 1px 2px rgba(0, 0, 0, 0.3));\n",
              "      fill: #FFFFFF;\n",
              "    }\n",
              "  </style>\n",
              "\n",
              "    <script>\n",
              "      const buttonEl =\n",
              "        document.querySelector('#df-b4a97ddb-9afc-425d-b80f-30c912db50a8 button.colab-df-convert');\n",
              "      buttonEl.style.display =\n",
              "        google.colab.kernel.accessAllowed ? 'block' : 'none';\n",
              "\n",
              "      async function convertToInteractive(key) {\n",
              "        const element = document.querySelector('#df-b4a97ddb-9afc-425d-b80f-30c912db50a8');\n",
              "        const dataTable =\n",
              "          await google.colab.kernel.invokeFunction('convertToInteractive',\n",
              "                                                    [key], {});\n",
              "        if (!dataTable) return;\n",
              "\n",
              "        const docLinkHtml = 'Like what you see? Visit the ' +\n",
              "          '<a target=\"_blank\" href=https://colab.research.google.com/notebooks/data_table.ipynb>data table notebook</a>'\n",
              "          + ' to learn more about interactive tables.';\n",
              "        element.innerHTML = '';\n",
              "        dataTable['output_type'] = 'display_data';\n",
              "        await google.colab.output.renderOutput(dataTable, element);\n",
              "        const docLink = document.createElement('div');\n",
              "        docLink.innerHTML = docLinkHtml;\n",
              "        element.appendChild(docLink);\n",
              "      }\n",
              "    </script>\n",
              "  </div>\n",
              "\n",
              "\n",
              "<div id=\"df-c5250f5e-452d-4513-bdbe-5654b2ee2814\">\n",
              "  <button class=\"colab-df-quickchart\" onclick=\"quickchart('df-c5250f5e-452d-4513-bdbe-5654b2ee2814')\"\n",
              "            title=\"Suggest charts\"\n",
              "            style=\"display:none;\">\n",
              "\n",
              "<svg xmlns=\"http://www.w3.org/2000/svg\" height=\"24px\"viewBox=\"0 0 24 24\"\n",
              "     width=\"24px\">\n",
              "    <g>\n",
              "        <path d=\"M19 3H5c-1.1 0-2 .9-2 2v14c0 1.1.9 2 2 2h14c1.1 0 2-.9 2-2V5c0-1.1-.9-2-2-2zM9 17H7v-7h2v7zm4 0h-2V7h2v10zm4 0h-2v-4h2v4z\"/>\n",
              "    </g>\n",
              "</svg>\n",
              "  </button>\n",
              "\n",
              "<style>\n",
              "  .colab-df-quickchart {\n",
              "      --bg-color: #E8F0FE;\n",
              "      --fill-color: #1967D2;\n",
              "      --hover-bg-color: #E2EBFA;\n",
              "      --hover-fill-color: #174EA6;\n",
              "      --disabled-fill-color: #AAA;\n",
              "      --disabled-bg-color: #DDD;\n",
              "  }\n",
              "\n",
              "  [theme=dark] .colab-df-quickchart {\n",
              "      --bg-color: #3B4455;\n",
              "      --fill-color: #D2E3FC;\n",
              "      --hover-bg-color: #434B5C;\n",
              "      --hover-fill-color: #FFFFFF;\n",
              "      --disabled-bg-color: #3B4455;\n",
              "      --disabled-fill-color: #666;\n",
              "  }\n",
              "\n",
              "  .colab-df-quickchart {\n",
              "    background-color: var(--bg-color);\n",
              "    border: none;\n",
              "    border-radius: 50%;\n",
              "    cursor: pointer;\n",
              "    display: none;\n",
              "    fill: var(--fill-color);\n",
              "    height: 32px;\n",
              "    padding: 0;\n",
              "    width: 32px;\n",
              "  }\n",
              "\n",
              "  .colab-df-quickchart:hover {\n",
              "    background-color: var(--hover-bg-color);\n",
              "    box-shadow: 0 1px 2px rgba(60, 64, 67, 0.3), 0 1px 3px 1px rgba(60, 64, 67, 0.15);\n",
              "    fill: var(--button-hover-fill-color);\n",
              "  }\n",
              "\n",
              "  .colab-df-quickchart-complete:disabled,\n",
              "  .colab-df-quickchart-complete:disabled:hover {\n",
              "    background-color: var(--disabled-bg-color);\n",
              "    fill: var(--disabled-fill-color);\n",
              "    box-shadow: none;\n",
              "  }\n",
              "\n",
              "  .colab-df-spinner {\n",
              "    border: 2px solid var(--fill-color);\n",
              "    border-color: transparent;\n",
              "    border-bottom-color: var(--fill-color);\n",
              "    animation:\n",
              "      spin 1s steps(1) infinite;\n",
              "  }\n",
              "\n",
              "  @keyframes spin {\n",
              "    0% {\n",
              "      border-color: transparent;\n",
              "      border-bottom-color: var(--fill-color);\n",
              "      border-left-color: var(--fill-color);\n",
              "    }\n",
              "    20% {\n",
              "      border-color: transparent;\n",
              "      border-left-color: var(--fill-color);\n",
              "      border-top-color: var(--fill-color);\n",
              "    }\n",
              "    30% {\n",
              "      border-color: transparent;\n",
              "      border-left-color: var(--fill-color);\n",
              "      border-top-color: var(--fill-color);\n",
              "      border-right-color: var(--fill-color);\n",
              "    }\n",
              "    40% {\n",
              "      border-color: transparent;\n",
              "      border-right-color: var(--fill-color);\n",
              "      border-top-color: var(--fill-color);\n",
              "    }\n",
              "    60% {\n",
              "      border-color: transparent;\n",
              "      border-right-color: var(--fill-color);\n",
              "    }\n",
              "    80% {\n",
              "      border-color: transparent;\n",
              "      border-right-color: var(--fill-color);\n",
              "      border-bottom-color: var(--fill-color);\n",
              "    }\n",
              "    90% {\n",
              "      border-color: transparent;\n",
              "      border-bottom-color: var(--fill-color);\n",
              "    }\n",
              "  }\n",
              "</style>\n",
              "\n",
              "  <script>\n",
              "    async function quickchart(key) {\n",
              "      const quickchartButtonEl =\n",
              "        document.querySelector('#' + key + ' button');\n",
              "      quickchartButtonEl.disabled = true;  // To prevent multiple clicks.\n",
              "      quickchartButtonEl.classList.add('colab-df-spinner');\n",
              "      try {\n",
              "        const charts = await google.colab.kernel.invokeFunction(\n",
              "            'suggestCharts', [key], {});\n",
              "      } catch (error) {\n",
              "        console.error('Error during call to suggestCharts:', error);\n",
              "      }\n",
              "      quickchartButtonEl.classList.remove('colab-df-spinner');\n",
              "      quickchartButtonEl.classList.add('colab-df-quickchart-complete');\n",
              "    }\n",
              "    (() => {\n",
              "      let quickchartButtonEl =\n",
              "        document.querySelector('#df-c5250f5e-452d-4513-bdbe-5654b2ee2814 button');\n",
              "      quickchartButtonEl.style.display =\n",
              "        google.colab.kernel.accessAllowed ? 'block' : 'none';\n",
              "    })();\n",
              "  </script>\n",
              "</div>\n",
              "    </div>\n",
              "  </div>\n"
            ],
            "application/vnd.google.colaboratory.intrinsic+json": {
              "type": "dataframe",
              "variable_name": "data2"
            }
          },
          "metadata": {},
          "execution_count": 14
        }
      ]
    },
    {
      "cell_type": "code",
      "source": [
        "data1.describe()"
      ],
      "metadata": {
        "colab": {
          "base_uri": "https://localhost:8080/",
          "height": 349
        },
        "id": "1rohhFayItgN",
        "outputId": "da336acc-b7b5-433b-eee9-9ddf9cb32a6b"
      },
      "execution_count": null,
      "outputs": [
        {
          "output_type": "execute_result",
          "data": {
            "text/plain": [
              "                 Ni1             S1         Fe3O41            Ni2  \\\n",
              "count  489633.000000  489633.000000  489633.000000  489633.000000   \n",
              "mean        5.568443      19.543066       2.019991       5.940489   \n",
              "std         1.268120       2.699316       0.868119       1.816763   \n",
              "min         3.660000       9.930000       0.700000       2.890000   \n",
              "25%         4.730000      19.000000       1.500000       4.500000   \n",
              "50%         5.180000      20.200000       1.800000       5.300000   \n",
              "75%         6.020000      21.200000       2.200000       7.670000   \n",
              "max         9.600000      27.700000       6.200000      10.240000   \n",
              "\n",
              "                  S2         Fe3O42            Ni3             S3  \\\n",
              "count  489633.000000  489633.000000  489633.000000  489633.000000   \n",
              "mean       17.571800       2.575378       7.626039      19.580014   \n",
              "std         3.059676       1.348188       1.327672       3.885691   \n",
              "min         8.100000       0.200000       4.130000      11.300000   \n",
              "25%        16.150000       1.600000       6.620000      16.700000   \n",
              "50%        18.490000       2.000000       7.430000      18.840000   \n",
              "75%        19.500000       3.500000       8.480000      21.900000   \n",
              "max        29.540000       7.900000      10.890000      38.300000   \n",
              "\n",
              "              Fe3O43            Ni4  ...            ro2            ro3  \\\n",
              "count  489633.000000  489633.000000  ...  489633.000000  489633.000000   \n",
              "mean        2.435560       8.922242  ...       1.643270       1.709154   \n",
              "std         1.158091       0.478993  ...       0.461122       0.356697   \n",
              "min         0.300000       4.540000  ...       1.000000       1.000000   \n",
              "25%         1.800000       8.670000  ...       1.172050       1.626200   \n",
              "50%         2.400000       8.900000  ...       1.790050       1.791700   \n",
              "75%         3.300000       9.150000  ...       1.985500       1.911700   \n",
              "max         6.300000      10.440000  ...       2.500000       2.500000   \n",
              "\n",
              "                 ro4       ro_final           ust1           ust2  \\\n",
              "count  489633.000000  489633.000000  489633.000000  489633.000000   \n",
              "mean        1.831221       1.622045      17.851781      19.951251   \n",
              "std         0.358637       0.375100      13.691407      18.774828   \n",
              "min         1.000000       1.000000       0.000000       0.000000   \n",
              "25%         1.721800       1.239300       6.000000      10.000000   \n",
              "50%         1.894650       1.835500      18.000000      10.000000   \n",
              "75%         2.074800       1.902100      26.000000      27.000000   \n",
              "max         2.500000       2.999800      81.000000      93.000000   \n",
              "\n",
              "                ust3           ust4        v_final    level_final  \n",
              "count  489633.000000  489633.000000  489633.000000  489633.000000  \n",
              "mean       26.125768     128.449026     124.083759      49.519644  \n",
              "std        20.495401      22.024644      86.909106      28.872155  \n",
              "min         0.000000      62.000000       0.000000      -1.000000  \n",
              "25%        10.000000     114.000000       0.000000      40.024400  \n",
              "50%        25.000000     125.000000     164.000000      56.678900  \n",
              "75%        42.000000     140.000000     186.000000      72.307700  \n",
              "max        96.000000     213.000000     285.000000     100.000000  \n",
              "\n",
              "[8 rows x 26 columns]"
            ],
            "text/html": [
              "\n",
              "  <div id=\"df-7c04421d-6fa5-47e7-b5aa-f925e651cf7f\" class=\"colab-df-container\">\n",
              "    <div>\n",
              "<style scoped>\n",
              "    .dataframe tbody tr th:only-of-type {\n",
              "        vertical-align: middle;\n",
              "    }\n",
              "\n",
              "    .dataframe tbody tr th {\n",
              "        vertical-align: top;\n",
              "    }\n",
              "\n",
              "    .dataframe thead th {\n",
              "        text-align: right;\n",
              "    }\n",
              "</style>\n",
              "<table border=\"1\" class=\"dataframe\">\n",
              "  <thead>\n",
              "    <tr style=\"text-align: right;\">\n",
              "      <th></th>\n",
              "      <th>Ni1</th>\n",
              "      <th>S1</th>\n",
              "      <th>Fe3O41</th>\n",
              "      <th>Ni2</th>\n",
              "      <th>S2</th>\n",
              "      <th>Fe3O42</th>\n",
              "      <th>Ni3</th>\n",
              "      <th>S3</th>\n",
              "      <th>Fe3O43</th>\n",
              "      <th>Ni4</th>\n",
              "      <th>...</th>\n",
              "      <th>ro2</th>\n",
              "      <th>ro3</th>\n",
              "      <th>ro4</th>\n",
              "      <th>ro_final</th>\n",
              "      <th>ust1</th>\n",
              "      <th>ust2</th>\n",
              "      <th>ust3</th>\n",
              "      <th>ust4</th>\n",
              "      <th>v_final</th>\n",
              "      <th>level_final</th>\n",
              "    </tr>\n",
              "  </thead>\n",
              "  <tbody>\n",
              "    <tr>\n",
              "      <th>count</th>\n",
              "      <td>489633.000000</td>\n",
              "      <td>489633.000000</td>\n",
              "      <td>489633.000000</td>\n",
              "      <td>489633.000000</td>\n",
              "      <td>489633.000000</td>\n",
              "      <td>489633.000000</td>\n",
              "      <td>489633.000000</td>\n",
              "      <td>489633.000000</td>\n",
              "      <td>489633.000000</td>\n",
              "      <td>489633.000000</td>\n",
              "      <td>...</td>\n",
              "      <td>489633.000000</td>\n",
              "      <td>489633.000000</td>\n",
              "      <td>489633.000000</td>\n",
              "      <td>489633.000000</td>\n",
              "      <td>489633.000000</td>\n",
              "      <td>489633.000000</td>\n",
              "      <td>489633.000000</td>\n",
              "      <td>489633.000000</td>\n",
              "      <td>489633.000000</td>\n",
              "      <td>489633.000000</td>\n",
              "    </tr>\n",
              "    <tr>\n",
              "      <th>mean</th>\n",
              "      <td>5.568443</td>\n",
              "      <td>19.543066</td>\n",
              "      <td>2.019991</td>\n",
              "      <td>5.940489</td>\n",
              "      <td>17.571800</td>\n",
              "      <td>2.575378</td>\n",
              "      <td>7.626039</td>\n",
              "      <td>19.580014</td>\n",
              "      <td>2.435560</td>\n",
              "      <td>8.922242</td>\n",
              "      <td>...</td>\n",
              "      <td>1.643270</td>\n",
              "      <td>1.709154</td>\n",
              "      <td>1.831221</td>\n",
              "      <td>1.622045</td>\n",
              "      <td>17.851781</td>\n",
              "      <td>19.951251</td>\n",
              "      <td>26.125768</td>\n",
              "      <td>128.449026</td>\n",
              "      <td>124.083759</td>\n",
              "      <td>49.519644</td>\n",
              "    </tr>\n",
              "    <tr>\n",
              "      <th>std</th>\n",
              "      <td>1.268120</td>\n",
              "      <td>2.699316</td>\n",
              "      <td>0.868119</td>\n",
              "      <td>1.816763</td>\n",
              "      <td>3.059676</td>\n",
              "      <td>1.348188</td>\n",
              "      <td>1.327672</td>\n",
              "      <td>3.885691</td>\n",
              "      <td>1.158091</td>\n",
              "      <td>0.478993</td>\n",
              "      <td>...</td>\n",
              "      <td>0.461122</td>\n",
              "      <td>0.356697</td>\n",
              "      <td>0.358637</td>\n",
              "      <td>0.375100</td>\n",
              "      <td>13.691407</td>\n",
              "      <td>18.774828</td>\n",
              "      <td>20.495401</td>\n",
              "      <td>22.024644</td>\n",
              "      <td>86.909106</td>\n",
              "      <td>28.872155</td>\n",
              "    </tr>\n",
              "    <tr>\n",
              "      <th>min</th>\n",
              "      <td>3.660000</td>\n",
              "      <td>9.930000</td>\n",
              "      <td>0.700000</td>\n",
              "      <td>2.890000</td>\n",
              "      <td>8.100000</td>\n",
              "      <td>0.200000</td>\n",
              "      <td>4.130000</td>\n",
              "      <td>11.300000</td>\n",
              "      <td>0.300000</td>\n",
              "      <td>4.540000</td>\n",
              "      <td>...</td>\n",
              "      <td>1.000000</td>\n",
              "      <td>1.000000</td>\n",
              "      <td>1.000000</td>\n",
              "      <td>1.000000</td>\n",
              "      <td>0.000000</td>\n",
              "      <td>0.000000</td>\n",
              "      <td>0.000000</td>\n",
              "      <td>62.000000</td>\n",
              "      <td>0.000000</td>\n",
              "      <td>-1.000000</td>\n",
              "    </tr>\n",
              "    <tr>\n",
              "      <th>25%</th>\n",
              "      <td>4.730000</td>\n",
              "      <td>19.000000</td>\n",
              "      <td>1.500000</td>\n",
              "      <td>4.500000</td>\n",
              "      <td>16.150000</td>\n",
              "      <td>1.600000</td>\n",
              "      <td>6.620000</td>\n",
              "      <td>16.700000</td>\n",
              "      <td>1.800000</td>\n",
              "      <td>8.670000</td>\n",
              "      <td>...</td>\n",
              "      <td>1.172050</td>\n",
              "      <td>1.626200</td>\n",
              "      <td>1.721800</td>\n",
              "      <td>1.239300</td>\n",
              "      <td>6.000000</td>\n",
              "      <td>10.000000</td>\n",
              "      <td>10.000000</td>\n",
              "      <td>114.000000</td>\n",
              "      <td>0.000000</td>\n",
              "      <td>40.024400</td>\n",
              "    </tr>\n",
              "    <tr>\n",
              "      <th>50%</th>\n",
              "      <td>5.180000</td>\n",
              "      <td>20.200000</td>\n",
              "      <td>1.800000</td>\n",
              "      <td>5.300000</td>\n",
              "      <td>18.490000</td>\n",
              "      <td>2.000000</td>\n",
              "      <td>7.430000</td>\n",
              "      <td>18.840000</td>\n",
              "      <td>2.400000</td>\n",
              "      <td>8.900000</td>\n",
              "      <td>...</td>\n",
              "      <td>1.790050</td>\n",
              "      <td>1.791700</td>\n",
              "      <td>1.894650</td>\n",
              "      <td>1.835500</td>\n",
              "      <td>18.000000</td>\n",
              "      <td>10.000000</td>\n",
              "      <td>25.000000</td>\n",
              "      <td>125.000000</td>\n",
              "      <td>164.000000</td>\n",
              "      <td>56.678900</td>\n",
              "    </tr>\n",
              "    <tr>\n",
              "      <th>75%</th>\n",
              "      <td>6.020000</td>\n",
              "      <td>21.200000</td>\n",
              "      <td>2.200000</td>\n",
              "      <td>7.670000</td>\n",
              "      <td>19.500000</td>\n",
              "      <td>3.500000</td>\n",
              "      <td>8.480000</td>\n",
              "      <td>21.900000</td>\n",
              "      <td>3.300000</td>\n",
              "      <td>9.150000</td>\n",
              "      <td>...</td>\n",
              "      <td>1.985500</td>\n",
              "      <td>1.911700</td>\n",
              "      <td>2.074800</td>\n",
              "      <td>1.902100</td>\n",
              "      <td>26.000000</td>\n",
              "      <td>27.000000</td>\n",
              "      <td>42.000000</td>\n",
              "      <td>140.000000</td>\n",
              "      <td>186.000000</td>\n",
              "      <td>72.307700</td>\n",
              "    </tr>\n",
              "    <tr>\n",
              "      <th>max</th>\n",
              "      <td>9.600000</td>\n",
              "      <td>27.700000</td>\n",
              "      <td>6.200000</td>\n",
              "      <td>10.240000</td>\n",
              "      <td>29.540000</td>\n",
              "      <td>7.900000</td>\n",
              "      <td>10.890000</td>\n",
              "      <td>38.300000</td>\n",
              "      <td>6.300000</td>\n",
              "      <td>10.440000</td>\n",
              "      <td>...</td>\n",
              "      <td>2.500000</td>\n",
              "      <td>2.500000</td>\n",
              "      <td>2.500000</td>\n",
              "      <td>2.999800</td>\n",
              "      <td>81.000000</td>\n",
              "      <td>93.000000</td>\n",
              "      <td>96.000000</td>\n",
              "      <td>213.000000</td>\n",
              "      <td>285.000000</td>\n",
              "      <td>100.000000</td>\n",
              "    </tr>\n",
              "  </tbody>\n",
              "</table>\n",
              "<p>8 rows × 26 columns</p>\n",
              "</div>\n",
              "    <div class=\"colab-df-buttons\">\n",
              "\n",
              "  <div class=\"colab-df-container\">\n",
              "    <button class=\"colab-df-convert\" onclick=\"convertToInteractive('df-7c04421d-6fa5-47e7-b5aa-f925e651cf7f')\"\n",
              "            title=\"Convert this dataframe to an interactive table.\"\n",
              "            style=\"display:none;\">\n",
              "\n",
              "  <svg xmlns=\"http://www.w3.org/2000/svg\" height=\"24px\" viewBox=\"0 -960 960 960\">\n",
              "    <path d=\"M120-120v-720h720v720H120Zm60-500h600v-160H180v160Zm220 220h160v-160H400v160Zm0 220h160v-160H400v160ZM180-400h160v-160H180v160Zm440 0h160v-160H620v160ZM180-180h160v-160H180v160Zm440 0h160v-160H620v160Z\"/>\n",
              "  </svg>\n",
              "    </button>\n",
              "\n",
              "  <style>\n",
              "    .colab-df-container {\n",
              "      display:flex;\n",
              "      gap: 12px;\n",
              "    }\n",
              "\n",
              "    .colab-df-convert {\n",
              "      background-color: #E8F0FE;\n",
              "      border: none;\n",
              "      border-radius: 50%;\n",
              "      cursor: pointer;\n",
              "      display: none;\n",
              "      fill: #1967D2;\n",
              "      height: 32px;\n",
              "      padding: 0 0 0 0;\n",
              "      width: 32px;\n",
              "    }\n",
              "\n",
              "    .colab-df-convert:hover {\n",
              "      background-color: #E2EBFA;\n",
              "      box-shadow: 0px 1px 2px rgba(60, 64, 67, 0.3), 0px 1px 3px 1px rgba(60, 64, 67, 0.15);\n",
              "      fill: #174EA6;\n",
              "    }\n",
              "\n",
              "    .colab-df-buttons div {\n",
              "      margin-bottom: 4px;\n",
              "    }\n",
              "\n",
              "    [theme=dark] .colab-df-convert {\n",
              "      background-color: #3B4455;\n",
              "      fill: #D2E3FC;\n",
              "    }\n",
              "\n",
              "    [theme=dark] .colab-df-convert:hover {\n",
              "      background-color: #434B5C;\n",
              "      box-shadow: 0px 1px 3px 1px rgba(0, 0, 0, 0.15);\n",
              "      filter: drop-shadow(0px 1px 2px rgba(0, 0, 0, 0.3));\n",
              "      fill: #FFFFFF;\n",
              "    }\n",
              "  </style>\n",
              "\n",
              "    <script>\n",
              "      const buttonEl =\n",
              "        document.querySelector('#df-7c04421d-6fa5-47e7-b5aa-f925e651cf7f button.colab-df-convert');\n",
              "      buttonEl.style.display =\n",
              "        google.colab.kernel.accessAllowed ? 'block' : 'none';\n",
              "\n",
              "      async function convertToInteractive(key) {\n",
              "        const element = document.querySelector('#df-7c04421d-6fa5-47e7-b5aa-f925e651cf7f');\n",
              "        const dataTable =\n",
              "          await google.colab.kernel.invokeFunction('convertToInteractive',\n",
              "                                                    [key], {});\n",
              "        if (!dataTable) return;\n",
              "\n",
              "        const docLinkHtml = 'Like what you see? Visit the ' +\n",
              "          '<a target=\"_blank\" href=https://colab.research.google.com/notebooks/data_table.ipynb>data table notebook</a>'\n",
              "          + ' to learn more about interactive tables.';\n",
              "        element.innerHTML = '';\n",
              "        dataTable['output_type'] = 'display_data';\n",
              "        await google.colab.output.renderOutput(dataTable, element);\n",
              "        const docLink = document.createElement('div');\n",
              "        docLink.innerHTML = docLinkHtml;\n",
              "        element.appendChild(docLink);\n",
              "      }\n",
              "    </script>\n",
              "  </div>\n",
              "\n",
              "\n",
              "<div id=\"df-a217253d-025c-41fa-a9c3-5c829a909646\">\n",
              "  <button class=\"colab-df-quickchart\" onclick=\"quickchart('df-a217253d-025c-41fa-a9c3-5c829a909646')\"\n",
              "            title=\"Suggest charts\"\n",
              "            style=\"display:none;\">\n",
              "\n",
              "<svg xmlns=\"http://www.w3.org/2000/svg\" height=\"24px\"viewBox=\"0 0 24 24\"\n",
              "     width=\"24px\">\n",
              "    <g>\n",
              "        <path d=\"M19 3H5c-1.1 0-2 .9-2 2v14c0 1.1.9 2 2 2h14c1.1 0 2-.9 2-2V5c0-1.1-.9-2-2-2zM9 17H7v-7h2v7zm4 0h-2V7h2v10zm4 0h-2v-4h2v4z\"/>\n",
              "    </g>\n",
              "</svg>\n",
              "  </button>\n",
              "\n",
              "<style>\n",
              "  .colab-df-quickchart {\n",
              "      --bg-color: #E8F0FE;\n",
              "      --fill-color: #1967D2;\n",
              "      --hover-bg-color: #E2EBFA;\n",
              "      --hover-fill-color: #174EA6;\n",
              "      --disabled-fill-color: #AAA;\n",
              "      --disabled-bg-color: #DDD;\n",
              "  }\n",
              "\n",
              "  [theme=dark] .colab-df-quickchart {\n",
              "      --bg-color: #3B4455;\n",
              "      --fill-color: #D2E3FC;\n",
              "      --hover-bg-color: #434B5C;\n",
              "      --hover-fill-color: #FFFFFF;\n",
              "      --disabled-bg-color: #3B4455;\n",
              "      --disabled-fill-color: #666;\n",
              "  }\n",
              "\n",
              "  .colab-df-quickchart {\n",
              "    background-color: var(--bg-color);\n",
              "    border: none;\n",
              "    border-radius: 50%;\n",
              "    cursor: pointer;\n",
              "    display: none;\n",
              "    fill: var(--fill-color);\n",
              "    height: 32px;\n",
              "    padding: 0;\n",
              "    width: 32px;\n",
              "  }\n",
              "\n",
              "  .colab-df-quickchart:hover {\n",
              "    background-color: var(--hover-bg-color);\n",
              "    box-shadow: 0 1px 2px rgba(60, 64, 67, 0.3), 0 1px 3px 1px rgba(60, 64, 67, 0.15);\n",
              "    fill: var(--button-hover-fill-color);\n",
              "  }\n",
              "\n",
              "  .colab-df-quickchart-complete:disabled,\n",
              "  .colab-df-quickchart-complete:disabled:hover {\n",
              "    background-color: var(--disabled-bg-color);\n",
              "    fill: var(--disabled-fill-color);\n",
              "    box-shadow: none;\n",
              "  }\n",
              "\n",
              "  .colab-df-spinner {\n",
              "    border: 2px solid var(--fill-color);\n",
              "    border-color: transparent;\n",
              "    border-bottom-color: var(--fill-color);\n",
              "    animation:\n",
              "      spin 1s steps(1) infinite;\n",
              "  }\n",
              "\n",
              "  @keyframes spin {\n",
              "    0% {\n",
              "      border-color: transparent;\n",
              "      border-bottom-color: var(--fill-color);\n",
              "      border-left-color: var(--fill-color);\n",
              "    }\n",
              "    20% {\n",
              "      border-color: transparent;\n",
              "      border-left-color: var(--fill-color);\n",
              "      border-top-color: var(--fill-color);\n",
              "    }\n",
              "    30% {\n",
              "      border-color: transparent;\n",
              "      border-left-color: var(--fill-color);\n",
              "      border-top-color: var(--fill-color);\n",
              "      border-right-color: var(--fill-color);\n",
              "    }\n",
              "    40% {\n",
              "      border-color: transparent;\n",
              "      border-right-color: var(--fill-color);\n",
              "      border-top-color: var(--fill-color);\n",
              "    }\n",
              "    60% {\n",
              "      border-color: transparent;\n",
              "      border-right-color: var(--fill-color);\n",
              "    }\n",
              "    80% {\n",
              "      border-color: transparent;\n",
              "      border-right-color: var(--fill-color);\n",
              "      border-bottom-color: var(--fill-color);\n",
              "    }\n",
              "    90% {\n",
              "      border-color: transparent;\n",
              "      border-bottom-color: var(--fill-color);\n",
              "    }\n",
              "  }\n",
              "</style>\n",
              "\n",
              "  <script>\n",
              "    async function quickchart(key) {\n",
              "      const quickchartButtonEl =\n",
              "        document.querySelector('#' + key + ' button');\n",
              "      quickchartButtonEl.disabled = true;  // To prevent multiple clicks.\n",
              "      quickchartButtonEl.classList.add('colab-df-spinner');\n",
              "      try {\n",
              "        const charts = await google.colab.kernel.invokeFunction(\n",
              "            'suggestCharts', [key], {});\n",
              "      } catch (error) {\n",
              "        console.error('Error during call to suggestCharts:', error);\n",
              "      }\n",
              "      quickchartButtonEl.classList.remove('colab-df-spinner');\n",
              "      quickchartButtonEl.classList.add('colab-df-quickchart-complete');\n",
              "    }\n",
              "    (() => {\n",
              "      let quickchartButtonEl =\n",
              "        document.querySelector('#df-a217253d-025c-41fa-a9c3-5c829a909646 button');\n",
              "      quickchartButtonEl.style.display =\n",
              "        google.colab.kernel.accessAllowed ? 'block' : 'none';\n",
              "    })();\n",
              "  </script>\n",
              "</div>\n",
              "    </div>\n",
              "  </div>\n"
            ],
            "application/vnd.google.colaboratory.intrinsic+json": {
              "type": "dataframe"
            }
          },
          "metadata": {},
          "execution_count": 15
        }
      ]
    },
    {
      "cell_type": "code",
      "source": [
        "data2.describe()"
      ],
      "metadata": {
        "colab": {
          "base_uri": "https://localhost:8080/",
          "height": 349
        },
        "id": "LVqi_dlII4gd",
        "outputId": "ede1b3a7-7840-4a79-b172-f2700144c825"
      },
      "execution_count": null,
      "outputs": [
        {
          "output_type": "execute_result",
          "data": {
            "text/plain": [
              "                 Ni1             S1         Fe3O41            Ni2  \\\n",
              "count  489634.000000  489634.000000  489634.000000  489634.000000   \n",
              "mean        5.568449      19.543040       2.020000       5.940488   \n",
              "std         1.268127       2.699341       0.868135       1.816760   \n",
              "min         3.660000       9.930000       0.700000       2.890000   \n",
              "25%         4.730000      19.000000       1.500000       4.500000   \n",
              "50%         5.180000      20.200000       1.800000       5.300000   \n",
              "75%         6.020000      21.200000       2.200000       7.670000   \n",
              "max         9.600000      27.700000       6.200000      10.240000   \n",
              "\n",
              "                  S2         Fe3O42            Ni3             S3  \\\n",
              "count  489634.000000  489634.000000  489634.000000  489634.000000   \n",
              "mean       17.571797       2.575379       7.626036      19.580024   \n",
              "std         3.059677       1.348185       1.327672       3.885692   \n",
              "min         8.100000       0.200000       4.130000      11.300000   \n",
              "25%        16.150000       1.600000       6.620000      16.700000   \n",
              "50%        18.490000       2.000000       7.430000      18.840000   \n",
              "75%        19.500000       3.500000       8.480000      21.900000   \n",
              "max        29.540000       7.900000      10.890000      38.300000   \n",
              "\n",
              "              Fe3O43            Ni4  ...            ro2            ro3  \\\n",
              "count  489634.000000  489634.000000  ...  489634.000000  489634.000000   \n",
              "mean        2.435558       8.922237  ...       1.643270       1.709155   \n",
              "std         1.158091       0.479000  ...       0.461122       0.356697   \n",
              "min         0.300000       4.540000  ...       1.000000       1.000000   \n",
              "25%         1.800000       8.670000  ...       1.172050       1.626200   \n",
              "50%         2.400000       8.900000  ...       1.790050       1.791750   \n",
              "75%         3.300000       9.150000  ...       1.985500       1.911700   \n",
              "max         6.300000      10.440000  ...       2.500000       2.500000   \n",
              "\n",
              "                 ro4       ro_final          ust1           ust2  \\\n",
              "count  489634.000000  489634.000000  489634.00000  489634.000000   \n",
              "mean        1.831221       1.581677      17.50561      15.561252   \n",
              "std         0.358639       0.385457      15.40103      17.814795   \n",
              "min         1.000000       1.000000       0.00000       0.000000   \n",
              "25%         1.721800       1.000000       5.00000       0.000000   \n",
              "50%         1.894650       1.805600      15.00000      10.000000   \n",
              "75%         2.074800       1.881300      27.00000      22.000000   \n",
              "max         2.500000       2.994400     420.00000      87.000000   \n",
              "\n",
              "                ust3           ust4        v_final    level_final  \n",
              "count  489634.000000  489634.000000  489634.000000  489634.000000  \n",
              "mean       21.527978     114.283497     120.342715      52.084687  \n",
              "std        18.693736      30.689006      79.895854      28.733660  \n",
              "min         0.000000      51.000000       0.000000      -1.000000  \n",
              "25%         5.000000      92.000000       0.000000      44.151400  \n",
              "50%        20.000000     119.000000     155.000000      58.608100  \n",
              "75%        36.000000     135.000000     180.000000      72.551900  \n",
              "max        88.000000     240.000000     228.000000     100.000000  \n",
              "\n",
              "[8 rows x 26 columns]"
            ],
            "text/html": [
              "\n",
              "  <div id=\"df-42805c2a-e0fc-4bfb-b883-8e4417e0bb2f\" class=\"colab-df-container\">\n",
              "    <div>\n",
              "<style scoped>\n",
              "    .dataframe tbody tr th:only-of-type {\n",
              "        vertical-align: middle;\n",
              "    }\n",
              "\n",
              "    .dataframe tbody tr th {\n",
              "        vertical-align: top;\n",
              "    }\n",
              "\n",
              "    .dataframe thead th {\n",
              "        text-align: right;\n",
              "    }\n",
              "</style>\n",
              "<table border=\"1\" class=\"dataframe\">\n",
              "  <thead>\n",
              "    <tr style=\"text-align: right;\">\n",
              "      <th></th>\n",
              "      <th>Ni1</th>\n",
              "      <th>S1</th>\n",
              "      <th>Fe3O41</th>\n",
              "      <th>Ni2</th>\n",
              "      <th>S2</th>\n",
              "      <th>Fe3O42</th>\n",
              "      <th>Ni3</th>\n",
              "      <th>S3</th>\n",
              "      <th>Fe3O43</th>\n",
              "      <th>Ni4</th>\n",
              "      <th>...</th>\n",
              "      <th>ro2</th>\n",
              "      <th>ro3</th>\n",
              "      <th>ro4</th>\n",
              "      <th>ro_final</th>\n",
              "      <th>ust1</th>\n",
              "      <th>ust2</th>\n",
              "      <th>ust3</th>\n",
              "      <th>ust4</th>\n",
              "      <th>v_final</th>\n",
              "      <th>level_final</th>\n",
              "    </tr>\n",
              "  </thead>\n",
              "  <tbody>\n",
              "    <tr>\n",
              "      <th>count</th>\n",
              "      <td>489634.000000</td>\n",
              "      <td>489634.000000</td>\n",
              "      <td>489634.000000</td>\n",
              "      <td>489634.000000</td>\n",
              "      <td>489634.000000</td>\n",
              "      <td>489634.000000</td>\n",
              "      <td>489634.000000</td>\n",
              "      <td>489634.000000</td>\n",
              "      <td>489634.000000</td>\n",
              "      <td>489634.000000</td>\n",
              "      <td>...</td>\n",
              "      <td>489634.000000</td>\n",
              "      <td>489634.000000</td>\n",
              "      <td>489634.000000</td>\n",
              "      <td>489634.000000</td>\n",
              "      <td>489634.00000</td>\n",
              "      <td>489634.000000</td>\n",
              "      <td>489634.000000</td>\n",
              "      <td>489634.000000</td>\n",
              "      <td>489634.000000</td>\n",
              "      <td>489634.000000</td>\n",
              "    </tr>\n",
              "    <tr>\n",
              "      <th>mean</th>\n",
              "      <td>5.568449</td>\n",
              "      <td>19.543040</td>\n",
              "      <td>2.020000</td>\n",
              "      <td>5.940488</td>\n",
              "      <td>17.571797</td>\n",
              "      <td>2.575379</td>\n",
              "      <td>7.626036</td>\n",
              "      <td>19.580024</td>\n",
              "      <td>2.435558</td>\n",
              "      <td>8.922237</td>\n",
              "      <td>...</td>\n",
              "      <td>1.643270</td>\n",
              "      <td>1.709155</td>\n",
              "      <td>1.831221</td>\n",
              "      <td>1.581677</td>\n",
              "      <td>17.50561</td>\n",
              "      <td>15.561252</td>\n",
              "      <td>21.527978</td>\n",
              "      <td>114.283497</td>\n",
              "      <td>120.342715</td>\n",
              "      <td>52.084687</td>\n",
              "    </tr>\n",
              "    <tr>\n",
              "      <th>std</th>\n",
              "      <td>1.268127</td>\n",
              "      <td>2.699341</td>\n",
              "      <td>0.868135</td>\n",
              "      <td>1.816760</td>\n",
              "      <td>3.059677</td>\n",
              "      <td>1.348185</td>\n",
              "      <td>1.327672</td>\n",
              "      <td>3.885692</td>\n",
              "      <td>1.158091</td>\n",
              "      <td>0.479000</td>\n",
              "      <td>...</td>\n",
              "      <td>0.461122</td>\n",
              "      <td>0.356697</td>\n",
              "      <td>0.358639</td>\n",
              "      <td>0.385457</td>\n",
              "      <td>15.40103</td>\n",
              "      <td>17.814795</td>\n",
              "      <td>18.693736</td>\n",
              "      <td>30.689006</td>\n",
              "      <td>79.895854</td>\n",
              "      <td>28.733660</td>\n",
              "    </tr>\n",
              "    <tr>\n",
              "      <th>min</th>\n",
              "      <td>3.660000</td>\n",
              "      <td>9.930000</td>\n",
              "      <td>0.700000</td>\n",
              "      <td>2.890000</td>\n",
              "      <td>8.100000</td>\n",
              "      <td>0.200000</td>\n",
              "      <td>4.130000</td>\n",
              "      <td>11.300000</td>\n",
              "      <td>0.300000</td>\n",
              "      <td>4.540000</td>\n",
              "      <td>...</td>\n",
              "      <td>1.000000</td>\n",
              "      <td>1.000000</td>\n",
              "      <td>1.000000</td>\n",
              "      <td>1.000000</td>\n",
              "      <td>0.00000</td>\n",
              "      <td>0.000000</td>\n",
              "      <td>0.000000</td>\n",
              "      <td>51.000000</td>\n",
              "      <td>0.000000</td>\n",
              "      <td>-1.000000</td>\n",
              "    </tr>\n",
              "    <tr>\n",
              "      <th>25%</th>\n",
              "      <td>4.730000</td>\n",
              "      <td>19.000000</td>\n",
              "      <td>1.500000</td>\n",
              "      <td>4.500000</td>\n",
              "      <td>16.150000</td>\n",
              "      <td>1.600000</td>\n",
              "      <td>6.620000</td>\n",
              "      <td>16.700000</td>\n",
              "      <td>1.800000</td>\n",
              "      <td>8.670000</td>\n",
              "      <td>...</td>\n",
              "      <td>1.172050</td>\n",
              "      <td>1.626200</td>\n",
              "      <td>1.721800</td>\n",
              "      <td>1.000000</td>\n",
              "      <td>5.00000</td>\n",
              "      <td>0.000000</td>\n",
              "      <td>5.000000</td>\n",
              "      <td>92.000000</td>\n",
              "      <td>0.000000</td>\n",
              "      <td>44.151400</td>\n",
              "    </tr>\n",
              "    <tr>\n",
              "      <th>50%</th>\n",
              "      <td>5.180000</td>\n",
              "      <td>20.200000</td>\n",
              "      <td>1.800000</td>\n",
              "      <td>5.300000</td>\n",
              "      <td>18.490000</td>\n",
              "      <td>2.000000</td>\n",
              "      <td>7.430000</td>\n",
              "      <td>18.840000</td>\n",
              "      <td>2.400000</td>\n",
              "      <td>8.900000</td>\n",
              "      <td>...</td>\n",
              "      <td>1.790050</td>\n",
              "      <td>1.791750</td>\n",
              "      <td>1.894650</td>\n",
              "      <td>1.805600</td>\n",
              "      <td>15.00000</td>\n",
              "      <td>10.000000</td>\n",
              "      <td>20.000000</td>\n",
              "      <td>119.000000</td>\n",
              "      <td>155.000000</td>\n",
              "      <td>58.608100</td>\n",
              "    </tr>\n",
              "    <tr>\n",
              "      <th>75%</th>\n",
              "      <td>6.020000</td>\n",
              "      <td>21.200000</td>\n",
              "      <td>2.200000</td>\n",
              "      <td>7.670000</td>\n",
              "      <td>19.500000</td>\n",
              "      <td>3.500000</td>\n",
              "      <td>8.480000</td>\n",
              "      <td>21.900000</td>\n",
              "      <td>3.300000</td>\n",
              "      <td>9.150000</td>\n",
              "      <td>...</td>\n",
              "      <td>1.985500</td>\n",
              "      <td>1.911700</td>\n",
              "      <td>2.074800</td>\n",
              "      <td>1.881300</td>\n",
              "      <td>27.00000</td>\n",
              "      <td>22.000000</td>\n",
              "      <td>36.000000</td>\n",
              "      <td>135.000000</td>\n",
              "      <td>180.000000</td>\n",
              "      <td>72.551900</td>\n",
              "    </tr>\n",
              "    <tr>\n",
              "      <th>max</th>\n",
              "      <td>9.600000</td>\n",
              "      <td>27.700000</td>\n",
              "      <td>6.200000</td>\n",
              "      <td>10.240000</td>\n",
              "      <td>29.540000</td>\n",
              "      <td>7.900000</td>\n",
              "      <td>10.890000</td>\n",
              "      <td>38.300000</td>\n",
              "      <td>6.300000</td>\n",
              "      <td>10.440000</td>\n",
              "      <td>...</td>\n",
              "      <td>2.500000</td>\n",
              "      <td>2.500000</td>\n",
              "      <td>2.500000</td>\n",
              "      <td>2.994400</td>\n",
              "      <td>420.00000</td>\n",
              "      <td>87.000000</td>\n",
              "      <td>88.000000</td>\n",
              "      <td>240.000000</td>\n",
              "      <td>228.000000</td>\n",
              "      <td>100.000000</td>\n",
              "    </tr>\n",
              "  </tbody>\n",
              "</table>\n",
              "<p>8 rows × 26 columns</p>\n",
              "</div>\n",
              "    <div class=\"colab-df-buttons\">\n",
              "\n",
              "  <div class=\"colab-df-container\">\n",
              "    <button class=\"colab-df-convert\" onclick=\"convertToInteractive('df-42805c2a-e0fc-4bfb-b883-8e4417e0bb2f')\"\n",
              "            title=\"Convert this dataframe to an interactive table.\"\n",
              "            style=\"display:none;\">\n",
              "\n",
              "  <svg xmlns=\"http://www.w3.org/2000/svg\" height=\"24px\" viewBox=\"0 -960 960 960\">\n",
              "    <path d=\"M120-120v-720h720v720H120Zm60-500h600v-160H180v160Zm220 220h160v-160H400v160Zm0 220h160v-160H400v160ZM180-400h160v-160H180v160Zm440 0h160v-160H620v160ZM180-180h160v-160H180v160Zm440 0h160v-160H620v160Z\"/>\n",
              "  </svg>\n",
              "    </button>\n",
              "\n",
              "  <style>\n",
              "    .colab-df-container {\n",
              "      display:flex;\n",
              "      gap: 12px;\n",
              "    }\n",
              "\n",
              "    .colab-df-convert {\n",
              "      background-color: #E8F0FE;\n",
              "      border: none;\n",
              "      border-radius: 50%;\n",
              "      cursor: pointer;\n",
              "      display: none;\n",
              "      fill: #1967D2;\n",
              "      height: 32px;\n",
              "      padding: 0 0 0 0;\n",
              "      width: 32px;\n",
              "    }\n",
              "\n",
              "    .colab-df-convert:hover {\n",
              "      background-color: #E2EBFA;\n",
              "      box-shadow: 0px 1px 2px rgba(60, 64, 67, 0.3), 0px 1px 3px 1px rgba(60, 64, 67, 0.15);\n",
              "      fill: #174EA6;\n",
              "    }\n",
              "\n",
              "    .colab-df-buttons div {\n",
              "      margin-bottom: 4px;\n",
              "    }\n",
              "\n",
              "    [theme=dark] .colab-df-convert {\n",
              "      background-color: #3B4455;\n",
              "      fill: #D2E3FC;\n",
              "    }\n",
              "\n",
              "    [theme=dark] .colab-df-convert:hover {\n",
              "      background-color: #434B5C;\n",
              "      box-shadow: 0px 1px 3px 1px rgba(0, 0, 0, 0.15);\n",
              "      filter: drop-shadow(0px 1px 2px rgba(0, 0, 0, 0.3));\n",
              "      fill: #FFFFFF;\n",
              "    }\n",
              "  </style>\n",
              "\n",
              "    <script>\n",
              "      const buttonEl =\n",
              "        document.querySelector('#df-42805c2a-e0fc-4bfb-b883-8e4417e0bb2f button.colab-df-convert');\n",
              "      buttonEl.style.display =\n",
              "        google.colab.kernel.accessAllowed ? 'block' : 'none';\n",
              "\n",
              "      async function convertToInteractive(key) {\n",
              "        const element = document.querySelector('#df-42805c2a-e0fc-4bfb-b883-8e4417e0bb2f');\n",
              "        const dataTable =\n",
              "          await google.colab.kernel.invokeFunction('convertToInteractive',\n",
              "                                                    [key], {});\n",
              "        if (!dataTable) return;\n",
              "\n",
              "        const docLinkHtml = 'Like what you see? Visit the ' +\n",
              "          '<a target=\"_blank\" href=https://colab.research.google.com/notebooks/data_table.ipynb>data table notebook</a>'\n",
              "          + ' to learn more about interactive tables.';\n",
              "        element.innerHTML = '';\n",
              "        dataTable['output_type'] = 'display_data';\n",
              "        await google.colab.output.renderOutput(dataTable, element);\n",
              "        const docLink = document.createElement('div');\n",
              "        docLink.innerHTML = docLinkHtml;\n",
              "        element.appendChild(docLink);\n",
              "      }\n",
              "    </script>\n",
              "  </div>\n",
              "\n",
              "\n",
              "<div id=\"df-00f32155-3ada-45bc-afc9-7c1bfcf55ac8\">\n",
              "  <button class=\"colab-df-quickchart\" onclick=\"quickchart('df-00f32155-3ada-45bc-afc9-7c1bfcf55ac8')\"\n",
              "            title=\"Suggest charts\"\n",
              "            style=\"display:none;\">\n",
              "\n",
              "<svg xmlns=\"http://www.w3.org/2000/svg\" height=\"24px\"viewBox=\"0 0 24 24\"\n",
              "     width=\"24px\">\n",
              "    <g>\n",
              "        <path d=\"M19 3H5c-1.1 0-2 .9-2 2v14c0 1.1.9 2 2 2h14c1.1 0 2-.9 2-2V5c0-1.1-.9-2-2-2zM9 17H7v-7h2v7zm4 0h-2V7h2v10zm4 0h-2v-4h2v4z\"/>\n",
              "    </g>\n",
              "</svg>\n",
              "  </button>\n",
              "\n",
              "<style>\n",
              "  .colab-df-quickchart {\n",
              "      --bg-color: #E8F0FE;\n",
              "      --fill-color: #1967D2;\n",
              "      --hover-bg-color: #E2EBFA;\n",
              "      --hover-fill-color: #174EA6;\n",
              "      --disabled-fill-color: #AAA;\n",
              "      --disabled-bg-color: #DDD;\n",
              "  }\n",
              "\n",
              "  [theme=dark] .colab-df-quickchart {\n",
              "      --bg-color: #3B4455;\n",
              "      --fill-color: #D2E3FC;\n",
              "      --hover-bg-color: #434B5C;\n",
              "      --hover-fill-color: #FFFFFF;\n",
              "      --disabled-bg-color: #3B4455;\n",
              "      --disabled-fill-color: #666;\n",
              "  }\n",
              "\n",
              "  .colab-df-quickchart {\n",
              "    background-color: var(--bg-color);\n",
              "    border: none;\n",
              "    border-radius: 50%;\n",
              "    cursor: pointer;\n",
              "    display: none;\n",
              "    fill: var(--fill-color);\n",
              "    height: 32px;\n",
              "    padding: 0;\n",
              "    width: 32px;\n",
              "  }\n",
              "\n",
              "  .colab-df-quickchart:hover {\n",
              "    background-color: var(--hover-bg-color);\n",
              "    box-shadow: 0 1px 2px rgba(60, 64, 67, 0.3), 0 1px 3px 1px rgba(60, 64, 67, 0.15);\n",
              "    fill: var(--button-hover-fill-color);\n",
              "  }\n",
              "\n",
              "  .colab-df-quickchart-complete:disabled,\n",
              "  .colab-df-quickchart-complete:disabled:hover {\n",
              "    background-color: var(--disabled-bg-color);\n",
              "    fill: var(--disabled-fill-color);\n",
              "    box-shadow: none;\n",
              "  }\n",
              "\n",
              "  .colab-df-spinner {\n",
              "    border: 2px solid var(--fill-color);\n",
              "    border-color: transparent;\n",
              "    border-bottom-color: var(--fill-color);\n",
              "    animation:\n",
              "      spin 1s steps(1) infinite;\n",
              "  }\n",
              "\n",
              "  @keyframes spin {\n",
              "    0% {\n",
              "      border-color: transparent;\n",
              "      border-bottom-color: var(--fill-color);\n",
              "      border-left-color: var(--fill-color);\n",
              "    }\n",
              "    20% {\n",
              "      border-color: transparent;\n",
              "      border-left-color: var(--fill-color);\n",
              "      border-top-color: var(--fill-color);\n",
              "    }\n",
              "    30% {\n",
              "      border-color: transparent;\n",
              "      border-left-color: var(--fill-color);\n",
              "      border-top-color: var(--fill-color);\n",
              "      border-right-color: var(--fill-color);\n",
              "    }\n",
              "    40% {\n",
              "      border-color: transparent;\n",
              "      border-right-color: var(--fill-color);\n",
              "      border-top-color: var(--fill-color);\n",
              "    }\n",
              "    60% {\n",
              "      border-color: transparent;\n",
              "      border-right-color: var(--fill-color);\n",
              "    }\n",
              "    80% {\n",
              "      border-color: transparent;\n",
              "      border-right-color: var(--fill-color);\n",
              "      border-bottom-color: var(--fill-color);\n",
              "    }\n",
              "    90% {\n",
              "      border-color: transparent;\n",
              "      border-bottom-color: var(--fill-color);\n",
              "    }\n",
              "  }\n",
              "</style>\n",
              "\n",
              "  <script>\n",
              "    async function quickchart(key) {\n",
              "      const quickchartButtonEl =\n",
              "        document.querySelector('#' + key + ' button');\n",
              "      quickchartButtonEl.disabled = true;  // To prevent multiple clicks.\n",
              "      quickchartButtonEl.classList.add('colab-df-spinner');\n",
              "      try {\n",
              "        const charts = await google.colab.kernel.invokeFunction(\n",
              "            'suggestCharts', [key], {});\n",
              "      } catch (error) {\n",
              "        console.error('Error during call to suggestCharts:', error);\n",
              "      }\n",
              "      quickchartButtonEl.classList.remove('colab-df-spinner');\n",
              "      quickchartButtonEl.classList.add('colab-df-quickchart-complete');\n",
              "    }\n",
              "    (() => {\n",
              "      let quickchartButtonEl =\n",
              "        document.querySelector('#df-00f32155-3ada-45bc-afc9-7c1bfcf55ac8 button');\n",
              "      quickchartButtonEl.style.display =\n",
              "        google.colab.kernel.accessAllowed ? 'block' : 'none';\n",
              "    })();\n",
              "  </script>\n",
              "</div>\n",
              "    </div>\n",
              "  </div>\n"
            ],
            "application/vnd.google.colaboratory.intrinsic+json": {
              "type": "dataframe"
            }
          },
          "metadata": {},
          "execution_count": 16
        }
      ]
    },
    {
      "cell_type": "code",
      "source": [
        "data1.Ni1.plot()"
      ],
      "metadata": {
        "colab": {
          "base_uri": "https://localhost:8080/",
          "height": 448
        },
        "id": "4cwsXOEXJml2",
        "outputId": "1f734e00-c89b-4f5a-a3bf-ea3bc0ad9118"
      },
      "execution_count": null,
      "outputs": [
        {
          "output_type": "execute_result",
          "data": {
            "text/plain": [
              "<Axes: >"
            ]
          },
          "metadata": {},
          "execution_count": 17
        },
        {
          "output_type": "display_data",
          "data": {
            "text/plain": [
              "<Figure size 640x480 with 1 Axes>"
            ],
            "image/png": "[encoded data removed]"
          },
          "metadata": {}
        }
      ]
    },
    {
      "cell_type": "code",
      "source": [
        "data1.S1.plot()"
      ],
      "metadata": {
        "colab": {
          "base_uri": "https://localhost:8080/",
          "height": 448
        },
        "id": "VzCigw1WP7Gv",
        "outputId": "ce3cd883-6bd9-4467-856e-52df63229cf3"
      },
      "execution_count": null,
      "outputs": [
        {
          "output_type": "execute_result",
          "data": {
            "text/plain": [
              "<Axes: >"
            ]
          },
          "metadata": {},
          "execution_count": 18
        },
        {
          "output_type": "display_data",
          "data": {
            "text/plain": [
              "<Figure size 640x480 with 1 Axes>"
            ],
            "image/png": "[encoded data removed]"
          },
          "metadata": {}
        }
      ]
    },
    {
      "cell_type": "markdown",
      "source": [
        "В изменении концентрации серы можно заметить тенденцию к росту. Можно попытаться интерполировать неизвестную функцию концентрации многочленами"
      ],
      "metadata": {
        "id": "A0vZLA0IQE_0"
      }
    },
    {
      "cell_type": "code",
      "source": [
        "data1.ro1.plot()"
      ],
      "metadata": {
        "colab": {
          "base_uri": "https://localhost:8080/",
          "height": 448
        },
        "id": "8-yCOC98J56W",
        "outputId": "1408cd9f-85a7-43a9-d0ab-f06bc586cdb4"
      },
      "execution_count": null,
      "outputs": [
        {
          "output_type": "execute_result",
          "data": {
            "text/plain": [
              "<Axes: >"
            ]
          },
          "metadata": {},
          "execution_count": 19
        },
        {
          "output_type": "display_data",
          "data": {
            "text/plain": [
              "<Figure size 640x480 with 1 Axes>"
            ],
            "image/png": "[encoded data removed]"
          },
          "metadata": {}
        }
      ]
    },
    {
      "cell_type": "code",
      "source": [
        "data2.ro1.plot()"
      ],
      "metadata": {
        "colab": {
          "base_uri": "https://localhost:8080/",
          "height": 448
        },
        "id": "CbsEfwDjQner",
        "outputId": "82039b49-4ecb-496f-a9c9-0c94a57bcf44"
      },
      "execution_count": null,
      "outputs": [
        {
          "output_type": "execute_result",
          "data": {
            "text/plain": [
              "<Axes: >"
            ]
          },
          "metadata": {},
          "execution_count": 20
        },
        {
          "output_type": "display_data",
          "data": {
            "text/plain": [
              "<Figure size 640x480 with 1 Axes>"
            ],
            "image/png": "[encoded data removed]"
          },
          "metadata": {}
        }
      ]
    },
    {
      "cell_type": "code",
      "source": [
        "data1.ro2.plot()"
      ],
      "metadata": {
        "colab": {
          "base_uri": "https://localhost:8080/",
          "height": 448
        },
        "id": "e-XUBUdWKiK0",
        "outputId": "4658dfa4-8bfd-4e5e-a94c-9004ee544b97"
      },
      "execution_count": null,
      "outputs": [
        {
          "output_type": "execute_result",
          "data": {
            "text/plain": [
              "<Axes: >"
            ]
          },
          "metadata": {},
          "execution_count": 21
        },
        {
          "output_type": "display_data",
          "data": {
            "text/plain": [
              "<Figure size 640x480 with 1 Axes>"
            ],
            "image/png": "[encoded data removed]"
          },
          "metadata": {}
        }
      ]
    },
    {
      "cell_type": "code",
      "source": [
        "data1.ro3.plot()"
      ],
      "metadata": {
        "colab": {
          "base_uri": "https://localhost:8080/",
          "height": 448
        },
        "id": "oeDPiHu4Klnu",
        "outputId": "c4f7dfa2-630a-49c2-d106-7d03d104a47f"
      },
      "execution_count": null,
      "outputs": [
        {
          "output_type": "execute_result",
          "data": {
            "text/plain": [
              "<Axes: >"
            ]
          },
          "metadata": {},
          "execution_count": 22
        },
        {
          "output_type": "display_data",
          "data": {
            "text/plain": [
              "<Figure size 640x480 with 1 Axes>"
            ],
            "image/png": "[encoded data removed]"
          },
          "metadata": {}
        }
      ]
    },
    {
      "cell_type": "code",
      "source": [
        "data1.ro4.plot()"
      ],
      "metadata": {
        "colab": {
          "base_uri": "https://localhost:8080/",
          "height": 448
        },
        "id": "9sAOCUJKLACo",
        "outputId": "66ff8c71-2fbd-459c-b4d6-823dd8a550ce"
      },
      "execution_count": null,
      "outputs": [
        {
          "output_type": "execute_result",
          "data": {
            "text/plain": [
              "<Axes: >"
            ]
          },
          "metadata": {},
          "execution_count": 23
        },
        {
          "output_type": "display_data",
          "data": {
            "text/plain": [
              "<Figure size 640x480 with 1 Axes>"
            ],
            "image/png": "[encoded data removed]"
          },
          "metadata": {}
        }
      ]
    },
    {
      "cell_type": "markdown",
      "source": [
        "Данные довольно плохие. Есть идея: разбить временной ряд на отдельные небольшие отрезки, и на каждом из них функция будет похожа на линейную (судя по графику)."
      ],
      "metadata": {
        "id": "pens5bqUOY-8"
      }
    },
    {
      "cell_type": "markdown",
      "source": [
        "# Задание 2"
      ],
      "metadata": {
        "id": "y084R72y34dO"
      }
    },
    {
      "cell_type": "markdown",
      "source": [
        "Построим математическую модель происходящих процессов.\n",
        "Концентрация вещества на выходе:\n",
        "\n",
        "$c = \\frac{c_1 F_1 + c_2 F_2 + c_3 F_3 + c_4 F_4}{F_1 + F_2 + F_3 + F_4}$\n",
        "\n",
        "Здесь $c$ -- концентрация вещества (любого из данных), $F_i$ -- поток вещества из $i$-й ёмкости, $c_i$ -- концентрация вещества в $i$-й ёмкости. Поток линейно зависит от уставки."
      ],
      "metadata": {
        "id": "K9U7DXlY4CxS"
      }
    },
    {
      "cell_type": "markdown",
      "source": [
        "Для примера возьмём никель."
      ],
      "metadata": {
        "id": "zWaQkCFq6aqw"
      }
    },
    {
      "cell_type": "code",
      "source": [
        "X_Ni = pd.DataFrame(\n",
        "    data=(data1.Ni1 * data1.ust1 + data1.Ni2 * data1.ust2 + data1.Ni3 * data1.ust3 + data1.Ni4 * data1.ust4) / (data1.ust1 + data1.ust2 + data1.ust3 + data1.ust4),\n",
        "    columns=['pred_c']\n",
        ")\n",
        "y_Ni = data1.Ni_final"
      ],
      "metadata": {
        "id": "jP1Ug3UEOqq8"
      },
      "execution_count": null,
      "outputs": []
    },
    {
      "cell_type": "code",
      "source": [
        "X_train, X_test, y_train, y_test = train_test_split(X_Ni, y_Ni, test_size=0.2)\n",
        "train_pool = Pool(X_train, y_train)\n",
        "test_pool = Pool(X_test, y_test)"
      ],
      "metadata": {
        "id": "HHtCdPc19jUa"
      },
      "execution_count": null,
      "outputs": []
    },
    {
      "cell_type": "markdown",
      "source": [
        "Для предсказания результата будем использовать модель градиентного бустинга на решающих деревьях."
      ],
      "metadata": {
        "id": "u08Yca4u_hI2"
      }
    },
    {
      "cell_type": "code",
      "source": [
        "regressor = CatBoostRegressor(\n",
        "    iterations=1000,\n",
        "    learning_rate=0.01,\n",
        "    depth=6,\n",
        "    loss_function='RMSE'\n",
        ")"
      ],
      "metadata": {
        "id": "MztinW3C8JkN"
      },
      "execution_count": null,
      "outputs": []
    },
    {
      "cell_type": "code",
      "source": [
        "regressor.fit(train_pool, plot=True, plot_file='plot.html')"
      ],
      "metadata": {
        "colab": {
          "base_uri": "https://localhost:8080/",
          "height": 1000,
          "referenced_widgets": [
            "4ce0f5c870a049dba7f138813302e656"
          ]
        },
        "id": "CYmpsiHA90iR",
        "outputId": "abb94548-e8c5-430f-a623-fc95f4f5b6ea"
      },
      "execution_count": null,
      "outputs": [
        {
          "output_type": "display_data",
          "data": {
            "text/plain": [
              "MetricVisualizer(layout=Layout(align_self='stretch', height='500px'))"
            ],
            "application/vnd.jupyter.widget-view+json": {
              "version_major": 2,
              "version_minor": 0,
              "model_id": "4ce0f5c870a049dba7f138813302e656"
            }
          },
          "metadata": {}
        },
        {
          "output_type": "stream",
          "name": "stdout",
          "text": [
            "0:\tlearn: 0.4167312\ttotal: 83ms\tremaining: 1m 22s\n",
            "1:\tlearn: 0.4144406\ttotal: 151ms\tremaining: 1m 15s\n",
            "2:\tlearn: 0.4121619\ttotal: 242ms\tremaining: 1m 20s\n",
            "3:\tlearn: 0.4099310\ttotal: 344ms\tremaining: 1m 25s\n",
            "4:\tlearn: 0.4077237\ttotal: 427ms\tremaining: 1m 24s\n",
            "5:\tlearn: 0.4055478\ttotal: 520ms\tremaining: 1m 26s\n",
            "6:\tlearn: 0.4034107\ttotal: 601ms\tremaining: 1m 25s\n",
            "7:\tlearn: 0.4012940\ttotal: 691ms\tremaining: 1m 25s\n",
            "8:\tlearn: 0.3992050\ttotal: 786ms\tremaining: 1m 26s\n",
            "9:\tlearn: 0.3971586\ttotal: 892ms\tremaining: 1m 28s\n",
            "10:\tlearn: 0.3951330\ttotal: 987ms\tremaining: 1m 28s\n",
            "11:\tlearn: 0.3931439\ttotal: 1.08s\tremaining: 1m 28s\n",
            "12:\tlearn: 0.3911836\ttotal: 1.18s\tremaining: 1m 29s\n",
            "13:\tlearn: 0.3892492\ttotal: 1.27s\tremaining: 1m 29s\n",
            "14:\tlearn: 0.3873435\ttotal: 1.37s\tremaining: 1m 29s\n",
            "15:\tlearn: 0.3854693\ttotal: 1.46s\tremaining: 1m 29s\n",
            "16:\tlearn: 0.3836327\ttotal: 1.52s\tremaining: 1m 28s\n",
            "17:\tlearn: 0.3818225\ttotal: 1.63s\tremaining: 1m 28s\n",
            "18:\tlearn: 0.3800340\ttotal: 1.72s\tremaining: 1m 29s\n",
            "19:\tlearn: 0.3782685\ttotal: 1.82s\tremaining: 1m 29s\n",
            "20:\tlearn: 0.3765313\ttotal: 1.91s\tremaining: 1m 29s\n",
            "21:\tlearn: 0.3748214\ttotal: 1.98s\tremaining: 1m 28s\n",
            "22:\tlearn: 0.3731385\ttotal: 2.08s\tremaining: 1m 28s\n",
            "23:\tlearn: 0.3714843\ttotal: 2.17s\tremaining: 1m 28s\n",
            "24:\tlearn: 0.3698632\ttotal: 2.28s\tremaining: 1m 28s\n",
            "25:\tlearn: 0.3682592\ttotal: 2.37s\tremaining: 1m 28s\n",
            "26:\tlearn: 0.3666699\ttotal: 2.47s\tremaining: 1m 28s\n",
            "27:\tlearn: 0.3651229\ttotal: 2.58s\tremaining: 1m 29s\n",
            "28:\tlearn: 0.3635968\ttotal: 2.67s\tremaining: 1m 29s\n",
            "29:\tlearn: 0.3620854\ttotal: 2.77s\tremaining: 1m 29s\n",
            "30:\tlearn: 0.3606017\ttotal: 2.87s\tremaining: 1m 29s\n",
            "31:\tlearn: 0.3591436\ttotal: 2.97s\tremaining: 1m 29s\n",
            "32:\tlearn: 0.3577000\ttotal: 3.06s\tremaining: 1m 29s\n",
            "33:\tlearn: 0.3562842\ttotal: 3.13s\tremaining: 1m 29s\n",
            "34:\tlearn: 0.3548922\ttotal: 3.22s\tremaining: 1m 28s\n",
            "35:\tlearn: 0.3535197\ttotal: 3.31s\tremaining: 1m 28s\n",
            "36:\tlearn: 0.3521625\ttotal: 3.39s\tremaining: 1m 28s\n",
            "37:\tlearn: 0.3508377\ttotal: 3.47s\tremaining: 1m 27s\n",
            "38:\tlearn: 0.3495169\ttotal: 3.56s\tremaining: 1m 27s\n",
            "39:\tlearn: 0.3482248\ttotal: 3.66s\tremaining: 1m 27s\n",
            "40:\tlearn: 0.3469504\ttotal: 3.75s\tremaining: 1m 27s\n",
            "41:\tlearn: 0.3457018\ttotal: 3.84s\tremaining: 1m 27s\n",
            "42:\tlearn: 0.3444655\ttotal: 3.93s\tremaining: 1m 27s\n",
            "43:\tlearn: 0.3432602\ttotal: 4.02s\tremaining: 1m 27s\n",
            "44:\tlearn: 0.3420733\ttotal: 4.12s\tremaining: 1m 27s\n",
            "45:\tlearn: 0.3409104\ttotal: 4.21s\tremaining: 1m 27s\n",
            "46:\tlearn: 0.3397644\ttotal: 4.31s\tremaining: 1m 27s\n",
            "47:\tlearn: 0.3386311\ttotal: 4.4s\tremaining: 1m 27s\n",
            "48:\tlearn: 0.3375133\ttotal: 4.49s\tremaining: 1m 27s\n",
            "49:\tlearn: 0.3364170\ttotal: 4.59s\tremaining: 1m 27s\n",
            "50:\tlearn: 0.3353341\ttotal: 4.68s\tremaining: 1m 27s\n",
            "51:\tlearn: 0.3342751\ttotal: 4.78s\tremaining: 1m 27s\n",
            "52:\tlearn: 0.3332255\ttotal: 4.87s\tremaining: 1m 27s\n",
            "53:\tlearn: 0.3321967\ttotal: 4.96s\tremaining: 1m 26s\n",
            "54:\tlearn: 0.3311922\ttotal: 5.06s\tremaining: 1m 26s\n",
            "55:\tlearn: 0.3302058\ttotal: 5.1s\tremaining: 1m 25s\n",
            "56:\tlearn: 0.3292331\ttotal: 5.14s\tremaining: 1m 25s\n",
            "57:\tlearn: 0.3282881\ttotal: 5.18s\tremaining: 1m 24s\n",
            "58:\tlearn: 0.3273493\ttotal: 5.23s\tremaining: 1m 23s\n",
            "59:\tlearn: 0.3264251\ttotal: 5.28s\tremaining: 1m 22s\n",
            "60:\tlearn: 0.3255088\ttotal: 5.33s\tremaining: 1m 21s\n",
            "61:\tlearn: 0.3246113\ttotal: 5.37s\tremaining: 1m 21s\n",
            "62:\tlearn: 0.3237369\ttotal: 5.41s\tremaining: 1m 20s\n",
            "63:\tlearn: 0.3228712\ttotal: 5.45s\tremaining: 1m 19s\n",
            "64:\tlearn: 0.3220266\ttotal: 5.5s\tremaining: 1m 19s\n",
            "65:\tlearn: 0.3211903\ttotal: 5.54s\tremaining: 1m 18s\n",
            "66:\tlearn: 0.3203706\ttotal: 5.58s\tremaining: 1m 17s\n",
            "67:\tlearn: 0.3195656\ttotal: 5.63s\tremaining: 1m 17s\n",
            "68:\tlearn: 0.3187669\ttotal: 5.67s\tremaining: 1m 16s\n",
            "69:\tlearn: 0.3179777\ttotal: 5.71s\tremaining: 1m 15s\n",
            "70:\tlearn: 0.3172174\ttotal: 5.76s\tremaining: 1m 15s\n",
            "71:\tlearn: 0.3164560\ttotal: 5.8s\tremaining: 1m 14s\n",
            "72:\tlearn: 0.3157039\ttotal: 5.88s\tremaining: 1m 14s\n",
            "73:\tlearn: 0.3149786\ttotal: 5.92s\tremaining: 1m 14s\n",
            "74:\tlearn: 0.3142578\ttotal: 5.96s\tremaining: 1m 13s\n",
            "75:\tlearn: 0.3135540\ttotal: 6s\tremaining: 1m 12s\n",
            "76:\tlearn: 0.3128553\ttotal: 6.04s\tremaining: 1m 12s\n",
            "77:\tlearn: 0.3121732\ttotal: 6.09s\tremaining: 1m 11s\n",
            "78:\tlearn: 0.3115117\ttotal: 6.14s\tremaining: 1m 11s\n",
            "79:\tlearn: 0.3108559\ttotal: 6.18s\tremaining: 1m 11s\n",
            "80:\tlearn: 0.3102169\ttotal: 6.22s\tremaining: 1m 10s\n",
            "81:\tlearn: 0.3095862\ttotal: 6.27s\tremaining: 1m 10s\n",
            "82:\tlearn: 0.3089645\ttotal: 6.31s\tremaining: 1m 9s\n",
            "83:\tlearn: 0.3083440\ttotal: 6.36s\tremaining: 1m 9s\n",
            "84:\tlearn: 0.3077397\ttotal: 6.4s\tremaining: 1m 8s\n",
            "85:\tlearn: 0.3071489\ttotal: 6.45s\tremaining: 1m 8s\n",
            "86:\tlearn: 0.3065674\ttotal: 6.49s\tremaining: 1m 8s\n",
            "87:\tlearn: 0.3059932\ttotal: 6.53s\tremaining: 1m 7s\n",
            "88:\tlearn: 0.3054233\ttotal: 6.57s\tremaining: 1m 7s\n",
            "89:\tlearn: 0.3048680\ttotal: 6.61s\tremaining: 1m 6s\n",
            "90:\tlearn: 0.3043304\ttotal: 6.66s\tremaining: 1m 6s\n",
            "91:\tlearn: 0.3037963\ttotal: 6.7s\tremaining: 1m 6s\n",
            "92:\tlearn: 0.3032806\ttotal: 6.74s\tremaining: 1m 5s\n",
            "93:\tlearn: 0.3027676\ttotal: 6.79s\tremaining: 1m 5s\n",
            "94:\tlearn: 0.3022592\ttotal: 6.85s\tremaining: 1m 5s\n",
            "95:\tlearn: 0.3017601\ttotal: 6.9s\tremaining: 1m 4s\n",
            "96:\tlearn: 0.3012715\ttotal: 6.94s\tremaining: 1m 4s\n",
            "97:\tlearn: 0.3007922\ttotal: 6.99s\tremaining: 1m 4s\n",
            "98:\tlearn: 0.3003246\ttotal: 7.03s\tremaining: 1m 3s\n",
            "99:\tlearn: 0.2998634\ttotal: 7.07s\tremaining: 1m 3s\n",
            "100:\tlearn: 0.2994115\ttotal: 7.12s\tremaining: 1m 3s\n",
            "101:\tlearn: 0.2989722\ttotal: 7.16s\tremaining: 1m 3s\n",
            "102:\tlearn: 0.2985319\ttotal: 7.2s\tremaining: 1m 2s\n",
            "103:\tlearn: 0.2981055\ttotal: 7.25s\tremaining: 1m 2s\n",
            "104:\tlearn: 0.2976755\ttotal: 7.3s\tremaining: 1m 2s\n",
            "105:\tlearn: 0.2972654\ttotal: 7.35s\tremaining: 1m 1s\n",
            "106:\tlearn: 0.2968514\ttotal: 7.39s\tremaining: 1m 1s\n",
            "107:\tlearn: 0.2964489\ttotal: 7.43s\tremaining: 1m 1s\n",
            "108:\tlearn: 0.2960478\ttotal: 7.48s\tremaining: 1m 1s\n",
            "109:\tlearn: 0.2956625\ttotal: 7.52s\tremaining: 1m\n",
            "110:\tlearn: 0.2952762\ttotal: 7.56s\tremaining: 1m\n",
            "111:\tlearn: 0.2949036\ttotal: 7.6s\tremaining: 1m\n",
            "112:\tlearn: 0.2945430\ttotal: 7.65s\tremaining: 1m\n",
            "113:\tlearn: 0.2941872\ttotal: 7.69s\tremaining: 59.8s\n",
            "114:\tlearn: 0.2938356\ttotal: 7.73s\tremaining: 59.5s\n",
            "115:\tlearn: 0.2934931\ttotal: 7.77s\tremaining: 59.2s\n",
            "116:\tlearn: 0.2931466\ttotal: 7.81s\tremaining: 59s\n",
            "117:\tlearn: 0.2928079\ttotal: 7.88s\tremaining: 58.9s\n",
            "118:\tlearn: 0.2924882\ttotal: 7.93s\tremaining: 58.7s\n",
            "119:\tlearn: 0.2921641\ttotal: 7.97s\tremaining: 58.5s\n",
            "120:\tlearn: 0.2918507\ttotal: 8.01s\tremaining: 58.2s\n",
            "121:\tlearn: 0.2915255\ttotal: 8.05s\tremaining: 57.9s\n",
            "122:\tlearn: 0.2912235\ttotal: 8.1s\tremaining: 57.7s\n",
            "123:\tlearn: 0.2909266\ttotal: 8.14s\tremaining: 57.5s\n",
            "124:\tlearn: 0.2906301\ttotal: 8.18s\tremaining: 57.3s\n",
            "125:\tlearn: 0.2903371\ttotal: 8.23s\tremaining: 57.1s\n",
            "126:\tlearn: 0.2900525\ttotal: 8.28s\tremaining: 56.9s\n",
            "127:\tlearn: 0.2897678\ttotal: 8.31s\tremaining: 56.6s\n",
            "128:\tlearn: 0.2895002\ttotal: 8.36s\tremaining: 56.5s\n",
            "129:\tlearn: 0.2892306\ttotal: 8.4s\tremaining: 56.2s\n",
            "130:\tlearn: 0.2889665\ttotal: 8.45s\tremaining: 56s\n",
            "131:\tlearn: 0.2887088\ttotal: 8.49s\tremaining: 55.8s\n",
            "132:\tlearn: 0.2884530\ttotal: 8.53s\tremaining: 55.6s\n",
            "133:\tlearn: 0.2881946\ttotal: 8.57s\tremaining: 55.4s\n",
            "134:\tlearn: 0.2879474\ttotal: 8.61s\tremaining: 55.2s\n",
            "135:\tlearn: 0.2877109\ttotal: 8.66s\tremaining: 55s\n",
            "136:\tlearn: 0.2874803\ttotal: 8.7s\tremaining: 54.8s\n",
            "137:\tlearn: 0.2872420\ttotal: 8.74s\tremaining: 54.6s\n",
            "138:\tlearn: 0.2870164\ttotal: 8.79s\tremaining: 54.4s\n",
            "139:\tlearn: 0.2867973\ttotal: 8.83s\tremaining: 54.3s\n",
            "140:\tlearn: 0.2865770\ttotal: 8.9s\tremaining: 54.2s\n",
            "141:\tlearn: 0.2863703\ttotal: 8.95s\tremaining: 54s\n",
            "142:\tlearn: 0.2861560\ttotal: 8.99s\tremaining: 53.9s\n",
            "143:\tlearn: 0.2859467\ttotal: 9.03s\tremaining: 53.7s\n",
            "144:\tlearn: 0.2857373\ttotal: 9.07s\tremaining: 53.5s\n",
            "145:\tlearn: 0.2855277\ttotal: 9.11s\tremaining: 53.3s\n",
            "146:\tlearn: 0.2853345\ttotal: 9.15s\tremaining: 53.1s\n",
            "147:\tlearn: 0.2851408\ttotal: 9.19s\tremaining: 52.9s\n",
            "148:\tlearn: 0.2849531\ttotal: 9.24s\tremaining: 52.8s\n",
            "149:\tlearn: 0.2847661\ttotal: 9.29s\tremaining: 52.6s\n",
            "150:\tlearn: 0.2845806\ttotal: 9.33s\tremaining: 52.5s\n",
            "151:\tlearn: 0.2844046\ttotal: 9.37s\tremaining: 52.3s\n",
            "152:\tlearn: 0.2842171\ttotal: 9.41s\tremaining: 52.1s\n",
            "153:\tlearn: 0.2840373\ttotal: 9.46s\tremaining: 52s\n",
            "154:\tlearn: 0.2838649\ttotal: 9.5s\tremaining: 51.8s\n",
            "155:\tlearn: 0.2836926\ttotal: 9.54s\tremaining: 51.6s\n",
            "156:\tlearn: 0.2835232\ttotal: 9.58s\tremaining: 51.4s\n",
            "157:\tlearn: 0.2833582\ttotal: 9.62s\tremaining: 51.3s\n",
            "158:\tlearn: 0.2831998\ttotal: 9.67s\tremaining: 51.1s\n",
            "159:\tlearn: 0.2830388\ttotal: 9.71s\tremaining: 51s\n",
            "160:\tlearn: 0.2828779\ttotal: 9.75s\tremaining: 50.8s\n",
            "161:\tlearn: 0.2827208\ttotal: 9.79s\tremaining: 50.6s\n",
            "162:\tlearn: 0.2825674\ttotal: 9.83s\tremaining: 50.5s\n",
            "163:\tlearn: 0.2824212\ttotal: 9.89s\tremaining: 50.4s\n",
            "164:\tlearn: 0.2822790\ttotal: 9.94s\tremaining: 50.3s\n",
            "165:\tlearn: 0.2821343\ttotal: 9.98s\tremaining: 50.1s\n",
            "166:\tlearn: 0.2819889\ttotal: 10s\tremaining: 50s\n",
            "167:\tlearn: 0.2818528\ttotal: 10.1s\tremaining: 49.8s\n",
            "168:\tlearn: 0.2817208\ttotal: 10.1s\tremaining: 49.7s\n",
            "169:\tlearn: 0.2815859\ttotal: 10.1s\tremaining: 49.5s\n",
            "170:\tlearn: 0.2814583\ttotal: 10.2s\tremaining: 49.4s\n",
            "171:\tlearn: 0.2813309\ttotal: 10.2s\tremaining: 49.2s\n",
            "172:\tlearn: 0.2811916\ttotal: 10.3s\tremaining: 49.1s\n",
            "173:\tlearn: 0.2810711\ttotal: 10.3s\tremaining: 49s\n",
            "174:\tlearn: 0.2809435\ttotal: 10.4s\tremaining: 48.9s\n",
            "175:\tlearn: 0.2808280\ttotal: 10.4s\tremaining: 48.7s\n",
            "176:\tlearn: 0.2807128\ttotal: 10.4s\tremaining: 48.6s\n",
            "177:\tlearn: 0.2805995\ttotal: 10.5s\tremaining: 48.4s\n",
            "178:\tlearn: 0.2804869\ttotal: 10.5s\tremaining: 48.3s\n",
            "179:\tlearn: 0.2803714\ttotal: 10.6s\tremaining: 48.2s\n",
            "180:\tlearn: 0.2802661\ttotal: 10.6s\tremaining: 48s\n",
            "181:\tlearn: 0.2801560\ttotal: 10.7s\tremaining: 47.9s\n",
            "182:\tlearn: 0.2800489\ttotal: 10.7s\tremaining: 47.8s\n",
            "183:\tlearn: 0.2799459\ttotal: 10.7s\tremaining: 47.7s\n",
            "184:\tlearn: 0.2798382\ttotal: 10.8s\tremaining: 47.5s\n",
            "185:\tlearn: 0.2797403\ttotal: 10.8s\tremaining: 47.4s\n",
            "186:\tlearn: 0.2796436\ttotal: 10.9s\tremaining: 47.3s\n",
            "187:\tlearn: 0.2795485\ttotal: 10.9s\tremaining: 47.2s\n",
            "188:\tlearn: 0.2794375\ttotal: 11s\tremaining: 47.1s\n",
            "189:\tlearn: 0.2793399\ttotal: 11s\tremaining: 47s\n",
            "190:\tlearn: 0.2792386\ttotal: 11.1s\tremaining: 46.9s\n",
            "191:\tlearn: 0.2791507\ttotal: 11.1s\tremaining: 46.7s\n",
            "192:\tlearn: 0.2790666\ttotal: 11.1s\tremaining: 46.6s\n",
            "193:\tlearn: 0.2789834\ttotal: 11.2s\tremaining: 46.5s\n",
            "194:\tlearn: 0.2788979\ttotal: 11.2s\tremaining: 46.4s\n",
            "195:\tlearn: 0.2788078\ttotal: 11.3s\tremaining: 46.3s\n",
            "196:\tlearn: 0.2787249\ttotal: 11.3s\tremaining: 46.2s\n",
            "197:\tlearn: 0.2786377\ttotal: 11.4s\tremaining: 46s\n",
            "198:\tlearn: 0.2785500\ttotal: 11.4s\tremaining: 45.9s\n",
            "199:\tlearn: 0.2784611\ttotal: 11.5s\tremaining: 45.8s\n",
            "200:\tlearn: 0.2783880\ttotal: 11.5s\tremaining: 45.7s\n",
            "201:\tlearn: 0.2782998\ttotal: 11.5s\tremaining: 45.6s\n",
            "202:\tlearn: 0.2782245\ttotal: 11.6s\tremaining: 45.5s\n",
            "203:\tlearn: 0.2781511\ttotal: 11.6s\tremaining: 45.4s\n",
            "204:\tlearn: 0.2780707\ttotal: 11.7s\tremaining: 45.2s\n",
            "205:\tlearn: 0.2779936\ttotal: 11.7s\tremaining: 45.1s\n",
            "206:\tlearn: 0.2779260\ttotal: 11.7s\tremaining: 45s\n",
            "207:\tlearn: 0.2778501\ttotal: 11.8s\tremaining: 44.9s\n",
            "208:\tlearn: 0.2777809\ttotal: 11.8s\tremaining: 44.8s\n",
            "209:\tlearn: 0.2777127\ttotal: 11.9s\tremaining: 44.7s\n",
            "210:\tlearn: 0.2776411\ttotal: 11.9s\tremaining: 44.7s\n",
            "211:\tlearn: 0.2775775\ttotal: 12s\tremaining: 44.6s\n",
            "212:\tlearn: 0.2775119\ttotal: 12s\tremaining: 44.4s\n",
            "213:\tlearn: 0.2774510\ttotal: 12.1s\tremaining: 44.3s\n",
            "214:\tlearn: 0.2773841\ttotal: 12.1s\tremaining: 44.2s\n",
            "215:\tlearn: 0.2773206\ttotal: 12.2s\tremaining: 44.1s\n",
            "216:\tlearn: 0.2772590\ttotal: 12.2s\tremaining: 44s\n",
            "217:\tlearn: 0.2771976\ttotal: 12.2s\tremaining: 43.9s\n",
            "218:\tlearn: 0.2771338\ttotal: 12.3s\tremaining: 43.8s\n",
            "219:\tlearn: 0.2770699\ttotal: 12.3s\tremaining: 43.7s\n",
            "220:\tlearn: 0.2770081\ttotal: 12.4s\tremaining: 43.6s\n",
            "221:\tlearn: 0.2769479\ttotal: 12.4s\tremaining: 43.5s\n",
            "222:\tlearn: 0.2768920\ttotal: 12.5s\tremaining: 43.4s\n",
            "223:\tlearn: 0.2768309\ttotal: 12.5s\tremaining: 43.3s\n",
            "224:\tlearn: 0.2767844\ttotal: 12.5s\tremaining: 43.2s\n",
            "225:\tlearn: 0.2767181\ttotal: 12.6s\tremaining: 43.1s\n",
            "226:\tlearn: 0.2766635\ttotal: 12.6s\tremaining: 43s\n",
            "227:\tlearn: 0.2766121\ttotal: 12.7s\tremaining: 42.9s\n",
            "228:\tlearn: 0.2765497\ttotal: 12.7s\tremaining: 42.8s\n",
            "229:\tlearn: 0.2764948\ttotal: 12.8s\tremaining: 42.7s\n",
            "230:\tlearn: 0.2764404\ttotal: 12.8s\tremaining: 42.6s\n",
            "231:\tlearn: 0.2763718\ttotal: 12.8s\tremaining: 42.5s\n",
            "232:\tlearn: 0.2763178\ttotal: 12.9s\tremaining: 42.5s\n",
            "233:\tlearn: 0.2762626\ttotal: 13s\tremaining: 42.5s\n",
            "234:\tlearn: 0.2762142\ttotal: 13s\tremaining: 42.4s\n",
            "235:\tlearn: 0.2761627\ttotal: 13.1s\tremaining: 42.3s\n",
            "236:\tlearn: 0.2761167\ttotal: 13.1s\tremaining: 42.2s\n",
            "237:\tlearn: 0.2760677\ttotal: 13.1s\tremaining: 42.1s\n",
            "238:\tlearn: 0.2760237\ttotal: 13.2s\tremaining: 42s\n",
            "239:\tlearn: 0.2759781\ttotal: 13.2s\tremaining: 41.9s\n",
            "240:\tlearn: 0.2759348\ttotal: 13.3s\tremaining: 41.8s\n",
            "241:\tlearn: 0.2758911\ttotal: 13.3s\tremaining: 41.7s\n",
            "242:\tlearn: 0.2758437\ttotal: 13.4s\tremaining: 41.6s\n",
            "243:\tlearn: 0.2757965\ttotal: 13.4s\tremaining: 41.5s\n",
            "244:\tlearn: 0.2757537\ttotal: 13.5s\tremaining: 41.5s\n",
            "245:\tlearn: 0.2757095\ttotal: 13.5s\tremaining: 41.4s\n",
            "246:\tlearn: 0.2756711\ttotal: 13.5s\tremaining: 41.2s\n",
            "247:\tlearn: 0.2756250\ttotal: 13.6s\tremaining: 41.2s\n",
            "248:\tlearn: 0.2755858\ttotal: 13.6s\tremaining: 41.1s\n",
            "249:\tlearn: 0.2755381\ttotal: 13.7s\tremaining: 41s\n",
            "250:\tlearn: 0.2754956\ttotal: 13.7s\tremaining: 40.9s\n",
            "251:\tlearn: 0.2754582\ttotal: 13.7s\tremaining: 40.8s\n",
            "252:\tlearn: 0.2754175\ttotal: 13.8s\tremaining: 40.7s\n",
            "253:\tlearn: 0.2753770\ttotal: 13.8s\tremaining: 40.6s\n",
            "254:\tlearn: 0.2753350\ttotal: 13.9s\tremaining: 40.5s\n",
            "255:\tlearn: 0.2753024\ttotal: 13.9s\tremaining: 40.5s\n",
            "256:\tlearn: 0.2752683\ttotal: 14s\tremaining: 40.4s\n",
            "257:\tlearn: 0.2752315\ttotal: 14s\tremaining: 40.3s\n",
            "258:\tlearn: 0.2751896\ttotal: 14.1s\tremaining: 40.2s\n",
            "259:\tlearn: 0.2751497\ttotal: 14.1s\tremaining: 40.1s\n",
            "260:\tlearn: 0.2751197\ttotal: 14.1s\tremaining: 40.1s\n",
            "261:\tlearn: 0.2750853\ttotal: 14.2s\tremaining: 40s\n",
            "262:\tlearn: 0.2750503\ttotal: 14.2s\tremaining: 39.9s\n",
            "263:\tlearn: 0.2750135\ttotal: 14.3s\tremaining: 39.8s\n",
            "264:\tlearn: 0.2749806\ttotal: 14.3s\tremaining: 39.7s\n",
            "265:\tlearn: 0.2749521\ttotal: 14.4s\tremaining: 39.6s\n",
            "266:\tlearn: 0.2749177\ttotal: 14.4s\tremaining: 39.6s\n",
            "267:\tlearn: 0.2748840\ttotal: 14.4s\tremaining: 39.5s\n",
            "268:\tlearn: 0.2748488\ttotal: 14.5s\tremaining: 39.4s\n",
            "269:\tlearn: 0.2748165\ttotal: 14.5s\tremaining: 39.3s\n",
            "270:\tlearn: 0.2747898\ttotal: 14.6s\tremaining: 39.2s\n",
            "271:\tlearn: 0.2747600\ttotal: 14.6s\tremaining: 39.1s\n",
            "272:\tlearn: 0.2747277\ttotal: 14.7s\tremaining: 39s\n",
            "273:\tlearn: 0.2746968\ttotal: 14.7s\tremaining: 39s\n",
            "274:\tlearn: 0.2746701\ttotal: 14.7s\tremaining: 38.9s\n",
            "275:\tlearn: 0.2746426\ttotal: 14.8s\tremaining: 38.8s\n",
            "276:\tlearn: 0.2746102\ttotal: 14.8s\tremaining: 38.7s\n",
            "277:\tlearn: 0.2745846\ttotal: 14.9s\tremaining: 38.6s\n",
            "278:\tlearn: 0.2745515\ttotal: 14.9s\tremaining: 38.6s\n",
            "279:\tlearn: 0.2745222\ttotal: 15s\tremaining: 38.5s\n",
            "280:\tlearn: 0.2744974\ttotal: 15s\tremaining: 38.5s\n",
            "281:\tlearn: 0.2744602\ttotal: 15.1s\tremaining: 38.5s\n",
            "282:\tlearn: 0.2744254\ttotal: 15.2s\tremaining: 38.5s\n",
            "283:\tlearn: 0.2744027\ttotal: 15.3s\tremaining: 38.5s\n",
            "284:\tlearn: 0.2743785\ttotal: 15.4s\tremaining: 38.5s\n",
            "285:\tlearn: 0.2743478\ttotal: 15.4s\tremaining: 38.6s\n",
            "286:\tlearn: 0.2743183\ttotal: 15.5s\tremaining: 38.6s\n",
            "287:\tlearn: 0.2742883\ttotal: 15.6s\tremaining: 38.6s\n",
            "288:\tlearn: 0.2742626\ttotal: 15.7s\tremaining: 38.7s\n",
            "289:\tlearn: 0.2742409\ttotal: 15.8s\tremaining: 38.8s\n",
            "290:\tlearn: 0.2742126\ttotal: 15.9s\tremaining: 38.8s\n",
            "291:\tlearn: 0.2741871\ttotal: 16s\tremaining: 38.9s\n",
            "292:\tlearn: 0.2741521\ttotal: 16.1s\tremaining: 38.9s\n",
            "293:\tlearn: 0.2741185\ttotal: 16.2s\tremaining: 39s\n",
            "294:\tlearn: 0.2740920\ttotal: 16.3s\tremaining: 39s\n",
            "295:\tlearn: 0.2740722\ttotal: 16.4s\tremaining: 39.1s\n",
            "296:\tlearn: 0.2740495\ttotal: 16.5s\tremaining: 39s\n",
            "297:\tlearn: 0.2740257\ttotal: 16.6s\tremaining: 39.1s\n",
            "298:\tlearn: 0.2739982\ttotal: 16.7s\tremaining: 39.1s\n",
            "299:\tlearn: 0.2739690\ttotal: 16.8s\tremaining: 39.1s\n",
            "300:\tlearn: 0.2739459\ttotal: 16.9s\tremaining: 39.1s\n",
            "301:\tlearn: 0.2739172\ttotal: 16.9s\tremaining: 39.1s\n",
            "302:\tlearn: 0.2738935\ttotal: 17s\tremaining: 39.2s\n",
            "303:\tlearn: 0.2738722\ttotal: 17.1s\tremaining: 39.2s\n",
            "304:\tlearn: 0.2738514\ttotal: 17.2s\tremaining: 39.2s\n",
            "305:\tlearn: 0.2738228\ttotal: 17.3s\tremaining: 39.2s\n",
            "306:\tlearn: 0.2738054\ttotal: 17.4s\tremaining: 39.3s\n",
            "307:\tlearn: 0.2737817\ttotal: 17.5s\tremaining: 39.2s\n",
            "308:\tlearn: 0.2737650\ttotal: 17.6s\tremaining: 39.3s\n",
            "309:\tlearn: 0.2737316\ttotal: 17.6s\tremaining: 39.3s\n",
            "310:\tlearn: 0.2737126\ttotal: 17.7s\tremaining: 39.3s\n",
            "311:\tlearn: 0.2736834\ttotal: 17.8s\tremaining: 39.3s\n",
            "312:\tlearn: 0.2736627\ttotal: 17.9s\tremaining: 39.4s\n",
            "313:\tlearn: 0.2736441\ttotal: 18s\tremaining: 39.4s\n",
            "314:\tlearn: 0.2736189\ttotal: 18.1s\tremaining: 39.4s\n",
            "315:\tlearn: 0.2736011\ttotal: 18.2s\tremaining: 39.4s\n",
            "316:\tlearn: 0.2735803\ttotal: 18.3s\tremaining: 39.4s\n",
            "317:\tlearn: 0.2735551\ttotal: 18.4s\tremaining: 39.4s\n",
            "318:\tlearn: 0.2735333\ttotal: 18.4s\tremaining: 39.4s\n",
            "319:\tlearn: 0.2735134\ttotal: 18.5s\tremaining: 39.4s\n",
            "320:\tlearn: 0.2734935\ttotal: 18.6s\tremaining: 39.4s\n",
            "321:\tlearn: 0.2734705\ttotal: 18.7s\tremaining: 39.4s\n",
            "322:\tlearn: 0.2734511\ttotal: 18.8s\tremaining: 39.4s\n",
            "323:\tlearn: 0.2734346\ttotal: 18.9s\tremaining: 39.4s\n",
            "324:\tlearn: 0.2734192\ttotal: 18.9s\tremaining: 39.4s\n",
            "325:\tlearn: 0.2734028\ttotal: 19s\tremaining: 39.4s\n",
            "326:\tlearn: 0.2733829\ttotal: 19.1s\tremaining: 39.3s\n",
            "327:\tlearn: 0.2733678\ttotal: 19.2s\tremaining: 39.4s\n",
            "328:\tlearn: 0.2733482\ttotal: 19.3s\tremaining: 39.4s\n",
            "329:\tlearn: 0.2733305\ttotal: 19.4s\tremaining: 39.3s\n",
            "330:\tlearn: 0.2733112\ttotal: 19.4s\tremaining: 39.3s\n",
            "331:\tlearn: 0.2732815\ttotal: 19.5s\tremaining: 39.3s\n",
            "332:\tlearn: 0.2732660\ttotal: 19.6s\tremaining: 39.3s\n",
            "333:\tlearn: 0.2732469\ttotal: 19.7s\tremaining: 39.3s\n",
            "334:\tlearn: 0.2732227\ttotal: 19.8s\tremaining: 39.3s\n",
            "335:\tlearn: 0.2731965\ttotal: 19.9s\tremaining: 39.3s\n",
            "336:\tlearn: 0.2731773\ttotal: 19.9s\tremaining: 39.2s\n",
            "337:\tlearn: 0.2731538\ttotal: 20s\tremaining: 39.2s\n",
            "338:\tlearn: 0.2731316\ttotal: 20s\tremaining: 39.1s\n",
            "339:\tlearn: 0.2731131\ttotal: 20.1s\tremaining: 39s\n",
            "340:\tlearn: 0.2730958\ttotal: 20.1s\tremaining: 38.9s\n",
            "341:\tlearn: 0.2730795\ttotal: 20.2s\tremaining: 38.8s\n",
            "342:\tlearn: 0.2730637\ttotal: 20.2s\tremaining: 38.7s\n",
            "343:\tlearn: 0.2730466\ttotal: 20.3s\tremaining: 38.7s\n",
            "344:\tlearn: 0.2730315\ttotal: 20.3s\tremaining: 38.6s\n",
            "345:\tlearn: 0.2730087\ttotal: 20.4s\tremaining: 38.5s\n",
            "346:\tlearn: 0.2729915\ttotal: 20.4s\tremaining: 38.4s\n",
            "347:\tlearn: 0.2729688\ttotal: 20.4s\tremaining: 38.3s\n",
            "348:\tlearn: 0.2729537\ttotal: 20.5s\tremaining: 38.2s\n",
            "349:\tlearn: 0.2729330\ttotal: 20.5s\tremaining: 38.1s\n",
            "350:\tlearn: 0.2729176\ttotal: 20.6s\tremaining: 38s\n",
            "351:\tlearn: 0.2729010\ttotal: 20.6s\tremaining: 38s\n",
            "352:\tlearn: 0.2728777\ttotal: 20.7s\tremaining: 37.9s\n",
            "353:\tlearn: 0.2728652\ttotal: 20.7s\tremaining: 37.8s\n",
            "354:\tlearn: 0.2728446\ttotal: 20.7s\tremaining: 37.7s\n",
            "355:\tlearn: 0.2728280\ttotal: 20.8s\tremaining: 37.6s\n",
            "356:\tlearn: 0.2728125\ttotal: 20.8s\tremaining: 37.5s\n",
            "357:\tlearn: 0.2727966\ttotal: 20.9s\tremaining: 37.4s\n",
            "358:\tlearn: 0.2727741\ttotal: 20.9s\tremaining: 37.4s\n",
            "359:\tlearn: 0.2727538\ttotal: 21s\tremaining: 37.3s\n",
            "360:\tlearn: 0.2727329\ttotal: 21s\tremaining: 37.2s\n",
            "361:\tlearn: 0.2727169\ttotal: 21.1s\tremaining: 37.1s\n",
            "362:\tlearn: 0.2726953\ttotal: 21.1s\tremaining: 37s\n",
            "363:\tlearn: 0.2726763\ttotal: 21.2s\tremaining: 37s\n",
            "364:\tlearn: 0.2726557\ttotal: 21.2s\tremaining: 36.9s\n",
            "365:\tlearn: 0.2726363\ttotal: 21.2s\tremaining: 36.8s\n",
            "366:\tlearn: 0.2726190\ttotal: 21.3s\tremaining: 36.7s\n",
            "367:\tlearn: 0.2726008\ttotal: 21.3s\tremaining: 36.7s\n",
            "368:\tlearn: 0.2725884\ttotal: 21.4s\tremaining: 36.6s\n",
            "369:\tlearn: 0.2725738\ttotal: 21.4s\tremaining: 36.5s\n",
            "370:\tlearn: 0.2725592\ttotal: 21.5s\tremaining: 36.4s\n",
            "371:\tlearn: 0.2725442\ttotal: 21.5s\tremaining: 36.3s\n",
            "372:\tlearn: 0.2725192\ttotal: 21.6s\tremaining: 36.2s\n",
            "373:\tlearn: 0.2725008\ttotal: 21.6s\tremaining: 36.2s\n",
            "374:\tlearn: 0.2724825\ttotal: 21.6s\tremaining: 36.1s\n",
            "375:\tlearn: 0.2724625\ttotal: 21.7s\tremaining: 36s\n",
            "376:\tlearn: 0.2724455\ttotal: 21.7s\tremaining: 35.9s\n",
            "377:\tlearn: 0.2724322\ttotal: 21.8s\tremaining: 35.8s\n",
            "378:\tlearn: 0.2724121\ttotal: 21.8s\tremaining: 35.8s\n",
            "379:\tlearn: 0.2724009\ttotal: 21.9s\tremaining: 35.7s\n",
            "380:\tlearn: 0.2723841\ttotal: 21.9s\tremaining: 35.6s\n",
            "381:\tlearn: 0.2723649\ttotal: 22s\tremaining: 35.5s\n",
            "382:\tlearn: 0.2723499\ttotal: 22s\tremaining: 35.5s\n",
            "383:\tlearn: 0.2723301\ttotal: 22.1s\tremaining: 35.4s\n",
            "384:\tlearn: 0.2723126\ttotal: 22.1s\tremaining: 35.3s\n",
            "385:\tlearn: 0.2722953\ttotal: 22.1s\tremaining: 35.2s\n",
            "386:\tlearn: 0.2722815\ttotal: 22.2s\tremaining: 35.2s\n",
            "387:\tlearn: 0.2722637\ttotal: 22.2s\tremaining: 35.1s\n",
            "388:\tlearn: 0.2722524\ttotal: 22.3s\tremaining: 35s\n",
            "389:\tlearn: 0.2722433\ttotal: 22.3s\tremaining: 35s\n",
            "390:\tlearn: 0.2722215\ttotal: 22.4s\tremaining: 34.9s\n",
            "391:\tlearn: 0.2722039\ttotal: 22.4s\tremaining: 34.8s\n",
            "392:\tlearn: 0.2721902\ttotal: 22.5s\tremaining: 34.7s\n",
            "393:\tlearn: 0.2721731\ttotal: 22.5s\tremaining: 34.6s\n",
            "394:\tlearn: 0.2721551\ttotal: 22.6s\tremaining: 34.6s\n",
            "395:\tlearn: 0.2721346\ttotal: 22.6s\tremaining: 34.5s\n",
            "396:\tlearn: 0.2721174\ttotal: 22.7s\tremaining: 34.4s\n",
            "397:\tlearn: 0.2721063\ttotal: 22.7s\tremaining: 34.3s\n",
            "398:\tlearn: 0.2720908\ttotal: 22.7s\tremaining: 34.3s\n",
            "399:\tlearn: 0.2720785\ttotal: 22.8s\tremaining: 34.2s\n",
            "400:\tlearn: 0.2720624\ttotal: 22.8s\tremaining: 34.1s\n",
            "401:\tlearn: 0.2720433\ttotal: 22.9s\tremaining: 34s\n",
            "402:\tlearn: 0.2720244\ttotal: 22.9s\tremaining: 33.9s\n",
            "403:\tlearn: 0.2720127\ttotal: 23s\tremaining: 33.9s\n",
            "404:\tlearn: 0.2719963\ttotal: 23s\tremaining: 33.8s\n",
            "405:\tlearn: 0.2719798\ttotal: 23.1s\tremaining: 33.7s\n",
            "406:\tlearn: 0.2719666\ttotal: 23.1s\tremaining: 33.7s\n",
            "407:\tlearn: 0.2719487\ttotal: 23.2s\tremaining: 33.6s\n",
            "408:\tlearn: 0.2719342\ttotal: 23.2s\tremaining: 33.5s\n",
            "409:\tlearn: 0.2719221\ttotal: 23.3s\tremaining: 33.5s\n",
            "410:\tlearn: 0.2719079\ttotal: 23.3s\tremaining: 33.4s\n",
            "411:\tlearn: 0.2718969\ttotal: 23.3s\tremaining: 33.3s\n",
            "412:\tlearn: 0.2718764\ttotal: 23.4s\tremaining: 33.3s\n",
            "413:\tlearn: 0.2718663\ttotal: 23.4s\tremaining: 33.2s\n",
            "414:\tlearn: 0.2718554\ttotal: 23.5s\tremaining: 33.1s\n",
            "415:\tlearn: 0.2718357\ttotal: 23.5s\tremaining: 33s\n",
            "416:\tlearn: 0.2718235\ttotal: 23.6s\tremaining: 33s\n",
            "417:\tlearn: 0.2718081\ttotal: 23.6s\tremaining: 32.9s\n",
            "418:\tlearn: 0.2717951\ttotal: 23.7s\tremaining: 32.8s\n",
            "419:\tlearn: 0.2717657\ttotal: 23.7s\tremaining: 32.7s\n",
            "420:\tlearn: 0.2717534\ttotal: 23.8s\tremaining: 32.7s\n",
            "421:\tlearn: 0.2717417\ttotal: 23.8s\tremaining: 32.6s\n",
            "422:\tlearn: 0.2717256\ttotal: 23.8s\tremaining: 32.5s\n",
            "423:\tlearn: 0.2717091\ttotal: 23.9s\tremaining: 32.5s\n",
            "424:\tlearn: 0.2716963\ttotal: 23.9s\tremaining: 32.4s\n",
            "425:\tlearn: 0.2716865\ttotal: 24s\tremaining: 32.3s\n",
            "426:\tlearn: 0.2716716\ttotal: 24s\tremaining: 32.2s\n",
            "427:\tlearn: 0.2716624\ttotal: 24.1s\tremaining: 32.2s\n",
            "428:\tlearn: 0.2716473\ttotal: 24.1s\tremaining: 32.1s\n",
            "429:\tlearn: 0.2716315\ttotal: 24.2s\tremaining: 32s\n",
            "430:\tlearn: 0.2716175\ttotal: 24.2s\tremaining: 32s\n",
            "431:\tlearn: 0.2716050\ttotal: 24.3s\tremaining: 31.9s\n",
            "432:\tlearn: 0.2715884\ttotal: 24.3s\tremaining: 31.8s\n",
            "433:\tlearn: 0.2715628\ttotal: 24.3s\tremaining: 31.7s\n",
            "434:\tlearn: 0.2715467\ttotal: 24.4s\tremaining: 31.7s\n",
            "435:\tlearn: 0.2715349\ttotal: 24.4s\tremaining: 31.6s\n",
            "436:\tlearn: 0.2715228\ttotal: 24.5s\tremaining: 31.5s\n",
            "437:\tlearn: 0.2715072\ttotal: 24.5s\tremaining: 31.5s\n",
            "438:\tlearn: 0.2714939\ttotal: 24.6s\tremaining: 31.4s\n",
            "439:\tlearn: 0.2714810\ttotal: 24.6s\tremaining: 31.3s\n",
            "440:\tlearn: 0.2714694\ttotal: 24.7s\tremaining: 31.3s\n",
            "441:\tlearn: 0.2714434\ttotal: 24.7s\tremaining: 31.2s\n",
            "442:\tlearn: 0.2714254\ttotal: 24.7s\tremaining: 31.1s\n",
            "443:\tlearn: 0.2714122\ttotal: 24.8s\tremaining: 31s\n",
            "444:\tlearn: 0.2713976\ttotal: 24.8s\tremaining: 31s\n",
            "445:\tlearn: 0.2713820\ttotal: 24.9s\tremaining: 30.9s\n",
            "446:\tlearn: 0.2713676\ttotal: 24.9s\tremaining: 30.8s\n",
            "447:\tlearn: 0.2713524\ttotal: 25s\tremaining: 30.7s\n",
            "448:\tlearn: 0.2713267\ttotal: 25s\tremaining: 30.7s\n",
            "449:\tlearn: 0.2713078\ttotal: 25.1s\tremaining: 30.6s\n",
            "450:\tlearn: 0.2712965\ttotal: 25.1s\tremaining: 30.6s\n",
            "451:\tlearn: 0.2712817\ttotal: 25.2s\tremaining: 30.5s\n",
            "452:\tlearn: 0.2712695\ttotal: 25.2s\tremaining: 30.4s\n",
            "453:\tlearn: 0.2712581\ttotal: 25.2s\tremaining: 30.4s\n",
            "454:\tlearn: 0.2712379\ttotal: 25.3s\tremaining: 30.3s\n",
            "455:\tlearn: 0.2712169\ttotal: 25.3s\tremaining: 30.2s\n",
            "456:\tlearn: 0.2711965\ttotal: 25.4s\tremaining: 30.2s\n",
            "457:\tlearn: 0.2711804\ttotal: 25.4s\tremaining: 30.1s\n",
            "458:\tlearn: 0.2711566\ttotal: 25.5s\tremaining: 30s\n",
            "459:\tlearn: 0.2711433\ttotal: 25.5s\tremaining: 30s\n",
            "460:\tlearn: 0.2711295\ttotal: 25.6s\tremaining: 29.9s\n",
            "461:\tlearn: 0.2711108\ttotal: 25.6s\tremaining: 29.8s\n",
            "462:\tlearn: 0.2710950\ttotal: 25.6s\tremaining: 29.7s\n",
            "463:\tlearn: 0.2710789\ttotal: 25.7s\tremaining: 29.7s\n",
            "464:\tlearn: 0.2710554\ttotal: 25.7s\tremaining: 29.6s\n",
            "465:\tlearn: 0.2710317\ttotal: 25.8s\tremaining: 29.5s\n",
            "466:\tlearn: 0.2710206\ttotal: 25.8s\tremaining: 29.5s\n",
            "467:\tlearn: 0.2710121\ttotal: 25.9s\tremaining: 29.4s\n",
            "468:\tlearn: 0.2710000\ttotal: 25.9s\tremaining: 29.3s\n",
            "469:\tlearn: 0.2709861\ttotal: 26s\tremaining: 29.3s\n",
            "470:\tlearn: 0.2709700\ttotal: 26s\tremaining: 29.2s\n",
            "471:\tlearn: 0.2709582\ttotal: 26.1s\tremaining: 29.2s\n",
            "472:\tlearn: 0.2709498\ttotal: 26.1s\tremaining: 29.1s\n",
            "473:\tlearn: 0.2709402\ttotal: 26.1s\tremaining: 29s\n",
            "474:\tlearn: 0.2709157\ttotal: 26.2s\tremaining: 28.9s\n",
            "475:\tlearn: 0.2709009\ttotal: 26.2s\tremaining: 28.9s\n",
            "476:\tlearn: 0.2708867\ttotal: 26.3s\tremaining: 28.8s\n",
            "477:\tlearn: 0.2708678\ttotal: 26.3s\tremaining: 28.7s\n",
            "478:\tlearn: 0.2708596\ttotal: 26.4s\tremaining: 28.7s\n",
            "479:\tlearn: 0.2708515\ttotal: 26.4s\tremaining: 28.6s\n",
            "480:\tlearn: 0.2708411\ttotal: 26.4s\tremaining: 28.5s\n",
            "481:\tlearn: 0.2708171\ttotal: 26.5s\tremaining: 28.5s\n",
            "482:\tlearn: 0.2707995\ttotal: 26.5s\tremaining: 28.4s\n",
            "483:\tlearn: 0.2707838\ttotal: 26.6s\tremaining: 28.3s\n",
            "484:\tlearn: 0.2707734\ttotal: 26.6s\tremaining: 28.3s\n",
            "485:\tlearn: 0.2707629\ttotal: 26.7s\tremaining: 28.2s\n",
            "486:\tlearn: 0.2707482\ttotal: 26.7s\tremaining: 28.1s\n",
            "487:\tlearn: 0.2707341\ttotal: 26.8s\tremaining: 28.1s\n",
            "488:\tlearn: 0.2707098\ttotal: 26.8s\tremaining: 28s\n",
            "489:\tlearn: 0.2706940\ttotal: 26.8s\tremaining: 27.9s\n",
            "490:\tlearn: 0.2706826\ttotal: 26.9s\tremaining: 27.9s\n",
            "491:\tlearn: 0.2706728\ttotal: 26.9s\tremaining: 27.8s\n",
            "492:\tlearn: 0.2706600\ttotal: 27s\tremaining: 27.7s\n",
            "493:\tlearn: 0.2706450\ttotal: 27s\tremaining: 27.7s\n",
            "494:\tlearn: 0.2706292\ttotal: 27.1s\tremaining: 27.6s\n",
            "495:\tlearn: 0.2706061\ttotal: 27.1s\tremaining: 27.6s\n",
            "496:\tlearn: 0.2705838\ttotal: 27.2s\tremaining: 27.5s\n",
            "497:\tlearn: 0.2705721\ttotal: 27.2s\tremaining: 27.4s\n",
            "498:\tlearn: 0.2705576\ttotal: 27.3s\tremaining: 27.4s\n",
            "499:\tlearn: 0.2705420\ttotal: 27.3s\tremaining: 27.3s\n",
            "500:\tlearn: 0.2705279\ttotal: 27.4s\tremaining: 27.2s\n",
            "501:\tlearn: 0.2705200\ttotal: 27.4s\tremaining: 27.2s\n",
            "502:\tlearn: 0.2705121\ttotal: 27.4s\tremaining: 27.1s\n",
            "503:\tlearn: 0.2704937\ttotal: 27.5s\tremaining: 27.1s\n",
            "504:\tlearn: 0.2704804\ttotal: 27.5s\tremaining: 27s\n",
            "505:\tlearn: 0.2704588\ttotal: 27.6s\tremaining: 26.9s\n",
            "506:\tlearn: 0.2704374\ttotal: 27.6s\tremaining: 26.9s\n",
            "507:\tlearn: 0.2704246\ttotal: 27.7s\tremaining: 26.8s\n",
            "508:\tlearn: 0.2704162\ttotal: 27.7s\tremaining: 26.7s\n",
            "509:\tlearn: 0.2703955\ttotal: 27.7s\tremaining: 26.7s\n",
            "510:\tlearn: 0.2703748\ttotal: 27.8s\tremaining: 26.6s\n",
            "511:\tlearn: 0.2703546\ttotal: 27.8s\tremaining: 26.5s\n",
            "512:\tlearn: 0.2703462\ttotal: 27.9s\tremaining: 26.5s\n",
            "513:\tlearn: 0.2703267\ttotal: 27.9s\tremaining: 26.4s\n",
            "514:\tlearn: 0.2703135\ttotal: 27.9s\tremaining: 26.3s\n",
            "515:\tlearn: 0.2702944\ttotal: 28s\tremaining: 26.3s\n",
            "516:\tlearn: 0.2702839\ttotal: 28.1s\tremaining: 26.2s\n",
            "517:\tlearn: 0.2702718\ttotal: 28.1s\tremaining: 26.1s\n",
            "518:\tlearn: 0.2702620\ttotal: 28.1s\tremaining: 26.1s\n",
            "519:\tlearn: 0.2702536\ttotal: 28.2s\tremaining: 26s\n",
            "520:\tlearn: 0.2702450\ttotal: 28.2s\tremaining: 26s\n",
            "521:\tlearn: 0.2702351\ttotal: 28.3s\tremaining: 25.9s\n",
            "522:\tlearn: 0.2702277\ttotal: 28.3s\tremaining: 25.8s\n",
            "523:\tlearn: 0.2702209\ttotal: 28.4s\tremaining: 25.8s\n",
            "524:\tlearn: 0.2702045\ttotal: 28.4s\tremaining: 25.7s\n",
            "525:\tlearn: 0.2701858\ttotal: 28.4s\tremaining: 25.6s\n",
            "526:\tlearn: 0.2701740\ttotal: 28.5s\tremaining: 25.6s\n",
            "527:\tlearn: 0.2701630\ttotal: 28.5s\tremaining: 25.5s\n",
            "528:\tlearn: 0.2701551\ttotal: 28.6s\tremaining: 25.4s\n",
            "529:\tlearn: 0.2701410\ttotal: 28.6s\tremaining: 25.4s\n",
            "530:\tlearn: 0.2701286\ttotal: 28.7s\tremaining: 25.3s\n",
            "531:\tlearn: 0.2701120\ttotal: 28.7s\tremaining: 25.3s\n",
            "532:\tlearn: 0.2701008\ttotal: 28.7s\tremaining: 25.2s\n",
            "533:\tlearn: 0.2700941\ttotal: 28.8s\tremaining: 25.1s\n",
            "534:\tlearn: 0.2700810\ttotal: 28.8s\tremaining: 25.1s\n",
            "535:\tlearn: 0.2700713\ttotal: 28.9s\tremaining: 25s\n",
            "536:\tlearn: 0.2700533\ttotal: 28.9s\tremaining: 24.9s\n",
            "537:\tlearn: 0.2700424\ttotal: 28.9s\tremaining: 24.9s\n",
            "538:\tlearn: 0.2700268\ttotal: 29s\tremaining: 24.8s\n",
            "539:\tlearn: 0.2700203\ttotal: 29s\tremaining: 24.7s\n",
            "540:\tlearn: 0.2700134\ttotal: 29.1s\tremaining: 24.7s\n",
            "541:\tlearn: 0.2700021\ttotal: 29.1s\tremaining: 24.6s\n",
            "542:\tlearn: 0.2699934\ttotal: 29.2s\tremaining: 24.6s\n",
            "543:\tlearn: 0.2699807\ttotal: 29.2s\tremaining: 24.5s\n",
            "544:\tlearn: 0.2699631\ttotal: 29.3s\tremaining: 24.4s\n",
            "545:\tlearn: 0.2699456\ttotal: 29.3s\tremaining: 24.4s\n",
            "546:\tlearn: 0.2699300\ttotal: 29.4s\tremaining: 24.3s\n",
            "547:\tlearn: 0.2699129\ttotal: 29.4s\tremaining: 24.2s\n",
            "548:\tlearn: 0.2698987\ttotal: 29.4s\tremaining: 24.2s\n",
            "549:\tlearn: 0.2698884\ttotal: 29.5s\tremaining: 24.1s\n",
            "550:\tlearn: 0.2698738\ttotal: 29.5s\tremaining: 24.1s\n",
            "551:\tlearn: 0.2698661\ttotal: 29.6s\tremaining: 24s\n",
            "552:\tlearn: 0.2698567\ttotal: 29.6s\tremaining: 23.9s\n",
            "553:\tlearn: 0.2698435\ttotal: 29.7s\tremaining: 23.9s\n",
            "554:\tlearn: 0.2698280\ttotal: 29.7s\tremaining: 23.8s\n",
            "555:\tlearn: 0.2698158\ttotal: 29.7s\tremaining: 23.7s\n",
            "556:\tlearn: 0.2698042\ttotal: 29.8s\tremaining: 23.7s\n",
            "557:\tlearn: 0.2697933\ttotal: 29.8s\tremaining: 23.6s\n",
            "558:\tlearn: 0.2697794\ttotal: 29.9s\tremaining: 23.6s\n",
            "559:\tlearn: 0.2697688\ttotal: 29.9s\tremaining: 23.5s\n",
            "560:\tlearn: 0.2697592\ttotal: 30s\tremaining: 23.5s\n",
            "561:\tlearn: 0.2697536\ttotal: 30.1s\tremaining: 23.5s\n",
            "562:\tlearn: 0.2697382\ttotal: 30.2s\tremaining: 23.4s\n",
            "563:\tlearn: 0.2697216\ttotal: 30.2s\tremaining: 23.4s\n",
            "564:\tlearn: 0.2697160\ttotal: 30.3s\tremaining: 23.3s\n",
            "565:\tlearn: 0.2697097\ttotal: 30.4s\tremaining: 23.3s\n",
            "566:\tlearn: 0.2696945\ttotal: 30.5s\tremaining: 23.3s\n",
            "567:\tlearn: 0.2696820\ttotal: 30.6s\tremaining: 23.2s\n",
            "568:\tlearn: 0.2696727\ttotal: 30.7s\tremaining: 23.2s\n",
            "569:\tlearn: 0.2696590\ttotal: 30.8s\tremaining: 23.2s\n",
            "570:\tlearn: 0.2696458\ttotal: 30.8s\tremaining: 23.2s\n",
            "571:\tlearn: 0.2696333\ttotal: 30.9s\tremaining: 23.1s\n",
            "572:\tlearn: 0.2696187\ttotal: 31s\tremaining: 23.1s\n",
            "573:\tlearn: 0.2696049\ttotal: 31.1s\tremaining: 23.1s\n",
            "574:\tlearn: 0.2695944\ttotal: 31.2s\tremaining: 23.1s\n",
            "575:\tlearn: 0.2695879\ttotal: 31.3s\tremaining: 23s\n",
            "576:\tlearn: 0.2695822\ttotal: 31.4s\tremaining: 23s\n",
            "577:\tlearn: 0.2695642\ttotal: 31.5s\tremaining: 23s\n",
            "578:\tlearn: 0.2695510\ttotal: 31.6s\tremaining: 22.9s\n",
            "579:\tlearn: 0.2695406\ttotal: 31.6s\tremaining: 22.9s\n",
            "580:\tlearn: 0.2695351\ttotal: 31.7s\tremaining: 22.9s\n",
            "581:\tlearn: 0.2695219\ttotal: 31.8s\tremaining: 22.8s\n",
            "582:\tlearn: 0.2695087\ttotal: 31.9s\tremaining: 22.8s\n",
            "583:\tlearn: 0.2695009\ttotal: 32s\tremaining: 22.8s\n",
            "584:\tlearn: 0.2694926\ttotal: 32s\tremaining: 22.7s\n",
            "585:\tlearn: 0.2694764\ttotal: 32.2s\tremaining: 22.7s\n",
            "586:\tlearn: 0.2694721\ttotal: 32.3s\tremaining: 22.7s\n",
            "587:\tlearn: 0.2694616\ttotal: 32.4s\tremaining: 22.7s\n",
            "588:\tlearn: 0.2694453\ttotal: 32.4s\tremaining: 22.6s\n",
            "589:\tlearn: 0.2694309\ttotal: 32.5s\tremaining: 22.6s\n",
            "590:\tlearn: 0.2694234\ttotal: 32.6s\tremaining: 22.6s\n",
            "591:\tlearn: 0.2694103\ttotal: 32.7s\tremaining: 22.6s\n",
            "592:\tlearn: 0.2694034\ttotal: 32.8s\tremaining: 22.5s\n",
            "593:\tlearn: 0.2693912\ttotal: 32.9s\tremaining: 22.5s\n",
            "594:\tlearn: 0.2693849\ttotal: 33s\tremaining: 22.4s\n",
            "595:\tlearn: 0.2693708\ttotal: 33.1s\tremaining: 22.4s\n",
            "596:\tlearn: 0.2693636\ttotal: 33.1s\tremaining: 22.4s\n",
            "597:\tlearn: 0.2693514\ttotal: 33.3s\tremaining: 22.4s\n",
            "598:\tlearn: 0.2693395\ttotal: 33.4s\tremaining: 22.3s\n",
            "599:\tlearn: 0.2693270\ttotal: 33.5s\tremaining: 22.3s\n",
            "600:\tlearn: 0.2693181\ttotal: 33.5s\tremaining: 22.3s\n",
            "601:\tlearn: 0.2693075\ttotal: 33.6s\tremaining: 22.2s\n",
            "602:\tlearn: 0.2692914\ttotal: 33.7s\tremaining: 22.2s\n",
            "603:\tlearn: 0.2692779\ttotal: 33.8s\tremaining: 22.2s\n",
            "604:\tlearn: 0.2692699\ttotal: 33.9s\tremaining: 22.1s\n",
            "605:\tlearn: 0.2692597\ttotal: 34s\tremaining: 22.1s\n",
            "606:\tlearn: 0.2692432\ttotal: 34.1s\tremaining: 22.1s\n",
            "607:\tlearn: 0.2692308\ttotal: 34.2s\tremaining: 22s\n",
            "608:\tlearn: 0.2692199\ttotal: 34.3s\tremaining: 22s\n",
            "609:\tlearn: 0.2692094\ttotal: 34.4s\tremaining: 22s\n",
            "610:\tlearn: 0.2692035\ttotal: 34.5s\tremaining: 21.9s\n",
            "611:\tlearn: 0.2691915\ttotal: 34.5s\tremaining: 21.9s\n",
            "612:\tlearn: 0.2691822\ttotal: 34.6s\tremaining: 21.9s\n",
            "613:\tlearn: 0.2691688\ttotal: 34.7s\tremaining: 21.8s\n",
            "614:\tlearn: 0.2691550\ttotal: 34.8s\tremaining: 21.8s\n",
            "615:\tlearn: 0.2691408\ttotal: 34.8s\tremaining: 21.7s\n",
            "616:\tlearn: 0.2691357\ttotal: 34.9s\tremaining: 21.6s\n",
            "617:\tlearn: 0.2691224\ttotal: 34.9s\tremaining: 21.6s\n",
            "618:\tlearn: 0.2691098\ttotal: 35s\tremaining: 21.5s\n",
            "619:\tlearn: 0.2690982\ttotal: 35s\tremaining: 21.5s\n",
            "620:\tlearn: 0.2690830\ttotal: 35s\tremaining: 21.4s\n",
            "621:\tlearn: 0.2690774\ttotal: 35.1s\tremaining: 21.3s\n",
            "622:\tlearn: 0.2690653\ttotal: 35.1s\tremaining: 21.3s\n",
            "623:\tlearn: 0.2690503\ttotal: 35.2s\tremaining: 21.2s\n",
            "624:\tlearn: 0.2690355\ttotal: 35.2s\tremaining: 21.1s\n",
            "625:\tlearn: 0.2690227\ttotal: 35.3s\tremaining: 21.1s\n",
            "626:\tlearn: 0.2690125\ttotal: 35.3s\tremaining: 21s\n",
            "627:\tlearn: 0.2689984\ttotal: 35.4s\tremaining: 21s\n",
            "628:\tlearn: 0.2689779\ttotal: 35.4s\tremaining: 20.9s\n",
            "629:\tlearn: 0.2689741\ttotal: 35.5s\tremaining: 20.8s\n",
            "630:\tlearn: 0.2689660\ttotal: 35.5s\tremaining: 20.8s\n",
            "631:\tlearn: 0.2689585\ttotal: 35.6s\tremaining: 20.7s\n",
            "632:\tlearn: 0.2689478\ttotal: 35.6s\tremaining: 20.6s\n",
            "633:\tlearn: 0.2689408\ttotal: 35.6s\tremaining: 20.6s\n",
            "634:\tlearn: 0.2689320\ttotal: 35.7s\tremaining: 20.5s\n",
            "635:\tlearn: 0.2689254\ttotal: 35.7s\tremaining: 20.4s\n",
            "636:\tlearn: 0.2689208\ttotal: 35.8s\tremaining: 20.4s\n",
            "637:\tlearn: 0.2689126\ttotal: 35.8s\tremaining: 20.3s\n",
            "638:\tlearn: 0.2689075\ttotal: 35.9s\tremaining: 20.3s\n",
            "639:\tlearn: 0.2688977\ttotal: 35.9s\tremaining: 20.2s\n",
            "640:\tlearn: 0.2688856\ttotal: 35.9s\tremaining: 20.1s\n",
            "641:\tlearn: 0.2688793\ttotal: 36s\tremaining: 20.1s\n",
            "642:\tlearn: 0.2688738\ttotal: 36s\tremaining: 20s\n",
            "643:\tlearn: 0.2688631\ttotal: 36.1s\tremaining: 19.9s\n",
            "644:\tlearn: 0.2688588\ttotal: 36.1s\tremaining: 19.9s\n",
            "645:\tlearn: 0.2688500\ttotal: 36.2s\tremaining: 19.8s\n",
            "646:\tlearn: 0.2688404\ttotal: 36.2s\tremaining: 19.8s\n",
            "647:\tlearn: 0.2688304\ttotal: 36.2s\tremaining: 19.7s\n",
            "648:\tlearn: 0.2688261\ttotal: 36.3s\tremaining: 19.6s\n",
            "649:\tlearn: 0.2688193\ttotal: 36.4s\tremaining: 19.6s\n",
            "650:\tlearn: 0.2688146\ttotal: 36.4s\tremaining: 19.5s\n",
            "651:\tlearn: 0.2688084\ttotal: 36.4s\tremaining: 19.4s\n",
            "652:\tlearn: 0.2688030\ttotal: 36.5s\tremaining: 19.4s\n",
            "653:\tlearn: 0.2687917\ttotal: 36.5s\tremaining: 19.3s\n",
            "654:\tlearn: 0.2687862\ttotal: 36.6s\tremaining: 19.3s\n",
            "655:\tlearn: 0.2687774\ttotal: 36.6s\tremaining: 19.2s\n",
            "656:\tlearn: 0.2687628\ttotal: 36.6s\tremaining: 19.1s\n",
            "657:\tlearn: 0.2687526\ttotal: 36.7s\tremaining: 19.1s\n",
            "658:\tlearn: 0.2687478\ttotal: 36.7s\tremaining: 19s\n",
            "659:\tlearn: 0.2687316\ttotal: 36.8s\tremaining: 18.9s\n",
            "660:\tlearn: 0.2687133\ttotal: 36.8s\tremaining: 18.9s\n",
            "661:\tlearn: 0.2687047\ttotal: 36.9s\tremaining: 18.8s\n",
            "662:\tlearn: 0.2686936\ttotal: 36.9s\tremaining: 18.8s\n",
            "663:\tlearn: 0.2686876\ttotal: 37s\tremaining: 18.7s\n",
            "664:\tlearn: 0.2686768\ttotal: 37s\tremaining: 18.6s\n",
            "665:\tlearn: 0.2686720\ttotal: 37s\tremaining: 18.6s\n",
            "666:\tlearn: 0.2686654\ttotal: 37.1s\tremaining: 18.5s\n",
            "667:\tlearn: 0.2686587\ttotal: 37.1s\tremaining: 18.5s\n",
            "668:\tlearn: 0.2686496\ttotal: 37.2s\tremaining: 18.4s\n",
            "669:\tlearn: 0.2686407\ttotal: 37.2s\tremaining: 18.3s\n",
            "670:\tlearn: 0.2686277\ttotal: 37.3s\tremaining: 18.3s\n",
            "671:\tlearn: 0.2686139\ttotal: 37.3s\tremaining: 18.2s\n",
            "672:\tlearn: 0.2686054\ttotal: 37.4s\tremaining: 18.2s\n",
            "673:\tlearn: 0.2685913\ttotal: 37.4s\tremaining: 18.1s\n",
            "674:\tlearn: 0.2685728\ttotal: 37.5s\tremaining: 18s\n",
            "675:\tlearn: 0.2685643\ttotal: 37.5s\tremaining: 18s\n",
            "676:\tlearn: 0.2685542\ttotal: 37.6s\tremaining: 17.9s\n",
            "677:\tlearn: 0.2685446\ttotal: 37.6s\tremaining: 17.9s\n",
            "678:\tlearn: 0.2685348\ttotal: 37.6s\tremaining: 17.8s\n",
            "679:\tlearn: 0.2685295\ttotal: 37.7s\tremaining: 17.7s\n",
            "680:\tlearn: 0.2685230\ttotal: 37.7s\tremaining: 17.7s\n",
            "681:\tlearn: 0.2685096\ttotal: 37.8s\tremaining: 17.6s\n",
            "682:\tlearn: 0.2685012\ttotal: 37.8s\tremaining: 17.5s\n",
            "683:\tlearn: 0.2684965\ttotal: 37.9s\tremaining: 17.5s\n",
            "684:\tlearn: 0.2684894\ttotal: 37.9s\tremaining: 17.4s\n",
            "685:\tlearn: 0.2684842\ttotal: 37.9s\tremaining: 17.4s\n",
            "686:\tlearn: 0.2684784\ttotal: 38s\tremaining: 17.3s\n",
            "687:\tlearn: 0.2684631\ttotal: 38s\tremaining: 17.2s\n",
            "688:\tlearn: 0.2684548\ttotal: 38.1s\tremaining: 17.2s\n",
            "689:\tlearn: 0.2684448\ttotal: 38.1s\tremaining: 17.1s\n",
            "690:\tlearn: 0.2684389\ttotal: 38.2s\tremaining: 17.1s\n",
            "691:\tlearn: 0.2684331\ttotal: 38.2s\tremaining: 17s\n",
            "692:\tlearn: 0.2684284\ttotal: 38.2s\tremaining: 16.9s\n",
            "693:\tlearn: 0.2684227\ttotal: 38.3s\tremaining: 16.9s\n",
            "694:\tlearn: 0.2684194\ttotal: 38.3s\tremaining: 16.8s\n",
            "695:\tlearn: 0.2684133\ttotal: 38.4s\tremaining: 16.8s\n",
            "696:\tlearn: 0.2684092\ttotal: 38.4s\tremaining: 16.7s\n",
            "697:\tlearn: 0.2684029\ttotal: 38.5s\tremaining: 16.7s\n",
            "698:\tlearn: 0.2683932\ttotal: 38.5s\tremaining: 16.6s\n",
            "699:\tlearn: 0.2683878\ttotal: 38.6s\tremaining: 16.5s\n",
            "700:\tlearn: 0.2683834\ttotal: 38.6s\tremaining: 16.5s\n",
            "701:\tlearn: 0.2683757\ttotal: 38.7s\tremaining: 16.4s\n",
            "702:\tlearn: 0.2683680\ttotal: 38.7s\tremaining: 16.3s\n",
            "703:\tlearn: 0.2683568\ttotal: 38.7s\tremaining: 16.3s\n",
            "704:\tlearn: 0.2683516\ttotal: 38.8s\tremaining: 16.2s\n",
            "705:\tlearn: 0.2683427\ttotal: 38.8s\tremaining: 16.2s\n",
            "706:\tlearn: 0.2683346\ttotal: 38.9s\tremaining: 16.1s\n",
            "707:\tlearn: 0.2683243\ttotal: 38.9s\tremaining: 16.1s\n",
            "708:\tlearn: 0.2683174\ttotal: 39s\tremaining: 16s\n",
            "709:\tlearn: 0.2683038\ttotal: 39s\tremaining: 15.9s\n",
            "710:\tlearn: 0.2682960\ttotal: 39.1s\tremaining: 15.9s\n",
            "711:\tlearn: 0.2682892\ttotal: 39.1s\tremaining: 15.8s\n",
            "712:\tlearn: 0.2682807\ttotal: 39.1s\tremaining: 15.8s\n",
            "713:\tlearn: 0.2682741\ttotal: 39.2s\tremaining: 15.7s\n",
            "714:\tlearn: 0.2682640\ttotal: 39.2s\tremaining: 15.6s\n",
            "715:\tlearn: 0.2682588\ttotal: 39.3s\tremaining: 15.6s\n",
            "716:\tlearn: 0.2682509\ttotal: 39.3s\tremaining: 15.5s\n",
            "717:\tlearn: 0.2682424\ttotal: 39.4s\tremaining: 15.5s\n",
            "718:\tlearn: 0.2682308\ttotal: 39.4s\tremaining: 15.4s\n",
            "719:\tlearn: 0.2682204\ttotal: 39.5s\tremaining: 15.4s\n",
            "720:\tlearn: 0.2682091\ttotal: 39.5s\tremaining: 15.3s\n",
            "721:\tlearn: 0.2682001\ttotal: 39.6s\tremaining: 15.2s\n",
            "722:\tlearn: 0.2681938\ttotal: 39.6s\tremaining: 15.2s\n",
            "723:\tlearn: 0.2681830\ttotal: 39.7s\tremaining: 15.1s\n",
            "724:\tlearn: 0.2681726\ttotal: 39.7s\tremaining: 15.1s\n",
            "725:\tlearn: 0.2681640\ttotal: 39.7s\tremaining: 15s\n",
            "726:\tlearn: 0.2681523\ttotal: 39.8s\tremaining: 14.9s\n",
            "727:\tlearn: 0.2681440\ttotal: 39.8s\tremaining: 14.9s\n",
            "728:\tlearn: 0.2681359\ttotal: 39.9s\tremaining: 14.8s\n",
            "729:\tlearn: 0.2681257\ttotal: 39.9s\tremaining: 14.8s\n",
            "730:\tlearn: 0.2681197\ttotal: 40s\tremaining: 14.7s\n",
            "731:\tlearn: 0.2681123\ttotal: 40s\tremaining: 14.6s\n",
            "732:\tlearn: 0.2681021\ttotal: 40.1s\tremaining: 14.6s\n",
            "733:\tlearn: 0.2680935\ttotal: 40.1s\tremaining: 14.5s\n",
            "734:\tlearn: 0.2680883\ttotal: 40.2s\tremaining: 14.5s\n",
            "735:\tlearn: 0.2680786\ttotal: 40.2s\tremaining: 14.4s\n",
            "736:\tlearn: 0.2680738\ttotal: 40.2s\tremaining: 14.4s\n",
            "737:\tlearn: 0.2680678\ttotal: 40.3s\tremaining: 14.3s\n",
            "738:\tlearn: 0.2680643\ttotal: 40.3s\tremaining: 14.2s\n",
            "739:\tlearn: 0.2680541\ttotal: 40.4s\tremaining: 14.2s\n",
            "740:\tlearn: 0.2680486\ttotal: 40.4s\tremaining: 14.1s\n",
            "741:\tlearn: 0.2680436\ttotal: 40.5s\tremaining: 14.1s\n",
            "742:\tlearn: 0.2680393\ttotal: 40.5s\tremaining: 14s\n",
            "743:\tlearn: 0.2680341\ttotal: 40.6s\tremaining: 14s\n",
            "744:\tlearn: 0.2680283\ttotal: 40.6s\tremaining: 13.9s\n",
            "745:\tlearn: 0.2680173\ttotal: 40.7s\tremaining: 13.8s\n",
            "746:\tlearn: 0.2680094\ttotal: 40.7s\tremaining: 13.8s\n",
            "747:\tlearn: 0.2679992\ttotal: 40.7s\tremaining: 13.7s\n",
            "748:\tlearn: 0.2679913\ttotal: 40.8s\tremaining: 13.7s\n",
            "749:\tlearn: 0.2679803\ttotal: 40.8s\tremaining: 13.6s\n",
            "750:\tlearn: 0.2679695\ttotal: 40.9s\tremaining: 13.5s\n",
            "751:\tlearn: 0.2679608\ttotal: 40.9s\tremaining: 13.5s\n",
            "752:\tlearn: 0.2679554\ttotal: 41s\tremaining: 13.4s\n",
            "753:\tlearn: 0.2679489\ttotal: 41s\tremaining: 13.4s\n",
            "754:\tlearn: 0.2679421\ttotal: 41s\tremaining: 13.3s\n",
            "755:\tlearn: 0.2679340\ttotal: 41.1s\tremaining: 13.3s\n",
            "756:\tlearn: 0.2679264\ttotal: 41.1s\tremaining: 13.2s\n",
            "757:\tlearn: 0.2679167\ttotal: 41.2s\tremaining: 13.1s\n",
            "758:\tlearn: 0.2679064\ttotal: 41.2s\tremaining: 13.1s\n",
            "759:\tlearn: 0.2679027\ttotal: 41.3s\tremaining: 13s\n",
            "760:\tlearn: 0.2678997\ttotal: 41.3s\tremaining: 13s\n",
            "761:\tlearn: 0.2678919\ttotal: 41.4s\tremaining: 12.9s\n",
            "762:\tlearn: 0.2678821\ttotal: 41.4s\tremaining: 12.9s\n",
            "763:\tlearn: 0.2678758\ttotal: 41.5s\tremaining: 12.8s\n",
            "764:\tlearn: 0.2678631\ttotal: 41.5s\tremaining: 12.7s\n",
            "765:\tlearn: 0.2678549\ttotal: 41.5s\tremaining: 12.7s\n",
            "766:\tlearn: 0.2678496\ttotal: 41.6s\tremaining: 12.6s\n",
            "767:\tlearn: 0.2678429\ttotal: 41.6s\tremaining: 12.6s\n",
            "768:\tlearn: 0.2678364\ttotal: 41.7s\tremaining: 12.5s\n",
            "769:\tlearn: 0.2678262\ttotal: 41.7s\tremaining: 12.5s\n",
            "770:\tlearn: 0.2678227\ttotal: 41.8s\tremaining: 12.4s\n",
            "771:\tlearn: 0.2678138\ttotal: 41.8s\tremaining: 12.3s\n",
            "772:\tlearn: 0.2678050\ttotal: 41.8s\tremaining: 12.3s\n",
            "773:\tlearn: 0.2677982\ttotal: 41.9s\tremaining: 12.2s\n",
            "774:\tlearn: 0.2677827\ttotal: 41.9s\tremaining: 12.2s\n",
            "775:\tlearn: 0.2677795\ttotal: 42s\tremaining: 12.1s\n",
            "776:\tlearn: 0.2677727\ttotal: 42s\tremaining: 12.1s\n",
            "777:\tlearn: 0.2677625\ttotal: 42.1s\tremaining: 12s\n",
            "778:\tlearn: 0.2677455\ttotal: 42.1s\tremaining: 11.9s\n",
            "779:\tlearn: 0.2677313\ttotal: 42.2s\tremaining: 11.9s\n",
            "780:\tlearn: 0.2677213\ttotal: 42.2s\tremaining: 11.8s\n",
            "781:\tlearn: 0.2677145\ttotal: 42.2s\tremaining: 11.8s\n",
            "782:\tlearn: 0.2677119\ttotal: 42.3s\tremaining: 11.7s\n",
            "783:\tlearn: 0.2677069\ttotal: 42.3s\tremaining: 11.7s\n",
            "784:\tlearn: 0.2676958\ttotal: 42.4s\tremaining: 11.6s\n",
            "785:\tlearn: 0.2676852\ttotal: 42.4s\tremaining: 11.6s\n",
            "786:\tlearn: 0.2676751\ttotal: 42.5s\tremaining: 11.5s\n",
            "787:\tlearn: 0.2676676\ttotal: 42.5s\tremaining: 11.4s\n",
            "788:\tlearn: 0.2676517\ttotal: 42.6s\tremaining: 11.4s\n",
            "789:\tlearn: 0.2676389\ttotal: 42.6s\tremaining: 11.3s\n",
            "790:\tlearn: 0.2676318\ttotal: 42.7s\tremaining: 11.3s\n",
            "791:\tlearn: 0.2676188\ttotal: 42.7s\tremaining: 11.2s\n",
            "792:\tlearn: 0.2676100\ttotal: 42.7s\tremaining: 11.2s\n",
            "793:\tlearn: 0.2676076\ttotal: 42.8s\tremaining: 11.1s\n",
            "794:\tlearn: 0.2676003\ttotal: 42.8s\tremaining: 11s\n",
            "795:\tlearn: 0.2675955\ttotal: 42.9s\tremaining: 11s\n",
            "796:\tlearn: 0.2675864\ttotal: 42.9s\tremaining: 10.9s\n",
            "797:\tlearn: 0.2675757\ttotal: 43s\tremaining: 10.9s\n",
            "798:\tlearn: 0.2675698\ttotal: 43s\tremaining: 10.8s\n",
            "799:\tlearn: 0.2675641\ttotal: 43.1s\tremaining: 10.8s\n",
            "800:\tlearn: 0.2675588\ttotal: 43.1s\tremaining: 10.7s\n",
            "801:\tlearn: 0.2675495\ttotal: 43.2s\tremaining: 10.7s\n",
            "802:\tlearn: 0.2675429\ttotal: 43.2s\tremaining: 10.6s\n",
            "803:\tlearn: 0.2675355\ttotal: 43.2s\tremaining: 10.5s\n",
            "804:\tlearn: 0.2675286\ttotal: 43.3s\tremaining: 10.5s\n",
            "805:\tlearn: 0.2675213\ttotal: 43.3s\tremaining: 10.4s\n",
            "806:\tlearn: 0.2675108\ttotal: 43.4s\tremaining: 10.4s\n",
            "807:\tlearn: 0.2675027\ttotal: 43.4s\tremaining: 10.3s\n",
            "808:\tlearn: 0.2674914\ttotal: 43.5s\tremaining: 10.3s\n",
            "809:\tlearn: 0.2674816\ttotal: 43.5s\tremaining: 10.2s\n",
            "810:\tlearn: 0.2674697\ttotal: 43.6s\tremaining: 10.2s\n",
            "811:\tlearn: 0.2674604\ttotal: 43.6s\tremaining: 10.1s\n",
            "812:\tlearn: 0.2674545\ttotal: 43.7s\tremaining: 10s\n",
            "813:\tlearn: 0.2674495\ttotal: 43.7s\tremaining: 9.98s\n",
            "814:\tlearn: 0.2674467\ttotal: 43.7s\tremaining: 9.93s\n",
            "815:\tlearn: 0.2674395\ttotal: 43.8s\tremaining: 9.87s\n",
            "816:\tlearn: 0.2674287\ttotal: 43.8s\tremaining: 9.82s\n",
            "817:\tlearn: 0.2674190\ttotal: 43.9s\tremaining: 9.76s\n",
            "818:\tlearn: 0.2674138\ttotal: 43.9s\tremaining: 9.71s\n",
            "819:\tlearn: 0.2674093\ttotal: 44s\tremaining: 9.65s\n",
            "820:\tlearn: 0.2673955\ttotal: 44s\tremaining: 9.6s\n",
            "821:\tlearn: 0.2673837\ttotal: 44.1s\tremaining: 9.54s\n",
            "822:\tlearn: 0.2673783\ttotal: 44.1s\tremaining: 9.49s\n",
            "823:\tlearn: 0.2673683\ttotal: 44.2s\tremaining: 9.43s\n",
            "824:\tlearn: 0.2673589\ttotal: 44.2s\tremaining: 9.37s\n",
            "825:\tlearn: 0.2673497\ttotal: 44.2s\tremaining: 9.32s\n",
            "826:\tlearn: 0.2673404\ttotal: 44.3s\tremaining: 9.26s\n",
            "827:\tlearn: 0.2673322\ttotal: 44.3s\tremaining: 9.21s\n",
            "828:\tlearn: 0.2673209\ttotal: 44.4s\tremaining: 9.15s\n",
            "829:\tlearn: 0.2673188\ttotal: 44.4s\tremaining: 9.1s\n",
            "830:\tlearn: 0.2673126\ttotal: 44.5s\tremaining: 9.04s\n",
            "831:\tlearn: 0.2673071\ttotal: 44.5s\tremaining: 8.99s\n",
            "832:\tlearn: 0.2673024\ttotal: 44.6s\tremaining: 8.93s\n",
            "833:\tlearn: 0.2672978\ttotal: 44.6s\tremaining: 8.88s\n",
            "834:\tlearn: 0.2672881\ttotal: 44.7s\tremaining: 8.82s\n",
            "835:\tlearn: 0.2672810\ttotal: 44.7s\tremaining: 8.77s\n",
            "836:\tlearn: 0.2672649\ttotal: 44.8s\tremaining: 8.72s\n",
            "837:\tlearn: 0.2672604\ttotal: 44.9s\tremaining: 8.67s\n",
            "838:\tlearn: 0.2672577\ttotal: 44.9s\tremaining: 8.63s\n",
            "839:\tlearn: 0.2672509\ttotal: 45s\tremaining: 8.58s\n",
            "840:\tlearn: 0.2672407\ttotal: 45.1s\tremaining: 8.53s\n",
            "841:\tlearn: 0.2672324\ttotal: 45.2s\tremaining: 8.48s\n",
            "842:\tlearn: 0.2672293\ttotal: 45.3s\tremaining: 8.43s\n",
            "843:\tlearn: 0.2672260\ttotal: 45.4s\tremaining: 8.39s\n",
            "844:\tlearn: 0.2672209\ttotal: 45.5s\tremaining: 8.34s\n",
            "845:\tlearn: 0.2672157\ttotal: 45.6s\tremaining: 8.3s\n",
            "846:\tlearn: 0.2672128\ttotal: 45.7s\tremaining: 8.25s\n",
            "847:\tlearn: 0.2672098\ttotal: 45.8s\tremaining: 8.2s\n",
            "848:\tlearn: 0.2671938\ttotal: 45.9s\tremaining: 8.16s\n",
            "849:\tlearn: 0.2671806\ttotal: 46s\tremaining: 8.11s\n",
            "850:\tlearn: 0.2671691\ttotal: 46s\tremaining: 8.06s\n",
            "851:\tlearn: 0.2671636\ttotal: 46.1s\tremaining: 8.01s\n",
            "852:\tlearn: 0.2671585\ttotal: 46.2s\tremaining: 7.96s\n",
            "853:\tlearn: 0.2671479\ttotal: 46.3s\tremaining: 7.91s\n",
            "854:\tlearn: 0.2671446\ttotal: 46.4s\tremaining: 7.86s\n",
            "855:\tlearn: 0.2671375\ttotal: 46.4s\tremaining: 7.81s\n",
            "856:\tlearn: 0.2671277\ttotal: 46.6s\tremaining: 7.77s\n",
            "857:\tlearn: 0.2671230\ttotal: 46.7s\tremaining: 7.72s\n",
            "858:\tlearn: 0.2671174\ttotal: 46.7s\tremaining: 7.67s\n",
            "859:\tlearn: 0.2671155\ttotal: 46.8s\tremaining: 7.63s\n",
            "860:\tlearn: 0.2671107\ttotal: 46.9s\tremaining: 7.58s\n",
            "861:\tlearn: 0.2671024\ttotal: 47s\tremaining: 7.53s\n",
            "862:\tlearn: 0.2670857\ttotal: 47.1s\tremaining: 7.48s\n",
            "863:\tlearn: 0.2670808\ttotal: 47.2s\tremaining: 7.43s\n",
            "864:\tlearn: 0.2670722\ttotal: 47.3s\tremaining: 7.38s\n",
            "865:\tlearn: 0.2670631\ttotal: 47.4s\tremaining: 7.33s\n",
            "866:\tlearn: 0.2670594\ttotal: 47.5s\tremaining: 7.28s\n",
            "867:\tlearn: 0.2670560\ttotal: 47.6s\tremaining: 7.23s\n",
            "868:\tlearn: 0.2670396\ttotal: 47.7s\tremaining: 7.19s\n",
            "869:\tlearn: 0.2670354\ttotal: 47.8s\tremaining: 7.14s\n",
            "870:\tlearn: 0.2670297\ttotal: 47.9s\tremaining: 7.09s\n",
            "871:\tlearn: 0.2670182\ttotal: 48s\tremaining: 7.04s\n",
            "872:\tlearn: 0.2670154\ttotal: 48.1s\tremaining: 6.99s\n",
            "873:\tlearn: 0.2670110\ttotal: 48.1s\tremaining: 6.94s\n",
            "874:\tlearn: 0.2670004\ttotal: 48.2s\tremaining: 6.89s\n",
            "875:\tlearn: 0.2669975\ttotal: 48.3s\tremaining: 6.84s\n",
            "876:\tlearn: 0.2669942\ttotal: 48.4s\tremaining: 6.79s\n",
            "877:\tlearn: 0.2669838\ttotal: 48.4s\tremaining: 6.73s\n",
            "878:\tlearn: 0.2669711\ttotal: 48.5s\tremaining: 6.68s\n",
            "879:\tlearn: 0.2669672\ttotal: 48.6s\tremaining: 6.63s\n",
            "880:\tlearn: 0.2669563\ttotal: 48.7s\tremaining: 6.58s\n",
            "881:\tlearn: 0.2669452\ttotal: 48.8s\tremaining: 6.53s\n",
            "882:\tlearn: 0.2669418\ttotal: 48.9s\tremaining: 6.48s\n",
            "883:\tlearn: 0.2669370\ttotal: 49s\tremaining: 6.43s\n",
            "884:\tlearn: 0.2669343\ttotal: 49.1s\tremaining: 6.38s\n",
            "885:\tlearn: 0.2669205\ttotal: 49.2s\tremaining: 6.33s\n",
            "886:\tlearn: 0.2669124\ttotal: 49.3s\tremaining: 6.27s\n",
            "887:\tlearn: 0.2669047\ttotal: 49.3s\tremaining: 6.22s\n",
            "888:\tlearn: 0.2668997\ttotal: 49.4s\tremaining: 6.17s\n",
            "889:\tlearn: 0.2668920\ttotal: 49.5s\tremaining: 6.12s\n",
            "890:\tlearn: 0.2668873\ttotal: 49.6s\tremaining: 6.07s\n",
            "891:\tlearn: 0.2668829\ttotal: 49.7s\tremaining: 6.02s\n",
            "892:\tlearn: 0.2668780\ttotal: 49.8s\tremaining: 5.97s\n",
            "893:\tlearn: 0.2668732\ttotal: 49.8s\tremaining: 5.91s\n",
            "894:\tlearn: 0.2668628\ttotal: 49.9s\tremaining: 5.85s\n",
            "895:\tlearn: 0.2668552\ttotal: 49.9s\tremaining: 5.8s\n",
            "896:\tlearn: 0.2668504\ttotal: 50s\tremaining: 5.74s\n",
            "897:\tlearn: 0.2668401\ttotal: 50s\tremaining: 5.68s\n",
            "898:\tlearn: 0.2668367\ttotal: 50.1s\tremaining: 5.62s\n",
            "899:\tlearn: 0.2668328\ttotal: 50.1s\tremaining: 5.57s\n",
            "900:\tlearn: 0.2668183\ttotal: 50.1s\tremaining: 5.51s\n",
            "901:\tlearn: 0.2668071\ttotal: 50.2s\tremaining: 5.45s\n",
            "902:\tlearn: 0.2667908\ttotal: 50.2s\tremaining: 5.4s\n",
            "903:\tlearn: 0.2667827\ttotal: 50.3s\tremaining: 5.34s\n",
            "904:\tlearn: 0.2667718\ttotal: 50.3s\tremaining: 5.28s\n",
            "905:\tlearn: 0.2667616\ttotal: 50.4s\tremaining: 5.23s\n",
            "906:\tlearn: 0.2667471\ttotal: 50.4s\tremaining: 5.17s\n",
            "907:\tlearn: 0.2667424\ttotal: 50.5s\tremaining: 5.11s\n",
            "908:\tlearn: 0.2667397\ttotal: 50.5s\tremaining: 5.06s\n",
            "909:\tlearn: 0.2667299\ttotal: 50.6s\tremaining: 5s\n",
            "910:\tlearn: 0.2667198\ttotal: 50.6s\tremaining: 4.94s\n",
            "911:\tlearn: 0.2667164\ttotal: 50.6s\tremaining: 4.89s\n",
            "912:\tlearn: 0.2667123\ttotal: 50.7s\tremaining: 4.83s\n",
            "913:\tlearn: 0.2667021\ttotal: 50.7s\tremaining: 4.77s\n",
            "914:\tlearn: 0.2666929\ttotal: 50.8s\tremaining: 4.72s\n",
            "915:\tlearn: 0.2666890\ttotal: 50.9s\tremaining: 4.66s\n",
            "916:\tlearn: 0.2666848\ttotal: 50.9s\tremaining: 4.61s\n",
            "917:\tlearn: 0.2666820\ttotal: 51s\tremaining: 4.55s\n",
            "918:\tlearn: 0.2666709\ttotal: 51s\tremaining: 4.5s\n",
            "919:\tlearn: 0.2666614\ttotal: 51s\tremaining: 4.44s\n",
            "920:\tlearn: 0.2666577\ttotal: 51.1s\tremaining: 4.38s\n",
            "921:\tlearn: 0.2666475\ttotal: 51.1s\tremaining: 4.33s\n",
            "922:\tlearn: 0.2666366\ttotal: 51.2s\tremaining: 4.27s\n",
            "923:\tlearn: 0.2666313\ttotal: 51.2s\tremaining: 4.21s\n",
            "924:\tlearn: 0.2666273\ttotal: 51.3s\tremaining: 4.16s\n",
            "925:\tlearn: 0.2666234\ttotal: 51.3s\tremaining: 4.1s\n",
            "926:\tlearn: 0.2666131\ttotal: 51.4s\tremaining: 4.04s\n",
            "927:\tlearn: 0.2665988\ttotal: 51.4s\tremaining: 3.99s\n",
            "928:\tlearn: 0.2665914\ttotal: 51.4s\tremaining: 3.93s\n",
            "929:\tlearn: 0.2665868\ttotal: 51.5s\tremaining: 3.88s\n",
            "930:\tlearn: 0.2665766\ttotal: 51.5s\tremaining: 3.82s\n",
            "931:\tlearn: 0.2665726\ttotal: 51.6s\tremaining: 3.76s\n",
            "932:\tlearn: 0.2665651\ttotal: 51.6s\tremaining: 3.71s\n",
            "933:\tlearn: 0.2665625\ttotal: 51.7s\tremaining: 3.65s\n",
            "934:\tlearn: 0.2665577\ttotal: 51.7s\tremaining: 3.59s\n",
            "935:\tlearn: 0.2665493\ttotal: 51.7s\tremaining: 3.54s\n",
            "936:\tlearn: 0.2665443\ttotal: 51.8s\tremaining: 3.48s\n",
            "937:\tlearn: 0.2665320\ttotal: 51.9s\tremaining: 3.43s\n",
            "938:\tlearn: 0.2665294\ttotal: 51.9s\tremaining: 3.37s\n",
            "939:\tlearn: 0.2665238\ttotal: 52s\tremaining: 3.32s\n",
            "940:\tlearn: 0.2665118\ttotal: 52s\tremaining: 3.26s\n",
            "941:\tlearn: 0.2665062\ttotal: 52.1s\tremaining: 3.21s\n",
            "942:\tlearn: 0.2664933\ttotal: 52.1s\tremaining: 3.15s\n",
            "943:\tlearn: 0.2664810\ttotal: 52.1s\tremaining: 3.09s\n",
            "944:\tlearn: 0.2664721\ttotal: 52.2s\tremaining: 3.04s\n",
            "945:\tlearn: 0.2664620\ttotal: 52.2s\tremaining: 2.98s\n",
            "946:\tlearn: 0.2664578\ttotal: 52.3s\tremaining: 2.92s\n",
            "947:\tlearn: 0.2664534\ttotal: 52.3s\tremaining: 2.87s\n",
            "948:\tlearn: 0.2664459\ttotal: 52.4s\tremaining: 2.81s\n",
            "949:\tlearn: 0.2664438\ttotal: 52.4s\tremaining: 2.76s\n",
            "950:\tlearn: 0.2664346\ttotal: 52.5s\tremaining: 2.7s\n",
            "951:\tlearn: 0.2664221\ttotal: 52.5s\tremaining: 2.65s\n",
            "952:\tlearn: 0.2664193\ttotal: 52.5s\tremaining: 2.59s\n",
            "953:\tlearn: 0.2664145\ttotal: 52.6s\tremaining: 2.54s\n",
            "954:\tlearn: 0.2664073\ttotal: 52.6s\tremaining: 2.48s\n",
            "955:\tlearn: 0.2663942\ttotal: 52.7s\tremaining: 2.42s\n",
            "956:\tlearn: 0.2663891\ttotal: 52.7s\tremaining: 2.37s\n",
            "957:\tlearn: 0.2663790\ttotal: 52.8s\tremaining: 2.31s\n",
            "958:\tlearn: 0.2663752\ttotal: 52.8s\tremaining: 2.26s\n",
            "959:\tlearn: 0.2663679\ttotal: 52.9s\tremaining: 2.2s\n",
            "960:\tlearn: 0.2663530\ttotal: 52.9s\tremaining: 2.15s\n",
            "961:\tlearn: 0.2663495\ttotal: 53s\tremaining: 2.09s\n",
            "962:\tlearn: 0.2663455\ttotal: 53s\tremaining: 2.04s\n",
            "963:\tlearn: 0.2663309\ttotal: 53.1s\tremaining: 1.98s\n",
            "964:\tlearn: 0.2663258\ttotal: 53.1s\tremaining: 1.93s\n",
            "965:\tlearn: 0.2663193\ttotal: 53.2s\tremaining: 1.87s\n",
            "966:\tlearn: 0.2663034\ttotal: 53.2s\tremaining: 1.81s\n",
            "967:\tlearn: 0.2662925\ttotal: 53.2s\tremaining: 1.76s\n",
            "968:\tlearn: 0.2662830\ttotal: 53.3s\tremaining: 1.7s\n",
            "969:\tlearn: 0.2662743\ttotal: 53.3s\tremaining: 1.65s\n",
            "970:\tlearn: 0.2662643\ttotal: 53.4s\tremaining: 1.59s\n",
            "971:\tlearn: 0.2662613\ttotal: 53.4s\tremaining: 1.54s\n",
            "972:\tlearn: 0.2662520\ttotal: 53.5s\tremaining: 1.48s\n",
            "973:\tlearn: 0.2662433\ttotal: 53.5s\tremaining: 1.43s\n",
            "974:\tlearn: 0.2662387\ttotal: 53.6s\tremaining: 1.37s\n",
            "975:\tlearn: 0.2662351\ttotal: 53.6s\tremaining: 1.32s\n",
            "976:\tlearn: 0.2662288\ttotal: 53.6s\tremaining: 1.26s\n",
            "977:\tlearn: 0.2662164\ttotal: 53.7s\tremaining: 1.21s\n",
            "978:\tlearn: 0.2662132\ttotal: 53.7s\tremaining: 1.15s\n",
            "979:\tlearn: 0.2662055\ttotal: 53.8s\tremaining: 1.1s\n",
            "980:\tlearn: 0.2661951\ttotal: 53.8s\tremaining: 1.04s\n",
            "981:\tlearn: 0.2661858\ttotal: 53.9s\tremaining: 988ms\n",
            "982:\tlearn: 0.2661819\ttotal: 54s\tremaining: 933ms\n",
            "983:\tlearn: 0.2661761\ttotal: 54s\tremaining: 878ms\n",
            "984:\tlearn: 0.2661659\ttotal: 54.1s\tremaining: 823ms\n",
            "985:\tlearn: 0.2661535\ttotal: 54.1s\tremaining: 768ms\n",
            "986:\tlearn: 0.2661447\ttotal: 54.1s\tremaining: 713ms\n",
            "987:\tlearn: 0.2661420\ttotal: 54.2s\tremaining: 658ms\n",
            "988:\tlearn: 0.2661386\ttotal: 54.2s\tremaining: 603ms\n",
            "989:\tlearn: 0.2661371\ttotal: 54.3s\tremaining: 548ms\n",
            "990:\tlearn: 0.2661277\ttotal: 54.3s\tremaining: 493ms\n",
            "991:\tlearn: 0.2661231\ttotal: 54.4s\tremaining: 438ms\n",
            "992:\tlearn: 0.2661156\ttotal: 54.4s\tremaining: 384ms\n",
            "993:\tlearn: 0.2661130\ttotal: 54.4s\tremaining: 329ms\n",
            "994:\tlearn: 0.2661074\ttotal: 54.5s\tremaining: 274ms\n",
            "995:\tlearn: 0.2661032\ttotal: 54.5s\tremaining: 219ms\n",
            "996:\tlearn: 0.2660959\ttotal: 54.6s\tremaining: 164ms\n",
            "997:\tlearn: 0.2660862\ttotal: 54.6s\tremaining: 109ms\n",
            "998:\tlearn: 0.2660826\ttotal: 54.6s\tremaining: 54.7ms\n",
            "999:\tlearn: 0.2660752\ttotal: 54.7s\tremaining: 0us\n"
          ]
        },
        {
          "output_type": "execute_result",
          "data": {
            "text/plain": [
              "<catboost.core.CatBoostRegressor at 0x79e57d5f1540>"
            ]
          },
          "metadata": {},
          "execution_count": 47
        }
      ]
    },
    {
      "cell_type": "code",
      "source": [
        "print(r2_score(y_test, regressor.predict(test_pool)))"
      ],
      "metadata": {
        "colab": {
          "base_uri": "https://localhost:8080/"
        },
        "id": "c5ZCK7iF-o6r",
        "outputId": "95db0bc1-e077-4584-c4ff-151867986610"
      },
      "execution_count": null,
      "outputs": [
        {
          "output_type": "stream",
          "name": "stdout",
          "text": [
            "0.5967828896913514\n"
          ]
        }
      ]
    },
    {
      "cell_type": "markdown",
      "source": [
        "График изменения функции потерь во время обучения:"
      ],
      "metadata": {
        "id": "eQb8P18-_8qC"
      }
    },
    {
      "cell_type": "markdown",
      "source": [
        "![изображение.png](data:image/png;base64,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)"
      ],
      "metadata": {
        "id": "Nh-Xrvqg_4r8"
      }
    },
    {
      "cell_type": "code",
      "source": [],
      "metadata": {
        "id": "Jv3PD_Tjy3D5"
      },
      "execution_count": null,
      "outputs": []
    },
    {
      "cell_type": "markdown",
      "source": [
        "Далее имеет смысл варьировать значения уставок, чтобы повысить точность этой модели регрессии, а также попробовать использовать обучение с подкреплением для удержания значений в заданном диапазоне. Я сделаю эту часть задания чуть позже"
      ],
      "metadata": {
        "id": "eRVg-4Hhy6iW"
      }
    },
    {
      "cell_type": "markdown",
      "source": [
        "# Задание 3"
      ],
      "metadata": {
        "id": "Yre0hVIqF4Ze"
      }
    },
    {
      "cell_type": "markdown",
      "source": [
        "Я решил применить к задаче метод обучения с подкреплением, а именно Q-Learning, как самый простой и понятный его вид."
      ],
      "metadata": {
        "id": "Yt5j8LhFF8kE"
      }
    },
    {
      "cell_type": "code",
      "source": [],
      "metadata": {
        "id": "SKzWermXF7jM"
      },
      "execution_count": null,
      "outputs": []
    },
    {
      "cell_type": "code",
      "source": [],
      "metadata": {
        "id": "9z4INPi7F3Yt"
      },
      "execution_count": null,
      "outputs": []
    }
  ]
}